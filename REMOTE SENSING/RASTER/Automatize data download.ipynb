{
 "cells": [
  {
   "cell_type": "code",
   "execution_count": null,
   "metadata": {},
   "outputs": [],
   "source": [
    "import os\n",
    "import urllib\n",
    "\n",
    "def get_filename(url):\n",
    "    \"\"\"\n",
    "    Parses filename from given url\n",
    "    \"\"\"\n",
    "    if url.find('/'):\n",
    "        return url.rsplit('/', 1)[1]\n",
    "\n",
    "# Filepaths\n",
    "outdir = r\"data\"\n",
    "\n",
    "# File locations\n",
    "url_list = [\"https://github.com/Automating-GIS-processes/CSC18/raw/master/data/Helsinki_masked_p188r018_7t20020529_z34__LV-FIN.tif\"]\n",
    "\n",
    "# Create folder if it does no exist\n",
    "if not os.path.exists(outdir):\n",
    "    os.makedirs(outdir)\n",
    "\n",
    "# Download files\n",
    "for url in url_list:\n",
    "    # Parse filename\n",
    "    fname = get_filename(url)\n",
    "    outfp = os.path.join(outdir, fname)\n",
    "    # Download the file if it does not exist already\n",
    "    if not os.path.exists(outfp):\n",
    "        print(\"Downloading\", fname)\n",
    "        r = urllib.request.urlretrieve(url, outfp)"
   ]
  }
 ],
 "metadata": {
  "language_info": {
   "name": "python"
  },
  "orig_nbformat": 4
 },
 "nbformat": 4,
 "nbformat_minor": 2
}
