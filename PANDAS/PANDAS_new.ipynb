{
 "cells": [
  {
   "cell_type": "markdown",
   "id": "7437d252-75b2-4f9e-8528-42243753d8e0",
   "metadata": {
    "tags": []
   },
   "source": [
    "# **PANDAS**"
   ]
  },
  {
   "cell_type": "markdown",
   "id": "dd9bcab3",
   "metadata": {},
   "source": [
    "- It is a python library used for data manipulation and analysis.\n",
    "- There are two core objects in pandas.:\n",
    "    \n",
    "   **pandas series**\n",
    "   \n",
    "    It is a one dimension array that can hold data of any type.\n",
    "    \n",
    "   **dataframes** \n",
    "   \n",
    "    It is a two dimensional array with both rows and columns label.\n"
   ]
  },
  {
   "cell_type": "code",
   "execution_count": 1,
   "id": "90007850",
   "metadata": {},
   "outputs": [],
   "source": [
    "import pandas as pd\n",
    "import numpy as np"
   ]
  },
  {
   "cell_type": "markdown",
   "id": "a4f53784",
   "metadata": {
    "tags": []
   },
   "source": [
    "## <u> Pandas Module Breakdown <u>\n",
    "\n",
    "- *creating,reading and writing data.*\n",
    "\n",
    "\n",
    "- *indexing,selection and assigning.*\n",
    "\n",
    "\n",
    "- *summary functions.*\n",
    "\n",
    "\n",
    "- *grouping and sorting*\n",
    "\n",
    "\n",
    "- *saving in csv format.*\n"
   ]
  },
  {
   "cell_type": "markdown",
   "id": "5f533959",
   "metadata": {
    "tags": []
   },
   "source": [
    "### **1. CREATING DATA IN PANDAS**"
   ]
  },
  {
   "cell_type": "markdown",
   "id": "c2f9d7b2",
   "metadata": {},
   "source": [
    "- We create series by passing a list or a dictionary in pd.series."
   ]
  },
  {
   "cell_type": "code",
   "execution_count": 2,
   "id": "1ff22d64",
   "metadata": {},
   "outputs": [
    {
     "data": {
      "text/plain": [
       "[1, 2, 3, 'f', 'd']"
      ]
     },
     "execution_count": 2,
     "metadata": {},
     "output_type": "execute_result"
    }
   ],
   "source": [
    "mylist=[1,2,3,\"f\",\"d\"]\n",
    "mylist"
   ]
  },
  {
   "cell_type": "code",
   "execution_count": 3,
   "id": "db9fb99b",
   "metadata": {},
   "outputs": [
    {
     "data": {
      "text/plain": [
       "0    1\n",
       "1    2\n",
       "2    3\n",
       "3    f\n",
       "4    d\n",
       "dtype: object"
      ]
     },
     "execution_count": 3,
     "metadata": {},
     "output_type": "execute_result"
    }
   ],
   "source": [
    "my_series=pd.Series(mylist)\n",
    "my_series"
   ]
  },
  {
   "cell_type": "code",
   "execution_count": 4,
   "id": "b894d423",
   "metadata": {},
   "outputs": [
    {
     "data": {
      "text/plain": [
       "dtype('O')"
      ]
     },
     "execution_count": 4,
     "metadata": {},
     "output_type": "execute_result"
    }
   ],
   "source": [
    "my_series.dtype"
   ]
  },
  {
   "cell_type": "code",
   "execution_count": 5,
   "id": "bff40e2c",
   "metadata": {},
   "outputs": [
    {
     "data": {
      "text/plain": [
       "1"
      ]
     },
     "execution_count": 5,
     "metadata": {},
     "output_type": "execute_result"
    }
   ],
   "source": [
    "my_series.ndim"
   ]
  },
  {
   "cell_type": "code",
   "execution_count": 6,
   "id": "1e7b1520",
   "metadata": {},
   "outputs": [
    {
     "data": {
      "text/plain": [
       "pandas.core.series.Series"
      ]
     },
     "execution_count": 6,
     "metadata": {},
     "output_type": "execute_result"
    }
   ],
   "source": [
    "type(my_series)"
   ]
  },
  {
   "cell_type": "code",
   "execution_count": 7,
   "id": "83be897f",
   "metadata": {},
   "outputs": [
    {
     "data": {
      "text/plain": [
       "{'company': ['jkuat', 'bidco', 'temco'], 'wealth(M)': [20, 30, 50]}"
      ]
     },
     "execution_count": 7,
     "metadata": {},
     "output_type": "execute_result"
    }
   ],
   "source": [
    "dict={\"company\":[\"jkuat\",\"bidco\",\"temco\"],\n",
    "     \"wealth(M)\":[20,30,50]}\n",
    "dict"
   ]
  },
  {
   "cell_type": "code",
   "execution_count": 8,
   "id": "3b66e41c",
   "metadata": {},
   "outputs": [
    {
     "name": "stdout",
     "output_type": "stream",
     "text": [
      "{'faith': 'samsung', 'class': 'python', 'school': 'jkuat'}\n",
      "<class 'dict'>\n"
     ]
    }
   ],
   "source": [
    "mydict={\"faith\":\"samsung\",\"class\":\"python\",\"school\":\"jkuat\"}\n",
    "print(mydict)\n",
    "print(type(mydict))"
   ]
  },
  {
   "cell_type": "code",
   "execution_count": 9,
   "id": "0d82591f",
   "metadata": {},
   "outputs": [
    {
     "data": {
      "text/plain": [
       "company      [jkuat, bidco, temco]\n",
       "wealth(M)             [20, 30, 50]\n",
       "dtype: object"
      ]
     },
     "execution_count": 9,
     "metadata": {},
     "output_type": "execute_result"
    }
   ],
   "source": [
    "series=pd.Series(dict)\n",
    "series"
   ]
  },
  {
   "cell_type": "code",
   "execution_count": 10,
   "id": "e63440c3",
   "metadata": {},
   "outputs": [
    {
     "data": {
      "text/plain": [
       "dtype('O')"
      ]
     },
     "execution_count": 10,
     "metadata": {},
     "output_type": "execute_result"
    }
   ],
   "source": [
    "series.dtype"
   ]
  },
  {
   "cell_type": "code",
   "execution_count": 11,
   "id": "a49206ae",
   "metadata": {},
   "outputs": [
    {
     "data": {
      "text/plain": [
       "pandas.core.series.Series"
      ]
     },
     "execution_count": 11,
     "metadata": {},
     "output_type": "execute_result"
    }
   ],
   "source": [
    "type(series)"
   ]
  },
  {
   "cell_type": "markdown",
   "id": "ff8b791e",
   "metadata": {
    "tags": []
   },
   "source": [
    "### 2. Data frames\n",
    "\n",
    "- For us to create a data frame we can pass only a dictionary ie the dict created above"
   ]
  },
  {
   "cell_type": "code",
   "execution_count": 12,
   "id": "5edf5e3d",
   "metadata": {},
   "outputs": [
    {
     "name": "stdout",
     "output_type": "stream",
     "text": [
      "  company  wealth(M)\n",
      "0   jkuat         20\n",
      "1   bidco         30\n",
      "2   temco         50\n"
     ]
    }
   ],
   "source": [
    "data=pd.DataFrame(dict)\n",
    "print(data)"
   ]
  },
  {
   "cell_type": "code",
   "execution_count": 13,
   "id": "140c3d9d",
   "metadata": {},
   "outputs": [
    {
     "data": {
      "text/plain": [
       "RangeIndex(start=0, stop=3, step=1)"
      ]
     },
     "execution_count": 13,
     "metadata": {},
     "output_type": "execute_result"
    }
   ],
   "source": [
    "data.index"
   ]
  },
  {
   "cell_type": "code",
   "execution_count": 14,
   "id": "12baf17b",
   "metadata": {},
   "outputs": [
    {
     "name": "stdout",
     "output_type": "stream",
     "text": [
      "{'tecno': [5, 6, 7, 3], 'samsung': [4, 8, 4, 3]}\n"
     ]
    }
   ],
   "source": [
    "dict={\"tecno\":[5,6,7,3],\"samsung\":[4,8,4,3]}\n",
    "print(dict)"
   ]
  },
  {
   "cell_type": "code",
   "execution_count": 15,
   "id": "941e3355",
   "metadata": {},
   "outputs": [
    {
     "name": "stdout",
     "output_type": "stream",
     "text": [
      "   tecno  samsung\n",
      "0      5        4\n",
      "1      6        8\n",
      "2      7        4\n",
      "3      3        3\n"
     ]
    }
   ],
   "source": [
    "data=pd.DataFrame(dict)\n",
    "print(data)"
   ]
  },
  {
   "cell_type": "code",
   "execution_count": 16,
   "id": "25ad40b5",
   "metadata": {},
   "outputs": [
    {
     "name": "stdout",
     "output_type": "stream",
     "text": [
      "<class 'pandas.core.frame.DataFrame'>\n"
     ]
    }
   ],
   "source": [
    "print(type(data))"
   ]
  },
  {
   "cell_type": "code",
   "execution_count": 17,
   "id": "ce604906",
   "metadata": {},
   "outputs": [
    {
     "data": {
      "text/plain": [
       "RangeIndex(start=0, stop=4, step=1)"
      ]
     },
     "execution_count": 17,
     "metadata": {},
     "output_type": "execute_result"
    }
   ],
   "source": [
    "data.index"
   ]
  },
  {
   "cell_type": "markdown",
   "id": "cb53fb34",
   "metadata": {},
   "source": [
    "- **Changing the Index from `0,1,2,3` to `\"Gate A\",\"Gate B\",\"Gate C\",\"Gate D\"`**"
   ]
  },
  {
   "cell_type": "code",
   "execution_count": 18,
   "id": "1a0072f7",
   "metadata": {},
   "outputs": [
    {
     "name": "stdout",
     "output_type": "stream",
     "text": [
      "        tecno  samsung\n",
      "Gate A      5        4\n",
      "Gate B      6        8\n",
      "Gate C      7        4\n",
      "Gate D      3        3\n"
     ]
    }
   ],
   "source": [
    "phones=pd.DataFrame(dict,index=[\"Gate A\",\"Gate B\",\"Gate C\",\"Gate D\"])\n",
    "print(phones)"
   ]
  },
  {
   "cell_type": "code",
   "execution_count": 19,
   "id": "fab101db",
   "metadata": {},
   "outputs": [
    {
     "name": "stdout",
     "output_type": "stream",
     "text": [
      "Index(['Gate A', 'Gate B', 'Gate C', 'Gate D'], dtype='object')\n"
     ]
    }
   ],
   "source": [
    "print(phones.index)"
   ]
  },
  {
   "cell_type": "markdown",
   "id": "8cfaace6",
   "metadata": {},
   "source": [
    "- Combining everything in one line"
   ]
  },
  {
   "cell_type": "code",
   "execution_count": 20,
   "id": "6d201e55",
   "metadata": {},
   "outputs": [
    {
     "name": "stdout",
     "output_type": "stream",
     "text": [
      "        tecno  samsung\n",
      "Gate A      5        4\n",
      "Gate B      6        8\n",
      "Gate C      7        4\n",
      "Gate D      3        3\n"
     ]
    }
   ],
   "source": [
    "mydataframe=pd.DataFrame({\"tecno\":[5,6,7,3],\"samsung\":[4,8,4,3]},index=[\"Gate A\",\"Gate B\",\"Gate C\",\"Gate D\"])\n",
    "print(mydataframe)"
   ]
  },
  {
   "cell_type": "code",
   "execution_count": 21,
   "id": "97007693",
   "metadata": {},
   "outputs": [
    {
     "data": {
      "text/plain": [
       "Index(['Gate A', 'Gate B', 'Gate C', 'Gate D'], dtype='object')"
      ]
     },
     "execution_count": 21,
     "metadata": {},
     "output_type": "execute_result"
    }
   ],
   "source": [
    "mydataframe.index"
   ]
  },
  {
   "cell_type": "markdown",
   "id": "6dd3469b",
   "metadata": {
    "tags": []
   },
   "source": [
    "### **3.  Reading and writing data in pandas**"
   ]
  },
  {
   "cell_type": "markdown",
   "id": "c44d9198",
   "metadata": {},
   "source": [
    "When reading data files in pandas its important to read it with its format."
   ]
  },
  {
   "cell_type": "markdown",
   "id": "53730bb5",
   "metadata": {},
   "source": [
    "**Examples of the files formats and how we read them**"
   ]
  },
  {
   "cell_type": "raw",
   "id": "9551ccf8",
   "metadata": {},
   "source": [
    "excel=pd.read_xlsx(\"data.xlsx\")\n",
    "HTML=pd.read_html(\"data.html\")\n",
    "tables=pd.read_table(\"data.table\")\n",
    "csv=pd.read_csv(\"name.csv\")"
   ]
  },
  {
   "cell_type": "markdown",
   "id": "c4a424a7",
   "metadata": {},
   "source": [
    "NB:It is important to note that a singlebackslash does not work when specifying the file path. You need to either change it to forward slash or add one more backslash like below"
   ]
  },
  {
   "cell_type": "markdown",
   "id": "fdd392ad",
   "metadata": {
    "jp-MarkdownHeadingCollapsed": true,
    "tags": []
   },
   "source": [
    "#### <b>1. Import CSV files</u>"
   ]
  },
  {
   "cell_type": "code",
   "execution_count": 22,
   "id": "6d9baa6e",
   "metadata": {},
   "outputs": [
    {
     "data": {
      "text/html": [
       "<div>\n",
       "<style scoped>\n",
       "    .dataframe tbody tr th:only-of-type {\n",
       "        vertical-align: middle;\n",
       "    }\n",
       "\n",
       "    .dataframe tbody tr th {\n",
       "        vertical-align: top;\n",
       "    }\n",
       "\n",
       "    .dataframe thead th {\n",
       "        text-align: right;\n",
       "    }\n",
       "</style>\n",
       "<table border=\"1\" class=\"dataframe\">\n",
       "  <thead>\n",
       "    <tr style=\"text-align: right;\">\n",
       "      <th></th>\n",
       "      <th>County</th>\n",
       "      <th>Population</th>\n",
       "      <th>Area</th>\n",
       "      <th>count</th>\n",
       "    </tr>\n",
       "  </thead>\n",
       "  <tbody>\n",
       "    <tr>\n",
       "      <th>0</th>\n",
       "      <td>Nairobi</td>\n",
       "      <td>4397073.0</td>\n",
       "      <td>704</td>\n",
       "      <td>4397073.0</td>\n",
       "    </tr>\n",
       "    <tr>\n",
       "      <th>1</th>\n",
       "      <td>Kisumu</td>\n",
       "      <td>1155574.0</td>\n",
       "      <td>2085</td>\n",
       "      <td>1155574.0</td>\n",
       "    </tr>\n",
       "    <tr>\n",
       "      <th>2</th>\n",
       "      <td>Mombasa</td>\n",
       "      <td>1208333.0</td>\n",
       "      <td>220</td>\n",
       "      <td>1208333.0</td>\n",
       "    </tr>\n",
       "    <tr>\n",
       "      <th>3</th>\n",
       "      <td>Bungoma</td>\n",
       "      <td>1670570.0</td>\n",
       "      <td>3024</td>\n",
       "      <td>1670570.0</td>\n",
       "    </tr>\n",
       "    <tr>\n",
       "      <th>4</th>\n",
       "      <td>Mandera</td>\n",
       "      <td>867457.0</td>\n",
       "      <td>25942</td>\n",
       "      <td>867457.0</td>\n",
       "    </tr>\n",
       "    <tr>\n",
       "      <th>5</th>\n",
       "      <td>Turkana</td>\n",
       "      <td>926976.0</td>\n",
       "      <td>68233</td>\n",
       "      <td>926976.0</td>\n",
       "    </tr>\n",
       "    <tr>\n",
       "      <th>6</th>\n",
       "      <td>Marsabit</td>\n",
       "      <td>459785.0</td>\n",
       "      <td>70944</td>\n",
       "      <td>459785.0</td>\n",
       "    </tr>\n",
       "    <tr>\n",
       "      <th>7</th>\n",
       "      <td>Nyeri</td>\n",
       "      <td>759164.0</td>\n",
       "      <td>3325</td>\n",
       "      <td>759164.0</td>\n",
       "    </tr>\n",
       "    <tr>\n",
       "      <th>8</th>\n",
       "      <td>Nairobi</td>\n",
       "      <td>4397073.0</td>\n",
       "      <td>704</td>\n",
       "      <td>4397073.0</td>\n",
       "    </tr>\n",
       "    <tr>\n",
       "      <th>9</th>\n",
       "      <td>Embu</td>\n",
       "      <td>NaN</td>\n",
       "      <td>2821</td>\n",
       "      <td>NaN</td>\n",
       "    </tr>\n",
       "  </tbody>\n",
       "</table>\n",
       "</div>"
      ],
      "text/plain": [
       "     County  Population   Area      count\n",
       "0   Nairobi   4397073.0    704  4397073.0\n",
       "1    Kisumu   1155574.0   2085  1155574.0\n",
       "2   Mombasa   1208333.0    220  1208333.0\n",
       "3   Bungoma   1670570.0   3024  1670570.0\n",
       "4   Mandera    867457.0  25942   867457.0\n",
       "5   Turkana    926976.0  68233   926976.0\n",
       "6  Marsabit    459785.0  70944   459785.0\n",
       "7     Nyeri    759164.0   3325   759164.0\n",
       "8   Nairobi   4397073.0    704  4397073.0\n",
       "9      Embu         NaN   2821        NaN"
      ]
     },
     "execution_count": 22,
     "metadata": {},
     "output_type": "execute_result"
    }
   ],
   "source": [
    "data4=pd.read_csv(\"df.csv\") \n",
    "data4"
   ]
  },
  {
   "cell_type": "markdown",
   "id": "f8cf3110",
   "metadata": {},
   "source": [
    "**If no header (title) in raw data file**"
   ]
  },
  {
   "cell_type": "markdown",
   "id": "6830d6c6",
   "metadata": {},
   "source": [
    "You need to include header = None option to tell Python there is no column name (header) in data."
   ]
  },
  {
   "cell_type": "raw",
   "id": "a960936a",
   "metadata": {},
   "source": [
    "mydata= pd.read_csv(\"C:\\\\Users\\\\jkuat\\\\Data\\\\df2.csv\",header=None)"
   ]
  },
  {
   "cell_type": "markdown",
   "id": "e8e34d1a",
   "metadata": {
    "jp-MarkdownHeadingCollapsed": true,
    "tags": []
   },
   "source": [
    "#### <b>2. Import File from URL"
   ]
  },
  {
   "cell_type": "raw",
   "id": "a5811cbc",
   "metadata": {},
   "source": [
    "mydata = pd.read_csv(\"http://winterolympicsmedals.com/medals.csv\")"
   ]
  },
  {
   "cell_type": "markdown",
   "id": "902f9c9c",
   "metadata": {},
   "source": [
    "You don't need to perform additional steps to fetch data from URL. Simply put URL in read_csv() function (applicable only for CSV files stored in URL)"
   ]
  },
  {
   "cell_type": "markdown",
   "id": "e0445396",
   "metadata": {
    "jp-MarkdownHeadingCollapsed": true,
    "tags": []
   },
   "source": [
    "#### <b>3. Read Text File"
   ]
  },
  {
   "cell_type": "markdown",
   "id": "5e18ea36",
   "metadata": {},
   "source": [
    "We can use read_table() function to pull data from text file. We can also use read_csv() with sep= \"\\t\" to read data from tab-separated file."
   ]
  },
  {
   "cell_type": "raw",
   "id": "cc79374a",
   "metadata": {},
   "source": [
    "mydata = pd.read_table(\"C:\\\\Users\\\\Deepanshu\\\\Desktop\\\\example2.txt\")\n",
    "mydata = pd.read_csv(\"C:\\\\Users\\\\Deepanshu\\\\Desktop\\\\example2.txt\", sep =\"\\t\")"
   ]
  },
  {
   "cell_type": "markdown",
   "id": "73b894d9",
   "metadata": {
    "jp-MarkdownHeadingCollapsed": true,
    "tags": []
   },
   "source": [
    "#### <b>4. Read Excel File"
   ]
  },
  {
   "cell_type": "markdown",
   "id": "3ce71e5c",
   "metadata": {},
   "source": [
    "The read_excel() function can be used to import excel data into Python."
   ]
  },
  {
   "cell_type": "raw",
   "id": "d445a7d2",
   "metadata": {},
   "source": [
    "mydata = pd.read_excel(\"https://www.eia.gov/dnav/pet/hist_xls/RBRTEd.xls\",sheetname=\"Data 1\", skiprows=2)"
   ]
  },
  {
   "cell_type": "markdown",
   "id": "294e6170",
   "metadata": {},
   "source": [
    "If you do not specify name of sheet in sheetname= option, it would take by default first sheet."
   ]
  },
  {
   "cell_type": "markdown",
   "id": "e2d1a0c4",
   "metadata": {
    "jp-MarkdownHeadingCollapsed": true,
    "tags": []
   },
   "source": [
    "#### <b>5. Read SAS File"
   ]
  },
  {
   "cell_type": "markdown",
   "id": "1748296f",
   "metadata": {},
   "source": [
    "We can import SAS data file by using read_sas() function."
   ]
  },
  {
   "cell_type": "raw",
   "id": "3b1aba1c",
   "metadata": {},
   "source": [
    "mydata4 = pd.read_sas('cars.sas7bdat')"
   ]
  },
  {
   "cell_type": "markdown",
   "id": "e3fd56b8",
   "metadata": {},
   "source": [
    "f you have a large SAS File, you can try package named `pyreadstat` which is faster than pandas. It is equivalent to `haven` package in R which provides easy and fast way to read data from SAS, SPSS and Stata. To install this package, you can use the command `pip install pyreadstat`"
   ]
  },
  {
   "cell_type": "markdown",
   "id": "dfd8c04d",
   "metadata": {
    "jp-MarkdownHeadingCollapsed": true,
    "tags": []
   },
   "source": [
    "#### <b> 6. Read Stata File"
   ]
  },
  {
   "cell_type": "markdown",
   "id": "b293ebf6",
   "metadata": {},
   "source": [
    "We can load Stata data file via read_stata() function."
   ]
  },
  {
   "cell_type": "raw",
   "id": "b19e753b",
   "metadata": {},
   "source": [
    "mydata41 = pd.read_stata('cars.dta')"
   ]
  },
  {
   "cell_type": "markdown",
   "id": "68003a0b",
   "metadata": {},
   "source": [
    "`pyreadstat` package lets you to pull value labels from stata files."
   ]
  },
  {
   "cell_type": "raw",
   "id": "df334039",
   "metadata": {},
   "source": [
    "import pyreadstat\n",
    "df = pyreadstat.read_dta(\"cars.dta\")"
   ]
  },
  {
   "cell_type": "markdown",
   "id": "dcd12dc6",
   "metadata": {
    "jp-MarkdownHeadingCollapsed": true,
    "tags": []
   },
   "source": [
    "#### <b> 7. Import R Data File"
   ]
  },
  {
   "cell_type": "markdown",
   "id": "27e2ff97",
   "metadata": {},
   "source": [
    "Using pyreadr package, you can load .RData and .Rds format files which in general contains R data frame. You can install this package using the command below -"
   ]
  },
  {
   "cell_type": "code",
   "execution_count": 23,
   "id": "350ee28f",
   "metadata": {},
   "outputs": [
    {
     "name": "stdout",
     "output_type": "stream",
     "text": [
      "Defaulting to user installation because normal site-packages is not writeable\n",
      "Requirement already satisfied: pyreadr in c:\\users\\joe\\appdata\\roaming\\python\\python39\\site-packages (0.4.7)\n",
      "Requirement already satisfied: pandas>=1.2.0 in c:\\programdata\\anaconda3\\lib\\site-packages (from pyreadr) (1.4.4)\n",
      "Requirement already satisfied: numpy>=1.18.5 in c:\\programdata\\anaconda3\\lib\\site-packages (from pandas>=1.2.0->pyreadr) (1.21.5)\n",
      "Requirement already satisfied: python-dateutil>=2.8.1 in c:\\programdata\\anaconda3\\lib\\site-packages (from pandas>=1.2.0->pyreadr) (2.8.2)\n",
      "Requirement already satisfied: pytz>=2020.1 in c:\\programdata\\anaconda3\\lib\\site-packages (from pandas>=1.2.0->pyreadr) (2022.1)\n",
      "Requirement already satisfied: six>=1.5 in c:\\programdata\\anaconda3\\lib\\site-packages (from python-dateutil>=2.8.1->pandas>=1.2.0->pyreadr) (1.16.0)\n"
     ]
    }
   ],
   "source": [
    "!pip install pyreadr\n"
   ]
  },
  {
   "cell_type": "markdown",
   "id": "c8ddc411",
   "metadata": {},
   "source": [
    "With the use of `read_r( )` function, we can import R data format files."
   ]
  },
  {
   "cell_type": "raw",
   "id": "21715605",
   "metadata": {},
   "source": [
    "import pyreadr\n",
    "result = pyreadr.read_r('C:/Users/sampledata.RData')"
   ]
  },
  {
   "cell_type": "markdown",
   "id": "25eea4c5",
   "metadata": {
    "jp-MarkdownHeadingCollapsed": true,
    "tags": []
   },
   "source": [
    "#### <b>8.Import Data from SPSS File"
   ]
  },
  {
   "cell_type": "raw",
   "id": "86a326ad",
   "metadata": {},
   "source": [
    "import pyreadstat\n",
    "df = pyreadstat.read_sav(\"file.sav\", apply_value_formats=True)"
   ]
  },
  {
   "cell_type": "markdown",
   "id": "7d768537",
   "metadata": {},
   "source": [
    "If you don't want value labels, make apply_value_formats as False."
   ]
  },
  {
   "cell_type": "markdown",
   "id": "94892da7",
   "metadata": {
    "jp-MarkdownHeadingCollapsed": true,
    "tags": []
   },
   "source": [
    "#### CSV\n",
    "We will only focus on csv and excel formats in this level. Let start to read a data file with csv format"
   ]
  },
  {
   "cell_type": "code",
   "execution_count": 24,
   "id": "aa0160a5",
   "metadata": {},
   "outputs": [
    {
     "data": {
      "text/html": [
       "<div>\n",
       "<style scoped>\n",
       "    .dataframe tbody tr th:only-of-type {\n",
       "        vertical-align: middle;\n",
       "    }\n",
       "\n",
       "    .dataframe tbody tr th {\n",
       "        vertical-align: top;\n",
       "    }\n",
       "\n",
       "    .dataframe thead th {\n",
       "        text-align: right;\n",
       "    }\n",
       "</style>\n",
       "<table border=\"1\" class=\"dataframe\">\n",
       "  <thead>\n",
       "    <tr style=\"text-align: right;\">\n",
       "      <th></th>\n",
       "      <th>County</th>\n",
       "      <th>Population</th>\n",
       "      <th>Area</th>\n",
       "      <th>count</th>\n",
       "    </tr>\n",
       "  </thead>\n",
       "  <tbody>\n",
       "    <tr>\n",
       "      <th>0</th>\n",
       "      <td>Nairobi</td>\n",
       "      <td>4397073.0</td>\n",
       "      <td>704</td>\n",
       "      <td>4397073.0</td>\n",
       "    </tr>\n",
       "    <tr>\n",
       "      <th>1</th>\n",
       "      <td>Kisumu</td>\n",
       "      <td>1155574.0</td>\n",
       "      <td>2085</td>\n",
       "      <td>1155574.0</td>\n",
       "    </tr>\n",
       "    <tr>\n",
       "      <th>2</th>\n",
       "      <td>Mombasa</td>\n",
       "      <td>1208333.0</td>\n",
       "      <td>220</td>\n",
       "      <td>1208333.0</td>\n",
       "    </tr>\n",
       "    <tr>\n",
       "      <th>3</th>\n",
       "      <td>Bungoma</td>\n",
       "      <td>1670570.0</td>\n",
       "      <td>3024</td>\n",
       "      <td>1670570.0</td>\n",
       "    </tr>\n",
       "    <tr>\n",
       "      <th>4</th>\n",
       "      <td>Mandera</td>\n",
       "      <td>867457.0</td>\n",
       "      <td>25942</td>\n",
       "      <td>867457.0</td>\n",
       "    </tr>\n",
       "    <tr>\n",
       "      <th>5</th>\n",
       "      <td>Turkana</td>\n",
       "      <td>926976.0</td>\n",
       "      <td>68233</td>\n",
       "      <td>926976.0</td>\n",
       "    </tr>\n",
       "    <tr>\n",
       "      <th>6</th>\n",
       "      <td>Marsabit</td>\n",
       "      <td>459785.0</td>\n",
       "      <td>70944</td>\n",
       "      <td>459785.0</td>\n",
       "    </tr>\n",
       "    <tr>\n",
       "      <th>7</th>\n",
       "      <td>Nyeri</td>\n",
       "      <td>759164.0</td>\n",
       "      <td>3325</td>\n",
       "      <td>759164.0</td>\n",
       "    </tr>\n",
       "    <tr>\n",
       "      <th>8</th>\n",
       "      <td>Nairobi</td>\n",
       "      <td>4397073.0</td>\n",
       "      <td>704</td>\n",
       "      <td>4397073.0</td>\n",
       "    </tr>\n",
       "    <tr>\n",
       "      <th>9</th>\n",
       "      <td>Embu</td>\n",
       "      <td>NaN</td>\n",
       "      <td>2821</td>\n",
       "      <td>NaN</td>\n",
       "    </tr>\n",
       "  </tbody>\n",
       "</table>\n",
       "</div>"
      ],
      "text/plain": [
       "     County  Population   Area      count\n",
       "0   Nairobi   4397073.0    704  4397073.0\n",
       "1    Kisumu   1155574.0   2085  1155574.0\n",
       "2   Mombasa   1208333.0    220  1208333.0\n",
       "3   Bungoma   1670570.0   3024  1670570.0\n",
       "4   Mandera    867457.0  25942   867457.0\n",
       "5   Turkana    926976.0  68233   926976.0\n",
       "6  Marsabit    459785.0  70944   459785.0\n",
       "7     Nyeri    759164.0   3325   759164.0\n",
       "8   Nairobi   4397073.0    704  4397073.0\n",
       "9      Embu         NaN   2821        NaN"
      ]
     },
     "execution_count": 24,
     "metadata": {},
     "output_type": "execute_result"
    }
   ],
   "source": [
    "data=pd.read_csv(\"df.csv\")\n",
    "data"
   ]
  },
  {
   "cell_type": "code",
   "execution_count": 25,
   "id": "a1b2f653",
   "metadata": {},
   "outputs": [
    {
     "data": {
      "text/html": [
       "<div>\n",
       "<style scoped>\n",
       "    .dataframe tbody tr th:only-of-type {\n",
       "        vertical-align: middle;\n",
       "    }\n",
       "\n",
       "    .dataframe tbody tr th {\n",
       "        vertical-align: top;\n",
       "    }\n",
       "\n",
       "    .dataframe thead th {\n",
       "        text-align: right;\n",
       "    }\n",
       "</style>\n",
       "<table border=\"1\" class=\"dataframe\">\n",
       "  <thead>\n",
       "    <tr style=\"text-align: right;\">\n",
       "      <th></th>\n",
       "      <th>Population</th>\n",
       "      <th>count</th>\n",
       "    </tr>\n",
       "  </thead>\n",
       "  <tbody>\n",
       "    <tr>\n",
       "      <th>0</th>\n",
       "      <td>4397073</td>\n",
       "      <td>4397073</td>\n",
       "    </tr>\n",
       "    <tr>\n",
       "      <th>1</th>\n",
       "      <td>1155574</td>\n",
       "      <td>1155574</td>\n",
       "    </tr>\n",
       "    <tr>\n",
       "      <th>2</th>\n",
       "      <td>1208333</td>\n",
       "      <td>1208333</td>\n",
       "    </tr>\n",
       "    <tr>\n",
       "      <th>3</th>\n",
       "      <td>1670570</td>\n",
       "      <td>1670570</td>\n",
       "    </tr>\n",
       "    <tr>\n",
       "      <th>4</th>\n",
       "      <td>867457</td>\n",
       "      <td>867457</td>\n",
       "    </tr>\n",
       "  </tbody>\n",
       "</table>\n",
       "</div>"
      ],
      "text/plain": [
       "   Population    count\n",
       "0     4397073  4397073\n",
       "1     1155574  1155574\n",
       "2     1208333  1208333\n",
       "3     1670570  1670570\n",
       "4      867457   867457"
      ]
     },
     "execution_count": 25,
     "metadata": {},
     "output_type": "execute_result"
    }
   ],
   "source": [
    "mydata7 = pd.read_csv(\"df.csv\", nrows=5, usecols=(1,3))\n",
    "mydata7"
   ]
  },
  {
   "cell_type": "markdown",
   "id": "60b1f49d-f6ff-4c32-b454-fe2e16a317da",
   "metadata": {},
   "source": [
    "Write a code that will import the variables starts with....\"p\"\n",
    "Write a code that will import the variables that ends with....\"t\"\n",
    "Write a code that will import the variables that has ....\"a\""
   ]
  },
  {
   "cell_type": "markdown",
   "id": "6c2ba5c7",
   "metadata": {},
   "source": [
    "nrows = 5 implies you want to import only first 5 rows and usecols= refers to specified columns you want to import."
   ]
  },
  {
   "cell_type": "code",
   "execution_count": 26,
   "id": "b460993c",
   "metadata": {},
   "outputs": [
    {
     "data": {
      "text/html": [
       "<div>\n",
       "<style scoped>\n",
       "    .dataframe tbody tr th:only-of-type {\n",
       "        vertical-align: middle;\n",
       "    }\n",
       "\n",
       "    .dataframe tbody tr th {\n",
       "        vertical-align: top;\n",
       "    }\n",
       "\n",
       "    .dataframe thead th {\n",
       "        text-align: right;\n",
       "    }\n",
       "</style>\n",
       "<table border=\"1\" class=\"dataframe\">\n",
       "  <thead>\n",
       "    <tr style=\"text-align: right;\">\n",
       "      <th></th>\n",
       "      <th>Population</th>\n",
       "      <th>Area</th>\n",
       "      <th>count</th>\n",
       "    </tr>\n",
       "  </thead>\n",
       "  <tbody>\n",
       "    <tr>\n",
       "      <th>0</th>\n",
       "      <td>4397073.0</td>\n",
       "      <td>704</td>\n",
       "      <td>4397073.0</td>\n",
       "    </tr>\n",
       "    <tr>\n",
       "      <th>1</th>\n",
       "      <td>1155574.0</td>\n",
       "      <td>2085</td>\n",
       "      <td>1155574.0</td>\n",
       "    </tr>\n",
       "    <tr>\n",
       "      <th>2</th>\n",
       "      <td>1208333.0</td>\n",
       "      <td>220</td>\n",
       "      <td>1208333.0</td>\n",
       "    </tr>\n",
       "    <tr>\n",
       "      <th>3</th>\n",
       "      <td>1670570.0</td>\n",
       "      <td>3024</td>\n",
       "      <td>1670570.0</td>\n",
       "    </tr>\n",
       "    <tr>\n",
       "      <th>4</th>\n",
       "      <td>867457.0</td>\n",
       "      <td>25942</td>\n",
       "      <td>867457.0</td>\n",
       "    </tr>\n",
       "    <tr>\n",
       "      <th>5</th>\n",
       "      <td>926976.0</td>\n",
       "      <td>68233</td>\n",
       "      <td>926976.0</td>\n",
       "    </tr>\n",
       "    <tr>\n",
       "      <th>6</th>\n",
       "      <td>459785.0</td>\n",
       "      <td>70944</td>\n",
       "      <td>459785.0</td>\n",
       "    </tr>\n",
       "    <tr>\n",
       "      <th>7</th>\n",
       "      <td>759164.0</td>\n",
       "      <td>3325</td>\n",
       "      <td>759164.0</td>\n",
       "    </tr>\n",
       "    <tr>\n",
       "      <th>8</th>\n",
       "      <td>4397073.0</td>\n",
       "      <td>704</td>\n",
       "      <td>4397073.0</td>\n",
       "    </tr>\n",
       "    <tr>\n",
       "      <th>9</th>\n",
       "      <td>NaN</td>\n",
       "      <td>2821</td>\n",
       "      <td>NaN</td>\n",
       "    </tr>\n",
       "  </tbody>\n",
       "</table>\n",
       "</div>"
      ],
      "text/plain": [
       "   Population   Area      count\n",
       "0   4397073.0    704  4397073.0\n",
       "1   1155574.0   2085  1155574.0\n",
       "2   1208333.0    220  1208333.0\n",
       "3   1670570.0   3024  1670570.0\n",
       "4    867457.0  25942   867457.0\n",
       "5    926976.0  68233   926976.0\n",
       "6    459785.0  70944   459785.0\n",
       "7    759164.0   3325   759164.0\n",
       "8   4397073.0    704  4397073.0\n",
       "9         NaN   2821        NaN"
      ]
     },
     "execution_count": 26,
     "metadata": {},
     "output_type": "execute_result"
    }
   ],
   "source": [
    "df = pd.read_csv(\"df.csv\", usecols=range(1,4))\n",
    "df"
   ]
  },
  {
   "cell_type": "code",
   "execution_count": 27,
   "id": "15dfc8cf",
   "metadata": {},
   "outputs": [
    {
     "data": {
      "text/plain": [
       "RangeIndex(start=0, stop=10, step=1)"
      ]
     },
     "execution_count": 27,
     "metadata": {},
     "output_type": "execute_result"
    }
   ],
   "source": [
    "df.index ##Gives the  "
   ]
  },
  {
   "cell_type": "markdown",
   "id": "073f85e2",
   "metadata": {
    "jp-MarkdownHeadingCollapsed": true,
    "tags": []
   },
   "source": [
    "##### **Skip rows while importing**"
   ]
  },
  {
   "cell_type": "markdown",
   "id": "45b8ba49",
   "metadata": {},
   "source": [
    "Suppose you want to skip first 5 rows and wants to read data from 6th row (6th row would be a header row)"
   ]
  },
  {
   "cell_type": "code",
   "execution_count": 28,
   "id": "b1532b89",
   "metadata": {},
   "outputs": [
    {
     "data": {
      "text/html": [
       "<div>\n",
       "<style scoped>\n",
       "    .dataframe tbody tr th:only-of-type {\n",
       "        vertical-align: middle;\n",
       "    }\n",
       "\n",
       "    .dataframe tbody tr th {\n",
       "        vertical-align: top;\n",
       "    }\n",
       "\n",
       "    .dataframe thead th {\n",
       "        text-align: right;\n",
       "    }\n",
       "</style>\n",
       "<table border=\"1\" class=\"dataframe\">\n",
       "  <thead>\n",
       "    <tr style=\"text-align: right;\">\n",
       "      <th></th>\n",
       "      <th>Mandera</th>\n",
       "      <th>867457</th>\n",
       "      <th>25942</th>\n",
       "      <th>867457.1</th>\n",
       "    </tr>\n",
       "  </thead>\n",
       "  <tbody>\n",
       "    <tr>\n",
       "      <th>0</th>\n",
       "      <td>Turkana</td>\n",
       "      <td>926976.0</td>\n",
       "      <td>68233</td>\n",
       "      <td>926976.0</td>\n",
       "    </tr>\n",
       "    <tr>\n",
       "      <th>1</th>\n",
       "      <td>Marsabit</td>\n",
       "      <td>459785.0</td>\n",
       "      <td>70944</td>\n",
       "      <td>459785.0</td>\n",
       "    </tr>\n",
       "    <tr>\n",
       "      <th>2</th>\n",
       "      <td>Nyeri</td>\n",
       "      <td>759164.0</td>\n",
       "      <td>3325</td>\n",
       "      <td>759164.0</td>\n",
       "    </tr>\n",
       "    <tr>\n",
       "      <th>3</th>\n",
       "      <td>Nairobi</td>\n",
       "      <td>4397073.0</td>\n",
       "      <td>704</td>\n",
       "      <td>4397073.0</td>\n",
       "    </tr>\n",
       "    <tr>\n",
       "      <th>4</th>\n",
       "      <td>Embu</td>\n",
       "      <td>NaN</td>\n",
       "      <td>2821</td>\n",
       "      <td>NaN</td>\n",
       "    </tr>\n",
       "  </tbody>\n",
       "</table>\n",
       "</div>"
      ],
      "text/plain": [
       "    Mandera     867457  25942   867457.1\n",
       "0   Turkana   926976.0  68233   926976.0\n",
       "1  Marsabit   459785.0  70944   459785.0\n",
       "2     Nyeri   759164.0   3325   759164.0\n",
       "3   Nairobi  4397073.0    704  4397073.0\n",
       "4      Embu        NaN   2821        NaN"
      ]
     },
     "execution_count": 28,
     "metadata": {},
     "output_type": "execute_result"
    }
   ],
   "source": [
    "df3=pd.read_csv((\"df.csv\"),skiprows=5) #When we want to skip rows at the top of the data\n",
    "df3"
   ]
  },
  {
   "cell_type": "markdown",
   "id": "dba4b26a",
   "metadata": {
    "jp-MarkdownHeadingCollapsed": true,
    "tags": []
   },
   "source": [
    "##### **Specify values as missing values**"
   ]
  },
  {
   "cell_type": "markdown",
   "id": "c904d8ea",
   "metadata": {},
   "source": [
    "By including na_values= option, you can specify values as missing values. \n",
    "In this case, we are telling python to consider dot (.) as missing cases."
   ]
  },
  {
   "cell_type": "code",
   "execution_count": 29,
   "id": "119d3f94",
   "metadata": {},
   "outputs": [
    {
     "data": {
      "text/plain": [
       "0      704\n",
       "1     2085\n",
       "2      220\n",
       "3     3024\n",
       "4    25942\n",
       "5    68233\n",
       "6    70944\n",
       "7     3325\n",
       "8      704\n",
       "9     2821\n",
       "Name: Area, dtype: int64"
      ]
     },
     "execution_count": 29,
     "metadata": {},
     "output_type": "execute_result"
    }
   ],
   "source": [
    "mydata = pd.read_csv(\"df.csv\", na_values=['.'])\n",
    "mydata[\"Area\"]"
   ]
  },
  {
   "cell_type": "markdown",
   "id": "131d8dda",
   "metadata": {
    "jp-MarkdownHeadingCollapsed": true,
    "tags": []
   },
   "source": [
    "##### **Changing a column to be index while importing**"
   ]
  },
  {
   "cell_type": "markdown",
   "id": "42b326f2",
   "metadata": {},
   "source": [
    "The data has been imported as shown above. We could add the index by specifying the column we want to use. To do this\n",
    "we use the index_col parameter followed by the column we want. I.e;\n",
    "\n",
    "index_col = 'column name'\n",
    "\n",
    "index_col = value"
   ]
  },
  {
   "cell_type": "code",
   "execution_count": 30,
   "id": "da5b2466",
   "metadata": {},
   "outputs": [
    {
     "data": {
      "text/html": [
       "<div>\n",
       "<style scoped>\n",
       "    .dataframe tbody tr th:only-of-type {\n",
       "        vertical-align: middle;\n",
       "    }\n",
       "\n",
       "    .dataframe tbody tr th {\n",
       "        vertical-align: top;\n",
       "    }\n",
       "\n",
       "    .dataframe thead th {\n",
       "        text-align: right;\n",
       "    }\n",
       "</style>\n",
       "<table border=\"1\" class=\"dataframe\">\n",
       "  <thead>\n",
       "    <tr style=\"text-align: right;\">\n",
       "      <th></th>\n",
       "      <th>County</th>\n",
       "      <th>Population</th>\n",
       "      <th>count</th>\n",
       "    </tr>\n",
       "    <tr>\n",
       "      <th>Area</th>\n",
       "      <th></th>\n",
       "      <th></th>\n",
       "      <th></th>\n",
       "    </tr>\n",
       "  </thead>\n",
       "  <tbody>\n",
       "    <tr>\n",
       "      <th>704</th>\n",
       "      <td>Nairobi</td>\n",
       "      <td>4397073.0</td>\n",
       "      <td>4397073.0</td>\n",
       "    </tr>\n",
       "    <tr>\n",
       "      <th>2085</th>\n",
       "      <td>Kisumu</td>\n",
       "      <td>1155574.0</td>\n",
       "      <td>1155574.0</td>\n",
       "    </tr>\n",
       "    <tr>\n",
       "      <th>220</th>\n",
       "      <td>Mombasa</td>\n",
       "      <td>1208333.0</td>\n",
       "      <td>1208333.0</td>\n",
       "    </tr>\n",
       "    <tr>\n",
       "      <th>3024</th>\n",
       "      <td>Bungoma</td>\n",
       "      <td>1670570.0</td>\n",
       "      <td>1670570.0</td>\n",
       "    </tr>\n",
       "    <tr>\n",
       "      <th>25942</th>\n",
       "      <td>Mandera</td>\n",
       "      <td>867457.0</td>\n",
       "      <td>867457.0</td>\n",
       "    </tr>\n",
       "    <tr>\n",
       "      <th>68233</th>\n",
       "      <td>Turkana</td>\n",
       "      <td>926976.0</td>\n",
       "      <td>926976.0</td>\n",
       "    </tr>\n",
       "    <tr>\n",
       "      <th>70944</th>\n",
       "      <td>Marsabit</td>\n",
       "      <td>459785.0</td>\n",
       "      <td>459785.0</td>\n",
       "    </tr>\n",
       "    <tr>\n",
       "      <th>3325</th>\n",
       "      <td>Nyeri</td>\n",
       "      <td>759164.0</td>\n",
       "      <td>759164.0</td>\n",
       "    </tr>\n",
       "    <tr>\n",
       "      <th>704</th>\n",
       "      <td>Nairobi</td>\n",
       "      <td>4397073.0</td>\n",
       "      <td>4397073.0</td>\n",
       "    </tr>\n",
       "    <tr>\n",
       "      <th>2821</th>\n",
       "      <td>Embu</td>\n",
       "      <td>NaN</td>\n",
       "      <td>NaN</td>\n",
       "    </tr>\n",
       "  </tbody>\n",
       "</table>\n",
       "</div>"
      ],
      "text/plain": [
       "         County  Population      count\n",
       "Area                                  \n",
       "704     Nairobi   4397073.0  4397073.0\n",
       "2085     Kisumu   1155574.0  1155574.0\n",
       "220     Mombasa   1208333.0  1208333.0\n",
       "3024    Bungoma   1670570.0  1670570.0\n",
       "25942   Mandera    867457.0   867457.0\n",
       "68233   Turkana    926976.0   926976.0\n",
       "70944  Marsabit    459785.0   459785.0\n",
       "3325      Nyeri    759164.0   759164.0\n",
       "704     Nairobi   4397073.0  4397073.0\n",
       "2821       Embu         NaN        NaN"
      ]
     },
     "execution_count": 30,
     "metadata": {},
     "output_type": "execute_result"
    }
   ],
   "source": [
    "df11=pd.read_csv((\"df.csv\"),index_col=\"Area\")\n",
    "df11"
   ]
  },
  {
   "cell_type": "code",
   "execution_count": 31,
   "id": "3c2f3b9f",
   "metadata": {},
   "outputs": [
    {
     "data": {
      "text/html": [
       "<div>\n",
       "<style scoped>\n",
       "    .dataframe tbody tr th:only-of-type {\n",
       "        vertical-align: middle;\n",
       "    }\n",
       "\n",
       "    .dataframe tbody tr th {\n",
       "        vertical-align: top;\n",
       "    }\n",
       "\n",
       "    .dataframe thead th {\n",
       "        text-align: right;\n",
       "    }\n",
       "</style>\n",
       "<table border=\"1\" class=\"dataframe\">\n",
       "  <thead>\n",
       "    <tr style=\"text-align: right;\">\n",
       "      <th></th>\n",
       "      <th>Population</th>\n",
       "      <th>Area</th>\n",
       "      <th>count</th>\n",
       "    </tr>\n",
       "    <tr>\n",
       "      <th>County</th>\n",
       "      <th></th>\n",
       "      <th></th>\n",
       "      <th></th>\n",
       "    </tr>\n",
       "  </thead>\n",
       "  <tbody>\n",
       "    <tr>\n",
       "      <th>Nairobi</th>\n",
       "      <td>4397073.0</td>\n",
       "      <td>704</td>\n",
       "      <td>4397073.0</td>\n",
       "    </tr>\n",
       "    <tr>\n",
       "      <th>Kisumu</th>\n",
       "      <td>1155574.0</td>\n",
       "      <td>2085</td>\n",
       "      <td>1155574.0</td>\n",
       "    </tr>\n",
       "    <tr>\n",
       "      <th>Mombasa</th>\n",
       "      <td>1208333.0</td>\n",
       "      <td>220</td>\n",
       "      <td>1208333.0</td>\n",
       "    </tr>\n",
       "    <tr>\n",
       "      <th>Bungoma</th>\n",
       "      <td>1670570.0</td>\n",
       "      <td>3024</td>\n",
       "      <td>1670570.0</td>\n",
       "    </tr>\n",
       "    <tr>\n",
       "      <th>Mandera</th>\n",
       "      <td>867457.0</td>\n",
       "      <td>25942</td>\n",
       "      <td>867457.0</td>\n",
       "    </tr>\n",
       "    <tr>\n",
       "      <th>Turkana</th>\n",
       "      <td>926976.0</td>\n",
       "      <td>68233</td>\n",
       "      <td>926976.0</td>\n",
       "    </tr>\n",
       "    <tr>\n",
       "      <th>Marsabit</th>\n",
       "      <td>459785.0</td>\n",
       "      <td>70944</td>\n",
       "      <td>459785.0</td>\n",
       "    </tr>\n",
       "    <tr>\n",
       "      <th>Nyeri</th>\n",
       "      <td>759164.0</td>\n",
       "      <td>3325</td>\n",
       "      <td>759164.0</td>\n",
       "    </tr>\n",
       "    <tr>\n",
       "      <th>Nairobi</th>\n",
       "      <td>4397073.0</td>\n",
       "      <td>704</td>\n",
       "      <td>4397073.0</td>\n",
       "    </tr>\n",
       "    <tr>\n",
       "      <th>Embu</th>\n",
       "      <td>NaN</td>\n",
       "      <td>2821</td>\n",
       "      <td>NaN</td>\n",
       "    </tr>\n",
       "  </tbody>\n",
       "</table>\n",
       "</div>"
      ],
      "text/plain": [
       "          Population   Area      count\n",
       "County                                \n",
       "Nairobi    4397073.0    704  4397073.0\n",
       "Kisumu     1155574.0   2085  1155574.0\n",
       "Mombasa    1208333.0    220  1208333.0\n",
       "Bungoma    1670570.0   3024  1670570.0\n",
       "Mandera     867457.0  25942   867457.0\n",
       "Turkana     926976.0  68233   926976.0\n",
       "Marsabit    459785.0  70944   459785.0\n",
       "Nyeri       759164.0   3325   759164.0\n",
       "Nairobi    4397073.0    704  4397073.0\n",
       "Embu             NaN   2821        NaN"
      ]
     },
     "execution_count": 31,
     "metadata": {},
     "output_type": "execute_result"
    }
   ],
   "source": [
    "import pandas as pd\n",
    "df2=pd.read_csv((\"df.csv\"),index_col=0)\n",
    "df2\n"
   ]
  },
  {
   "cell_type": "code",
   "execution_count": 32,
   "id": "487b72e4",
   "metadata": {},
   "outputs": [
    {
     "data": {
      "text/plain": [
       "Index(['Nairobi', 'Kisumu', 'Mombasa', 'Bungoma', 'Mandera', 'Turkana',\n",
       "       'Marsabit', 'Nyeri', 'Nairobi', 'Embu'],\n",
       "      dtype='object', name='County')"
      ]
     },
     "execution_count": 32,
     "metadata": {},
     "output_type": "execute_result"
    }
   ],
   "source": [
    "df2.index"
   ]
  },
  {
   "cell_type": "code",
   "execution_count": 33,
   "id": "667b83d8",
   "metadata": {},
   "outputs": [
    {
     "data": {
      "text/plain": [
       "Index(['Population', 'Area', 'count'], dtype='object')"
      ]
     },
     "execution_count": 33,
     "metadata": {},
     "output_type": "execute_result"
    }
   ],
   "source": [
    "df2.columns"
   ]
  },
  {
   "cell_type": "code",
   "execution_count": 34,
   "id": "2d636db4",
   "metadata": {},
   "outputs": [
    {
     "data": {
      "text/plain": [
       "Population    float64\n",
       "Area            int64\n",
       "count         float64\n",
       "dtype: object"
      ]
     },
     "execution_count": 34,
     "metadata": {},
     "output_type": "execute_result"
    }
   ],
   "source": [
    "#gives type of data in each column\n",
    "df2.dtypes"
   ]
  },
  {
   "cell_type": "code",
   "execution_count": 35,
   "id": "0876cbc0",
   "metadata": {},
   "outputs": [
    {
     "data": {
      "text/plain": [
       "<bound method DataFrame.count of           Population   Area      count\n",
       "County                                \n",
       "Nairobi    4397073.0    704  4397073.0\n",
       "Kisumu     1155574.0   2085  1155574.0\n",
       "Mombasa    1208333.0    220  1208333.0\n",
       "Bungoma    1670570.0   3024  1670570.0\n",
       "Mandera     867457.0  25942   867457.0\n",
       "Turkana     926976.0  68233   926976.0\n",
       "Marsabit    459785.0  70944   459785.0\n",
       "Nyeri       759164.0   3325   759164.0\n",
       "Nairobi    4397073.0    704  4397073.0\n",
       "Embu             NaN   2821        NaN>"
      ]
     },
     "execution_count": 35,
     "metadata": {},
     "output_type": "execute_result"
    }
   ],
   "source": [
    "#gives number of entries in each column\n",
    "df2.count"
   ]
  },
  {
   "cell_type": "markdown",
   "id": "0043dcbd",
   "metadata": {
    "jp-MarkdownHeadingCollapsed": true,
    "tags": []
   },
   "source": [
    "### After reading the data ,we will go through some operations to check the data, this will enable us to see how our data looks."
   ]
  },
  {
   "cell_type": "code",
   "execution_count": 36,
   "id": "a915d0db",
   "metadata": {},
   "outputs": [],
   "source": [
    "#to get first five observations by default if no value is passed\n",
    "df=pd.read_csv(\"df.csv\")\n"
   ]
  },
  {
   "cell_type": "code",
   "execution_count": 37,
   "id": "5635bf1e",
   "metadata": {},
   "outputs": [
    {
     "data": {
      "text/html": [
       "<div>\n",
       "<style scoped>\n",
       "    .dataframe tbody tr th:only-of-type {\n",
       "        vertical-align: middle;\n",
       "    }\n",
       "\n",
       "    .dataframe tbody tr th {\n",
       "        vertical-align: top;\n",
       "    }\n",
       "\n",
       "    .dataframe thead th {\n",
       "        text-align: right;\n",
       "    }\n",
       "</style>\n",
       "<table border=\"1\" class=\"dataframe\">\n",
       "  <thead>\n",
       "    <tr style=\"text-align: right;\">\n",
       "      <th></th>\n",
       "      <th>County</th>\n",
       "      <th>Population</th>\n",
       "      <th>Area</th>\n",
       "      <th>count</th>\n",
       "    </tr>\n",
       "  </thead>\n",
       "  <tbody>\n",
       "    <tr>\n",
       "      <th>0</th>\n",
       "      <td>Nairobi</td>\n",
       "      <td>4397073.0</td>\n",
       "      <td>704</td>\n",
       "      <td>4397073.0</td>\n",
       "    </tr>\n",
       "    <tr>\n",
       "      <th>1</th>\n",
       "      <td>Kisumu</td>\n",
       "      <td>1155574.0</td>\n",
       "      <td>2085</td>\n",
       "      <td>1155574.0</td>\n",
       "    </tr>\n",
       "  </tbody>\n",
       "</table>\n",
       "</div>"
      ],
      "text/plain": [
       "    County  Population  Area      count\n",
       "0  Nairobi   4397073.0   704  4397073.0\n",
       "1   Kisumu   1155574.0  2085  1155574.0"
      ]
     },
     "execution_count": 37,
     "metadata": {},
     "output_type": "execute_result"
    }
   ],
   "source": [
    "df.head(2)\n"
   ]
  },
  {
   "cell_type": "markdown",
   "id": "8da7c961",
   "metadata": {},
   "source": [
    "Here we are checking the first five rows in our data. Suppose we wished for the first 3, we\n",
    "simply put 3 as an argument in the function. This checks the first 3. By\n",
    "default, it checks the first five if no argument is passed"
   ]
  },
  {
   "cell_type": "code",
   "execution_count": 38,
   "id": "fe9f6e26",
   "metadata": {},
   "outputs": [
    {
     "data": {
      "text/html": [
       "<div>\n",
       "<style scoped>\n",
       "    .dataframe tbody tr th:only-of-type {\n",
       "        vertical-align: middle;\n",
       "    }\n",
       "\n",
       "    .dataframe tbody tr th {\n",
       "        vertical-align: top;\n",
       "    }\n",
       "\n",
       "    .dataframe thead th {\n",
       "        text-align: right;\n",
       "    }\n",
       "</style>\n",
       "<table border=\"1\" class=\"dataframe\">\n",
       "  <thead>\n",
       "    <tr style=\"text-align: right;\">\n",
       "      <th></th>\n",
       "      <th>County</th>\n",
       "      <th>Population</th>\n",
       "      <th>Area</th>\n",
       "      <th>count</th>\n",
       "    </tr>\n",
       "  </thead>\n",
       "  <tbody>\n",
       "    <tr>\n",
       "      <th>0</th>\n",
       "      <td>Nairobi</td>\n",
       "      <td>4397073.0</td>\n",
       "      <td>704</td>\n",
       "      <td>4397073.0</td>\n",
       "    </tr>\n",
       "    <tr>\n",
       "      <th>1</th>\n",
       "      <td>Kisumu</td>\n",
       "      <td>1155574.0</td>\n",
       "      <td>2085</td>\n",
       "      <td>1155574.0</td>\n",
       "    </tr>\n",
       "    <tr>\n",
       "      <th>2</th>\n",
       "      <td>Mombasa</td>\n",
       "      <td>1208333.0</td>\n",
       "      <td>220</td>\n",
       "      <td>1208333.0</td>\n",
       "    </tr>\n",
       "  </tbody>\n",
       "</table>\n",
       "</div>"
      ],
      "text/plain": [
       "    County  Population  Area      count\n",
       "0  Nairobi   4397073.0   704  4397073.0\n",
       "1   Kisumu   1155574.0  2085  1155574.0\n",
       "2  Mombasa   1208333.0   220  1208333.0"
      ]
     },
     "execution_count": 38,
     "metadata": {},
     "output_type": "execute_result"
    }
   ],
   "source": [
    "df.head(3) # This checks the first 3. By default, it checks the first five if no argument is passed"
   ]
  },
  {
   "cell_type": "code",
   "execution_count": 39,
   "id": "05dcc31b",
   "metadata": {},
   "outputs": [
    {
     "data": {
      "text/html": [
       "<div>\n",
       "<style scoped>\n",
       "    .dataframe tbody tr th:only-of-type {\n",
       "        vertical-align: middle;\n",
       "    }\n",
       "\n",
       "    .dataframe tbody tr th {\n",
       "        vertical-align: top;\n",
       "    }\n",
       "\n",
       "    .dataframe thead th {\n",
       "        text-align: right;\n",
       "    }\n",
       "</style>\n",
       "<table border=\"1\" class=\"dataframe\">\n",
       "  <thead>\n",
       "    <tr style=\"text-align: right;\">\n",
       "      <th></th>\n",
       "      <th>County</th>\n",
       "      <th>Population</th>\n",
       "      <th>Area</th>\n",
       "      <th>count</th>\n",
       "    </tr>\n",
       "  </thead>\n",
       "  <tbody>\n",
       "    <tr>\n",
       "      <th>5</th>\n",
       "      <td>Turkana</td>\n",
       "      <td>926976.0</td>\n",
       "      <td>68233</td>\n",
       "      <td>926976.0</td>\n",
       "    </tr>\n",
       "    <tr>\n",
       "      <th>6</th>\n",
       "      <td>Marsabit</td>\n",
       "      <td>459785.0</td>\n",
       "      <td>70944</td>\n",
       "      <td>459785.0</td>\n",
       "    </tr>\n",
       "    <tr>\n",
       "      <th>7</th>\n",
       "      <td>Nyeri</td>\n",
       "      <td>759164.0</td>\n",
       "      <td>3325</td>\n",
       "      <td>759164.0</td>\n",
       "    </tr>\n",
       "    <tr>\n",
       "      <th>8</th>\n",
       "      <td>Nairobi</td>\n",
       "      <td>4397073.0</td>\n",
       "      <td>704</td>\n",
       "      <td>4397073.0</td>\n",
       "    </tr>\n",
       "    <tr>\n",
       "      <th>9</th>\n",
       "      <td>Embu</td>\n",
       "      <td>NaN</td>\n",
       "      <td>2821</td>\n",
       "      <td>NaN</td>\n",
       "    </tr>\n",
       "  </tbody>\n",
       "</table>\n",
       "</div>"
      ],
      "text/plain": [
       "     County  Population   Area      count\n",
       "5   Turkana    926976.0  68233   926976.0\n",
       "6  Marsabit    459785.0  70944   459785.0\n",
       "7     Nyeri    759164.0   3325   759164.0\n",
       "8   Nairobi   4397073.0    704  4397073.0\n",
       "9      Embu         NaN   2821        NaN"
      ]
     },
     "execution_count": 39,
     "metadata": {},
     "output_type": "execute_result"
    }
   ],
   "source": [
    "#to get the last five rows in the data by default if no value is passed\n",
    "df.tail()"
   ]
  },
  {
   "cell_type": "markdown",
   "id": "a0306350",
   "metadata": {},
   "source": [
    "This is the vice-versa of the .head() method. Here we are checking the last five rows in our\n",
    "data. Suppose we wished for the first 2, we simply put 2 as an argument in the function. if no argument is passed"
   ]
  },
  {
   "cell_type": "code",
   "execution_count": 40,
   "id": "335e1a87",
   "metadata": {},
   "outputs": [
    {
     "data": {
      "text/html": [
       "<div>\n",
       "<style scoped>\n",
       "    .dataframe tbody tr th:only-of-type {\n",
       "        vertical-align: middle;\n",
       "    }\n",
       "\n",
       "    .dataframe tbody tr th {\n",
       "        vertical-align: top;\n",
       "    }\n",
       "\n",
       "    .dataframe thead th {\n",
       "        text-align: right;\n",
       "    }\n",
       "</style>\n",
       "<table border=\"1\" class=\"dataframe\">\n",
       "  <thead>\n",
       "    <tr style=\"text-align: right;\">\n",
       "      <th></th>\n",
       "      <th>County</th>\n",
       "      <th>Population</th>\n",
       "      <th>Area</th>\n",
       "      <th>count</th>\n",
       "    </tr>\n",
       "  </thead>\n",
       "  <tbody>\n",
       "    <tr>\n",
       "      <th>8</th>\n",
       "      <td>Nairobi</td>\n",
       "      <td>4397073.0</td>\n",
       "      <td>704</td>\n",
       "      <td>4397073.0</td>\n",
       "    </tr>\n",
       "    <tr>\n",
       "      <th>9</th>\n",
       "      <td>Embu</td>\n",
       "      <td>NaN</td>\n",
       "      <td>2821</td>\n",
       "      <td>NaN</td>\n",
       "    </tr>\n",
       "  </tbody>\n",
       "</table>\n",
       "</div>"
      ],
      "text/plain": [
       "    County  Population  Area      count\n",
       "8  Nairobi   4397073.0   704  4397073.0\n",
       "9     Embu         NaN  2821        NaN"
      ]
     },
     "execution_count": 40,
     "metadata": {},
     "output_type": "execute_result"
    }
   ],
   "source": [
    "df.tail(2) #This checks the last 2. By default, it checks the last five "
   ]
  },
  {
   "cell_type": "code",
   "execution_count": 41,
   "id": "c16dd092",
   "metadata": {},
   "outputs": [
    {
     "data": {
      "text/html": [
       "<div>\n",
       "<style scoped>\n",
       "    .dataframe tbody tr th:only-of-type {\n",
       "        vertical-align: middle;\n",
       "    }\n",
       "\n",
       "    .dataframe tbody tr th {\n",
       "        vertical-align: top;\n",
       "    }\n",
       "\n",
       "    .dataframe thead th {\n",
       "        text-align: right;\n",
       "    }\n",
       "</style>\n",
       "<table border=\"1\" class=\"dataframe\">\n",
       "  <thead>\n",
       "    <tr style=\"text-align: right;\">\n",
       "      <th></th>\n",
       "      <th>County</th>\n",
       "      <th>Population</th>\n",
       "      <th>Area</th>\n",
       "      <th>count</th>\n",
       "    </tr>\n",
       "  </thead>\n",
       "  <tbody>\n",
       "    <tr>\n",
       "      <th>0</th>\n",
       "      <td>Nairobi</td>\n",
       "      <td>4397073.0</td>\n",
       "      <td>704</td>\n",
       "      <td>4397073.0</td>\n",
       "    </tr>\n",
       "  </tbody>\n",
       "</table>\n",
       "</div>"
      ],
      "text/plain": [
       "    County  Population  Area      count\n",
       "0  Nairobi   4397073.0   704  4397073.0"
      ]
     },
     "execution_count": 41,
     "metadata": {},
     "output_type": "execute_result"
    }
   ],
   "source": [
    "\n",
    "df.sample()  #checks a random single row in your data if no argument is passed"
   ]
  },
  {
   "cell_type": "code",
   "execution_count": 42,
   "id": "f056c2f5",
   "metadata": {},
   "outputs": [
    {
     "data": {
      "text/html": [
       "<div>\n",
       "<style scoped>\n",
       "    .dataframe tbody tr th:only-of-type {\n",
       "        vertical-align: middle;\n",
       "    }\n",
       "\n",
       "    .dataframe tbody tr th {\n",
       "        vertical-align: top;\n",
       "    }\n",
       "\n",
       "    .dataframe thead th {\n",
       "        text-align: right;\n",
       "    }\n",
       "</style>\n",
       "<table border=\"1\" class=\"dataframe\">\n",
       "  <thead>\n",
       "    <tr style=\"text-align: right;\">\n",
       "      <th></th>\n",
       "      <th>County</th>\n",
       "      <th>Population</th>\n",
       "      <th>Area</th>\n",
       "      <th>count</th>\n",
       "    </tr>\n",
       "  </thead>\n",
       "  <tbody>\n",
       "    <tr>\n",
       "      <th>8</th>\n",
       "      <td>Nairobi</td>\n",
       "      <td>4397073.0</td>\n",
       "      <td>704</td>\n",
       "      <td>4397073.0</td>\n",
       "    </tr>\n",
       "    <tr>\n",
       "      <th>5</th>\n",
       "      <td>Turkana</td>\n",
       "      <td>926976.0</td>\n",
       "      <td>68233</td>\n",
       "      <td>926976.0</td>\n",
       "    </tr>\n",
       "    <tr>\n",
       "      <th>7</th>\n",
       "      <td>Nyeri</td>\n",
       "      <td>759164.0</td>\n",
       "      <td>3325</td>\n",
       "      <td>759164.0</td>\n",
       "    </tr>\n",
       "    <tr>\n",
       "      <th>9</th>\n",
       "      <td>Embu</td>\n",
       "      <td>NaN</td>\n",
       "      <td>2821</td>\n",
       "      <td>NaN</td>\n",
       "    </tr>\n",
       "    <tr>\n",
       "      <th>6</th>\n",
       "      <td>Marsabit</td>\n",
       "      <td>459785.0</td>\n",
       "      <td>70944</td>\n",
       "      <td>459785.0</td>\n",
       "    </tr>\n",
       "  </tbody>\n",
       "</table>\n",
       "</div>"
      ],
      "text/plain": [
       "     County  Population   Area      count\n",
       "8   Nairobi   4397073.0    704  4397073.0\n",
       "5   Turkana    926976.0  68233   926976.0\n",
       "7     Nyeri    759164.0   3325   759164.0\n",
       "9      Embu         NaN   2821        NaN\n",
       "6  Marsabit    459785.0  70944   459785.0"
      ]
     },
     "execution_count": 42,
     "metadata": {},
     "output_type": "execute_result"
    }
   ],
   "source": [
    "#we can pass arguments\n",
    "df.sample(5) # And if suppose we pass in 5 (data.sample(5)) , this checks a sample of 5 rows randomly selected."
   ]
  },
  {
   "cell_type": "code",
   "execution_count": 43,
   "id": "28affa7e",
   "metadata": {},
   "outputs": [
    {
     "data": {
      "text/plain": [
       "(10, 4)"
      ]
     },
     "execution_count": 43,
     "metadata": {},
     "output_type": "execute_result"
    }
   ],
   "source": [
    "#to get data dimensions \n",
    "df.shape"
   ]
  },
  {
   "cell_type": "markdown",
   "id": "c72d0931",
   "metadata": {
    "tags": []
   },
   "source": [
    "### We have two types of data\n",
    "\n",
    "1. **Categorical or qualitative**\n",
    "                   a)nominal(no order e.g gender)\n",
    "                   b) ordinal(has order(e.g education))\n",
    "\n",
    "1. **Numerical or quantitative**   \n",
    "                   a)discrete(specific values e.g age)\n",
    "                   b)continuous(interval e.g range)"
   ]
  },
  {
   "cell_type": "markdown",
   "id": "4de84286",
   "metadata": {},
   "source": [
    "After inspection of the data, we now want to get an overview of how the data looks like"
   ]
  },
  {
   "cell_type": "markdown",
   "id": "230548e5",
   "metadata": {
    "tags": []
   },
   "source": [
    "### 3. **Indexing, selection and assigning**"
   ]
  },
  {
   "cell_type": "markdown",
   "id": "4dce9ae6",
   "metadata": {},
   "source": [
    "Indexing in python is done in 2 ways.\n",
    "\n",
    "1)By names\n",
    "\n",
    "2)By index"
   ]
  },
  {
   "cell_type": "markdown",
   "id": "aed6956b",
   "metadata": {
    "tags": []
   },
   "source": [
    "#### **INDEXING BY NAMES**\n",
    "\n",
    "- We use data.loc, the loc() function helps us to retrieve data values from a dataset at an ease. \n",
    "- Using the loc() function, we can access the data values fitted in the particular row or column based on the index value passed to the function.\n",
    "\n",
    "- .loc indexing is exclusively ,meaning indexing from 0-10 will select 0-10 inclusively(none will be left out).\n",
    "\n",
    "**SYNTAX:**\n",
    "\n",
    "`pandas.DataFrame.loc[index label]`\n",
    "\n",
    "The index label may be;Single label – example: String, List of string, Slice objects with labels, List of an array of labels, etc."
   ]
  },
  {
   "cell_type": "code",
   "execution_count": 44,
   "id": "285324cd",
   "metadata": {},
   "outputs": [
    {
     "data": {
      "text/html": [
       "<div>\n",
       "<style scoped>\n",
       "    .dataframe tbody tr th:only-of-type {\n",
       "        vertical-align: middle;\n",
       "    }\n",
       "\n",
       "    .dataframe tbody tr th {\n",
       "        vertical-align: top;\n",
       "    }\n",
       "\n",
       "    .dataframe thead th {\n",
       "        text-align: right;\n",
       "    }\n",
       "</style>\n",
       "<table border=\"1\" class=\"dataframe\">\n",
       "  <thead>\n",
       "    <tr style=\"text-align: right;\">\n",
       "      <th></th>\n",
       "      <th>Population</th>\n",
       "      <th>Area</th>\n",
       "      <th>count</th>\n",
       "    </tr>\n",
       "    <tr>\n",
       "      <th>County</th>\n",
       "      <th></th>\n",
       "      <th></th>\n",
       "      <th></th>\n",
       "    </tr>\n",
       "  </thead>\n",
       "  <tbody>\n",
       "    <tr>\n",
       "      <th>Nairobi</th>\n",
       "      <td>4397073.0</td>\n",
       "      <td>704</td>\n",
       "      <td>4397073.0</td>\n",
       "    </tr>\n",
       "    <tr>\n",
       "      <th>Kisumu</th>\n",
       "      <td>1155574.0</td>\n",
       "      <td>2085</td>\n",
       "      <td>1155574.0</td>\n",
       "    </tr>\n",
       "    <tr>\n",
       "      <th>Mombasa</th>\n",
       "      <td>1208333.0</td>\n",
       "      <td>220</td>\n",
       "      <td>1208333.0</td>\n",
       "    </tr>\n",
       "    <tr>\n",
       "      <th>Bungoma</th>\n",
       "      <td>1670570.0</td>\n",
       "      <td>3024</td>\n",
       "      <td>1670570.0</td>\n",
       "    </tr>\n",
       "    <tr>\n",
       "      <th>Mandera</th>\n",
       "      <td>867457.0</td>\n",
       "      <td>25942</td>\n",
       "      <td>867457.0</td>\n",
       "    </tr>\n",
       "    <tr>\n",
       "      <th>Turkana</th>\n",
       "      <td>926976.0</td>\n",
       "      <td>68233</td>\n",
       "      <td>926976.0</td>\n",
       "    </tr>\n",
       "    <tr>\n",
       "      <th>Marsabit</th>\n",
       "      <td>459785.0</td>\n",
       "      <td>70944</td>\n",
       "      <td>459785.0</td>\n",
       "    </tr>\n",
       "    <tr>\n",
       "      <th>Nyeri</th>\n",
       "      <td>759164.0</td>\n",
       "      <td>3325</td>\n",
       "      <td>759164.0</td>\n",
       "    </tr>\n",
       "    <tr>\n",
       "      <th>Nairobi</th>\n",
       "      <td>4397073.0</td>\n",
       "      <td>704</td>\n",
       "      <td>4397073.0</td>\n",
       "    </tr>\n",
       "    <tr>\n",
       "      <th>Embu</th>\n",
       "      <td>NaN</td>\n",
       "      <td>2821</td>\n",
       "      <td>NaN</td>\n",
       "    </tr>\n",
       "  </tbody>\n",
       "</table>\n",
       "</div>"
      ],
      "text/plain": [
       "          Population   Area      count\n",
       "County                                \n",
       "Nairobi    4397073.0    704  4397073.0\n",
       "Kisumu     1155574.0   2085  1155574.0\n",
       "Mombasa    1208333.0    220  1208333.0\n",
       "Bungoma    1670570.0   3024  1670570.0\n",
       "Mandera     867457.0  25942   867457.0\n",
       "Turkana     926976.0  68233   926976.0\n",
       "Marsabit    459785.0  70944   459785.0\n",
       "Nyeri       759164.0   3325   759164.0\n",
       "Nairobi    4397073.0    704  4397073.0\n",
       "Embu             NaN   2821        NaN"
      ]
     },
     "execution_count": 44,
     "metadata": {},
     "output_type": "execute_result"
    }
   ],
   "source": [
    "import pandas as pd\n",
    "df2=pd.read_csv((\"df.csv\"), index_col=0)\n",
    "#df2.set_index(\"County\",inplace=True)\n",
    "df2"
   ]
  },
  {
   "cell_type": "markdown",
   "id": "770e0ada",
   "metadata": {},
   "source": [
    "**Extract One Row from a Data frame**\n",
    "\n",
    "Set County as the index col `\"index_col=County\"` when importing or use\n",
    "`df2.set_index(\"County\", inplace=True)`"
   ]
  },
  {
   "cell_type": "code",
   "execution_count": 45,
   "id": "0dc72c40",
   "metadata": {},
   "outputs": [
    {
     "name": "stdout",
     "output_type": "stream",
     "text": [
      "         Population  Area      count\n",
      "County                              \n",
      "Nairobi   4397073.0   704  4397073.0\n",
      "Nairobi   4397073.0   704  4397073.0\n"
     ]
    }
   ],
   "source": [
    "print(df2.loc['Nairobi'])  #Extracting row one (you need to make County the index)"
   ]
  },
  {
   "cell_type": "markdown",
   "id": "3b23a898",
   "metadata": {},
   "source": [
    "**Extract Multiple Rows from a Data frame**\n"
   ]
  },
  {
   "cell_type": "code",
   "execution_count": 46,
   "id": "e000f9d8",
   "metadata": {},
   "outputs": [
    {
     "name": "stdout",
     "output_type": "stream",
     "text": [
      "         Population  Area      count\n",
      "County                              \n",
      "Bungoma   1670570.0  3024  1670570.0\n",
      "Embu            NaN  2821        NaN\n",
      "Nyeri      759164.0  3325   759164.0\n"
     ]
    }
   ],
   "source": [
    "print(df2.loc[[\"Bungoma\",\"Embu\", \"Nyeri\"]])"
   ]
  },
  {
   "cell_type": "markdown",
   "id": "23966ab9",
   "metadata": {},
   "source": [
    "**Extract Range of Rows using Python loc()** "
   ]
  },
  {
   "cell_type": "code",
   "execution_count": 47,
   "id": "865181fa",
   "metadata": {},
   "outputs": [
    {
     "name": "stdout",
     "output_type": "stream",
     "text": [
      "          Population   Area      count\n",
      "County                                \n",
      "Bungoma    1670570.0   3024  1670570.0\n",
      "Mandera     867457.0  25942   867457.0\n",
      "Turkana     926976.0  68233   926976.0\n",
      "Marsabit    459785.0  70944   459785.0\n",
      "Nyeri       759164.0   3325   759164.0\n",
      "Nairobi    4397073.0    704  4397073.0\n",
      "Embu             NaN   2821        NaN\n"
     ]
    }
   ],
   "source": [
    "print(df2.loc[\"Bungoma\":\"Embu\"])"
   ]
  },
  {
   "cell_type": "code",
   "execution_count": 48,
   "id": "34a7df06",
   "metadata": {},
   "outputs": [
    {
     "data": {
      "text/plain": [
       "County\n",
       "Nairobi    4397073.0\n",
       "Nairobi    4397073.0\n",
       "Name: Population, dtype: float64"
      ]
     },
     "execution_count": 48,
     "metadata": {},
     "output_type": "execute_result"
    }
   ],
   "source": [
    "#row 1 column 1(Datum)\n",
    "df2.loc[\"Nairobi\",\"Population\"] #gives two output since Nairobi is repeated"
   ]
  },
  {
   "cell_type": "code",
   "execution_count": 49,
   "id": "22cbf4a7",
   "metadata": {},
   "outputs": [
    {
     "data": {
      "text/html": [
       "<div>\n",
       "<style scoped>\n",
       "    .dataframe tbody tr th:only-of-type {\n",
       "        vertical-align: middle;\n",
       "    }\n",
       "\n",
       "    .dataframe tbody tr th {\n",
       "        vertical-align: top;\n",
       "    }\n",
       "\n",
       "    .dataframe thead th {\n",
       "        text-align: right;\n",
       "    }\n",
       "</style>\n",
       "<table border=\"1\" class=\"dataframe\">\n",
       "  <thead>\n",
       "    <tr style=\"text-align: right;\">\n",
       "      <th></th>\n",
       "      <th>Population</th>\n",
       "      <th>count</th>\n",
       "    </tr>\n",
       "    <tr>\n",
       "      <th>County</th>\n",
       "      <th></th>\n",
       "      <th></th>\n",
       "    </tr>\n",
       "  </thead>\n",
       "  <tbody>\n",
       "    <tr>\n",
       "      <th>Turkana</th>\n",
       "      <td>926976.0</td>\n",
       "      <td>926976.0</td>\n",
       "    </tr>\n",
       "    <tr>\n",
       "      <th>Marsabit</th>\n",
       "      <td>459785.0</td>\n",
       "      <td>459785.0</td>\n",
       "    </tr>\n",
       "    <tr>\n",
       "      <th>Nyeri</th>\n",
       "      <td>759164.0</td>\n",
       "      <td>759164.0</td>\n",
       "    </tr>\n",
       "    <tr>\n",
       "      <th>Nairobi</th>\n",
       "      <td>4397073.0</td>\n",
       "      <td>4397073.0</td>\n",
       "    </tr>\n",
       "    <tr>\n",
       "      <th>Embu</th>\n",
       "      <td>NaN</td>\n",
       "      <td>NaN</td>\n",
       "    </tr>\n",
       "  </tbody>\n",
       "</table>\n",
       "</div>"
      ],
      "text/plain": [
       "          Population      count\n",
       "County                         \n",
       "Turkana     926976.0   926976.0\n",
       "Marsabit    459785.0   459785.0\n",
       "Nyeri       759164.0   759164.0\n",
       "Nairobi    4397073.0  4397073.0\n",
       "Embu             NaN        NaN"
      ]
     },
     "execution_count": 49,
     "metadata": {},
     "output_type": "execute_result"
    }
   ],
   "source": [
    "#indexing a range of values in rows and columns\n",
    "df2.loc[\"Turkana\":\"Embu\",[\"Population\",\"count\"]] "
   ]
  },
  {
   "cell_type": "code",
   "execution_count": 50,
   "id": "01686ca5",
   "metadata": {},
   "outputs": [
    {
     "data": {
      "text/html": [
       "<div>\n",
       "<style scoped>\n",
       "    .dataframe tbody tr th:only-of-type {\n",
       "        vertical-align: middle;\n",
       "    }\n",
       "\n",
       "    .dataframe tbody tr th {\n",
       "        vertical-align: top;\n",
       "    }\n",
       "\n",
       "    .dataframe thead th {\n",
       "        text-align: right;\n",
       "    }\n",
       "</style>\n",
       "<table border=\"1\" class=\"dataframe\">\n",
       "  <thead>\n",
       "    <tr style=\"text-align: right;\">\n",
       "      <th></th>\n",
       "      <th>Population</th>\n",
       "    </tr>\n",
       "    <tr>\n",
       "      <th>County</th>\n",
       "      <th></th>\n",
       "    </tr>\n",
       "  </thead>\n",
       "  <tbody>\n",
       "    <tr>\n",
       "      <th>Nairobi</th>\n",
       "      <td>4397073.0</td>\n",
       "    </tr>\n",
       "    <tr>\n",
       "      <th>Kisumu</th>\n",
       "      <td>1155574.0</td>\n",
       "    </tr>\n",
       "    <tr>\n",
       "      <th>Mombasa</th>\n",
       "      <td>1208333.0</td>\n",
       "    </tr>\n",
       "    <tr>\n",
       "      <th>Bungoma</th>\n",
       "      <td>1670570.0</td>\n",
       "    </tr>\n",
       "    <tr>\n",
       "      <th>Mandera</th>\n",
       "      <td>867457.0</td>\n",
       "    </tr>\n",
       "    <tr>\n",
       "      <th>Turkana</th>\n",
       "      <td>926976.0</td>\n",
       "    </tr>\n",
       "    <tr>\n",
       "      <th>Marsabit</th>\n",
       "      <td>459785.0</td>\n",
       "    </tr>\n",
       "    <tr>\n",
       "      <th>Nyeri</th>\n",
       "      <td>759164.0</td>\n",
       "    </tr>\n",
       "    <tr>\n",
       "      <th>Nairobi</th>\n",
       "      <td>4397073.0</td>\n",
       "    </tr>\n",
       "    <tr>\n",
       "      <th>Embu</th>\n",
       "      <td>NaN</td>\n",
       "    </tr>\n",
       "  </tbody>\n",
       "</table>\n",
       "</div>"
      ],
      "text/plain": [
       "          Population\n",
       "County              \n",
       "Nairobi    4397073.0\n",
       "Kisumu     1155574.0\n",
       "Mombasa    1208333.0\n",
       "Bungoma    1670570.0\n",
       "Mandera     867457.0\n",
       "Turkana     926976.0\n",
       "Marsabit    459785.0\n",
       "Nyeri       759164.0\n",
       "Nairobi    4397073.0\n",
       "Embu             NaN"
      ]
     },
     "execution_count": 50,
     "metadata": {},
     "output_type": "execute_result"
    }
   ],
   "source": [
    "#extract an entire row\n",
    "df2.loc[:,[\"Population\"]]"
   ]
  },
  {
   "cell_type": "markdown",
   "id": "93b9f62a",
   "metadata": {
    "tags": []
   },
   "source": [
    "####  using \"get_loc\" and \"index\" methods"
   ]
  },
  {
   "cell_type": "code",
   "execution_count": 51,
   "id": "0656ad66",
   "metadata": {},
   "outputs": [
    {
     "data": {
      "text/plain": [
       "2"
      ]
     },
     "execution_count": 51,
     "metadata": {},
     "output_type": "execute_result"
    }
   ],
   "source": [
    "df2.columns.get_loc(\"count\")"
   ]
  },
  {
   "cell_type": "code",
   "execution_count": 52,
   "id": "2a989935",
   "metadata": {},
   "outputs": [
    {
     "data": {
      "text/plain": [
       "(0, 2)"
      ]
     },
     "execution_count": 52,
     "metadata": {},
     "output_type": "execute_result"
    }
   ],
   "source": [
    "start=df2.columns.get_loc(\"Population\")\n",
    "end=df2.columns.get_loc(\"count\")\n",
    "start,end  "
   ]
  },
  {
   "cell_type": "code",
   "execution_count": 53,
   "id": "3bad10ad",
   "metadata": {},
   "outputs": [
    {
     "data": {
      "text/html": [
       "<div>\n",
       "<style scoped>\n",
       "    .dataframe tbody tr th:only-of-type {\n",
       "        vertical-align: middle;\n",
       "    }\n",
       "\n",
       "    .dataframe tbody tr th {\n",
       "        vertical-align: top;\n",
       "    }\n",
       "\n",
       "    .dataframe thead th {\n",
       "        text-align: right;\n",
       "    }\n",
       "</style>\n",
       "<table border=\"1\" class=\"dataframe\">\n",
       "  <thead>\n",
       "    <tr style=\"text-align: right;\">\n",
       "      <th></th>\n",
       "      <th>Population</th>\n",
       "      <th>Area</th>\n",
       "    </tr>\n",
       "    <tr>\n",
       "      <th>County</th>\n",
       "      <th></th>\n",
       "      <th></th>\n",
       "    </tr>\n",
       "  </thead>\n",
       "  <tbody>\n",
       "    <tr>\n",
       "      <th>Nairobi</th>\n",
       "      <td>4397073.0</td>\n",
       "      <td>704</td>\n",
       "    </tr>\n",
       "    <tr>\n",
       "      <th>Kisumu</th>\n",
       "      <td>1155574.0</td>\n",
       "      <td>2085</td>\n",
       "    </tr>\n",
       "    <tr>\n",
       "      <th>Mombasa</th>\n",
       "      <td>1208333.0</td>\n",
       "      <td>220</td>\n",
       "    </tr>\n",
       "    <tr>\n",
       "      <th>Bungoma</th>\n",
       "      <td>1670570.0</td>\n",
       "      <td>3024</td>\n",
       "    </tr>\n",
       "    <tr>\n",
       "      <th>Mandera</th>\n",
       "      <td>867457.0</td>\n",
       "      <td>25942</td>\n",
       "    </tr>\n",
       "    <tr>\n",
       "      <th>Turkana</th>\n",
       "      <td>926976.0</td>\n",
       "      <td>68233</td>\n",
       "    </tr>\n",
       "    <tr>\n",
       "      <th>Marsabit</th>\n",
       "      <td>459785.0</td>\n",
       "      <td>70944</td>\n",
       "    </tr>\n",
       "    <tr>\n",
       "      <th>Nyeri</th>\n",
       "      <td>759164.0</td>\n",
       "      <td>3325</td>\n",
       "    </tr>\n",
       "    <tr>\n",
       "      <th>Nairobi</th>\n",
       "      <td>4397073.0</td>\n",
       "      <td>704</td>\n",
       "    </tr>\n",
       "    <tr>\n",
       "      <th>Embu</th>\n",
       "      <td>NaN</td>\n",
       "      <td>2821</td>\n",
       "    </tr>\n",
       "  </tbody>\n",
       "</table>\n",
       "</div>"
      ],
      "text/plain": [
       "          Population   Area\n",
       "County                     \n",
       "Nairobi    4397073.0    704\n",
       "Kisumu     1155574.0   2085\n",
       "Mombasa    1208333.0    220\n",
       "Bungoma    1670570.0   3024\n",
       "Mandera     867457.0  25942\n",
       "Turkana     926976.0  68233\n",
       "Marsabit    459785.0  70944\n",
       "Nyeri       759164.0   3325\n",
       "Nairobi    4397073.0    704\n",
       "Embu             NaN   2821"
      ]
     },
     "execution_count": 53,
     "metadata": {},
     "output_type": "execute_result"
    }
   ],
   "source": [
    "df2.iloc[:, start:end]"
   ]
  },
  {
   "cell_type": "code",
   "execution_count": 54,
   "id": "16657c20",
   "metadata": {},
   "outputs": [
    {
     "data": {
      "text/plain": [
       "('Kisumu', 'Marsabit')"
      ]
     },
     "execution_count": 54,
     "metadata": {},
     "output_type": "execute_result"
    }
   ],
   "source": [
    "start=df2.index[1]\n",
    "end=df2.index[6]\n",
    "start,end"
   ]
  },
  {
   "cell_type": "code",
   "execution_count": 55,
   "id": "2f08b925",
   "metadata": {},
   "outputs": [
    {
     "data": {
      "text/html": [
       "<div>\n",
       "<style scoped>\n",
       "    .dataframe tbody tr th:only-of-type {\n",
       "        vertical-align: middle;\n",
       "    }\n",
       "\n",
       "    .dataframe tbody tr th {\n",
       "        vertical-align: top;\n",
       "    }\n",
       "\n",
       "    .dataframe thead th {\n",
       "        text-align: right;\n",
       "    }\n",
       "</style>\n",
       "<table border=\"1\" class=\"dataframe\">\n",
       "  <thead>\n",
       "    <tr style=\"text-align: right;\">\n",
       "      <th></th>\n",
       "      <th>Population</th>\n",
       "      <th>Area</th>\n",
       "    </tr>\n",
       "    <tr>\n",
       "      <th>County</th>\n",
       "      <th></th>\n",
       "      <th></th>\n",
       "    </tr>\n",
       "  </thead>\n",
       "  <tbody>\n",
       "    <tr>\n",
       "      <th>Kisumu</th>\n",
       "      <td>1155574.0</td>\n",
       "      <td>2085</td>\n",
       "    </tr>\n",
       "    <tr>\n",
       "      <th>Mombasa</th>\n",
       "      <td>1208333.0</td>\n",
       "      <td>220</td>\n",
       "    </tr>\n",
       "    <tr>\n",
       "      <th>Bungoma</th>\n",
       "      <td>1670570.0</td>\n",
       "      <td>3024</td>\n",
       "    </tr>\n",
       "    <tr>\n",
       "      <th>Mandera</th>\n",
       "      <td>867457.0</td>\n",
       "      <td>25942</td>\n",
       "    </tr>\n",
       "    <tr>\n",
       "      <th>Turkana</th>\n",
       "      <td>926976.0</td>\n",
       "      <td>68233</td>\n",
       "    </tr>\n",
       "    <tr>\n",
       "      <th>Marsabit</th>\n",
       "      <td>459785.0</td>\n",
       "      <td>70944</td>\n",
       "    </tr>\n",
       "  </tbody>\n",
       "</table>\n",
       "</div>"
      ],
      "text/plain": [
       "          Population   Area\n",
       "County                     \n",
       "Kisumu     1155574.0   2085\n",
       "Mombasa    1208333.0    220\n",
       "Bungoma    1670570.0   3024\n",
       "Mandera     867457.0  25942\n",
       "Turkana     926976.0  68233\n",
       "Marsabit    459785.0  70944"
      ]
     },
     "execution_count": 55,
     "metadata": {},
     "output_type": "execute_result"
    }
   ],
   "source": [
    "df2.loc[start:end,[\"Population\", \"Area\"]]"
   ]
  },
  {
   "cell_type": "markdown",
   "id": "0eaaca17",
   "metadata": {
    "jp-MarkdownHeadingCollapsed": true,
    "tags": []
   },
   "source": [
    "#### **Indexing by index**"
   ]
  },
  {
   "cell_type": "markdown",
   "id": "0448bb21",
   "metadata": {},
   "source": [
    "--We use data.iloc ,eloc uses standard python indexing i.e indexing from 0-10 will select from 0-9"
   ]
  },
  {
   "cell_type": "code",
   "execution_count": 56,
   "id": "c6cceca0",
   "metadata": {},
   "outputs": [
    {
     "data": {
      "text/html": [
       "<div>\n",
       "<style scoped>\n",
       "    .dataframe tbody tr th:only-of-type {\n",
       "        vertical-align: middle;\n",
       "    }\n",
       "\n",
       "    .dataframe tbody tr th {\n",
       "        vertical-align: top;\n",
       "    }\n",
       "\n",
       "    .dataframe thead th {\n",
       "        text-align: right;\n",
       "    }\n",
       "</style>\n",
       "<table border=\"1\" class=\"dataframe\">\n",
       "  <thead>\n",
       "    <tr style=\"text-align: right;\">\n",
       "      <th></th>\n",
       "      <th>Population</th>\n",
       "      <th>Area</th>\n",
       "      <th>count</th>\n",
       "    </tr>\n",
       "    <tr>\n",
       "      <th>County</th>\n",
       "      <th></th>\n",
       "      <th></th>\n",
       "      <th></th>\n",
       "    </tr>\n",
       "  </thead>\n",
       "  <tbody>\n",
       "    <tr>\n",
       "      <th>Mombasa</th>\n",
       "      <td>1208333.0</td>\n",
       "      <td>220</td>\n",
       "      <td>1208333.0</td>\n",
       "    </tr>\n",
       "    <tr>\n",
       "      <th>Bungoma</th>\n",
       "      <td>1670570.0</td>\n",
       "      <td>3024</td>\n",
       "      <td>1670570.0</td>\n",
       "    </tr>\n",
       "    <tr>\n",
       "      <th>Mandera</th>\n",
       "      <td>867457.0</td>\n",
       "      <td>25942</td>\n",
       "      <td>867457.0</td>\n",
       "    </tr>\n",
       "    <tr>\n",
       "      <th>Turkana</th>\n",
       "      <td>926976.0</td>\n",
       "      <td>68233</td>\n",
       "      <td>926976.0</td>\n",
       "    </tr>\n",
       "    <tr>\n",
       "      <th>Marsabit</th>\n",
       "      <td>459785.0</td>\n",
       "      <td>70944</td>\n",
       "      <td>459785.0</td>\n",
       "    </tr>\n",
       "  </tbody>\n",
       "</table>\n",
       "</div>"
      ],
      "text/plain": [
       "          Population   Area      count\n",
       "County                                \n",
       "Mombasa    1208333.0    220  1208333.0\n",
       "Bungoma    1670570.0   3024  1670570.0\n",
       "Mandera     867457.0  25942   867457.0\n",
       "Turkana     926976.0  68233   926976.0\n",
       "Marsabit    459785.0  70944   459785.0"
      ]
     },
     "execution_count": 56,
     "metadata": {},
     "output_type": "execute_result"
    }
   ],
   "source": [
    "#range of rows and columns\n",
    "df2.iloc[2:7,0:3]"
   ]
  },
  {
   "cell_type": "code",
   "execution_count": 57,
   "id": "96361d83",
   "metadata": {},
   "outputs": [
    {
     "data": {
      "text/html": [
       "<div>\n",
       "<style scoped>\n",
       "    .dataframe tbody tr th:only-of-type {\n",
       "        vertical-align: middle;\n",
       "    }\n",
       "\n",
       "    .dataframe tbody tr th {\n",
       "        vertical-align: top;\n",
       "    }\n",
       "\n",
       "    .dataframe thead th {\n",
       "        text-align: right;\n",
       "    }\n",
       "</style>\n",
       "<table border=\"1\" class=\"dataframe\">\n",
       "  <thead>\n",
       "    <tr style=\"text-align: right;\">\n",
       "      <th></th>\n",
       "      <th>Population</th>\n",
       "      <th>Area</th>\n",
       "      <th>count</th>\n",
       "    </tr>\n",
       "    <tr>\n",
       "      <th>County</th>\n",
       "      <th></th>\n",
       "      <th></th>\n",
       "      <th></th>\n",
       "    </tr>\n",
       "  </thead>\n",
       "  <tbody>\n",
       "    <tr>\n",
       "      <th>Mombasa</th>\n",
       "      <td>1208333.0</td>\n",
       "      <td>220</td>\n",
       "      <td>1208333.0</td>\n",
       "    </tr>\n",
       "    <tr>\n",
       "      <th>Turkana</th>\n",
       "      <td>926976.0</td>\n",
       "      <td>68233</td>\n",
       "      <td>926976.0</td>\n",
       "    </tr>\n",
       "    <tr>\n",
       "      <th>Nyeri</th>\n",
       "      <td>759164.0</td>\n",
       "      <td>3325</td>\n",
       "      <td>759164.0</td>\n",
       "    </tr>\n",
       "  </tbody>\n",
       "</table>\n",
       "</div>"
      ],
      "text/plain": [
       "         Population   Area      count\n",
       "County                               \n",
       "Mombasa   1208333.0    220  1208333.0\n",
       "Turkana    926976.0  68233   926976.0\n",
       "Nyeri      759164.0   3325   759164.0"
      ]
     },
     "execution_count": 57,
     "metadata": {},
     "output_type": "execute_result"
    }
   ],
   "source": [
    "df2.iloc[[2,5,7]]  #selecting rows with different index position"
   ]
  },
  {
   "cell_type": "code",
   "execution_count": 58,
   "id": "cc7d56f2",
   "metadata": {},
   "outputs": [
    {
     "data": {
      "text/html": [
       "<div>\n",
       "<style scoped>\n",
       "    .dataframe tbody tr th:only-of-type {\n",
       "        vertical-align: middle;\n",
       "    }\n",
       "\n",
       "    .dataframe tbody tr th {\n",
       "        vertical-align: top;\n",
       "    }\n",
       "\n",
       "    .dataframe thead th {\n",
       "        text-align: right;\n",
       "    }\n",
       "</style>\n",
       "<table border=\"1\" class=\"dataframe\">\n",
       "  <thead>\n",
       "    <tr style=\"text-align: right;\">\n",
       "      <th></th>\n",
       "      <th>Population</th>\n",
       "      <th>Area</th>\n",
       "      <th>count</th>\n",
       "    </tr>\n",
       "    <tr>\n",
       "      <th>County</th>\n",
       "      <th></th>\n",
       "      <th></th>\n",
       "      <th></th>\n",
       "    </tr>\n",
       "  </thead>\n",
       "  <tbody>\n",
       "    <tr>\n",
       "      <th>Mombasa</th>\n",
       "      <td>1208333.0</td>\n",
       "      <td>220</td>\n",
       "      <td>1208333.0</td>\n",
       "    </tr>\n",
       "    <tr>\n",
       "      <th>Turkana</th>\n",
       "      <td>926976.0</td>\n",
       "      <td>68233</td>\n",
       "      <td>926976.0</td>\n",
       "    </tr>\n",
       "    <tr>\n",
       "      <th>Nyeri</th>\n",
       "      <td>759164.0</td>\n",
       "      <td>3325</td>\n",
       "      <td>759164.0</td>\n",
       "    </tr>\n",
       "  </tbody>\n",
       "</table>\n",
       "</div>"
      ],
      "text/plain": [
       "         Population   Area      count\n",
       "County                               \n",
       "Mombasa   1208333.0    220  1208333.0\n",
       "Turkana    926976.0  68233   926976.0\n",
       "Nyeri      759164.0   3325   759164.0"
      ]
     },
     "execution_count": 58,
     "metadata": {},
     "output_type": "execute_result"
    }
   ],
   "source": [
    "rows=[2,5,7]\n",
    "df2.iloc[rows] #I pass a list of values to the .iloc indexer to reproduce the above DataFrame."
   ]
  },
  {
   "cell_type": "code",
   "execution_count": 59,
   "id": "12471a3e",
   "metadata": {},
   "outputs": [
    {
     "data": {
      "text/plain": [
       "2085"
      ]
     },
     "execution_count": 59,
     "metadata": {},
     "output_type": "execute_result"
    }
   ],
   "source": [
    "#a value\n",
    "df2.iloc[1,1]"
   ]
  },
  {
   "cell_type": "code",
   "execution_count": 60,
   "id": "0395fd60",
   "metadata": {},
   "outputs": [
    {
     "data": {
      "text/plain": [
       "4397073.0"
      ]
     },
     "execution_count": 60,
     "metadata": {},
     "output_type": "execute_result"
    }
   ],
   "source": [
    "df2.iloc[0,2]"
   ]
  },
  {
   "cell_type": "code",
   "execution_count": 61,
   "id": "5a331b63",
   "metadata": {},
   "outputs": [
    {
     "data": {
      "text/html": [
       "<div>\n",
       "<style scoped>\n",
       "    .dataframe tbody tr th:only-of-type {\n",
       "        vertical-align: middle;\n",
       "    }\n",
       "\n",
       "    .dataframe tbody tr th {\n",
       "        vertical-align: top;\n",
       "    }\n",
       "\n",
       "    .dataframe thead th {\n",
       "        text-align: right;\n",
       "    }\n",
       "</style>\n",
       "<table border=\"1\" class=\"dataframe\">\n",
       "  <thead>\n",
       "    <tr style=\"text-align: right;\">\n",
       "      <th></th>\n",
       "      <th>count</th>\n",
       "    </tr>\n",
       "    <tr>\n",
       "      <th>County</th>\n",
       "      <th></th>\n",
       "    </tr>\n",
       "  </thead>\n",
       "  <tbody>\n",
       "    <tr>\n",
       "      <th>Nairobi</th>\n",
       "      <td>4397073.0</td>\n",
       "    </tr>\n",
       "    <tr>\n",
       "      <th>Kisumu</th>\n",
       "      <td>1155574.0</td>\n",
       "    </tr>\n",
       "    <tr>\n",
       "      <th>Mombasa</th>\n",
       "      <td>1208333.0</td>\n",
       "    </tr>\n",
       "    <tr>\n",
       "      <th>Bungoma</th>\n",
       "      <td>1670570.0</td>\n",
       "    </tr>\n",
       "    <tr>\n",
       "      <th>Mandera</th>\n",
       "      <td>867457.0</td>\n",
       "    </tr>\n",
       "    <tr>\n",
       "      <th>Turkana</th>\n",
       "      <td>926976.0</td>\n",
       "    </tr>\n",
       "    <tr>\n",
       "      <th>Marsabit</th>\n",
       "      <td>459785.0</td>\n",
       "    </tr>\n",
       "    <tr>\n",
       "      <th>Nyeri</th>\n",
       "      <td>759164.0</td>\n",
       "    </tr>\n",
       "    <tr>\n",
       "      <th>Nairobi</th>\n",
       "      <td>4397073.0</td>\n",
       "    </tr>\n",
       "    <tr>\n",
       "      <th>Embu</th>\n",
       "      <td>NaN</td>\n",
       "    </tr>\n",
       "  </tbody>\n",
       "</table>\n",
       "</div>"
      ],
      "text/plain": [
       "              count\n",
       "County             \n",
       "Nairobi   4397073.0\n",
       "Kisumu    1155574.0\n",
       "Mombasa   1208333.0\n",
       "Bungoma   1670570.0\n",
       "Mandera    867457.0\n",
       "Turkana    926976.0\n",
       "Marsabit   459785.0\n",
       "Nyeri      759164.0\n",
       "Nairobi   4397073.0\n",
       "Embu            NaN"
      ]
     },
     "execution_count": 61,
     "metadata": {},
     "output_type": "execute_result"
    }
   ],
   "source": [
    "df2.iloc[0:,[2]]"
   ]
  },
  {
   "cell_type": "markdown",
   "id": "98ed08bf",
   "metadata": {
    "jp-MarkdownHeadingCollapsed": true,
    "tags": []
   },
   "source": [
    "#### **Different ways to select columns**\n",
    "\n",
    "Selecting a single column"
   ]
  },
  {
   "cell_type": "markdown",
   "id": "69765d8f",
   "metadata": {},
   "source": [
    "To select the first column 'Population', you can pass the column name as a string to the indexing operator."
   ]
  },
  {
   "cell_type": "code",
   "execution_count": 62,
   "id": "1023025c",
   "metadata": {},
   "outputs": [
    {
     "data": {
      "text/plain": [
       "County\n",
       "Nairobi     4397073.0\n",
       "Kisumu      1155574.0\n",
       "Mombasa     1208333.0\n",
       "Bungoma     1670570.0\n",
       "Mandera      867457.0\n",
       "Turkana      926976.0\n",
       "Marsabit     459785.0\n",
       "Nyeri        759164.0\n",
       "Nairobi     4397073.0\n",
       "Embu              NaN\n",
       "Name: Population, dtype: float64"
      ]
     },
     "execution_count": 62,
     "metadata": {},
     "output_type": "execute_result"
    }
   ],
   "source": [
    "df2[\"Population\"]"
   ]
  },
  {
   "cell_type": "code",
   "execution_count": 63,
   "id": "1e806e78",
   "metadata": {},
   "outputs": [
    {
     "data": {
      "text/html": [
       "<div>\n",
       "<style scoped>\n",
       "    .dataframe tbody tr th:only-of-type {\n",
       "        vertical-align: middle;\n",
       "    }\n",
       "\n",
       "    .dataframe tbody tr th {\n",
       "        vertical-align: top;\n",
       "    }\n",
       "\n",
       "    .dataframe thead th {\n",
       "        text-align: right;\n",
       "    }\n",
       "</style>\n",
       "<table border=\"1\" class=\"dataframe\">\n",
       "  <thead>\n",
       "    <tr style=\"text-align: right;\">\n",
       "      <th></th>\n",
       "      <th>Population</th>\n",
       "      <th>Area</th>\n",
       "      <th>count</th>\n",
       "    </tr>\n",
       "    <tr>\n",
       "      <th>County</th>\n",
       "      <th></th>\n",
       "      <th></th>\n",
       "      <th></th>\n",
       "    </tr>\n",
       "  </thead>\n",
       "  <tbody>\n",
       "    <tr>\n",
       "      <th>Nairobi</th>\n",
       "      <td>4397073.0</td>\n",
       "      <td>704</td>\n",
       "      <td>4397073.0</td>\n",
       "    </tr>\n",
       "    <tr>\n",
       "      <th>Kisumu</th>\n",
       "      <td>1155574.0</td>\n",
       "      <td>2085</td>\n",
       "      <td>1155574.0</td>\n",
       "    </tr>\n",
       "    <tr>\n",
       "      <th>Mombasa</th>\n",
       "      <td>1208333.0</td>\n",
       "      <td>220</td>\n",
       "      <td>1208333.0</td>\n",
       "    </tr>\n",
       "    <tr>\n",
       "      <th>Bungoma</th>\n",
       "      <td>1670570.0</td>\n",
       "      <td>3024</td>\n",
       "      <td>1670570.0</td>\n",
       "    </tr>\n",
       "    <tr>\n",
       "      <th>Mandera</th>\n",
       "      <td>867457.0</td>\n",
       "      <td>25942</td>\n",
       "      <td>867457.0</td>\n",
       "    </tr>\n",
       "    <tr>\n",
       "      <th>Turkana</th>\n",
       "      <td>926976.0</td>\n",
       "      <td>68233</td>\n",
       "      <td>926976.0</td>\n",
       "    </tr>\n",
       "    <tr>\n",
       "      <th>Marsabit</th>\n",
       "      <td>459785.0</td>\n",
       "      <td>70944</td>\n",
       "      <td>459785.0</td>\n",
       "    </tr>\n",
       "    <tr>\n",
       "      <th>Nyeri</th>\n",
       "      <td>759164.0</td>\n",
       "      <td>3325</td>\n",
       "      <td>759164.0</td>\n",
       "    </tr>\n",
       "    <tr>\n",
       "      <th>Nairobi</th>\n",
       "      <td>4397073.0</td>\n",
       "      <td>704</td>\n",
       "      <td>4397073.0</td>\n",
       "    </tr>\n",
       "    <tr>\n",
       "      <th>Embu</th>\n",
       "      <td>NaN</td>\n",
       "      <td>2821</td>\n",
       "      <td>NaN</td>\n",
       "    </tr>\n",
       "  </tbody>\n",
       "</table>\n",
       "</div>"
      ],
      "text/plain": [
       "          Population   Area      count\n",
       "County                                \n",
       "Nairobi    4397073.0    704  4397073.0\n",
       "Kisumu     1155574.0   2085  1155574.0\n",
       "Mombasa    1208333.0    220  1208333.0\n",
       "Bungoma    1670570.0   3024  1670570.0\n",
       "Mandera     867457.0  25942   867457.0\n",
       "Turkana     926976.0  68233   926976.0\n",
       "Marsabit    459785.0  70944   459785.0\n",
       "Nyeri       759164.0   3325   759164.0\n",
       "Nairobi    4397073.0    704  4397073.0\n",
       "Embu             NaN   2821        NaN"
      ]
     },
     "execution_count": 63,
     "metadata": {},
     "output_type": "execute_result"
    }
   ],
   "source": [
    "df2"
   ]
  },
  {
   "cell_type": "markdown",
   "id": "6c388dd3",
   "metadata": {},
   "source": [
    "**You can perform the same task using the dot operator.**"
   ]
  },
  {
   "cell_type": "code",
   "execution_count": 64,
   "id": "15217731",
   "metadata": {},
   "outputs": [
    {
     "data": {
      "text/plain": [
       "County\n",
       "Nairobi     4397073.0\n",
       "Kisumu      1155574.0\n",
       "Mombasa     1208333.0\n",
       "Bungoma     1670570.0\n",
       "Mandera      867457.0\n",
       "Turkana      926976.0\n",
       "Marsabit     459785.0\n",
       "Nyeri        759164.0\n",
       "Nairobi     4397073.0\n",
       "Embu              NaN\n",
       "Name: Population, dtype: float64"
      ]
     },
     "execution_count": 64,
     "metadata": {},
     "output_type": "execute_result"
    }
   ],
   "source": [
    "df2.Population"
   ]
  },
  {
   "cell_type": "markdown",
   "id": "c91d7e50",
   "metadata": {
    "jp-MarkdownHeadingCollapsed": true,
    "tags": []
   },
   "source": [
    "#### **Selecting multiple columns**"
   ]
  },
  {
   "cell_type": "markdown",
   "id": "4f32fdf9",
   "metadata": {},
   "source": [
    "To select multiple columns, you can pass a list of column names to the indexing operator."
   ]
  },
  {
   "cell_type": "code",
   "execution_count": 65,
   "id": "9038b464",
   "metadata": {},
   "outputs": [
    {
     "data": {
      "text/html": [
       "<div>\n",
       "<style scoped>\n",
       "    .dataframe tbody tr th:only-of-type {\n",
       "        vertical-align: middle;\n",
       "    }\n",
       "\n",
       "    .dataframe tbody tr th {\n",
       "        vertical-align: top;\n",
       "    }\n",
       "\n",
       "    .dataframe thead th {\n",
       "        text-align: right;\n",
       "    }\n",
       "</style>\n",
       "<table border=\"1\" class=\"dataframe\">\n",
       "  <thead>\n",
       "    <tr style=\"text-align: right;\">\n",
       "      <th></th>\n",
       "      <th>Area</th>\n",
       "      <th>count</th>\n",
       "    </tr>\n",
       "  </thead>\n",
       "  <tbody>\n",
       "    <tr>\n",
       "      <th>0</th>\n",
       "      <td>704</td>\n",
       "      <td>4397073.0</td>\n",
       "    </tr>\n",
       "    <tr>\n",
       "      <th>1</th>\n",
       "      <td>2085</td>\n",
       "      <td>1155574.0</td>\n",
       "    </tr>\n",
       "    <tr>\n",
       "      <th>2</th>\n",
       "      <td>220</td>\n",
       "      <td>1208333.0</td>\n",
       "    </tr>\n",
       "    <tr>\n",
       "      <th>3</th>\n",
       "      <td>3024</td>\n",
       "      <td>1670570.0</td>\n",
       "    </tr>\n",
       "    <tr>\n",
       "      <th>4</th>\n",
       "      <td>25942</td>\n",
       "      <td>867457.0</td>\n",
       "    </tr>\n",
       "    <tr>\n",
       "      <th>5</th>\n",
       "      <td>68233</td>\n",
       "      <td>926976.0</td>\n",
       "    </tr>\n",
       "    <tr>\n",
       "      <th>6</th>\n",
       "      <td>70944</td>\n",
       "      <td>459785.0</td>\n",
       "    </tr>\n",
       "    <tr>\n",
       "      <th>7</th>\n",
       "      <td>3325</td>\n",
       "      <td>759164.0</td>\n",
       "    </tr>\n",
       "    <tr>\n",
       "      <th>8</th>\n",
       "      <td>704</td>\n",
       "      <td>4397073.0</td>\n",
       "    </tr>\n",
       "    <tr>\n",
       "      <th>9</th>\n",
       "      <td>2821</td>\n",
       "      <td>NaN</td>\n",
       "    </tr>\n",
       "  </tbody>\n",
       "</table>\n",
       "</div>"
      ],
      "text/plain": [
       "    Area      count\n",
       "0    704  4397073.0\n",
       "1   2085  1155574.0\n",
       "2    220  1208333.0\n",
       "3   3024  1670570.0\n",
       "4  25942   867457.0\n",
       "5  68233   926976.0\n",
       "6  70944   459785.0\n",
       "7   3325   759164.0\n",
       "8    704  4397073.0\n",
       "9   2821        NaN"
      ]
     },
     "execution_count": 65,
     "metadata": {},
     "output_type": "execute_result"
    }
   ],
   "source": [
    "df[[\"Area\", \"count\"]]"
   ]
  },
  {
   "cell_type": "code",
   "execution_count": 66,
   "id": "0d609005",
   "metadata": {},
   "outputs": [
    {
     "data": {
      "text/html": [
       "<div>\n",
       "<style scoped>\n",
       "    .dataframe tbody tr th:only-of-type {\n",
       "        vertical-align: middle;\n",
       "    }\n",
       "\n",
       "    .dataframe tbody tr th {\n",
       "        vertical-align: top;\n",
       "    }\n",
       "\n",
       "    .dataframe thead th {\n",
       "        text-align: right;\n",
       "    }\n",
       "</style>\n",
       "<table border=\"1\" class=\"dataframe\">\n",
       "  <thead>\n",
       "    <tr style=\"text-align: right;\">\n",
       "      <th></th>\n",
       "      <th>count</th>\n",
       "      <th>Population</th>\n",
       "      <th>Area</th>\n",
       "    </tr>\n",
       "    <tr>\n",
       "      <th>County</th>\n",
       "      <th></th>\n",
       "      <th></th>\n",
       "      <th></th>\n",
       "    </tr>\n",
       "  </thead>\n",
       "  <tbody>\n",
       "    <tr>\n",
       "      <th>Nairobi</th>\n",
       "      <td>4397073.0</td>\n",
       "      <td>4397073.0</td>\n",
       "      <td>704</td>\n",
       "    </tr>\n",
       "    <tr>\n",
       "      <th>Kisumu</th>\n",
       "      <td>1155574.0</td>\n",
       "      <td>1155574.0</td>\n",
       "      <td>2085</td>\n",
       "    </tr>\n",
       "    <tr>\n",
       "      <th>Mombasa</th>\n",
       "      <td>1208333.0</td>\n",
       "      <td>1208333.0</td>\n",
       "      <td>220</td>\n",
       "    </tr>\n",
       "    <tr>\n",
       "      <th>Bungoma</th>\n",
       "      <td>1670570.0</td>\n",
       "      <td>1670570.0</td>\n",
       "      <td>3024</td>\n",
       "    </tr>\n",
       "    <tr>\n",
       "      <th>Mandera</th>\n",
       "      <td>867457.0</td>\n",
       "      <td>867457.0</td>\n",
       "      <td>25942</td>\n",
       "    </tr>\n",
       "    <tr>\n",
       "      <th>Turkana</th>\n",
       "      <td>926976.0</td>\n",
       "      <td>926976.0</td>\n",
       "      <td>68233</td>\n",
       "    </tr>\n",
       "    <tr>\n",
       "      <th>Marsabit</th>\n",
       "      <td>459785.0</td>\n",
       "      <td>459785.0</td>\n",
       "      <td>70944</td>\n",
       "    </tr>\n",
       "    <tr>\n",
       "      <th>Nyeri</th>\n",
       "      <td>759164.0</td>\n",
       "      <td>759164.0</td>\n",
       "      <td>3325</td>\n",
       "    </tr>\n",
       "    <tr>\n",
       "      <th>Nairobi</th>\n",
       "      <td>4397073.0</td>\n",
       "      <td>4397073.0</td>\n",
       "      <td>704</td>\n",
       "    </tr>\n",
       "    <tr>\n",
       "      <th>Embu</th>\n",
       "      <td>NaN</td>\n",
       "      <td>NaN</td>\n",
       "      <td>2821</td>\n",
       "    </tr>\n",
       "  </tbody>\n",
       "</table>\n",
       "</div>"
      ],
      "text/plain": [
       "              count  Population   Area\n",
       "County                                \n",
       "Nairobi   4397073.0   4397073.0    704\n",
       "Kisumu    1155574.0   1155574.0   2085\n",
       "Mombasa   1208333.0   1208333.0    220\n",
       "Bungoma   1670570.0   1670570.0   3024\n",
       "Mandera    867457.0    867457.0  25942\n",
       "Turkana    926976.0    926976.0  68233\n",
       "Marsabit   459785.0    459785.0  70944\n",
       "Nyeri      759164.0    759164.0   3325\n",
       "Nairobi   4397073.0   4397073.0    704\n",
       "Embu            NaN         NaN   2821"
      ]
     },
     "execution_count": 66,
     "metadata": {},
     "output_type": "execute_result"
    }
   ],
   "source": [
    "#selecting multiple columns\n",
    "df2[[\"count\",\"Population\", \"Area\"]]"
   ]
  },
  {
   "cell_type": "markdown",
   "id": "3100f4a6",
   "metadata": {},
   "source": [
    "Alternatively, you can assign all your columns to a list variable and pass that variable to the indexing operator."
   ]
  },
  {
   "cell_type": "code",
   "execution_count": 67,
   "id": "7573486f",
   "metadata": {},
   "outputs": [
    {
     "name": "stdout",
     "output_type": "stream",
     "text": [
      "              count  Population   Area\n",
      "County                                \n",
      "Nairobi   4397073.0   4397073.0    704\n",
      "Kisumu    1155574.0   1155574.0   2085\n",
      "Mombasa   1208333.0   1208333.0    220\n",
      "Bungoma   1670570.0   1670570.0   3024\n",
      "Mandera    867457.0    867457.0  25942\n",
      "Turkana    926976.0    926976.0  68233\n",
      "Marsabit   459785.0    459785.0  70944\n",
      "Nyeri      759164.0    759164.0   3325\n",
      "Nairobi   4397073.0   4397073.0    704\n",
      "Embu            NaN         NaN   2821\n"
     ]
    }
   ],
   "source": [
    "columns=[\"count\",\"Population\", \"Area\"]\n",
    "selected_columns=df2[columns]\n",
    "print(selected_columns)\n"
   ]
  },
  {
   "cell_type": "markdown",
   "id": "49d7751f",
   "metadata": {
    "jp-MarkdownHeadingCollapsed": true,
    "tags": []
   },
   "source": [
    "#### **Selecting columns using \"select_dtypes\" and \"filter\" methods**\n",
    "\n",
    "First, check the kind of data stored in each column"
   ]
  },
  {
   "cell_type": "code",
   "execution_count": 68,
   "id": "7bc47b33",
   "metadata": {},
   "outputs": [
    {
     "data": {
      "text/plain": [
       "float64    2\n",
       "int64      1\n",
       "dtype: int64"
      ]
     },
     "execution_count": 68,
     "metadata": {},
     "output_type": "execute_result"
    }
   ],
   "source": [
    "df2.dtypes.value_counts()"
   ]
  },
  {
   "cell_type": "markdown",
   "id": "fc1fa3da",
   "metadata": {},
   "source": [
    "Secting the columns with the float data"
   ]
  },
  {
   "cell_type": "code",
   "execution_count": 69,
   "id": "327a4ce1",
   "metadata": {},
   "outputs": [
    {
     "data": {
      "text/html": [
       "<div>\n",
       "<style scoped>\n",
       "    .dataframe tbody tr th:only-of-type {\n",
       "        vertical-align: middle;\n",
       "    }\n",
       "\n",
       "    .dataframe tbody tr th {\n",
       "        vertical-align: top;\n",
       "    }\n",
       "\n",
       "    .dataframe thead th {\n",
       "        text-align: right;\n",
       "    }\n",
       "</style>\n",
       "<table border=\"1\" class=\"dataframe\">\n",
       "  <thead>\n",
       "    <tr style=\"text-align: right;\">\n",
       "      <th></th>\n",
       "      <th>Population</th>\n",
       "      <th>count</th>\n",
       "    </tr>\n",
       "  </thead>\n",
       "  <tbody>\n",
       "    <tr>\n",
       "      <th>0</th>\n",
       "      <td>4397073.0</td>\n",
       "      <td>4397073.0</td>\n",
       "    </tr>\n",
       "    <tr>\n",
       "      <th>1</th>\n",
       "      <td>1155574.0</td>\n",
       "      <td>1155574.0</td>\n",
       "    </tr>\n",
       "    <tr>\n",
       "      <th>2</th>\n",
       "      <td>1208333.0</td>\n",
       "      <td>1208333.0</td>\n",
       "    </tr>\n",
       "    <tr>\n",
       "      <th>3</th>\n",
       "      <td>1670570.0</td>\n",
       "      <td>1670570.0</td>\n",
       "    </tr>\n",
       "    <tr>\n",
       "      <th>4</th>\n",
       "      <td>867457.0</td>\n",
       "      <td>867457.0</td>\n",
       "    </tr>\n",
       "    <tr>\n",
       "      <th>5</th>\n",
       "      <td>926976.0</td>\n",
       "      <td>926976.0</td>\n",
       "    </tr>\n",
       "    <tr>\n",
       "      <th>6</th>\n",
       "      <td>459785.0</td>\n",
       "      <td>459785.0</td>\n",
       "    </tr>\n",
       "    <tr>\n",
       "      <th>7</th>\n",
       "      <td>759164.0</td>\n",
       "      <td>759164.0</td>\n",
       "    </tr>\n",
       "    <tr>\n",
       "      <th>8</th>\n",
       "      <td>4397073.0</td>\n",
       "      <td>4397073.0</td>\n",
       "    </tr>\n",
       "    <tr>\n",
       "      <th>9</th>\n",
       "      <td>NaN</td>\n",
       "      <td>NaN</td>\n",
       "    </tr>\n",
       "  </tbody>\n",
       "</table>\n",
       "</div>"
      ],
      "text/plain": [
       "   Population      count\n",
       "0   4397073.0  4397073.0\n",
       "1   1155574.0  1155574.0\n",
       "2   1208333.0  1208333.0\n",
       "3   1670570.0  1670570.0\n",
       "4    867457.0   867457.0\n",
       "5    926976.0   926976.0\n",
       "6    459785.0   459785.0\n",
       "7    759164.0   759164.0\n",
       "8   4397073.0  4397073.0\n",
       "9         NaN        NaN"
      ]
     },
     "execution_count": 69,
     "metadata": {},
     "output_type": "execute_result"
    }
   ],
   "source": [
    "df.select_dtypes(include=[\"float\"])"
   ]
  },
  {
   "cell_type": "markdown",
   "id": "9a40b342",
   "metadata": {},
   "source": [
    "You can also use the filter method to select columns based on the column names or index labels"
   ]
  },
  {
   "cell_type": "code",
   "execution_count": 70,
   "id": "4cde8ba7",
   "metadata": {},
   "outputs": [
    {
     "data": {
      "text/html": [
       "<div>\n",
       "<style scoped>\n",
       "    .dataframe tbody tr th:only-of-type {\n",
       "        vertical-align: middle;\n",
       "    }\n",
       "\n",
       "    .dataframe tbody tr th {\n",
       "        vertical-align: top;\n",
       "    }\n",
       "\n",
       "    .dataframe thead th {\n",
       "        text-align: right;\n",
       "    }\n",
       "</style>\n",
       "<table border=\"1\" class=\"dataframe\">\n",
       "  <thead>\n",
       "    <tr style=\"text-align: right;\">\n",
       "      <th></th>\n",
       "      <th>Population</th>\n",
       "    </tr>\n",
       "  </thead>\n",
       "  <tbody>\n",
       "    <tr>\n",
       "      <th>0</th>\n",
       "      <td>4397073.0</td>\n",
       "    </tr>\n",
       "    <tr>\n",
       "      <th>1</th>\n",
       "      <td>1155574.0</td>\n",
       "    </tr>\n",
       "    <tr>\n",
       "      <th>2</th>\n",
       "      <td>1208333.0</td>\n",
       "    </tr>\n",
       "    <tr>\n",
       "      <th>3</th>\n",
       "      <td>1670570.0</td>\n",
       "    </tr>\n",
       "    <tr>\n",
       "      <th>4</th>\n",
       "      <td>867457.0</td>\n",
       "    </tr>\n",
       "    <tr>\n",
       "      <th>5</th>\n",
       "      <td>926976.0</td>\n",
       "    </tr>\n",
       "    <tr>\n",
       "      <th>6</th>\n",
       "      <td>459785.0</td>\n",
       "    </tr>\n",
       "    <tr>\n",
       "      <th>7</th>\n",
       "      <td>759164.0</td>\n",
       "    </tr>\n",
       "    <tr>\n",
       "      <th>8</th>\n",
       "      <td>4397073.0</td>\n",
       "    </tr>\n",
       "    <tr>\n",
       "      <th>9</th>\n",
       "      <td>NaN</td>\n",
       "    </tr>\n",
       "  </tbody>\n",
       "</table>\n",
       "</div>"
      ],
      "text/plain": [
       "   Population\n",
       "0   4397073.0\n",
       "1   1155574.0\n",
       "2   1208333.0\n",
       "3   1670570.0\n",
       "4    867457.0\n",
       "5    926976.0\n",
       "6    459785.0\n",
       "7    759164.0\n",
       "8   4397073.0\n",
       "9         NaN"
      ]
     },
     "execution_count": 70,
     "metadata": {},
     "output_type": "execute_result"
    }
   ],
   "source": [
    "df.filter(like=\"pu\")"
   ]
  },
  {
   "cell_type": "markdown",
   "id": "f3afac33",
   "metadata": {},
   "source": [
    "In example above, the filter method returns columns that contain the exact string 'pu'. \n",
    "The like parameter takes a string as an input and returns columns that has the string."
   ]
  },
  {
   "cell_type": "markdown",
   "id": "10f64ee5",
   "metadata": {
    "tags": []
   },
   "source": [
    "### 4. **Methods to rename columns in Pandas**"
   ]
  },
  {
   "cell_type": "markdown",
   "id": "9910e94e",
   "metadata": {
    "tags": []
   },
   "source": [
    "#### **Method I : rename() function**"
   ]
  },
  {
   "cell_type": "markdown",
   "id": "9d0bf566",
   "metadata": {},
   "source": [
    "Suppose you want to replace column name population with Population_size and count to count_n0. In the code below it will create a new dataframe named df3 having new column names and same values."
   ]
  },
  {
   "cell_type": "code",
   "execution_count": 71,
   "id": "7cd20b23",
   "metadata": {},
   "outputs": [
    {
     "data": {
      "text/html": [
       "<div>\n",
       "<style scoped>\n",
       "    .dataframe tbody tr th:only-of-type {\n",
       "        vertical-align: middle;\n",
       "    }\n",
       "\n",
       "    .dataframe tbody tr th {\n",
       "        vertical-align: top;\n",
       "    }\n",
       "\n",
       "    .dataframe thead th {\n",
       "        text-align: right;\n",
       "    }\n",
       "</style>\n",
       "<table border=\"1\" class=\"dataframe\">\n",
       "  <thead>\n",
       "    <tr style=\"text-align: right;\">\n",
       "      <th></th>\n",
       "      <th>Population_size</th>\n",
       "      <th>Area</th>\n",
       "      <th>count_no</th>\n",
       "    </tr>\n",
       "    <tr>\n",
       "      <th>County</th>\n",
       "      <th></th>\n",
       "      <th></th>\n",
       "      <th></th>\n",
       "    </tr>\n",
       "  </thead>\n",
       "  <tbody>\n",
       "    <tr>\n",
       "      <th>Nairobi</th>\n",
       "      <td>4397073.0</td>\n",
       "      <td>704</td>\n",
       "      <td>4397073.0</td>\n",
       "    </tr>\n",
       "    <tr>\n",
       "      <th>Kisumu</th>\n",
       "      <td>1155574.0</td>\n",
       "      <td>2085</td>\n",
       "      <td>1155574.0</td>\n",
       "    </tr>\n",
       "    <tr>\n",
       "      <th>Mombasa</th>\n",
       "      <td>1208333.0</td>\n",
       "      <td>220</td>\n",
       "      <td>1208333.0</td>\n",
       "    </tr>\n",
       "    <tr>\n",
       "      <th>Bungoma</th>\n",
       "      <td>1670570.0</td>\n",
       "      <td>3024</td>\n",
       "      <td>1670570.0</td>\n",
       "    </tr>\n",
       "    <tr>\n",
       "      <th>Mandera</th>\n",
       "      <td>867457.0</td>\n",
       "      <td>25942</td>\n",
       "      <td>867457.0</td>\n",
       "    </tr>\n",
       "    <tr>\n",
       "      <th>Turkana</th>\n",
       "      <td>926976.0</td>\n",
       "      <td>68233</td>\n",
       "      <td>926976.0</td>\n",
       "    </tr>\n",
       "    <tr>\n",
       "      <th>Marsabit</th>\n",
       "      <td>459785.0</td>\n",
       "      <td>70944</td>\n",
       "      <td>459785.0</td>\n",
       "    </tr>\n",
       "    <tr>\n",
       "      <th>Nyeri</th>\n",
       "      <td>759164.0</td>\n",
       "      <td>3325</td>\n",
       "      <td>759164.0</td>\n",
       "    </tr>\n",
       "    <tr>\n",
       "      <th>Nairobi</th>\n",
       "      <td>4397073.0</td>\n",
       "      <td>704</td>\n",
       "      <td>4397073.0</td>\n",
       "    </tr>\n",
       "    <tr>\n",
       "      <th>Embu</th>\n",
       "      <td>NaN</td>\n",
       "      <td>2821</td>\n",
       "      <td>NaN</td>\n",
       "    </tr>\n",
       "  </tbody>\n",
       "</table>\n",
       "</div>"
      ],
      "text/plain": [
       "          Population_size   Area   count_no\n",
       "County                                     \n",
       "Nairobi         4397073.0    704  4397073.0\n",
       "Kisumu          1155574.0   2085  1155574.0\n",
       "Mombasa         1208333.0    220  1208333.0\n",
       "Bungoma         1670570.0   3024  1670570.0\n",
       "Mandera          867457.0  25942   867457.0\n",
       "Turkana          926976.0  68233   926976.0\n",
       "Marsabit         459785.0  70944   459785.0\n",
       "Nyeri            759164.0   3325   759164.0\n",
       "Nairobi         4397073.0    704  4397073.0\n",
       "Embu                  NaN   2821        NaN"
      ]
     },
     "execution_count": 71,
     "metadata": {},
     "output_type": "execute_result"
    }
   ],
   "source": [
    "df3=df2.rename(columns={\"Population\":\"Population_size\", \"count\":\"count_no\"})\n",
    "df3"
   ]
  },
  {
   "cell_type": "markdown",
   "id": "b1057fc5",
   "metadata": {},
   "source": [
    "If you print df2, the variables will still be named with the original names, to make the changes we include a\n",
    "parameter `inplace=True`"
   ]
  },
  {
   "cell_type": "code",
   "execution_count": 72,
   "id": "e04cb094",
   "metadata": {},
   "outputs": [
    {
     "data": {
      "text/html": [
       "<div>\n",
       "<style scoped>\n",
       "    .dataframe tbody tr th:only-of-type {\n",
       "        vertical-align: middle;\n",
       "    }\n",
       "\n",
       "    .dataframe tbody tr th {\n",
       "        vertical-align: top;\n",
       "    }\n",
       "\n",
       "    .dataframe thead th {\n",
       "        text-align: right;\n",
       "    }\n",
       "</style>\n",
       "<table border=\"1\" class=\"dataframe\">\n",
       "  <thead>\n",
       "    <tr style=\"text-align: right;\">\n",
       "      <th></th>\n",
       "      <th>Population_size</th>\n",
       "      <th>Area</th>\n",
       "      <th>count_no</th>\n",
       "    </tr>\n",
       "    <tr>\n",
       "      <th>County</th>\n",
       "      <th></th>\n",
       "      <th></th>\n",
       "      <th></th>\n",
       "    </tr>\n",
       "  </thead>\n",
       "  <tbody>\n",
       "    <tr>\n",
       "      <th>Nairobi</th>\n",
       "      <td>4397073.0</td>\n",
       "      <td>704</td>\n",
       "      <td>4397073.0</td>\n",
       "    </tr>\n",
       "    <tr>\n",
       "      <th>Kisumu</th>\n",
       "      <td>1155574.0</td>\n",
       "      <td>2085</td>\n",
       "      <td>1155574.0</td>\n",
       "    </tr>\n",
       "    <tr>\n",
       "      <th>Mombasa</th>\n",
       "      <td>1208333.0</td>\n",
       "      <td>220</td>\n",
       "      <td>1208333.0</td>\n",
       "    </tr>\n",
       "    <tr>\n",
       "      <th>Bungoma</th>\n",
       "      <td>1670570.0</td>\n",
       "      <td>3024</td>\n",
       "      <td>1670570.0</td>\n",
       "    </tr>\n",
       "    <tr>\n",
       "      <th>Mandera</th>\n",
       "      <td>867457.0</td>\n",
       "      <td>25942</td>\n",
       "      <td>867457.0</td>\n",
       "    </tr>\n",
       "    <tr>\n",
       "      <th>Turkana</th>\n",
       "      <td>926976.0</td>\n",
       "      <td>68233</td>\n",
       "      <td>926976.0</td>\n",
       "    </tr>\n",
       "    <tr>\n",
       "      <th>Marsabit</th>\n",
       "      <td>459785.0</td>\n",
       "      <td>70944</td>\n",
       "      <td>459785.0</td>\n",
       "    </tr>\n",
       "    <tr>\n",
       "      <th>Nyeri</th>\n",
       "      <td>759164.0</td>\n",
       "      <td>3325</td>\n",
       "      <td>759164.0</td>\n",
       "    </tr>\n",
       "    <tr>\n",
       "      <th>Nairobi</th>\n",
       "      <td>4397073.0</td>\n",
       "      <td>704</td>\n",
       "      <td>4397073.0</td>\n",
       "    </tr>\n",
       "    <tr>\n",
       "      <th>Embu</th>\n",
       "      <td>NaN</td>\n",
       "      <td>2821</td>\n",
       "      <td>NaN</td>\n",
       "    </tr>\n",
       "  </tbody>\n",
       "</table>\n",
       "</div>"
      ],
      "text/plain": [
       "          Population_size   Area   count_no\n",
       "County                                     \n",
       "Nairobi         4397073.0    704  4397073.0\n",
       "Kisumu          1155574.0   2085  1155574.0\n",
       "Mombasa         1208333.0    220  1208333.0\n",
       "Bungoma         1670570.0   3024  1670570.0\n",
       "Mandera          867457.0  25942   867457.0\n",
       "Turkana          926976.0  68233   926976.0\n",
       "Marsabit         459785.0  70944   459785.0\n",
       "Nyeri            759164.0   3325   759164.0\n",
       "Nairobi         4397073.0    704  4397073.0\n",
       "Embu                  NaN   2821        NaN"
      ]
     },
     "execution_count": 72,
     "metadata": {},
     "output_type": "execute_result"
    }
   ],
   "source": [
    "df2.rename(columns={\"Population\":\"Population_size\", \"count\":\"count_no\"},inplace=True)\n",
    "df2"
   ]
  },
  {
   "cell_type": "markdown",
   "id": "441eed4a",
   "metadata": {
    "jp-MarkdownHeadingCollapsed": true,
    "tags": []
   },
   "source": [
    "#### Method II : dataframe.columns = [list]"
   ]
  },
  {
   "cell_type": "markdown",
   "id": "14377ccc",
   "metadata": {},
   "source": [
    "You can also assign the list of new column names to df.columns. See the example below. We are renaming Population and count columns here."
   ]
  },
  {
   "cell_type": "code",
   "execution_count": 73,
   "id": "3ae08334-8dd8-4c75-942a-9739e17f1c33",
   "metadata": {},
   "outputs": [
    {
     "data": {
      "text/html": [
       "<div>\n",
       "<style scoped>\n",
       "    .dataframe tbody tr th:only-of-type {\n",
       "        vertical-align: middle;\n",
       "    }\n",
       "\n",
       "    .dataframe tbody tr th {\n",
       "        vertical-align: top;\n",
       "    }\n",
       "\n",
       "    .dataframe thead th {\n",
       "        text-align: right;\n",
       "    }\n",
       "</style>\n",
       "<table border=\"1\" class=\"dataframe\">\n",
       "  <thead>\n",
       "    <tr style=\"text-align: right;\">\n",
       "      <th></th>\n",
       "      <th>County</th>\n",
       "      <th>Population</th>\n",
       "      <th>Area</th>\n",
       "      <th>count</th>\n",
       "    </tr>\n",
       "  </thead>\n",
       "  <tbody>\n",
       "    <tr>\n",
       "      <th>0</th>\n",
       "      <td>Nairobi</td>\n",
       "      <td>4397073.0</td>\n",
       "      <td>704</td>\n",
       "      <td>4397073.0</td>\n",
       "    </tr>\n",
       "    <tr>\n",
       "      <th>1</th>\n",
       "      <td>Kisumu</td>\n",
       "      <td>1155574.0</td>\n",
       "      <td>2085</td>\n",
       "      <td>1155574.0</td>\n",
       "    </tr>\n",
       "    <tr>\n",
       "      <th>2</th>\n",
       "      <td>Mombasa</td>\n",
       "      <td>1208333.0</td>\n",
       "      <td>220</td>\n",
       "      <td>1208333.0</td>\n",
       "    </tr>\n",
       "    <tr>\n",
       "      <th>3</th>\n",
       "      <td>Bungoma</td>\n",
       "      <td>1670570.0</td>\n",
       "      <td>3024</td>\n",
       "      <td>1670570.0</td>\n",
       "    </tr>\n",
       "    <tr>\n",
       "      <th>4</th>\n",
       "      <td>Mandera</td>\n",
       "      <td>867457.0</td>\n",
       "      <td>25942</td>\n",
       "      <td>867457.0</td>\n",
       "    </tr>\n",
       "    <tr>\n",
       "      <th>5</th>\n",
       "      <td>Turkana</td>\n",
       "      <td>926976.0</td>\n",
       "      <td>68233</td>\n",
       "      <td>926976.0</td>\n",
       "    </tr>\n",
       "    <tr>\n",
       "      <th>6</th>\n",
       "      <td>Marsabit</td>\n",
       "      <td>459785.0</td>\n",
       "      <td>70944</td>\n",
       "      <td>459785.0</td>\n",
       "    </tr>\n",
       "    <tr>\n",
       "      <th>7</th>\n",
       "      <td>Nyeri</td>\n",
       "      <td>759164.0</td>\n",
       "      <td>3325</td>\n",
       "      <td>759164.0</td>\n",
       "    </tr>\n",
       "    <tr>\n",
       "      <th>8</th>\n",
       "      <td>Nairobi</td>\n",
       "      <td>4397073.0</td>\n",
       "      <td>704</td>\n",
       "      <td>4397073.0</td>\n",
       "    </tr>\n",
       "    <tr>\n",
       "      <th>9</th>\n",
       "      <td>Embu</td>\n",
       "      <td>NaN</td>\n",
       "      <td>2821</td>\n",
       "      <td>NaN</td>\n",
       "    </tr>\n",
       "  </tbody>\n",
       "</table>\n",
       "</div>"
      ],
      "text/plain": [
       "     County  Population   Area      count\n",
       "0   Nairobi   4397073.0    704  4397073.0\n",
       "1    Kisumu   1155574.0   2085  1155574.0\n",
       "2   Mombasa   1208333.0    220  1208333.0\n",
       "3   Bungoma   1670570.0   3024  1670570.0\n",
       "4   Mandera    867457.0  25942   867457.0\n",
       "5   Turkana    926976.0  68233   926976.0\n",
       "6  Marsabit    459785.0  70944   459785.0\n",
       "7     Nyeri    759164.0   3325   759164.0\n",
       "8   Nairobi   4397073.0    704  4397073.0\n",
       "9      Embu         NaN   2821        NaN"
      ]
     },
     "execution_count": 73,
     "metadata": {},
     "output_type": "execute_result"
    }
   ],
   "source": [
    "import pandas as pd\n",
    "df2=pd.read_csv((\"df.csv\"))\n",
    "#df2.set_index(\"County\",inplace=True)\n",
    "df2"
   ]
  },
  {
   "cell_type": "code",
   "execution_count": 74,
   "id": "b4cd3c20",
   "metadata": {},
   "outputs": [
    {
     "data": {
      "text/plain": [
       "Index(['County', 'Population', 'Area', 'count'], dtype='object')"
      ]
     },
     "execution_count": 74,
     "metadata": {},
     "output_type": "execute_result"
    }
   ],
   "source": [
    "df2.columns"
   ]
  },
  {
   "cell_type": "code",
   "execution_count": 75,
   "id": "d1ce2287",
   "metadata": {},
   "outputs": [
    {
     "data": {
      "text/html": [
       "<div>\n",
       "<style scoped>\n",
       "    .dataframe tbody tr th:only-of-type {\n",
       "        vertical-align: middle;\n",
       "    }\n",
       "\n",
       "    .dataframe tbody tr th {\n",
       "        vertical-align: top;\n",
       "    }\n",
       "\n",
       "    .dataframe thead th {\n",
       "        text-align: right;\n",
       "    }\n",
       "</style>\n",
       "<table border=\"1\" class=\"dataframe\">\n",
       "  <thead>\n",
       "    <tr style=\"text-align: right;\">\n",
       "      <th></th>\n",
       "      <th>county2</th>\n",
       "      <th>population</th>\n",
       "      <th>area</th>\n",
       "      <th>count</th>\n",
       "    </tr>\n",
       "  </thead>\n",
       "  <tbody>\n",
       "    <tr>\n",
       "      <th>0</th>\n",
       "      <td>Nairobi</td>\n",
       "      <td>4397073.0</td>\n",
       "      <td>704</td>\n",
       "      <td>4397073.0</td>\n",
       "    </tr>\n",
       "    <tr>\n",
       "      <th>1</th>\n",
       "      <td>Kisumu</td>\n",
       "      <td>1155574.0</td>\n",
       "      <td>2085</td>\n",
       "      <td>1155574.0</td>\n",
       "    </tr>\n",
       "    <tr>\n",
       "      <th>2</th>\n",
       "      <td>Mombasa</td>\n",
       "      <td>1208333.0</td>\n",
       "      <td>220</td>\n",
       "      <td>1208333.0</td>\n",
       "    </tr>\n",
       "    <tr>\n",
       "      <th>3</th>\n",
       "      <td>Bungoma</td>\n",
       "      <td>1670570.0</td>\n",
       "      <td>3024</td>\n",
       "      <td>1670570.0</td>\n",
       "    </tr>\n",
       "    <tr>\n",
       "      <th>4</th>\n",
       "      <td>Mandera</td>\n",
       "      <td>867457.0</td>\n",
       "      <td>25942</td>\n",
       "      <td>867457.0</td>\n",
       "    </tr>\n",
       "    <tr>\n",
       "      <th>5</th>\n",
       "      <td>Turkana</td>\n",
       "      <td>926976.0</td>\n",
       "      <td>68233</td>\n",
       "      <td>926976.0</td>\n",
       "    </tr>\n",
       "    <tr>\n",
       "      <th>6</th>\n",
       "      <td>Marsabit</td>\n",
       "      <td>459785.0</td>\n",
       "      <td>70944</td>\n",
       "      <td>459785.0</td>\n",
       "    </tr>\n",
       "    <tr>\n",
       "      <th>7</th>\n",
       "      <td>Nyeri</td>\n",
       "      <td>759164.0</td>\n",
       "      <td>3325</td>\n",
       "      <td>759164.0</td>\n",
       "    </tr>\n",
       "    <tr>\n",
       "      <th>8</th>\n",
       "      <td>Nairobi</td>\n",
       "      <td>4397073.0</td>\n",
       "      <td>704</td>\n",
       "      <td>4397073.0</td>\n",
       "    </tr>\n",
       "    <tr>\n",
       "      <th>9</th>\n",
       "      <td>Embu</td>\n",
       "      <td>NaN</td>\n",
       "      <td>2821</td>\n",
       "      <td>NaN</td>\n",
       "    </tr>\n",
       "  </tbody>\n",
       "</table>\n",
       "</div>"
      ],
      "text/plain": [
       "    county2  population   area      count\n",
       "0   Nairobi   4397073.0    704  4397073.0\n",
       "1    Kisumu   1155574.0   2085  1155574.0\n",
       "2   Mombasa   1208333.0    220  1208333.0\n",
       "3   Bungoma   1670570.0   3024  1670570.0\n",
       "4   Mandera    867457.0  25942   867457.0\n",
       "5   Turkana    926976.0  68233   926976.0\n",
       "6  Marsabit    459785.0  70944   459785.0\n",
       "7     Nyeri    759164.0   3325   759164.0\n",
       "8   Nairobi   4397073.0    704  4397073.0\n",
       "9      Embu         NaN   2821        NaN"
      ]
     },
     "execution_count": 75,
     "metadata": {},
     "output_type": "execute_result"
    }
   ],
   "source": [
    "df2.columns=[\"county2\",\"population\",\"area\",\"count\"]\n",
    "df2"
   ]
  },
  {
   "cell_type": "markdown",
   "id": "c1783ac9",
   "metadata": {
    "jp-MarkdownHeadingCollapsed": true,
    "tags": []
   },
   "source": [
    "#### Rename columns having pattern"
   ]
  },
  {
   "cell_type": "markdown",
   "id": "5b6492cc",
   "metadata": {},
   "source": [
    "**Changing the order of your columns**"
   ]
  },
  {
   "cell_type": "markdown",
   "id": "d602c380",
   "metadata": {},
   "source": [
    "Suppose you want to rename columns having underscore '_' in their names. You want to get rid of underscore"
   ]
  },
  {
   "cell_type": "code",
   "execution_count": 76,
   "id": "dfd56f68",
   "metadata": {},
   "outputs": [
    {
     "data": {
      "text/html": [
       "<div>\n",
       "<style scoped>\n",
       "    .dataframe tbody tr th:only-of-type {\n",
       "        vertical-align: middle;\n",
       "    }\n",
       "\n",
       "    .dataframe tbody tr th {\n",
       "        vertical-align: top;\n",
       "    }\n",
       "\n",
       "    .dataframe thead th {\n",
       "        text-align: right;\n",
       "    }\n",
       "</style>\n",
       "<table border=\"1\" class=\"dataframe\">\n",
       "  <thead>\n",
       "    <tr style=\"text-align: right;\">\n",
       "      <th></th>\n",
       "      <th>county2</th>\n",
       "      <th>population</th>\n",
       "      <th>area</th>\n",
       "      <th>count</th>\n",
       "    </tr>\n",
       "  </thead>\n",
       "  <tbody>\n",
       "    <tr>\n",
       "      <th>0</th>\n",
       "      <td>Nairobi</td>\n",
       "      <td>4397073.0</td>\n",
       "      <td>704</td>\n",
       "      <td>4397073.0</td>\n",
       "    </tr>\n",
       "    <tr>\n",
       "      <th>1</th>\n",
       "      <td>Kisumu</td>\n",
       "      <td>1155574.0</td>\n",
       "      <td>2085</td>\n",
       "      <td>1155574.0</td>\n",
       "    </tr>\n",
       "    <tr>\n",
       "      <th>2</th>\n",
       "      <td>Mombasa</td>\n",
       "      <td>1208333.0</td>\n",
       "      <td>220</td>\n",
       "      <td>1208333.0</td>\n",
       "    </tr>\n",
       "    <tr>\n",
       "      <th>3</th>\n",
       "      <td>Bungoma</td>\n",
       "      <td>1670570.0</td>\n",
       "      <td>3024</td>\n",
       "      <td>1670570.0</td>\n",
       "    </tr>\n",
       "    <tr>\n",
       "      <th>4</th>\n",
       "      <td>Mandera</td>\n",
       "      <td>867457.0</td>\n",
       "      <td>25942</td>\n",
       "      <td>867457.0</td>\n",
       "    </tr>\n",
       "    <tr>\n",
       "      <th>5</th>\n",
       "      <td>Turkana</td>\n",
       "      <td>926976.0</td>\n",
       "      <td>68233</td>\n",
       "      <td>926976.0</td>\n",
       "    </tr>\n",
       "    <tr>\n",
       "      <th>6</th>\n",
       "      <td>Marsabit</td>\n",
       "      <td>459785.0</td>\n",
       "      <td>70944</td>\n",
       "      <td>459785.0</td>\n",
       "    </tr>\n",
       "    <tr>\n",
       "      <th>7</th>\n",
       "      <td>Nyeri</td>\n",
       "      <td>759164.0</td>\n",
       "      <td>3325</td>\n",
       "      <td>759164.0</td>\n",
       "    </tr>\n",
       "    <tr>\n",
       "      <th>8</th>\n",
       "      <td>Nairobi</td>\n",
       "      <td>4397073.0</td>\n",
       "      <td>704</td>\n",
       "      <td>4397073.0</td>\n",
       "    </tr>\n",
       "    <tr>\n",
       "      <th>9</th>\n",
       "      <td>Embu</td>\n",
       "      <td>NaN</td>\n",
       "      <td>2821</td>\n",
       "      <td>NaN</td>\n",
       "    </tr>\n",
       "  </tbody>\n",
       "</table>\n",
       "</div>"
      ],
      "text/plain": [
       "    county2  population   area      count\n",
       "0   Nairobi   4397073.0    704  4397073.0\n",
       "1    Kisumu   1155574.0   2085  1155574.0\n",
       "2   Mombasa   1208333.0    220  1208333.0\n",
       "3   Bungoma   1670570.0   3024  1670570.0\n",
       "4   Mandera    867457.0  25942   867457.0\n",
       "5   Turkana    926976.0  68233   926976.0\n",
       "6  Marsabit    459785.0  70944   459785.0\n",
       "7     Nyeri    759164.0   3325   759164.0\n",
       "8   Nairobi   4397073.0    704  4397073.0\n",
       "9      Embu         NaN   2821        NaN"
      ]
     },
     "execution_count": 76,
     "metadata": {},
     "output_type": "execute_result"
    }
   ],
   "source": [
    "df2.columns = df2.columns.str.replace('_' , \"\")\n",
    "df2"
   ]
  },
  {
   "cell_type": "markdown",
   "id": "b2a105b2",
   "metadata": {},
   "source": [
    "New column names are as follows. You can observe no underscore in the column names."
   ]
  },
  {
   "cell_type": "code",
   "execution_count": 77,
   "id": "7c6ae4eb",
   "metadata": {},
   "outputs": [
    {
     "name": "stdout",
     "output_type": "stream",
     "text": [
      "    Area      count  Population    County\n",
      "0    704  4397073.0   4397073.0   Nairobi\n",
      "1   2085  1155574.0   1155574.0    Kisumu\n",
      "2    220  1208333.0   1208333.0   Mombasa\n",
      "3   3024  1670570.0   1670570.0   Bungoma\n",
      "4  25942   867457.0    867457.0   Mandera\n",
      "5  68233   926976.0    926976.0   Turkana\n",
      "6  70944   459785.0    459785.0  Marsabit\n",
      "7   3325   759164.0    759164.0     Nyeri\n",
      "8    704  4397073.0   4397073.0   Nairobi\n",
      "9   2821        NaN         NaN      Embu\n"
     ]
    }
   ],
   "source": [
    "group1=[\"Area\",\"count\"]\n",
    "group2=[\"Population\",\"County\"]\n",
    "new_cols=group1+group2\n",
    "set(df.columns)==set(new_cols)\n",
    "dft_2=df[new_cols]\n",
    "print(dft_2)"
   ]
  },
  {
   "cell_type": "markdown",
   "id": "7d30d8bc",
   "metadata": {
    "jp-MarkdownHeadingCollapsed": true,
    "tags": []
   },
   "source": [
    "### **5. How to get summary statistics of your data**"
   ]
  },
  {
   "cell_type": "code",
   "execution_count": 78,
   "id": "8734cfcf",
   "metadata": {},
   "outputs": [
    {
     "data": {
      "text/plain": [
       "1760222.7777777778"
      ]
     },
     "execution_count": 78,
     "metadata": {},
     "output_type": "execute_result"
    }
   ],
   "source": [
    "df2[\"population\"].mean()"
   ]
  },
  {
   "cell_type": "code",
   "execution_count": 79,
   "id": "0074b030",
   "metadata": {},
   "outputs": [
    {
     "data": {
      "text/plain": [
       "0    4397073.0\n",
       "Name: population, dtype: float64"
      ]
     },
     "execution_count": 79,
     "metadata": {},
     "output_type": "execute_result"
    }
   ],
   "source": [
    "df2[\"population\"].mode()"
   ]
  },
  {
   "cell_type": "code",
   "execution_count": 80,
   "id": "74c2bb1f",
   "metadata": {},
   "outputs": [
    {
     "data": {
      "text/plain": [
       "1155574.0"
      ]
     },
     "execution_count": 80,
     "metadata": {},
     "output_type": "execute_result"
    }
   ],
   "source": [
    "df2[\"population\"].median()"
   ]
  },
  {
   "cell_type": "code",
   "execution_count": 81,
   "id": "d010954d",
   "metadata": {},
   "outputs": [
    {
     "data": {
      "text/plain": [
       "4397073.0"
      ]
     },
     "execution_count": 81,
     "metadata": {},
     "output_type": "execute_result"
    }
   ],
   "source": [
    "#max value\n",
    "df2[\"population\"].max()"
   ]
  },
  {
   "cell_type": "code",
   "execution_count": 82,
   "id": "065d994d",
   "metadata": {},
   "outputs": [
    {
     "data": {
      "text/plain": [
       "459785.0"
      ]
     },
     "execution_count": 82,
     "metadata": {},
     "output_type": "execute_result"
    }
   ],
   "source": [
    "#minimum value\n",
    "df2[\"population\"].min()"
   ]
  },
  {
   "cell_type": "code",
   "execution_count": 83,
   "id": "a2b70e07",
   "metadata": {},
   "outputs": [
    {
     "data": {
      "text/plain": [
       "0"
      ]
     },
     "execution_count": 83,
     "metadata": {},
     "output_type": "execute_result"
    }
   ],
   "source": [
    "#gives position of most maximum number\n",
    "df2[\"population\"].argmax()"
   ]
  },
  {
   "cell_type": "code",
   "execution_count": 84,
   "id": "7797224a",
   "metadata": {},
   "outputs": [
    {
     "data": {
      "text/plain": [
       "6"
      ]
     },
     "execution_count": 84,
     "metadata": {},
     "output_type": "execute_result"
    }
   ],
   "source": [
    "#gives position of most minimum number\n",
    "df2[\"population\"].argmin()"
   ]
  },
  {
   "cell_type": "code",
   "execution_count": 85,
   "id": "75c56686",
   "metadata": {},
   "outputs": [
    {
     "data": {
      "text/plain": [
       "count    9.000000e+00\n",
       "mean     1.760223e+06\n",
       "std      1.531697e+06\n",
       "min      4.597850e+05\n",
       "25%      8.674570e+05\n",
       "50%      1.155574e+06\n",
       "75%      1.670570e+06\n",
       "max      4.397073e+06\n",
       "Name: population, dtype: float64"
      ]
     },
     "execution_count": 85,
     "metadata": {},
     "output_type": "execute_result"
    }
   ],
   "source": [
    "#summary stats of  population\n",
    "df2[\"population\"].describe()"
   ]
  },
  {
   "cell_type": "code",
   "execution_count": 86,
   "id": "4a870f3e",
   "metadata": {},
   "outputs": [
    {
     "data": {
      "text/html": [
       "<div>\n",
       "<style scoped>\n",
       "    .dataframe tbody tr th:only-of-type {\n",
       "        vertical-align: middle;\n",
       "    }\n",
       "\n",
       "    .dataframe tbody tr th {\n",
       "        vertical-align: top;\n",
       "    }\n",
       "\n",
       "    .dataframe thead th {\n",
       "        text-align: right;\n",
       "    }\n",
       "</style>\n",
       "<table border=\"1\" class=\"dataframe\">\n",
       "  <thead>\n",
       "    <tr style=\"text-align: right;\">\n",
       "      <th></th>\n",
       "      <th>population</th>\n",
       "      <th>area</th>\n",
       "      <th>count</th>\n",
       "    </tr>\n",
       "  </thead>\n",
       "  <tbody>\n",
       "    <tr>\n",
       "      <th>count</th>\n",
       "      <td>9.000000e+00</td>\n",
       "      <td>10.000000</td>\n",
       "      <td>9.000000e+00</td>\n",
       "    </tr>\n",
       "    <tr>\n",
       "      <th>mean</th>\n",
       "      <td>1.760223e+06</td>\n",
       "      <td>17800.200000</td>\n",
       "      <td>1.760223e+06</td>\n",
       "    </tr>\n",
       "    <tr>\n",
       "      <th>std</th>\n",
       "      <td>1.531697e+06</td>\n",
       "      <td>28336.969742</td>\n",
       "      <td>1.531697e+06</td>\n",
       "    </tr>\n",
       "    <tr>\n",
       "      <th>min</th>\n",
       "      <td>4.597850e+05</td>\n",
       "      <td>220.000000</td>\n",
       "      <td>4.597850e+05</td>\n",
       "    </tr>\n",
       "    <tr>\n",
       "      <th>25%</th>\n",
       "      <td>8.674570e+05</td>\n",
       "      <td>1049.250000</td>\n",
       "      <td>8.674570e+05</td>\n",
       "    </tr>\n",
       "    <tr>\n",
       "      <th>50%</th>\n",
       "      <td>1.155574e+06</td>\n",
       "      <td>2922.500000</td>\n",
       "      <td>1.155574e+06</td>\n",
       "    </tr>\n",
       "    <tr>\n",
       "      <th>75%</th>\n",
       "      <td>1.670570e+06</td>\n",
       "      <td>20287.750000</td>\n",
       "      <td>1.670570e+06</td>\n",
       "    </tr>\n",
       "    <tr>\n",
       "      <th>max</th>\n",
       "      <td>4.397073e+06</td>\n",
       "      <td>70944.000000</td>\n",
       "      <td>4.397073e+06</td>\n",
       "    </tr>\n",
       "  </tbody>\n",
       "</table>\n",
       "</div>"
      ],
      "text/plain": [
       "         population          area         count\n",
       "count  9.000000e+00     10.000000  9.000000e+00\n",
       "mean   1.760223e+06  17800.200000  1.760223e+06\n",
       "std    1.531697e+06  28336.969742  1.531697e+06\n",
       "min    4.597850e+05    220.000000  4.597850e+05\n",
       "25%    8.674570e+05   1049.250000  8.674570e+05\n",
       "50%    1.155574e+06   2922.500000  1.155574e+06\n",
       "75%    1.670570e+06  20287.750000  1.670570e+06\n",
       "max    4.397073e+06  70944.000000  4.397073e+06"
      ]
     },
     "execution_count": 86,
     "metadata": {},
     "output_type": "execute_result"
    }
   ],
   "source": [
    "#gives summary statistics\n",
    "df2.describe()"
   ]
  },
  {
   "cell_type": "code",
   "execution_count": 87,
   "id": "143edeed",
   "metadata": {},
   "outputs": [
    {
     "data": {
      "text/plain": [
       "1531697.0285356513"
      ]
     },
     "execution_count": 87,
     "metadata": {},
     "output_type": "execute_result"
    }
   ],
   "source": [
    "#gives standard deviation\n",
    "df2[\"population\"].std()"
   ]
  },
  {
   "cell_type": "markdown",
   "id": "688f6149",
   "metadata": {},
   "source": [
    "- To get summary stats of categorical data we include a parameter \"O\"(uppercase O)."
   ]
  },
  {
   "cell_type": "code",
   "execution_count": 88,
   "id": "bb44b1b5",
   "metadata": {},
   "outputs": [
    {
     "data": {
      "text/html": [
       "<div>\n",
       "<style scoped>\n",
       "    .dataframe tbody tr th:only-of-type {\n",
       "        vertical-align: middle;\n",
       "    }\n",
       "\n",
       "    .dataframe tbody tr th {\n",
       "        vertical-align: top;\n",
       "    }\n",
       "\n",
       "    .dataframe thead th {\n",
       "        text-align: right;\n",
       "    }\n",
       "</style>\n",
       "<table border=\"1\" class=\"dataframe\">\n",
       "  <thead>\n",
       "    <tr style=\"text-align: right;\">\n",
       "      <th></th>\n",
       "      <th>county2</th>\n",
       "    </tr>\n",
       "  </thead>\n",
       "  <tbody>\n",
       "    <tr>\n",
       "      <th>count</th>\n",
       "      <td>10</td>\n",
       "    </tr>\n",
       "    <tr>\n",
       "      <th>unique</th>\n",
       "      <td>9</td>\n",
       "    </tr>\n",
       "    <tr>\n",
       "      <th>top</th>\n",
       "      <td>Nairobi</td>\n",
       "    </tr>\n",
       "    <tr>\n",
       "      <th>freq</th>\n",
       "      <td>2</td>\n",
       "    </tr>\n",
       "  </tbody>\n",
       "</table>\n",
       "</div>"
      ],
      "text/plain": [
       "        county2\n",
       "count        10\n",
       "unique        9\n",
       "top     Nairobi\n",
       "freq          2"
      ]
     },
     "execution_count": 88,
     "metadata": {},
     "output_type": "execute_result"
    }
   ],
   "source": [
    "#summary stats of categorical data\n",
    "df2.describe(include =\"O\")"
   ]
  },
  {
   "cell_type": "code",
   "execution_count": 89,
   "id": "ce9e3081-ce69-4310-845a-cdcd7f1552db",
   "metadata": {},
   "outputs": [
    {
     "data": {
      "text/html": [
       "<div>\n",
       "<style scoped>\n",
       "    .dataframe tbody tr th:only-of-type {\n",
       "        vertical-align: middle;\n",
       "    }\n",
       "\n",
       "    .dataframe tbody tr th {\n",
       "        vertical-align: top;\n",
       "    }\n",
       "\n",
       "    .dataframe thead th {\n",
       "        text-align: right;\n",
       "    }\n",
       "</style>\n",
       "<table border=\"1\" class=\"dataframe\">\n",
       "  <thead>\n",
       "    <tr style=\"text-align: right;\">\n",
       "      <th></th>\n",
       "      <th>county2</th>\n",
       "      <th>population</th>\n",
       "      <th>area</th>\n",
       "      <th>count</th>\n",
       "    </tr>\n",
       "  </thead>\n",
       "  <tbody>\n",
       "    <tr>\n",
       "      <th>0</th>\n",
       "      <td>Nairobi</td>\n",
       "      <td>4397073.0</td>\n",
       "      <td>704</td>\n",
       "      <td>4397073.0</td>\n",
       "    </tr>\n",
       "    <tr>\n",
       "      <th>1</th>\n",
       "      <td>Kisumu</td>\n",
       "      <td>1155574.0</td>\n",
       "      <td>2085</td>\n",
       "      <td>1155574.0</td>\n",
       "    </tr>\n",
       "    <tr>\n",
       "      <th>2</th>\n",
       "      <td>Mombasa</td>\n",
       "      <td>1208333.0</td>\n",
       "      <td>220</td>\n",
       "      <td>1208333.0</td>\n",
       "    </tr>\n",
       "    <tr>\n",
       "      <th>3</th>\n",
       "      <td>Bungoma</td>\n",
       "      <td>1670570.0</td>\n",
       "      <td>3024</td>\n",
       "      <td>1670570.0</td>\n",
       "    </tr>\n",
       "    <tr>\n",
       "      <th>4</th>\n",
       "      <td>Mandera</td>\n",
       "      <td>867457.0</td>\n",
       "      <td>25942</td>\n",
       "      <td>867457.0</td>\n",
       "    </tr>\n",
       "    <tr>\n",
       "      <th>5</th>\n",
       "      <td>Turkana</td>\n",
       "      <td>926976.0</td>\n",
       "      <td>68233</td>\n",
       "      <td>926976.0</td>\n",
       "    </tr>\n",
       "    <tr>\n",
       "      <th>6</th>\n",
       "      <td>Marsabit</td>\n",
       "      <td>459785.0</td>\n",
       "      <td>70944</td>\n",
       "      <td>459785.0</td>\n",
       "    </tr>\n",
       "    <tr>\n",
       "      <th>7</th>\n",
       "      <td>Nyeri</td>\n",
       "      <td>759164.0</td>\n",
       "      <td>3325</td>\n",
       "      <td>759164.0</td>\n",
       "    </tr>\n",
       "    <tr>\n",
       "      <th>8</th>\n",
       "      <td>Nairobi</td>\n",
       "      <td>4397073.0</td>\n",
       "      <td>704</td>\n",
       "      <td>4397073.0</td>\n",
       "    </tr>\n",
       "    <tr>\n",
       "      <th>9</th>\n",
       "      <td>Embu</td>\n",
       "      <td>NaN</td>\n",
       "      <td>2821</td>\n",
       "      <td>NaN</td>\n",
       "    </tr>\n",
       "  </tbody>\n",
       "</table>\n",
       "</div>"
      ],
      "text/plain": [
       "    county2  population   area      count\n",
       "0   Nairobi   4397073.0    704  4397073.0\n",
       "1    Kisumu   1155574.0   2085  1155574.0\n",
       "2   Mombasa   1208333.0    220  1208333.0\n",
       "3   Bungoma   1670570.0   3024  1670570.0\n",
       "4   Mandera    867457.0  25942   867457.0\n",
       "5   Turkana    926976.0  68233   926976.0\n",
       "6  Marsabit    459785.0  70944   459785.0\n",
       "7     Nyeri    759164.0   3325   759164.0\n",
       "8   Nairobi   4397073.0    704  4397073.0\n",
       "9      Embu         NaN   2821        NaN"
      ]
     },
     "execution_count": 89,
     "metadata": {},
     "output_type": "execute_result"
    }
   ],
   "source": [
    "df2"
   ]
  },
  {
   "cell_type": "code",
   "execution_count": 90,
   "id": "2e33b179",
   "metadata": {},
   "outputs": [
    {
     "data": {
      "text/plain": [
       "dtype('O')"
      ]
     },
     "execution_count": 90,
     "metadata": {},
     "output_type": "execute_result"
    }
   ],
   "source": [
    "df2[\"county2\"].dtype"
   ]
  },
  {
   "cell_type": "code",
   "execution_count": 91,
   "id": "b545319d",
   "metadata": {},
   "outputs": [
    {
     "data": {
      "text/plain": [
       "array(['Nairobi', 'Kisumu', 'Mombasa', 'Bungoma', 'Mandera', 'Turkana',\n",
       "       'Marsabit', 'Nyeri', 'Embu'], dtype=object)"
      ]
     },
     "execution_count": 91,
     "metadata": {},
     "output_type": "execute_result"
    }
   ],
   "source": [
    "#to check unique/specific levels in a column\n",
    "\n",
    "df2[\"county2\"].unique()"
   ]
  },
  {
   "cell_type": "code",
   "execution_count": 92,
   "id": "807350cb",
   "metadata": {},
   "outputs": [
    {
     "data": {
      "text/plain": [
       "9"
      ]
     },
     "execution_count": 92,
     "metadata": {},
     "output_type": "execute_result"
    }
   ],
   "source": [
    "#count of unique levels\n",
    "df2[\"county2\"].nunique()"
   ]
  },
  {
   "cell_type": "code",
   "execution_count": 93,
   "id": "091b5239",
   "metadata": {},
   "outputs": [
    {
     "data": {
      "text/plain": [
       "9"
      ]
     },
     "execution_count": 93,
     "metadata": {},
     "output_type": "execute_result"
    }
   ],
   "source": [
    "len(df2[\"county2\"].unique())"
   ]
  },
  {
   "cell_type": "markdown",
   "id": "555737ef",
   "metadata": {
    "jp-MarkdownHeadingCollapsed": true,
    "tags": []
   },
   "source": [
    "### **6. CHECKING FOR MISSING VALUES IN OUR DATA**"
   ]
  },
  {
   "cell_type": "markdown",
   "id": "0b24762f",
   "metadata": {},
   "source": [
    "- we use \n",
    "     - data.isnull() or\n",
    "     - data.isna().\n",
    "\n",
    "- It returns a data frame filled with bools,depending on whether the missing values are present in the data or not."
   ]
  },
  {
   "cell_type": "code",
   "execution_count": 94,
   "id": "596f6ae2",
   "metadata": {},
   "outputs": [
    {
     "data": {
      "text/html": [
       "<div>\n",
       "<style scoped>\n",
       "    .dataframe tbody tr th:only-of-type {\n",
       "        vertical-align: middle;\n",
       "    }\n",
       "\n",
       "    .dataframe tbody tr th {\n",
       "        vertical-align: top;\n",
       "    }\n",
       "\n",
       "    .dataframe thead th {\n",
       "        text-align: right;\n",
       "    }\n",
       "</style>\n",
       "<table border=\"1\" class=\"dataframe\">\n",
       "  <thead>\n",
       "    <tr style=\"text-align: right;\">\n",
       "      <th></th>\n",
       "      <th>county2</th>\n",
       "      <th>population</th>\n",
       "      <th>area</th>\n",
       "      <th>count</th>\n",
       "    </tr>\n",
       "  </thead>\n",
       "  <tbody>\n",
       "    <tr>\n",
       "      <th>0</th>\n",
       "      <td>False</td>\n",
       "      <td>False</td>\n",
       "      <td>False</td>\n",
       "      <td>False</td>\n",
       "    </tr>\n",
       "    <tr>\n",
       "      <th>1</th>\n",
       "      <td>False</td>\n",
       "      <td>False</td>\n",
       "      <td>False</td>\n",
       "      <td>False</td>\n",
       "    </tr>\n",
       "    <tr>\n",
       "      <th>2</th>\n",
       "      <td>False</td>\n",
       "      <td>False</td>\n",
       "      <td>False</td>\n",
       "      <td>False</td>\n",
       "    </tr>\n",
       "    <tr>\n",
       "      <th>3</th>\n",
       "      <td>False</td>\n",
       "      <td>False</td>\n",
       "      <td>False</td>\n",
       "      <td>False</td>\n",
       "    </tr>\n",
       "    <tr>\n",
       "      <th>4</th>\n",
       "      <td>False</td>\n",
       "      <td>False</td>\n",
       "      <td>False</td>\n",
       "      <td>False</td>\n",
       "    </tr>\n",
       "    <tr>\n",
       "      <th>5</th>\n",
       "      <td>False</td>\n",
       "      <td>False</td>\n",
       "      <td>False</td>\n",
       "      <td>False</td>\n",
       "    </tr>\n",
       "    <tr>\n",
       "      <th>6</th>\n",
       "      <td>False</td>\n",
       "      <td>False</td>\n",
       "      <td>False</td>\n",
       "      <td>False</td>\n",
       "    </tr>\n",
       "    <tr>\n",
       "      <th>7</th>\n",
       "      <td>False</td>\n",
       "      <td>False</td>\n",
       "      <td>False</td>\n",
       "      <td>False</td>\n",
       "    </tr>\n",
       "    <tr>\n",
       "      <th>8</th>\n",
       "      <td>False</td>\n",
       "      <td>False</td>\n",
       "      <td>False</td>\n",
       "      <td>False</td>\n",
       "    </tr>\n",
       "    <tr>\n",
       "      <th>9</th>\n",
       "      <td>False</td>\n",
       "      <td>True</td>\n",
       "      <td>False</td>\n",
       "      <td>True</td>\n",
       "    </tr>\n",
       "  </tbody>\n",
       "</table>\n",
       "</div>"
      ],
      "text/plain": [
       "   county2  population   area  count\n",
       "0    False       False  False  False\n",
       "1    False       False  False  False\n",
       "2    False       False  False  False\n",
       "3    False       False  False  False\n",
       "4    False       False  False  False\n",
       "5    False       False  False  False\n",
       "6    False       False  False  False\n",
       "7    False       False  False  False\n",
       "8    False       False  False  False\n",
       "9    False        True  False   True"
      ]
     },
     "execution_count": 94,
     "metadata": {},
     "output_type": "execute_result"
    }
   ],
   "source": [
    "df2.isna()"
   ]
  },
  {
   "cell_type": "markdown",
   "id": "8e2bd034",
   "metadata": {},
   "source": [
    " We need to check at some functions to summarise the missing values statistics when dealing with large dataset\n",
    "\n",
    "- data.isnull().all()--Returns true if all values in a column are null else returns false\n",
    "\n",
    "- data.isnull().sum()--gives sum of missing values in each column\n",
    "\n",
    "- data.isnull().any()--checks if there exists any null values in individual columns and returns true if they exist and false if they dont"
   ]
  },
  {
   "cell_type": "code",
   "execution_count": 95,
   "id": "be99f3df",
   "metadata": {},
   "outputs": [
    {
     "data": {
      "text/plain": [
       "county2       False\n",
       "population     True\n",
       "area          False\n",
       "count          True\n",
       "dtype: bool"
      ]
     },
     "execution_count": 95,
     "metadata": {},
     "output_type": "execute_result"
    }
   ],
   "source": [
    "df2.isnull().any()"
   ]
  },
  {
   "cell_type": "code",
   "execution_count": 96,
   "id": "fdf121a6",
   "metadata": {},
   "outputs": [
    {
     "data": {
      "text/plain": [
       "county2       False\n",
       "population    False\n",
       "area          False\n",
       "count         False\n",
       "dtype: bool"
      ]
     },
     "execution_count": 96,
     "metadata": {},
     "output_type": "execute_result"
    }
   ],
   "source": [
    "df2.isna().all()"
   ]
  },
  {
   "cell_type": "code",
   "execution_count": 97,
   "id": "96d3b7a5",
   "metadata": {},
   "outputs": [
    {
     "data": {
      "text/plain": [
       "county2       0\n",
       "population    1\n",
       "area          0\n",
       "count         1\n",
       "dtype: int64"
      ]
     },
     "execution_count": 97,
     "metadata": {},
     "output_type": "execute_result"
    }
   ],
   "source": [
    "df2.isna().sum()"
   ]
  },
  {
   "cell_type": "markdown",
   "id": "f6961503",
   "metadata": {
    "jp-MarkdownHeadingCollapsed": true,
    "tags": []
   },
   "source": [
    "### **DEALING WITH MISSING VALUES**"
   ]
  },
  {
   "cell_type": "markdown",
   "id": "713fceb2",
   "metadata": {},
   "source": [
    "- By  default inplace = false.\n",
    "\n",
    "- inplace = true it means that the changes will be done to the original data\n",
    "\n",
    "- By default i.e inplace = false you have to assign it to something a new variable or the same variable just to hold the changes.\n",
    "\n",
    "- If inplace=true the data is modified in place and the original data is updated.\n",
    "\n",
    "- The **include** parameter is commonly used in the following methods:\n",
    "\n",
    "a. **dropna()**\n",
    "\n",
    "b. **drop_duplicates()**\n",
    "\n",
    "c. **fillna()**"
   ]
  },
  {
   "cell_type": "markdown",
   "id": "fc801327",
   "metadata": {},
   "source": [
    "**a)Dropna**"
   ]
  },
  {
   "cell_type": "code",
   "execution_count": 98,
   "id": "5e8a5c80",
   "metadata": {},
   "outputs": [
    {
     "data": {
      "text/html": [
       "<div>\n",
       "<style scoped>\n",
       "    .dataframe tbody tr th:only-of-type {\n",
       "        vertical-align: middle;\n",
       "    }\n",
       "\n",
       "    .dataframe tbody tr th {\n",
       "        vertical-align: top;\n",
       "    }\n",
       "\n",
       "    .dataframe thead th {\n",
       "        text-align: right;\n",
       "    }\n",
       "</style>\n",
       "<table border=\"1\" class=\"dataframe\">\n",
       "  <thead>\n",
       "    <tr style=\"text-align: right;\">\n",
       "      <th></th>\n",
       "      <th>county2</th>\n",
       "      <th>population</th>\n",
       "      <th>area</th>\n",
       "      <th>count</th>\n",
       "    </tr>\n",
       "  </thead>\n",
       "  <tbody>\n",
       "    <tr>\n",
       "      <th>0</th>\n",
       "      <td>Nairobi</td>\n",
       "      <td>4397073.0</td>\n",
       "      <td>704</td>\n",
       "      <td>4397073.0</td>\n",
       "    </tr>\n",
       "    <tr>\n",
       "      <th>1</th>\n",
       "      <td>Kisumu</td>\n",
       "      <td>1155574.0</td>\n",
       "      <td>2085</td>\n",
       "      <td>1155574.0</td>\n",
       "    </tr>\n",
       "    <tr>\n",
       "      <th>2</th>\n",
       "      <td>Mombasa</td>\n",
       "      <td>1208333.0</td>\n",
       "      <td>220</td>\n",
       "      <td>1208333.0</td>\n",
       "    </tr>\n",
       "    <tr>\n",
       "      <th>3</th>\n",
       "      <td>Bungoma</td>\n",
       "      <td>1670570.0</td>\n",
       "      <td>3024</td>\n",
       "      <td>1670570.0</td>\n",
       "    </tr>\n",
       "    <tr>\n",
       "      <th>4</th>\n",
       "      <td>Mandera</td>\n",
       "      <td>867457.0</td>\n",
       "      <td>25942</td>\n",
       "      <td>867457.0</td>\n",
       "    </tr>\n",
       "    <tr>\n",
       "      <th>5</th>\n",
       "      <td>Turkana</td>\n",
       "      <td>926976.0</td>\n",
       "      <td>68233</td>\n",
       "      <td>926976.0</td>\n",
       "    </tr>\n",
       "    <tr>\n",
       "      <th>6</th>\n",
       "      <td>Marsabit</td>\n",
       "      <td>459785.0</td>\n",
       "      <td>70944</td>\n",
       "      <td>459785.0</td>\n",
       "    </tr>\n",
       "    <tr>\n",
       "      <th>7</th>\n",
       "      <td>Nyeri</td>\n",
       "      <td>759164.0</td>\n",
       "      <td>3325</td>\n",
       "      <td>759164.0</td>\n",
       "    </tr>\n",
       "    <tr>\n",
       "      <th>8</th>\n",
       "      <td>Nairobi</td>\n",
       "      <td>4397073.0</td>\n",
       "      <td>704</td>\n",
       "      <td>4397073.0</td>\n",
       "    </tr>\n",
       "  </tbody>\n",
       "</table>\n",
       "</div>"
      ],
      "text/plain": [
       "    county2  population   area      count\n",
       "0   Nairobi   4397073.0    704  4397073.0\n",
       "1    Kisumu   1155574.0   2085  1155574.0\n",
       "2   Mombasa   1208333.0    220  1208333.0\n",
       "3   Bungoma   1670570.0   3024  1670570.0\n",
       "4   Mandera    867457.0  25942   867457.0\n",
       "5   Turkana    926976.0  68233   926976.0\n",
       "6  Marsabit    459785.0  70944   459785.0\n",
       "7     Nyeri    759164.0   3325   759164.0\n",
       "8   Nairobi   4397073.0    704  4397073.0"
      ]
     },
     "execution_count": 98,
     "metadata": {},
     "output_type": "execute_result"
    }
   ],
   "source": [
    "#drops by default all rows with na\n",
    "df2.dropna()\n",
    "#by default axis='rows'"
   ]
  },
  {
   "cell_type": "code",
   "execution_count": 99,
   "id": "78392b8f",
   "metadata": {},
   "outputs": [],
   "source": [
    "#drops all columns with na values\n",
    "#df2.dropna(axis=\"columns\")\n",
    "#or axis = 1"
   ]
  },
  {
   "cell_type": "markdown",
   "id": "57a6dcd7",
   "metadata": {},
   "source": [
    "- the best way to deal with nas is to fill them with values\n",
    "\n",
    "- we use the function fillna"
   ]
  },
  {
   "cell_type": "code",
   "execution_count": 100,
   "id": "0a3914e1",
   "metadata": {},
   "outputs": [
    {
     "name": "stdout",
     "output_type": "stream",
     "text": [
      "    county2    population   area      count\n",
      "0   Nairobi  4.397073e+06    704  4397073.0\n",
      "1    Kisumu  1.155574e+06   2085  1155574.0\n",
      "2   Mombasa  1.208333e+06    220  1208333.0\n",
      "3   Bungoma  1.670570e+06   3024  1670570.0\n",
      "4   Mandera  8.674570e+05  25942   867457.0\n",
      "5   Turkana  9.269760e+05  68233   926976.0\n",
      "6  Marsabit  4.597850e+05  70944   459785.0\n",
      "7     Nyeri  7.591640e+05   3325   759164.0\n",
      "8   Nairobi  4.397073e+06    704  4397073.0\n",
      "9      Embu  1.760223e+06   2821        NaN\n"
     ]
    }
   ],
   "source": [
    "#fills na values in population column with mean\n",
    "x=df2[\"population\"].mean()\n",
    "df2[\"population\"].fillna(x,inplace= True)\n",
    "print(df2)"
   ]
  },
  {
   "cell_type": "markdown",
   "id": "486bb0a0",
   "metadata": {
    "tags": []
   },
   "source": [
    "### **Check how the following functions work**"
   ]
  },
  {
   "cell_type": "markdown",
   "id": "4264e595-288f-4a8e-97d9-fe00109a8ab6",
   "metadata": {
    "jp-MarkdownHeadingCollapsed": true,
    "tags": []
   },
   "source": [
    "#### import"
   ]
  },
  {
   "cell_type": "code",
   "execution_count": 101,
   "id": "2451b7bb",
   "metadata": {},
   "outputs": [
    {
     "data": {
      "text/html": [
       "<div>\n",
       "<style scoped>\n",
       "    .dataframe tbody tr th:only-of-type {\n",
       "        vertical-align: middle;\n",
       "    }\n",
       "\n",
       "    .dataframe tbody tr th {\n",
       "        vertical-align: top;\n",
       "    }\n",
       "\n",
       "    .dataframe thead th {\n",
       "        text-align: right;\n",
       "    }\n",
       "</style>\n",
       "<table border=\"1\" class=\"dataframe\">\n",
       "  <thead>\n",
       "    <tr style=\"text-align: right;\">\n",
       "      <th></th>\n",
       "      <th>County</th>\n",
       "      <th>Population</th>\n",
       "      <th>Area</th>\n",
       "      <th>count</th>\n",
       "    </tr>\n",
       "  </thead>\n",
       "  <tbody>\n",
       "    <tr>\n",
       "      <th>0</th>\n",
       "      <td>Nairobi</td>\n",
       "      <td>4397073.0</td>\n",
       "      <td>704</td>\n",
       "      <td>4397073.0</td>\n",
       "    </tr>\n",
       "    <tr>\n",
       "      <th>1</th>\n",
       "      <td>Kisumu</td>\n",
       "      <td>1155574.0</td>\n",
       "      <td>2085</td>\n",
       "      <td>1155574.0</td>\n",
       "    </tr>\n",
       "    <tr>\n",
       "      <th>2</th>\n",
       "      <td>Mombasa</td>\n",
       "      <td>1208333.0</td>\n",
       "      <td>220</td>\n",
       "      <td>1208333.0</td>\n",
       "    </tr>\n",
       "    <tr>\n",
       "      <th>3</th>\n",
       "      <td>Bungoma</td>\n",
       "      <td>1670570.0</td>\n",
       "      <td>3024</td>\n",
       "      <td>1670570.0</td>\n",
       "    </tr>\n",
       "    <tr>\n",
       "      <th>4</th>\n",
       "      <td>Mandera</td>\n",
       "      <td>867457.0</td>\n",
       "      <td>25942</td>\n",
       "      <td>867457.0</td>\n",
       "    </tr>\n",
       "    <tr>\n",
       "      <th>5</th>\n",
       "      <td>Turkana</td>\n",
       "      <td>926976.0</td>\n",
       "      <td>68233</td>\n",
       "      <td>926976.0</td>\n",
       "    </tr>\n",
       "    <tr>\n",
       "      <th>6</th>\n",
       "      <td>Marsabit</td>\n",
       "      <td>459785.0</td>\n",
       "      <td>70944</td>\n",
       "      <td>459785.0</td>\n",
       "    </tr>\n",
       "    <tr>\n",
       "      <th>7</th>\n",
       "      <td>Nyeri</td>\n",
       "      <td>759164.0</td>\n",
       "      <td>3325</td>\n",
       "      <td>759164.0</td>\n",
       "    </tr>\n",
       "    <tr>\n",
       "      <th>8</th>\n",
       "      <td>Nairobi</td>\n",
       "      <td>4397073.0</td>\n",
       "      <td>704</td>\n",
       "      <td>4397073.0</td>\n",
       "    </tr>\n",
       "    <tr>\n",
       "      <th>9</th>\n",
       "      <td>Embu</td>\n",
       "      <td>NaN</td>\n",
       "      <td>2821</td>\n",
       "      <td>NaN</td>\n",
       "    </tr>\n",
       "  </tbody>\n",
       "</table>\n",
       "</div>"
      ],
      "text/plain": [
       "     County  Population   Area      count\n",
       "0   Nairobi   4397073.0    704  4397073.0\n",
       "1    Kisumu   1155574.0   2085  1155574.0\n",
       "2   Mombasa   1208333.0    220  1208333.0\n",
       "3   Bungoma   1670570.0   3024  1670570.0\n",
       "4   Mandera    867457.0  25942   867457.0\n",
       "5   Turkana    926976.0  68233   926976.0\n",
       "6  Marsabit    459785.0  70944   459785.0\n",
       "7     Nyeri    759164.0   3325   759164.0\n",
       "8   Nairobi   4397073.0    704  4397073.0\n",
       "9      Embu         NaN   2821        NaN"
      ]
     },
     "execution_count": 101,
     "metadata": {},
     "output_type": "execute_result"
    }
   ],
   "source": [
    "import pandas as pd\n",
    "df2=pd.read_csv((\"df.csv\"))\n",
    "df2"
   ]
  },
  {
   "cell_type": "markdown",
   "id": "583e7d84",
   "metadata": {
    "jp-MarkdownHeadingCollapsed": true,
    "tags": []
   },
   "source": [
    "#### **e)rename()**\n",
    "\n",
    " It renames any index,column or row."
   ]
  },
  {
   "cell_type": "code",
   "execution_count": 102,
   "id": "cb206a1c",
   "metadata": {},
   "outputs": [],
   "source": [
    "#example\n",
    "df2.rename(index={0:\"a\",1:\"b\"},inplace =True)\n",
    "df2.rename(columns={\"County\":\"a\",\"Population\":\"b\",\"Area\":\"c\",\"count\":\"d\"},inplace=True)"
   ]
  },
  {
   "cell_type": "markdown",
   "id": "cfd1a8f5",
   "metadata": {
    "jp-MarkdownHeadingCollapsed": true,
    "tags": []
   },
   "source": [
    "#### **d. query()**\n",
    "\n",
    "- used to query the columns of a dataframe with a boolean expression."
   ]
  },
  {
   "cell_type": "code",
   "execution_count": 103,
   "id": "e8e3744f",
   "metadata": {},
   "outputs": [
    {
     "data": {
      "text/html": [
       "<div>\n",
       "<style scoped>\n",
       "    .dataframe tbody tr th:only-of-type {\n",
       "        vertical-align: middle;\n",
       "    }\n",
       "\n",
       "    .dataframe tbody tr th {\n",
       "        vertical-align: top;\n",
       "    }\n",
       "\n",
       "    .dataframe thead th {\n",
       "        text-align: right;\n",
       "    }\n",
       "</style>\n",
       "<table border=\"1\" class=\"dataframe\">\n",
       "  <thead>\n",
       "    <tr style=\"text-align: right;\">\n",
       "      <th></th>\n",
       "      <th>a</th>\n",
       "      <th>b</th>\n",
       "      <th>c</th>\n",
       "      <th>d</th>\n",
       "    </tr>\n",
       "  </thead>\n",
       "  <tbody>\n",
       "    <tr>\n",
       "      <th>a</th>\n",
       "      <td>Nairobi</td>\n",
       "      <td>4397073.0</td>\n",
       "      <td>704</td>\n",
       "      <td>4397073.0</td>\n",
       "    </tr>\n",
       "    <tr>\n",
       "      <th>b</th>\n",
       "      <td>Kisumu</td>\n",
       "      <td>1155574.0</td>\n",
       "      <td>2085</td>\n",
       "      <td>1155574.0</td>\n",
       "    </tr>\n",
       "    <tr>\n",
       "      <th>2</th>\n",
       "      <td>Mombasa</td>\n",
       "      <td>1208333.0</td>\n",
       "      <td>220</td>\n",
       "      <td>1208333.0</td>\n",
       "    </tr>\n",
       "    <tr>\n",
       "      <th>3</th>\n",
       "      <td>Bungoma</td>\n",
       "      <td>1670570.0</td>\n",
       "      <td>3024</td>\n",
       "      <td>1670570.0</td>\n",
       "    </tr>\n",
       "    <tr>\n",
       "      <th>4</th>\n",
       "      <td>Mandera</td>\n",
       "      <td>867457.0</td>\n",
       "      <td>25942</td>\n",
       "      <td>867457.0</td>\n",
       "    </tr>\n",
       "    <tr>\n",
       "      <th>5</th>\n",
       "      <td>Turkana</td>\n",
       "      <td>926976.0</td>\n",
       "      <td>68233</td>\n",
       "      <td>926976.0</td>\n",
       "    </tr>\n",
       "    <tr>\n",
       "      <th>8</th>\n",
       "      <td>Nairobi</td>\n",
       "      <td>4397073.0</td>\n",
       "      <td>704</td>\n",
       "      <td>4397073.0</td>\n",
       "    </tr>\n",
       "  </tbody>\n",
       "</table>\n",
       "</div>"
      ],
      "text/plain": [
       "         a          b      c          d\n",
       "a  Nairobi  4397073.0    704  4397073.0\n",
       "b   Kisumu  1155574.0   2085  1155574.0\n",
       "2  Mombasa  1208333.0    220  1208333.0\n",
       "3  Bungoma  1670570.0   3024  1670570.0\n",
       "4  Mandera   867457.0  25942   867457.0\n",
       "5  Turkana   926976.0  68233   926976.0\n",
       "8  Nairobi  4397073.0    704  4397073.0"
      ]
     },
     "execution_count": 103,
     "metadata": {},
     "output_type": "execute_result"
    }
   ],
   "source": [
    "df2.query('c > 700' and 'b > 759164')"
   ]
  },
  {
   "cell_type": "code",
   "execution_count": 104,
   "id": "8f98f6b7",
   "metadata": {},
   "outputs": [
    {
     "data": {
      "text/html": [
       "<div>\n",
       "<style scoped>\n",
       "    .dataframe tbody tr th:only-of-type {\n",
       "        vertical-align: middle;\n",
       "    }\n",
       "\n",
       "    .dataframe tbody tr th {\n",
       "        vertical-align: top;\n",
       "    }\n",
       "\n",
       "    .dataframe thead th {\n",
       "        text-align: right;\n",
       "    }\n",
       "</style>\n",
       "<table border=\"1\" class=\"dataframe\">\n",
       "  <thead>\n",
       "    <tr style=\"text-align: right;\">\n",
       "      <th></th>\n",
       "      <th>a</th>\n",
       "      <th>b</th>\n",
       "      <th>c</th>\n",
       "      <th>d</th>\n",
       "    </tr>\n",
       "  </thead>\n",
       "  <tbody>\n",
       "    <tr>\n",
       "      <th>a</th>\n",
       "      <td>Nairobi</td>\n",
       "      <td>4397073.0</td>\n",
       "      <td>704</td>\n",
       "      <td>4397073.0</td>\n",
       "    </tr>\n",
       "    <tr>\n",
       "      <th>b</th>\n",
       "      <td>Kisumu</td>\n",
       "      <td>1155574.0</td>\n",
       "      <td>2085</td>\n",
       "      <td>1155574.0</td>\n",
       "    </tr>\n",
       "    <tr>\n",
       "      <th>2</th>\n",
       "      <td>Mombasa</td>\n",
       "      <td>1208333.0</td>\n",
       "      <td>220</td>\n",
       "      <td>1208333.0</td>\n",
       "    </tr>\n",
       "    <tr>\n",
       "      <th>3</th>\n",
       "      <td>Bungoma</td>\n",
       "      <td>1670570.0</td>\n",
       "      <td>3024</td>\n",
       "      <td>1670570.0</td>\n",
       "    </tr>\n",
       "    <tr>\n",
       "      <th>4</th>\n",
       "      <td>Mandera</td>\n",
       "      <td>867457.0</td>\n",
       "      <td>25942</td>\n",
       "      <td>867457.0</td>\n",
       "    </tr>\n",
       "    <tr>\n",
       "      <th>5</th>\n",
       "      <td>Turkana</td>\n",
       "      <td>926976.0</td>\n",
       "      <td>68233</td>\n",
       "      <td>926976.0</td>\n",
       "    </tr>\n",
       "    <tr>\n",
       "      <th>6</th>\n",
       "      <td>Marsabit</td>\n",
       "      <td>459785.0</td>\n",
       "      <td>70944</td>\n",
       "      <td>459785.0</td>\n",
       "    </tr>\n",
       "    <tr>\n",
       "      <th>7</th>\n",
       "      <td>Nyeri</td>\n",
       "      <td>759164.0</td>\n",
       "      <td>3325</td>\n",
       "      <td>759164.0</td>\n",
       "    </tr>\n",
       "    <tr>\n",
       "      <th>8</th>\n",
       "      <td>Nairobi</td>\n",
       "      <td>4397073.0</td>\n",
       "      <td>704</td>\n",
       "      <td>4397073.0</td>\n",
       "    </tr>\n",
       "    <tr>\n",
       "      <th>9</th>\n",
       "      <td>Embu</td>\n",
       "      <td>NaN</td>\n",
       "      <td>2821</td>\n",
       "      <td>NaN</td>\n",
       "    </tr>\n",
       "  </tbody>\n",
       "</table>\n",
       "</div>"
      ],
      "text/plain": [
       "          a          b      c          d\n",
       "a   Nairobi  4397073.0    704  4397073.0\n",
       "b    Kisumu  1155574.0   2085  1155574.0\n",
       "2   Mombasa  1208333.0    220  1208333.0\n",
       "3   Bungoma  1670570.0   3024  1670570.0\n",
       "4   Mandera   867457.0  25942   867457.0\n",
       "5   Turkana   926976.0  68233   926976.0\n",
       "6  Marsabit   459785.0  70944   459785.0\n",
       "7     Nyeri   759164.0   3325   759164.0\n",
       "8   Nairobi  4397073.0    704  4397073.0\n",
       "9      Embu        NaN   2821        NaN"
      ]
     },
     "execution_count": 104,
     "metadata": {},
     "output_type": "execute_result"
    }
   ],
   "source": [
    "df2"
   ]
  },
  {
   "cell_type": "markdown",
   "id": "304badd2",
   "metadata": {
    "jp-MarkdownHeadingCollapsed": true,
    "tags": []
   },
   "source": [
    "#### **f)reset_index()**"
   ]
  },
  {
   "cell_type": "markdown",
   "id": "65340f1c",
   "metadata": {},
   "source": [
    "resets the index of  a data frame and uses the default one instead"
   ]
  },
  {
   "cell_type": "code",
   "execution_count": 105,
   "id": "dc987bc4",
   "metadata": {},
   "outputs": [
    {
     "data": {
      "text/html": [
       "<div>\n",
       "<style scoped>\n",
       "    .dataframe tbody tr th:only-of-type {\n",
       "        vertical-align: middle;\n",
       "    }\n",
       "\n",
       "    .dataframe tbody tr th {\n",
       "        vertical-align: top;\n",
       "    }\n",
       "\n",
       "    .dataframe thead th {\n",
       "        text-align: right;\n",
       "    }\n",
       "</style>\n",
       "<table border=\"1\" class=\"dataframe\">\n",
       "  <thead>\n",
       "    <tr style=\"text-align: right;\">\n",
       "      <th></th>\n",
       "      <th>a</th>\n",
       "      <th>b</th>\n",
       "      <th>c</th>\n",
       "      <th>d</th>\n",
       "    </tr>\n",
       "  </thead>\n",
       "  <tbody>\n",
       "    <tr>\n",
       "      <th>0</th>\n",
       "      <td>Nairobi</td>\n",
       "      <td>4397073.0</td>\n",
       "      <td>704</td>\n",
       "      <td>4397073.0</td>\n",
       "    </tr>\n",
       "    <tr>\n",
       "      <th>1</th>\n",
       "      <td>Kisumu</td>\n",
       "      <td>1155574.0</td>\n",
       "      <td>2085</td>\n",
       "      <td>1155574.0</td>\n",
       "    </tr>\n",
       "    <tr>\n",
       "      <th>2</th>\n",
       "      <td>Mombasa</td>\n",
       "      <td>1208333.0</td>\n",
       "      <td>220</td>\n",
       "      <td>1208333.0</td>\n",
       "    </tr>\n",
       "    <tr>\n",
       "      <th>3</th>\n",
       "      <td>Bungoma</td>\n",
       "      <td>1670570.0</td>\n",
       "      <td>3024</td>\n",
       "      <td>1670570.0</td>\n",
       "    </tr>\n",
       "    <tr>\n",
       "      <th>4</th>\n",
       "      <td>Mandera</td>\n",
       "      <td>867457.0</td>\n",
       "      <td>25942</td>\n",
       "      <td>867457.0</td>\n",
       "    </tr>\n",
       "    <tr>\n",
       "      <th>5</th>\n",
       "      <td>Turkana</td>\n",
       "      <td>926976.0</td>\n",
       "      <td>68233</td>\n",
       "      <td>926976.0</td>\n",
       "    </tr>\n",
       "    <tr>\n",
       "      <th>6</th>\n",
       "      <td>Marsabit</td>\n",
       "      <td>459785.0</td>\n",
       "      <td>70944</td>\n",
       "      <td>459785.0</td>\n",
       "    </tr>\n",
       "    <tr>\n",
       "      <th>7</th>\n",
       "      <td>Nyeri</td>\n",
       "      <td>759164.0</td>\n",
       "      <td>3325</td>\n",
       "      <td>759164.0</td>\n",
       "    </tr>\n",
       "    <tr>\n",
       "      <th>8</th>\n",
       "      <td>Nairobi</td>\n",
       "      <td>4397073.0</td>\n",
       "      <td>704</td>\n",
       "      <td>4397073.0</td>\n",
       "    </tr>\n",
       "    <tr>\n",
       "      <th>9</th>\n",
       "      <td>Embu</td>\n",
       "      <td>NaN</td>\n",
       "      <td>2821</td>\n",
       "      <td>NaN</td>\n",
       "    </tr>\n",
       "  </tbody>\n",
       "</table>\n",
       "</div>"
      ],
      "text/plain": [
       "          a          b      c          d\n",
       "0   Nairobi  4397073.0    704  4397073.0\n",
       "1    Kisumu  1155574.0   2085  1155574.0\n",
       "2   Mombasa  1208333.0    220  1208333.0\n",
       "3   Bungoma  1670570.0   3024  1670570.0\n",
       "4   Mandera   867457.0  25942   867457.0\n",
       "5   Turkana   926976.0  68233   926976.0\n",
       "6  Marsabit   459785.0  70944   459785.0\n",
       "7     Nyeri   759164.0   3325   759164.0\n",
       "8   Nairobi  4397073.0    704  4397073.0\n",
       "9      Embu        NaN   2821        NaN"
      ]
     },
     "execution_count": 105,
     "metadata": {},
     "output_type": "execute_result"
    }
   ],
   "source": [
    "#makes the existing index as a column and uses default indexing\n",
    "df2.reset_index(drop=True)"
   ]
  },
  {
   "cell_type": "code",
   "execution_count": 106,
   "id": "9f2b1b12",
   "metadata": {},
   "outputs": [
    {
     "data": {
      "text/html": [
       "<div>\n",
       "<style scoped>\n",
       "    .dataframe tbody tr th:only-of-type {\n",
       "        vertical-align: middle;\n",
       "    }\n",
       "\n",
       "    .dataframe tbody tr th {\n",
       "        vertical-align: top;\n",
       "    }\n",
       "\n",
       "    .dataframe thead th {\n",
       "        text-align: right;\n",
       "    }\n",
       "</style>\n",
       "<table border=\"1\" class=\"dataframe\">\n",
       "  <thead>\n",
       "    <tr style=\"text-align: right;\">\n",
       "      <th></th>\n",
       "      <th>a</th>\n",
       "      <th>b</th>\n",
       "      <th>c</th>\n",
       "      <th>d</th>\n",
       "    </tr>\n",
       "  </thead>\n",
       "  <tbody>\n",
       "    <tr>\n",
       "      <th>0</th>\n",
       "      <td>Nairobi</td>\n",
       "      <td>4397073.0</td>\n",
       "      <td>704</td>\n",
       "      <td>4397073.0</td>\n",
       "    </tr>\n",
       "    <tr>\n",
       "      <th>1</th>\n",
       "      <td>Kisumu</td>\n",
       "      <td>1155574.0</td>\n",
       "      <td>2085</td>\n",
       "      <td>1155574.0</td>\n",
       "    </tr>\n",
       "    <tr>\n",
       "      <th>2</th>\n",
       "      <td>Mombasa</td>\n",
       "      <td>1208333.0</td>\n",
       "      <td>220</td>\n",
       "      <td>1208333.0</td>\n",
       "    </tr>\n",
       "    <tr>\n",
       "      <th>3</th>\n",
       "      <td>Bungoma</td>\n",
       "      <td>1670570.0</td>\n",
       "      <td>3024</td>\n",
       "      <td>1670570.0</td>\n",
       "    </tr>\n",
       "    <tr>\n",
       "      <th>4</th>\n",
       "      <td>Mandera</td>\n",
       "      <td>867457.0</td>\n",
       "      <td>25942</td>\n",
       "      <td>867457.0</td>\n",
       "    </tr>\n",
       "    <tr>\n",
       "      <th>5</th>\n",
       "      <td>Turkana</td>\n",
       "      <td>926976.0</td>\n",
       "      <td>68233</td>\n",
       "      <td>926976.0</td>\n",
       "    </tr>\n",
       "    <tr>\n",
       "      <th>6</th>\n",
       "      <td>Marsabit</td>\n",
       "      <td>459785.0</td>\n",
       "      <td>70944</td>\n",
       "      <td>459785.0</td>\n",
       "    </tr>\n",
       "    <tr>\n",
       "      <th>7</th>\n",
       "      <td>Nyeri</td>\n",
       "      <td>759164.0</td>\n",
       "      <td>3325</td>\n",
       "      <td>759164.0</td>\n",
       "    </tr>\n",
       "    <tr>\n",
       "      <th>8</th>\n",
       "      <td>Nairobi</td>\n",
       "      <td>4397073.0</td>\n",
       "      <td>704</td>\n",
       "      <td>4397073.0</td>\n",
       "    </tr>\n",
       "    <tr>\n",
       "      <th>9</th>\n",
       "      <td>Embu</td>\n",
       "      <td>NaN</td>\n",
       "      <td>2821</td>\n",
       "      <td>NaN</td>\n",
       "    </tr>\n",
       "  </tbody>\n",
       "</table>\n",
       "</div>"
      ],
      "text/plain": [
       "          a          b      c          d\n",
       "0   Nairobi  4397073.0    704  4397073.0\n",
       "1    Kisumu  1155574.0   2085  1155574.0\n",
       "2   Mombasa  1208333.0    220  1208333.0\n",
       "3   Bungoma  1670570.0   3024  1670570.0\n",
       "4   Mandera   867457.0  25942   867457.0\n",
       "5   Turkana   926976.0  68233   926976.0\n",
       "6  Marsabit   459785.0  70944   459785.0\n",
       "7     Nyeri   759164.0   3325   759164.0\n",
       "8   Nairobi  4397073.0    704  4397073.0\n",
       "9      Embu        NaN   2821        NaN"
      ]
     },
     "execution_count": 106,
     "metadata": {},
     "output_type": "execute_result"
    }
   ],
   "source": [
    "#drops the existing index and uses the default one\n",
    "df2=df2.reset_index(drop = True)\n",
    "df2"
   ]
  },
  {
   "cell_type": "markdown",
   "id": "f1dd173c",
   "metadata": {
    "jp-MarkdownHeadingCollapsed": true,
    "tags": []
   },
   "source": [
    "#### **g)sort_index()**\n"
   ]
  },
  {
   "cell_type": "markdown",
   "id": "83c3d1ec",
   "metadata": {},
   "source": [
    "--returns a new data frame sorted by label if inplace argument is false.\n",
    "\n",
    "--otherwise updates the original dataframe and returns none"
   ]
  },
  {
   "cell_type": "code",
   "execution_count": 107,
   "id": "18ffd18e",
   "metadata": {},
   "outputs": [
    {
     "data": {
      "text/html": [
       "<div>\n",
       "<style scoped>\n",
       "    .dataframe tbody tr th:only-of-type {\n",
       "        vertical-align: middle;\n",
       "    }\n",
       "\n",
       "    .dataframe tbody tr th {\n",
       "        vertical-align: top;\n",
       "    }\n",
       "\n",
       "    .dataframe thead th {\n",
       "        text-align: right;\n",
       "    }\n",
       "</style>\n",
       "<table border=\"1\" class=\"dataframe\">\n",
       "  <thead>\n",
       "    <tr style=\"text-align: right;\">\n",
       "      <th></th>\n",
       "      <th>a</th>\n",
       "      <th>b</th>\n",
       "      <th>c</th>\n",
       "      <th>d</th>\n",
       "    </tr>\n",
       "  </thead>\n",
       "  <tbody>\n",
       "    <tr>\n",
       "      <th>0</th>\n",
       "      <td>Nairobi</td>\n",
       "      <td>4397073.0</td>\n",
       "      <td>704</td>\n",
       "      <td>4397073.0</td>\n",
       "    </tr>\n",
       "    <tr>\n",
       "      <th>1</th>\n",
       "      <td>Kisumu</td>\n",
       "      <td>1155574.0</td>\n",
       "      <td>2085</td>\n",
       "      <td>1155574.0</td>\n",
       "    </tr>\n",
       "    <tr>\n",
       "      <th>2</th>\n",
       "      <td>Mombasa</td>\n",
       "      <td>1208333.0</td>\n",
       "      <td>220</td>\n",
       "      <td>1208333.0</td>\n",
       "    </tr>\n",
       "    <tr>\n",
       "      <th>3</th>\n",
       "      <td>Bungoma</td>\n",
       "      <td>1670570.0</td>\n",
       "      <td>3024</td>\n",
       "      <td>1670570.0</td>\n",
       "    </tr>\n",
       "    <tr>\n",
       "      <th>4</th>\n",
       "      <td>Mandera</td>\n",
       "      <td>867457.0</td>\n",
       "      <td>25942</td>\n",
       "      <td>867457.0</td>\n",
       "    </tr>\n",
       "    <tr>\n",
       "      <th>5</th>\n",
       "      <td>Turkana</td>\n",
       "      <td>926976.0</td>\n",
       "      <td>68233</td>\n",
       "      <td>926976.0</td>\n",
       "    </tr>\n",
       "    <tr>\n",
       "      <th>6</th>\n",
       "      <td>Marsabit</td>\n",
       "      <td>459785.0</td>\n",
       "      <td>70944</td>\n",
       "      <td>459785.0</td>\n",
       "    </tr>\n",
       "    <tr>\n",
       "      <th>7</th>\n",
       "      <td>Nyeri</td>\n",
       "      <td>759164.0</td>\n",
       "      <td>3325</td>\n",
       "      <td>759164.0</td>\n",
       "    </tr>\n",
       "    <tr>\n",
       "      <th>8</th>\n",
       "      <td>Nairobi</td>\n",
       "      <td>4397073.0</td>\n",
       "      <td>704</td>\n",
       "      <td>4397073.0</td>\n",
       "    </tr>\n",
       "    <tr>\n",
       "      <th>9</th>\n",
       "      <td>Embu</td>\n",
       "      <td>NaN</td>\n",
       "      <td>2821</td>\n",
       "      <td>NaN</td>\n",
       "    </tr>\n",
       "  </tbody>\n",
       "</table>\n",
       "</div>"
      ],
      "text/plain": [
       "          a          b      c          d\n",
       "0   Nairobi  4397073.0    704  4397073.0\n",
       "1    Kisumu  1155574.0   2085  1155574.0\n",
       "2   Mombasa  1208333.0    220  1208333.0\n",
       "3   Bungoma  1670570.0   3024  1670570.0\n",
       "4   Mandera   867457.0  25942   867457.0\n",
       "5   Turkana   926976.0  68233   926976.0\n",
       "6  Marsabit   459785.0  70944   459785.0\n",
       "7     Nyeri   759164.0   3325   759164.0\n",
       "8   Nairobi  4397073.0    704  4397073.0\n",
       "9      Embu        NaN   2821        NaN"
      ]
     },
     "execution_count": 107,
     "metadata": {},
     "output_type": "execute_result"
    }
   ],
   "source": [
    "df2.sort_index()"
   ]
  },
  {
   "cell_type": "code",
   "execution_count": 108,
   "id": "a7f417b9",
   "metadata": {},
   "outputs": [
    {
     "data": {
      "text/html": [
       "<div>\n",
       "<style scoped>\n",
       "    .dataframe tbody tr th:only-of-type {\n",
       "        vertical-align: middle;\n",
       "    }\n",
       "\n",
       "    .dataframe tbody tr th {\n",
       "        vertical-align: top;\n",
       "    }\n",
       "\n",
       "    .dataframe thead th {\n",
       "        text-align: right;\n",
       "    }\n",
       "</style>\n",
       "<table border=\"1\" class=\"dataframe\">\n",
       "  <thead>\n",
       "    <tr style=\"text-align: right;\">\n",
       "      <th></th>\n",
       "      <th>a</th>\n",
       "      <th>b</th>\n",
       "      <th>c</th>\n",
       "      <th>d</th>\n",
       "    </tr>\n",
       "  </thead>\n",
       "  <tbody>\n",
       "    <tr>\n",
       "      <th>0</th>\n",
       "      <td>Nairobi</td>\n",
       "      <td>4397073.0</td>\n",
       "      <td>704</td>\n",
       "      <td>4397073.0</td>\n",
       "    </tr>\n",
       "    <tr>\n",
       "      <th>1</th>\n",
       "      <td>Kisumu</td>\n",
       "      <td>1155574.0</td>\n",
       "      <td>2085</td>\n",
       "      <td>1155574.0</td>\n",
       "    </tr>\n",
       "    <tr>\n",
       "      <th>2</th>\n",
       "      <td>Mombasa</td>\n",
       "      <td>1208333.0</td>\n",
       "      <td>220</td>\n",
       "      <td>1208333.0</td>\n",
       "    </tr>\n",
       "    <tr>\n",
       "      <th>3</th>\n",
       "      <td>Bungoma</td>\n",
       "      <td>1670570.0</td>\n",
       "      <td>3024</td>\n",
       "      <td>1670570.0</td>\n",
       "    </tr>\n",
       "    <tr>\n",
       "      <th>4</th>\n",
       "      <td>Mandera</td>\n",
       "      <td>867457.0</td>\n",
       "      <td>25942</td>\n",
       "      <td>867457.0</td>\n",
       "    </tr>\n",
       "    <tr>\n",
       "      <th>5</th>\n",
       "      <td>Turkana</td>\n",
       "      <td>926976.0</td>\n",
       "      <td>68233</td>\n",
       "      <td>926976.0</td>\n",
       "    </tr>\n",
       "    <tr>\n",
       "      <th>6</th>\n",
       "      <td>Marsabit</td>\n",
       "      <td>459785.0</td>\n",
       "      <td>70944</td>\n",
       "      <td>459785.0</td>\n",
       "    </tr>\n",
       "    <tr>\n",
       "      <th>7</th>\n",
       "      <td>Nyeri</td>\n",
       "      <td>759164.0</td>\n",
       "      <td>3325</td>\n",
       "      <td>759164.0</td>\n",
       "    </tr>\n",
       "    <tr>\n",
       "      <th>8</th>\n",
       "      <td>Nairobi</td>\n",
       "      <td>4397073.0</td>\n",
       "      <td>704</td>\n",
       "      <td>4397073.0</td>\n",
       "    </tr>\n",
       "    <tr>\n",
       "      <th>9</th>\n",
       "      <td>Embu</td>\n",
       "      <td>NaN</td>\n",
       "      <td>2821</td>\n",
       "      <td>NaN</td>\n",
       "    </tr>\n",
       "  </tbody>\n",
       "</table>\n",
       "</div>"
      ],
      "text/plain": [
       "          a          b      c          d\n",
       "0   Nairobi  4397073.0    704  4397073.0\n",
       "1    Kisumu  1155574.0   2085  1155574.0\n",
       "2   Mombasa  1208333.0    220  1208333.0\n",
       "3   Bungoma  1670570.0   3024  1670570.0\n",
       "4   Mandera   867457.0  25942   867457.0\n",
       "5   Turkana   926976.0  68233   926976.0\n",
       "6  Marsabit   459785.0  70944   459785.0\n",
       "7     Nyeri   759164.0   3325   759164.0\n",
       "8   Nairobi  4397073.0    704  4397073.0\n",
       "9      Embu        NaN   2821        NaN"
      ]
     },
     "execution_count": 108,
     "metadata": {},
     "output_type": "execute_result"
    }
   ],
   "source": [
    "df2"
   ]
  },
  {
   "cell_type": "code",
   "execution_count": 109,
   "id": "7fedca17",
   "metadata": {},
   "outputs": [
    {
     "data": {
      "text/html": [
       "<div>\n",
       "<style scoped>\n",
       "    .dataframe tbody tr th:only-of-type {\n",
       "        vertical-align: middle;\n",
       "    }\n",
       "\n",
       "    .dataframe tbody tr th {\n",
       "        vertical-align: top;\n",
       "    }\n",
       "\n",
       "    .dataframe thead th {\n",
       "        text-align: right;\n",
       "    }\n",
       "</style>\n",
       "<table border=\"1\" class=\"dataframe\">\n",
       "  <thead>\n",
       "    <tr style=\"text-align: right;\">\n",
       "      <th></th>\n",
       "      <th>a</th>\n",
       "      <th>b</th>\n",
       "      <th>c</th>\n",
       "      <th>d</th>\n",
       "    </tr>\n",
       "  </thead>\n",
       "  <tbody>\n",
       "    <tr>\n",
       "      <th>9</th>\n",
       "      <td>Embu</td>\n",
       "      <td>NaN</td>\n",
       "      <td>2821</td>\n",
       "      <td>NaN</td>\n",
       "    </tr>\n",
       "    <tr>\n",
       "      <th>8</th>\n",
       "      <td>Nairobi</td>\n",
       "      <td>4397073.0</td>\n",
       "      <td>704</td>\n",
       "      <td>4397073.0</td>\n",
       "    </tr>\n",
       "    <tr>\n",
       "      <th>7</th>\n",
       "      <td>Nyeri</td>\n",
       "      <td>759164.0</td>\n",
       "      <td>3325</td>\n",
       "      <td>759164.0</td>\n",
       "    </tr>\n",
       "    <tr>\n",
       "      <th>6</th>\n",
       "      <td>Marsabit</td>\n",
       "      <td>459785.0</td>\n",
       "      <td>70944</td>\n",
       "      <td>459785.0</td>\n",
       "    </tr>\n",
       "    <tr>\n",
       "      <th>5</th>\n",
       "      <td>Turkana</td>\n",
       "      <td>926976.0</td>\n",
       "      <td>68233</td>\n",
       "      <td>926976.0</td>\n",
       "    </tr>\n",
       "    <tr>\n",
       "      <th>4</th>\n",
       "      <td>Mandera</td>\n",
       "      <td>867457.0</td>\n",
       "      <td>25942</td>\n",
       "      <td>867457.0</td>\n",
       "    </tr>\n",
       "    <tr>\n",
       "      <th>3</th>\n",
       "      <td>Bungoma</td>\n",
       "      <td>1670570.0</td>\n",
       "      <td>3024</td>\n",
       "      <td>1670570.0</td>\n",
       "    </tr>\n",
       "    <tr>\n",
       "      <th>2</th>\n",
       "      <td>Mombasa</td>\n",
       "      <td>1208333.0</td>\n",
       "      <td>220</td>\n",
       "      <td>1208333.0</td>\n",
       "    </tr>\n",
       "    <tr>\n",
       "      <th>1</th>\n",
       "      <td>Kisumu</td>\n",
       "      <td>1155574.0</td>\n",
       "      <td>2085</td>\n",
       "      <td>1155574.0</td>\n",
       "    </tr>\n",
       "    <tr>\n",
       "      <th>0</th>\n",
       "      <td>Nairobi</td>\n",
       "      <td>4397073.0</td>\n",
       "      <td>704</td>\n",
       "      <td>4397073.0</td>\n",
       "    </tr>\n",
       "  </tbody>\n",
       "</table>\n",
       "</div>"
      ],
      "text/plain": [
       "          a          b      c          d\n",
       "9      Embu        NaN   2821        NaN\n",
       "8   Nairobi  4397073.0    704  4397073.0\n",
       "7     Nyeri   759164.0   3325   759164.0\n",
       "6  Marsabit   459785.0  70944   459785.0\n",
       "5   Turkana   926976.0  68233   926976.0\n",
       "4   Mandera   867457.0  25942   867457.0\n",
       "3   Bungoma  1670570.0   3024  1670570.0\n",
       "2   Mombasa  1208333.0    220  1208333.0\n",
       "1    Kisumu  1155574.0   2085  1155574.0\n",
       "0   Nairobi  4397073.0    704  4397073.0"
      ]
     },
     "execution_count": 109,
     "metadata": {},
     "output_type": "execute_result"
    }
   ],
   "source": [
    "df2.sort_index(ascending = False)"
   ]
  },
  {
   "cell_type": "markdown",
   "id": "97a213e8",
   "metadata": {
    "jp-MarkdownHeadingCollapsed": true,
    "tags": []
   },
   "source": [
    "#### **h)sort_value()**\n",
    "\n",
    "--sort by the values along either axis"
   ]
  },
  {
   "cell_type": "code",
   "execution_count": 110,
   "id": "1234d540",
   "metadata": {},
   "outputs": [
    {
     "data": {
      "text/html": [
       "<div>\n",
       "<style scoped>\n",
       "    .dataframe tbody tr th:only-of-type {\n",
       "        vertical-align: middle;\n",
       "    }\n",
       "\n",
       "    .dataframe tbody tr th {\n",
       "        vertical-align: top;\n",
       "    }\n",
       "\n",
       "    .dataframe thead th {\n",
       "        text-align: right;\n",
       "    }\n",
       "</style>\n",
       "<table border=\"1\" class=\"dataframe\">\n",
       "  <thead>\n",
       "    <tr style=\"text-align: right;\">\n",
       "      <th></th>\n",
       "      <th>a</th>\n",
       "      <th>b</th>\n",
       "      <th>c</th>\n",
       "      <th>d</th>\n",
       "    </tr>\n",
       "  </thead>\n",
       "  <tbody>\n",
       "    <tr>\n",
       "      <th>3</th>\n",
       "      <td>Bungoma</td>\n",
       "      <td>1670570.0</td>\n",
       "      <td>3024</td>\n",
       "      <td>1670570.0</td>\n",
       "    </tr>\n",
       "    <tr>\n",
       "      <th>9</th>\n",
       "      <td>Embu</td>\n",
       "      <td>NaN</td>\n",
       "      <td>2821</td>\n",
       "      <td>NaN</td>\n",
       "    </tr>\n",
       "    <tr>\n",
       "      <th>1</th>\n",
       "      <td>Kisumu</td>\n",
       "      <td>1155574.0</td>\n",
       "      <td>2085</td>\n",
       "      <td>1155574.0</td>\n",
       "    </tr>\n",
       "    <tr>\n",
       "      <th>4</th>\n",
       "      <td>Mandera</td>\n",
       "      <td>867457.0</td>\n",
       "      <td>25942</td>\n",
       "      <td>867457.0</td>\n",
       "    </tr>\n",
       "    <tr>\n",
       "      <th>6</th>\n",
       "      <td>Marsabit</td>\n",
       "      <td>459785.0</td>\n",
       "      <td>70944</td>\n",
       "      <td>459785.0</td>\n",
       "    </tr>\n",
       "    <tr>\n",
       "      <th>2</th>\n",
       "      <td>Mombasa</td>\n",
       "      <td>1208333.0</td>\n",
       "      <td>220</td>\n",
       "      <td>1208333.0</td>\n",
       "    </tr>\n",
       "    <tr>\n",
       "      <th>0</th>\n",
       "      <td>Nairobi</td>\n",
       "      <td>4397073.0</td>\n",
       "      <td>704</td>\n",
       "      <td>4397073.0</td>\n",
       "    </tr>\n",
       "    <tr>\n",
       "      <th>8</th>\n",
       "      <td>Nairobi</td>\n",
       "      <td>4397073.0</td>\n",
       "      <td>704</td>\n",
       "      <td>4397073.0</td>\n",
       "    </tr>\n",
       "    <tr>\n",
       "      <th>7</th>\n",
       "      <td>Nyeri</td>\n",
       "      <td>759164.0</td>\n",
       "      <td>3325</td>\n",
       "      <td>759164.0</td>\n",
       "    </tr>\n",
       "    <tr>\n",
       "      <th>5</th>\n",
       "      <td>Turkana</td>\n",
       "      <td>926976.0</td>\n",
       "      <td>68233</td>\n",
       "      <td>926976.0</td>\n",
       "    </tr>\n",
       "  </tbody>\n",
       "</table>\n",
       "</div>"
      ],
      "text/plain": [
       "          a          b      c          d\n",
       "3   Bungoma  1670570.0   3024  1670570.0\n",
       "9      Embu        NaN   2821        NaN\n",
       "1    Kisumu  1155574.0   2085  1155574.0\n",
       "4   Mandera   867457.0  25942   867457.0\n",
       "6  Marsabit   459785.0  70944   459785.0\n",
       "2   Mombasa  1208333.0    220  1208333.0\n",
       "0   Nairobi  4397073.0    704  4397073.0\n",
       "8   Nairobi  4397073.0    704  4397073.0\n",
       "7     Nyeri   759164.0   3325   759164.0\n",
       "5   Turkana   926976.0  68233   926976.0"
      ]
     },
     "execution_count": 110,
     "metadata": {},
     "output_type": "execute_result"
    }
   ],
   "source": [
    "df2.sort_values(by=[\"a\"])"
   ]
  },
  {
   "cell_type": "code",
   "execution_count": 111,
   "id": "01e309da",
   "metadata": {},
   "outputs": [],
   "source": [
    "df2.drop('a',axis=1,inplace=True)"
   ]
  },
  {
   "cell_type": "code",
   "execution_count": 112,
   "id": "1febf4b6",
   "metadata": {},
   "outputs": [],
   "source": [
    "#fills all nas in the data with the given value\n",
    "df2.fillna(1463451,inplace = True)"
   ]
  },
  {
   "cell_type": "code",
   "execution_count": 113,
   "id": "e2cc1183",
   "metadata": {},
   "outputs": [
    {
     "data": {
      "text/html": [
       "<div>\n",
       "<style scoped>\n",
       "    .dataframe tbody tr th:only-of-type {\n",
       "        vertical-align: middle;\n",
       "    }\n",
       "\n",
       "    .dataframe tbody tr th {\n",
       "        vertical-align: top;\n",
       "    }\n",
       "\n",
       "    .dataframe thead th {\n",
       "        text-align: right;\n",
       "    }\n",
       "</style>\n",
       "<table border=\"1\" class=\"dataframe\">\n",
       "  <thead>\n",
       "    <tr style=\"text-align: right;\">\n",
       "      <th></th>\n",
       "      <th>b</th>\n",
       "      <th>c</th>\n",
       "      <th>d</th>\n",
       "    </tr>\n",
       "  </thead>\n",
       "  <tbody>\n",
       "    <tr>\n",
       "      <th>0</th>\n",
       "      <td>4397073.0</td>\n",
       "      <td>704</td>\n",
       "      <td>4397073.0</td>\n",
       "    </tr>\n",
       "    <tr>\n",
       "      <th>1</th>\n",
       "      <td>1155574.0</td>\n",
       "      <td>2085</td>\n",
       "      <td>1155574.0</td>\n",
       "    </tr>\n",
       "    <tr>\n",
       "      <th>2</th>\n",
       "      <td>1208333.0</td>\n",
       "      <td>220</td>\n",
       "      <td>1208333.0</td>\n",
       "    </tr>\n",
       "    <tr>\n",
       "      <th>3</th>\n",
       "      <td>1670570.0</td>\n",
       "      <td>3024</td>\n",
       "      <td>1670570.0</td>\n",
       "    </tr>\n",
       "    <tr>\n",
       "      <th>4</th>\n",
       "      <td>867457.0</td>\n",
       "      <td>25942</td>\n",
       "      <td>867457.0</td>\n",
       "    </tr>\n",
       "    <tr>\n",
       "      <th>5</th>\n",
       "      <td>926976.0</td>\n",
       "      <td>68233</td>\n",
       "      <td>926976.0</td>\n",
       "    </tr>\n",
       "    <tr>\n",
       "      <th>6</th>\n",
       "      <td>459785.0</td>\n",
       "      <td>70944</td>\n",
       "      <td>459785.0</td>\n",
       "    </tr>\n",
       "    <tr>\n",
       "      <th>7</th>\n",
       "      <td>759164.0</td>\n",
       "      <td>3325</td>\n",
       "      <td>759164.0</td>\n",
       "    </tr>\n",
       "    <tr>\n",
       "      <th>8</th>\n",
       "      <td>4397073.0</td>\n",
       "      <td>704</td>\n",
       "      <td>4397073.0</td>\n",
       "    </tr>\n",
       "    <tr>\n",
       "      <th>9</th>\n",
       "      <td>1463451.0</td>\n",
       "      <td>2821</td>\n",
       "      <td>1463451.0</td>\n",
       "    </tr>\n",
       "  </tbody>\n",
       "</table>\n",
       "</div>"
      ],
      "text/plain": [
       "           b      c          d\n",
       "0  4397073.0    704  4397073.0\n",
       "1  1155574.0   2085  1155574.0\n",
       "2  1208333.0    220  1208333.0\n",
       "3  1670570.0   3024  1670570.0\n",
       "4   867457.0  25942   867457.0\n",
       "5   926976.0  68233   926976.0\n",
       "6   459785.0  70944   459785.0\n",
       "7   759164.0   3325   759164.0\n",
       "8  4397073.0    704  4397073.0\n",
       "9  1463451.0   2821  1463451.0"
      ]
     },
     "execution_count": 113,
     "metadata": {},
     "output_type": "execute_result"
    }
   ],
   "source": [
    "df2"
   ]
  },
  {
   "cell_type": "code",
   "execution_count": 114,
   "id": "c4feaff7",
   "metadata": {},
   "outputs": [
    {
     "data": {
      "text/html": [
       "<div>\n",
       "<style scoped>\n",
       "    .dataframe tbody tr th:only-of-type {\n",
       "        vertical-align: middle;\n",
       "    }\n",
       "\n",
       "    .dataframe tbody tr th {\n",
       "        vertical-align: top;\n",
       "    }\n",
       "\n",
       "    .dataframe thead th {\n",
       "        text-align: right;\n",
       "    }\n",
       "</style>\n",
       "<table border=\"1\" class=\"dataframe\">\n",
       "  <thead>\n",
       "    <tr style=\"text-align: right;\">\n",
       "      <th></th>\n",
       "      <th>b</th>\n",
       "      <th>c</th>\n",
       "      <th>d</th>\n",
       "    </tr>\n",
       "  </thead>\n",
       "  <tbody>\n",
       "    <tr>\n",
       "      <th>0</th>\n",
       "      <td>4397073.0</td>\n",
       "      <td>704</td>\n",
       "      <td>4397073.0</td>\n",
       "    </tr>\n",
       "    <tr>\n",
       "      <th>8</th>\n",
       "      <td>4397073.0</td>\n",
       "      <td>704</td>\n",
       "      <td>4397073.0</td>\n",
       "    </tr>\n",
       "  </tbody>\n",
       "</table>\n",
       "</div>"
      ],
      "text/plain": [
       "           b    c          d\n",
       "0  4397073.0  704  4397073.0\n",
       "8  4397073.0  704  4397073.0"
      ]
     },
     "execution_count": 114,
     "metadata": {},
     "output_type": "execute_result"
    }
   ],
   "source": [
    "df2.query('c==704')"
   ]
  },
  {
   "cell_type": "code",
   "execution_count": 115,
   "id": "7cfc7139",
   "metadata": {},
   "outputs": [],
   "source": [
    "#add new column\n",
    "df2['e']=5"
   ]
  },
  {
   "cell_type": "code",
   "execution_count": 116,
   "id": "25486ed0",
   "metadata": {},
   "outputs": [],
   "source": [
    "#a column with specific values\n",
    "df2['e']=[1,2,3,4,5,6,7,8,9,10]"
   ]
  },
  {
   "cell_type": "code",
   "execution_count": 117,
   "id": "88b4fd6b",
   "metadata": {},
   "outputs": [],
   "source": [
    "df2.dropna()\n",
    "df2['density']=df2['b'] / df2['c']"
   ]
  },
  {
   "cell_type": "code",
   "execution_count": 118,
   "id": "8db46678",
   "metadata": {},
   "outputs": [
    {
     "data": {
      "text/html": [
       "<div>\n",
       "<style scoped>\n",
       "    .dataframe tbody tr th:only-of-type {\n",
       "        vertical-align: middle;\n",
       "    }\n",
       "\n",
       "    .dataframe tbody tr th {\n",
       "        vertical-align: top;\n",
       "    }\n",
       "\n",
       "    .dataframe thead th {\n",
       "        text-align: right;\n",
       "    }\n",
       "</style>\n",
       "<table border=\"1\" class=\"dataframe\">\n",
       "  <thead>\n",
       "    <tr style=\"text-align: right;\">\n",
       "      <th></th>\n",
       "      <th>b</th>\n",
       "      <th>c</th>\n",
       "      <th>d</th>\n",
       "      <th>e</th>\n",
       "      <th>density</th>\n",
       "    </tr>\n",
       "  </thead>\n",
       "  <tbody>\n",
       "    <tr>\n",
       "      <th>0</th>\n",
       "      <td>4397073.0</td>\n",
       "      <td>704</td>\n",
       "      <td>4397073.0</td>\n",
       "      <td>1</td>\n",
       "      <td>6245.842330</td>\n",
       "    </tr>\n",
       "    <tr>\n",
       "      <th>1</th>\n",
       "      <td>1155574.0</td>\n",
       "      <td>2085</td>\n",
       "      <td>1155574.0</td>\n",
       "      <td>2</td>\n",
       "      <td>554.232134</td>\n",
       "    </tr>\n",
       "    <tr>\n",
       "      <th>2</th>\n",
       "      <td>1208333.0</td>\n",
       "      <td>220</td>\n",
       "      <td>1208333.0</td>\n",
       "      <td>3</td>\n",
       "      <td>5492.422727</td>\n",
       "    </tr>\n",
       "    <tr>\n",
       "      <th>3</th>\n",
       "      <td>1670570.0</td>\n",
       "      <td>3024</td>\n",
       "      <td>1670570.0</td>\n",
       "      <td>4</td>\n",
       "      <td>552.437169</td>\n",
       "    </tr>\n",
       "    <tr>\n",
       "      <th>4</th>\n",
       "      <td>867457.0</td>\n",
       "      <td>25942</td>\n",
       "      <td>867457.0</td>\n",
       "      <td>5</td>\n",
       "      <td>33.438324</td>\n",
       "    </tr>\n",
       "    <tr>\n",
       "      <th>5</th>\n",
       "      <td>926976.0</td>\n",
       "      <td>68233</td>\n",
       "      <td>926976.0</td>\n",
       "      <td>6</td>\n",
       "      <td>13.585450</td>\n",
       "    </tr>\n",
       "    <tr>\n",
       "      <th>6</th>\n",
       "      <td>459785.0</td>\n",
       "      <td>70944</td>\n",
       "      <td>459785.0</td>\n",
       "      <td>7</td>\n",
       "      <td>6.480957</td>\n",
       "    </tr>\n",
       "    <tr>\n",
       "      <th>7</th>\n",
       "      <td>759164.0</td>\n",
       "      <td>3325</td>\n",
       "      <td>759164.0</td>\n",
       "      <td>8</td>\n",
       "      <td>228.320000</td>\n",
       "    </tr>\n",
       "    <tr>\n",
       "      <th>8</th>\n",
       "      <td>4397073.0</td>\n",
       "      <td>704</td>\n",
       "      <td>4397073.0</td>\n",
       "      <td>9</td>\n",
       "      <td>6245.842330</td>\n",
       "    </tr>\n",
       "    <tr>\n",
       "      <th>9</th>\n",
       "      <td>1463451.0</td>\n",
       "      <td>2821</td>\n",
       "      <td>1463451.0</td>\n",
       "      <td>10</td>\n",
       "      <td>518.770294</td>\n",
       "    </tr>\n",
       "  </tbody>\n",
       "</table>\n",
       "</div>"
      ],
      "text/plain": [
       "           b      c          d   e      density\n",
       "0  4397073.0    704  4397073.0   1  6245.842330\n",
       "1  1155574.0   2085  1155574.0   2   554.232134\n",
       "2  1208333.0    220  1208333.0   3  5492.422727\n",
       "3  1670570.0   3024  1670570.0   4   552.437169\n",
       "4   867457.0  25942   867457.0   5    33.438324\n",
       "5   926976.0  68233   926976.0   6    13.585450\n",
       "6   459785.0  70944   459785.0   7     6.480957\n",
       "7   759164.0   3325   759164.0   8   228.320000\n",
       "8  4397073.0    704  4397073.0   9  6245.842330\n",
       "9  1463451.0   2821  1463451.0  10   518.770294"
      ]
     },
     "execution_count": 118,
     "metadata": {},
     "output_type": "execute_result"
    }
   ],
   "source": [
    "df2"
   ]
  },
  {
   "cell_type": "code",
   "execution_count": 119,
   "id": "b88f913d",
   "metadata": {},
   "outputs": [
    {
     "data": {
      "text/html": [
       "<div>\n",
       "<style scoped>\n",
       "    .dataframe tbody tr th:only-of-type {\n",
       "        vertical-align: middle;\n",
       "    }\n",
       "\n",
       "    .dataframe tbody tr th {\n",
       "        vertical-align: top;\n",
       "    }\n",
       "\n",
       "    .dataframe thead th {\n",
       "        text-align: right;\n",
       "    }\n",
       "</style>\n",
       "<table border=\"1\" class=\"dataframe\">\n",
       "  <thead>\n",
       "    <tr style=\"text-align: right;\">\n",
       "      <th></th>\n",
       "      <th>b</th>\n",
       "      <th>c</th>\n",
       "      <th>d</th>\n",
       "      <th>e</th>\n",
       "      <th>density</th>\n",
       "    </tr>\n",
       "  </thead>\n",
       "  <tbody>\n",
       "    <tr>\n",
       "      <th>0</th>\n",
       "      <td>4397073.0</td>\n",
       "      <td>704</td>\n",
       "      <td>4397073.0</td>\n",
       "      <td>1</td>\n",
       "      <td>6245.842330</td>\n",
       "    </tr>\n",
       "    <tr>\n",
       "      <th>1</th>\n",
       "      <td>1155574.0</td>\n",
       "      <td>2085</td>\n",
       "      <td>1155574.0</td>\n",
       "      <td>2</td>\n",
       "      <td>554.232134</td>\n",
       "    </tr>\n",
       "    <tr>\n",
       "      <th>2</th>\n",
       "      <td>1208333.0</td>\n",
       "      <td>220</td>\n",
       "      <td>1208333.0</td>\n",
       "      <td>3</td>\n",
       "      <td>5492.422727</td>\n",
       "    </tr>\n",
       "    <tr>\n",
       "      <th>3</th>\n",
       "      <td>1670570.0</td>\n",
       "      <td>3024</td>\n",
       "      <td>1670570.0</td>\n",
       "      <td>4</td>\n",
       "      <td>552.437169</td>\n",
       "    </tr>\n",
       "    <tr>\n",
       "      <th>4</th>\n",
       "      <td>867457.0</td>\n",
       "      <td>25942</td>\n",
       "      <td>867457.0</td>\n",
       "      <td>5</td>\n",
       "      <td>33.438324</td>\n",
       "    </tr>\n",
       "    <tr>\n",
       "      <th>5</th>\n",
       "      <td>926976.0</td>\n",
       "      <td>68233</td>\n",
       "      <td>926976.0</td>\n",
       "      <td>6</td>\n",
       "      <td>13.585450</td>\n",
       "    </tr>\n",
       "    <tr>\n",
       "      <th>6</th>\n",
       "      <td>459785.0</td>\n",
       "      <td>70944</td>\n",
       "      <td>459785.0</td>\n",
       "      <td>7</td>\n",
       "      <td>6.480957</td>\n",
       "    </tr>\n",
       "    <tr>\n",
       "      <th>7</th>\n",
       "      <td>759164.0</td>\n",
       "      <td>3325</td>\n",
       "      <td>759164.0</td>\n",
       "      <td>8</td>\n",
       "      <td>228.320000</td>\n",
       "    </tr>\n",
       "    <tr>\n",
       "      <th>8</th>\n",
       "      <td>4397073.0</td>\n",
       "      <td>704</td>\n",
       "      <td>4397073.0</td>\n",
       "      <td>9</td>\n",
       "      <td>6245.842330</td>\n",
       "    </tr>\n",
       "    <tr>\n",
       "      <th>9</th>\n",
       "      <td>1463451.0</td>\n",
       "      <td>2821</td>\n",
       "      <td>1463451.0</td>\n",
       "      <td>10</td>\n",
       "      <td>518.770294</td>\n",
       "    </tr>\n",
       "  </tbody>\n",
       "</table>\n",
       "</div>"
      ],
      "text/plain": [
       "           b      c          d   e      density\n",
       "0  4397073.0    704  4397073.0   1  6245.842330\n",
       "1  1155574.0   2085  1155574.0   2   554.232134\n",
       "2  1208333.0    220  1208333.0   3  5492.422727\n",
       "3  1670570.0   3024  1670570.0   4   552.437169\n",
       "4   867457.0  25942   867457.0   5    33.438324\n",
       "5   926976.0  68233   926976.0   6    13.585450\n",
       "6   459785.0  70944   459785.0   7     6.480957\n",
       "7   759164.0   3325   759164.0   8   228.320000\n",
       "8  4397073.0    704  4397073.0   9  6245.842330\n",
       "9  1463451.0   2821  1463451.0  10   518.770294"
      ]
     },
     "execution_count": 119,
     "metadata": {},
     "output_type": "execute_result"
    }
   ],
   "source": [
    "df2"
   ]
  },
  {
   "cell_type": "code",
   "execution_count": 120,
   "id": "8d1ebc8e",
   "metadata": {},
   "outputs": [
    {
     "data": {
      "text/html": [
       "<div>\n",
       "<style scoped>\n",
       "    .dataframe tbody tr th:only-of-type {\n",
       "        vertical-align: middle;\n",
       "    }\n",
       "\n",
       "    .dataframe tbody tr th {\n",
       "        vertical-align: top;\n",
       "    }\n",
       "\n",
       "    .dataframe thead th {\n",
       "        text-align: right;\n",
       "    }\n",
       "</style>\n",
       "<table border=\"1\" class=\"dataframe\">\n",
       "  <thead>\n",
       "    <tr style=\"text-align: right;\">\n",
       "      <th></th>\n",
       "      <th>b</th>\n",
       "      <th>c</th>\n",
       "      <th>d</th>\n",
       "      <th>e</th>\n",
       "      <th>density</th>\n",
       "    </tr>\n",
       "  </thead>\n",
       "  <tbody>\n",
       "    <tr>\n",
       "      <th>0</th>\n",
       "      <td>4397073.0</td>\n",
       "      <td>704</td>\n",
       "      <td>4397073.0</td>\n",
       "      <td>1</td>\n",
       "      <td>6245.842330</td>\n",
       "    </tr>\n",
       "    <tr>\n",
       "      <th>1</th>\n",
       "      <td>1155574.0</td>\n",
       "      <td>2085</td>\n",
       "      <td>1155574.0</td>\n",
       "      <td>2</td>\n",
       "      <td>554.232134</td>\n",
       "    </tr>\n",
       "    <tr>\n",
       "      <th>2</th>\n",
       "      <td>1208333.0</td>\n",
       "      <td>220</td>\n",
       "      <td>1208333.0</td>\n",
       "      <td>3</td>\n",
       "      <td>5492.422727</td>\n",
       "    </tr>\n",
       "    <tr>\n",
       "      <th>3</th>\n",
       "      <td>1670570.0</td>\n",
       "      <td>3024</td>\n",
       "      <td>1670570.0</td>\n",
       "      <td>4</td>\n",
       "      <td>552.437169</td>\n",
       "    </tr>\n",
       "    <tr>\n",
       "      <th>4</th>\n",
       "      <td>867457.0</td>\n",
       "      <td>25942</td>\n",
       "      <td>867457.0</td>\n",
       "      <td>5</td>\n",
       "      <td>33.438324</td>\n",
       "    </tr>\n",
       "    <tr>\n",
       "      <th>5</th>\n",
       "      <td>926976.0</td>\n",
       "      <td>68233</td>\n",
       "      <td>926976.0</td>\n",
       "      <td>6</td>\n",
       "      <td>13.585450</td>\n",
       "    </tr>\n",
       "    <tr>\n",
       "      <th>6</th>\n",
       "      <td>459785.0</td>\n",
       "      <td>70944</td>\n",
       "      <td>459785.0</td>\n",
       "      <td>7</td>\n",
       "      <td>6.480957</td>\n",
       "    </tr>\n",
       "    <tr>\n",
       "      <th>7</th>\n",
       "      <td>759164.0</td>\n",
       "      <td>3325</td>\n",
       "      <td>759164.0</td>\n",
       "      <td>8</td>\n",
       "      <td>228.320000</td>\n",
       "    </tr>\n",
       "    <tr>\n",
       "      <th>8</th>\n",
       "      <td>4397073.0</td>\n",
       "      <td>704</td>\n",
       "      <td>4397073.0</td>\n",
       "      <td>9</td>\n",
       "      <td>6245.842330</td>\n",
       "    </tr>\n",
       "    <tr>\n",
       "      <th>9</th>\n",
       "      <td>1463451.0</td>\n",
       "      <td>2821</td>\n",
       "      <td>1463451.0</td>\n",
       "      <td>10</td>\n",
       "      <td>518.770294</td>\n",
       "    </tr>\n",
       "  </tbody>\n",
       "</table>\n",
       "</div>"
      ],
      "text/plain": [
       "           b      c          d   e      density\n",
       "0  4397073.0    704  4397073.0   1  6245.842330\n",
       "1  1155574.0   2085  1155574.0   2   554.232134\n",
       "2  1208333.0    220  1208333.0   3  5492.422727\n",
       "3  1670570.0   3024  1670570.0   4   552.437169\n",
       "4   867457.0  25942   867457.0   5    33.438324\n",
       "5   926976.0  68233   926976.0   6    13.585450\n",
       "6   459785.0  70944   459785.0   7     6.480957\n",
       "7   759164.0   3325   759164.0   8   228.320000\n",
       "8  4397073.0    704  4397073.0   9  6245.842330\n",
       "9  1463451.0   2821  1463451.0  10   518.770294"
      ]
     },
     "execution_count": 120,
     "metadata": {},
     "output_type": "execute_result"
    }
   ],
   "source": [
    "df2"
   ]
  },
  {
   "cell_type": "markdown",
   "id": "1b276986-ca2b-4855-a594-17428b0abfd9",
   "metadata": {
    "jp-MarkdownHeadingCollapsed": true,
    "tags": []
   },
   "source": [
    "#### **dropping columns**"
   ]
  },
  {
   "cell_type": "raw",
   "id": "1d216e99-62b8-4c58-8edf-cb53c136b09c",
   "metadata": {},
   "source": [
    "--we use\n",
    "\n",
    "df2.drop('a',axis=1,inplace = True)"
   ]
  },
  {
   "cell_type": "code",
   "execution_count": 121,
   "id": "74f44c3b",
   "metadata": {},
   "outputs": [],
   "source": [
    "del(df2['b'])"
   ]
  },
  {
   "cell_type": "code",
   "execution_count": 122,
   "id": "16d79acf-edfc-482a-b6eb-867b9bddb07d",
   "metadata": {},
   "outputs": [
    {
     "data": {
      "text/html": [
       "<div>\n",
       "<style scoped>\n",
       "    .dataframe tbody tr th:only-of-type {\n",
       "        vertical-align: middle;\n",
       "    }\n",
       "\n",
       "    .dataframe tbody tr th {\n",
       "        vertical-align: top;\n",
       "    }\n",
       "\n",
       "    .dataframe thead th {\n",
       "        text-align: right;\n",
       "    }\n",
       "</style>\n",
       "<table border=\"1\" class=\"dataframe\">\n",
       "  <thead>\n",
       "    <tr style=\"text-align: right;\">\n",
       "      <th></th>\n",
       "      <th>c</th>\n",
       "      <th>d</th>\n",
       "      <th>e</th>\n",
       "      <th>density</th>\n",
       "    </tr>\n",
       "  </thead>\n",
       "  <tbody>\n",
       "    <tr>\n",
       "      <th>0</th>\n",
       "      <td>704</td>\n",
       "      <td>4397073.0</td>\n",
       "      <td>1</td>\n",
       "      <td>6245.842330</td>\n",
       "    </tr>\n",
       "    <tr>\n",
       "      <th>1</th>\n",
       "      <td>2085</td>\n",
       "      <td>1155574.0</td>\n",
       "      <td>2</td>\n",
       "      <td>554.232134</td>\n",
       "    </tr>\n",
       "    <tr>\n",
       "      <th>2</th>\n",
       "      <td>220</td>\n",
       "      <td>1208333.0</td>\n",
       "      <td>3</td>\n",
       "      <td>5492.422727</td>\n",
       "    </tr>\n",
       "    <tr>\n",
       "      <th>3</th>\n",
       "      <td>3024</td>\n",
       "      <td>1670570.0</td>\n",
       "      <td>4</td>\n",
       "      <td>552.437169</td>\n",
       "    </tr>\n",
       "    <tr>\n",
       "      <th>4</th>\n",
       "      <td>25942</td>\n",
       "      <td>867457.0</td>\n",
       "      <td>5</td>\n",
       "      <td>33.438324</td>\n",
       "    </tr>\n",
       "    <tr>\n",
       "      <th>5</th>\n",
       "      <td>68233</td>\n",
       "      <td>926976.0</td>\n",
       "      <td>6</td>\n",
       "      <td>13.585450</td>\n",
       "    </tr>\n",
       "    <tr>\n",
       "      <th>6</th>\n",
       "      <td>70944</td>\n",
       "      <td>459785.0</td>\n",
       "      <td>7</td>\n",
       "      <td>6.480957</td>\n",
       "    </tr>\n",
       "    <tr>\n",
       "      <th>7</th>\n",
       "      <td>3325</td>\n",
       "      <td>759164.0</td>\n",
       "      <td>8</td>\n",
       "      <td>228.320000</td>\n",
       "    </tr>\n",
       "    <tr>\n",
       "      <th>8</th>\n",
       "      <td>704</td>\n",
       "      <td>4397073.0</td>\n",
       "      <td>9</td>\n",
       "      <td>6245.842330</td>\n",
       "    </tr>\n",
       "    <tr>\n",
       "      <th>9</th>\n",
       "      <td>2821</td>\n",
       "      <td>1463451.0</td>\n",
       "      <td>10</td>\n",
       "      <td>518.770294</td>\n",
       "    </tr>\n",
       "  </tbody>\n",
       "</table>\n",
       "</div>"
      ],
      "text/plain": [
       "       c          d   e      density\n",
       "0    704  4397073.0   1  6245.842330\n",
       "1   2085  1155574.0   2   554.232134\n",
       "2    220  1208333.0   3  5492.422727\n",
       "3   3024  1670570.0   4   552.437169\n",
       "4  25942   867457.0   5    33.438324\n",
       "5  68233   926976.0   6    13.585450\n",
       "6  70944   459785.0   7     6.480957\n",
       "7   3325   759164.0   8   228.320000\n",
       "8    704  4397073.0   9  6245.842330\n",
       "9   2821  1463451.0  10   518.770294"
      ]
     },
     "execution_count": 122,
     "metadata": {},
     "output_type": "execute_result"
    }
   ],
   "source": [
    "df2"
   ]
  },
  {
   "cell_type": "markdown",
   "id": "3c712679",
   "metadata": {
    "jp-MarkdownHeadingCollapsed": true,
    "tags": []
   },
   "source": [
    "### **Boolean indexing**"
   ]
  },
  {
   "cell_type": "markdown",
   "id": "c33425ba",
   "metadata": {},
   "source": [
    "--Uses single column values to select data.\n"
   ]
  },
  {
   "cell_type": "code",
   "execution_count": 123,
   "id": "f194e607-ab00-44aa-9678-7c9587d17494",
   "metadata": {},
   "outputs": [
    {
     "data": {
      "text/html": [
       "<div>\n",
       "<style scoped>\n",
       "    .dataframe tbody tr th:only-of-type {\n",
       "        vertical-align: middle;\n",
       "    }\n",
       "\n",
       "    .dataframe tbody tr th {\n",
       "        vertical-align: top;\n",
       "    }\n",
       "\n",
       "    .dataframe thead th {\n",
       "        text-align: right;\n",
       "    }\n",
       "</style>\n",
       "<table border=\"1\" class=\"dataframe\">\n",
       "  <thead>\n",
       "    <tr style=\"text-align: right;\">\n",
       "      <th></th>\n",
       "      <th>County</th>\n",
       "      <th>Population</th>\n",
       "      <th>Area</th>\n",
       "      <th>count</th>\n",
       "    </tr>\n",
       "  </thead>\n",
       "  <tbody>\n",
       "    <tr>\n",
       "      <th>0</th>\n",
       "      <td>Nairobi</td>\n",
       "      <td>4397073.0</td>\n",
       "      <td>704</td>\n",
       "      <td>4397073.0</td>\n",
       "    </tr>\n",
       "    <tr>\n",
       "      <th>1</th>\n",
       "      <td>Kisumu</td>\n",
       "      <td>1155574.0</td>\n",
       "      <td>2085</td>\n",
       "      <td>1155574.0</td>\n",
       "    </tr>\n",
       "    <tr>\n",
       "      <th>2</th>\n",
       "      <td>Mombasa</td>\n",
       "      <td>1208333.0</td>\n",
       "      <td>220</td>\n",
       "      <td>1208333.0</td>\n",
       "    </tr>\n",
       "    <tr>\n",
       "      <th>3</th>\n",
       "      <td>Bungoma</td>\n",
       "      <td>1670570.0</td>\n",
       "      <td>3024</td>\n",
       "      <td>1670570.0</td>\n",
       "    </tr>\n",
       "    <tr>\n",
       "      <th>4</th>\n",
       "      <td>Mandera</td>\n",
       "      <td>867457.0</td>\n",
       "      <td>25942</td>\n",
       "      <td>867457.0</td>\n",
       "    </tr>\n",
       "    <tr>\n",
       "      <th>5</th>\n",
       "      <td>Turkana</td>\n",
       "      <td>926976.0</td>\n",
       "      <td>68233</td>\n",
       "      <td>926976.0</td>\n",
       "    </tr>\n",
       "    <tr>\n",
       "      <th>6</th>\n",
       "      <td>Marsabit</td>\n",
       "      <td>459785.0</td>\n",
       "      <td>70944</td>\n",
       "      <td>459785.0</td>\n",
       "    </tr>\n",
       "    <tr>\n",
       "      <th>7</th>\n",
       "      <td>Nyeri</td>\n",
       "      <td>759164.0</td>\n",
       "      <td>3325</td>\n",
       "      <td>759164.0</td>\n",
       "    </tr>\n",
       "    <tr>\n",
       "      <th>8</th>\n",
       "      <td>Nairobi</td>\n",
       "      <td>4397073.0</td>\n",
       "      <td>704</td>\n",
       "      <td>4397073.0</td>\n",
       "    </tr>\n",
       "    <tr>\n",
       "      <th>9</th>\n",
       "      <td>Embu</td>\n",
       "      <td>NaN</td>\n",
       "      <td>2821</td>\n",
       "      <td>NaN</td>\n",
       "    </tr>\n",
       "  </tbody>\n",
       "</table>\n",
       "</div>"
      ],
      "text/plain": [
       "     County  Population   Area      count\n",
       "0   Nairobi   4397073.0    704  4397073.0\n",
       "1    Kisumu   1155574.0   2085  1155574.0\n",
       "2   Mombasa   1208333.0    220  1208333.0\n",
       "3   Bungoma   1670570.0   3024  1670570.0\n",
       "4   Mandera    867457.0  25942   867457.0\n",
       "5   Turkana    926976.0  68233   926976.0\n",
       "6  Marsabit    459785.0  70944   459785.0\n",
       "7     Nyeri    759164.0   3325   759164.0\n",
       "8   Nairobi   4397073.0    704  4397073.0\n",
       "9      Embu         NaN   2821        NaN"
      ]
     },
     "execution_count": 123,
     "metadata": {},
     "output_type": "execute_result"
    }
   ],
   "source": [
    "import pandas as pd\n",
    "df2=pd.read_csv((\"df.csv\"))\n",
    "df2"
   ]
  },
  {
   "cell_type": "code",
   "execution_count": 124,
   "id": "99434848",
   "metadata": {},
   "outputs": [
    {
     "data": {
      "text/html": [
       "<div>\n",
       "<style scoped>\n",
       "    .dataframe tbody tr th:only-of-type {\n",
       "        vertical-align: middle;\n",
       "    }\n",
       "\n",
       "    .dataframe tbody tr th {\n",
       "        vertical-align: top;\n",
       "    }\n",
       "\n",
       "    .dataframe thead th {\n",
       "        text-align: right;\n",
       "    }\n",
       "</style>\n",
       "<table border=\"1\" class=\"dataframe\">\n",
       "  <thead>\n",
       "    <tr style=\"text-align: right;\">\n",
       "      <th></th>\n",
       "      <th>County</th>\n",
       "      <th>Population</th>\n",
       "      <th>Area</th>\n",
       "      <th>count</th>\n",
       "    </tr>\n",
       "  </thead>\n",
       "  <tbody>\n",
       "    <tr>\n",
       "      <th>0</th>\n",
       "      <td>Nairobi</td>\n",
       "      <td>4397073.0</td>\n",
       "      <td>704</td>\n",
       "      <td>4397073.0</td>\n",
       "    </tr>\n",
       "    <tr>\n",
       "      <th>1</th>\n",
       "      <td>Kisumu</td>\n",
       "      <td>1155574.0</td>\n",
       "      <td>2085</td>\n",
       "      <td>1155574.0</td>\n",
       "    </tr>\n",
       "    <tr>\n",
       "      <th>2</th>\n",
       "      <td>Mombasa</td>\n",
       "      <td>1208333.0</td>\n",
       "      <td>220</td>\n",
       "      <td>1208333.0</td>\n",
       "    </tr>\n",
       "    <tr>\n",
       "      <th>3</th>\n",
       "      <td>Bungoma</td>\n",
       "      <td>1670570.0</td>\n",
       "      <td>3024</td>\n",
       "      <td>1670570.0</td>\n",
       "    </tr>\n",
       "    <tr>\n",
       "      <th>4</th>\n",
       "      <td>Mandera</td>\n",
       "      <td>867457.0</td>\n",
       "      <td>25942</td>\n",
       "      <td>867457.0</td>\n",
       "    </tr>\n",
       "    <tr>\n",
       "      <th>5</th>\n",
       "      <td>Turkana</td>\n",
       "      <td>926976.0</td>\n",
       "      <td>68233</td>\n",
       "      <td>926976.0</td>\n",
       "    </tr>\n",
       "    <tr>\n",
       "      <th>8</th>\n",
       "      <td>Nairobi</td>\n",
       "      <td>4397073.0</td>\n",
       "      <td>704</td>\n",
       "      <td>4397073.0</td>\n",
       "    </tr>\n",
       "  </tbody>\n",
       "</table>\n",
       "</div>"
      ],
      "text/plain": [
       "    County  Population   Area      count\n",
       "0  Nairobi   4397073.0    704  4397073.0\n",
       "1   Kisumu   1155574.0   2085  1155574.0\n",
       "2  Mombasa   1208333.0    220  1208333.0\n",
       "3  Bungoma   1670570.0   3024  1670570.0\n",
       "4  Mandera    867457.0  25942   867457.0\n",
       "5  Turkana    926976.0  68233   926976.0\n",
       "8  Nairobi   4397073.0    704  4397073.0"
      ]
     },
     "execution_count": 124,
     "metadata": {},
     "output_type": "execute_result"
    }
   ],
   "source": [
    "df2[df2.Population>759164]"
   ]
  },
  {
   "cell_type": "code",
   "execution_count": 125,
   "id": "fc3f848e",
   "metadata": {},
   "outputs": [
    {
     "data": {
      "text/plain": [
       "County        0\n",
       "Population    1\n",
       "Area          0\n",
       "count         1\n",
       "dtype: int64"
      ]
     },
     "execution_count": 125,
     "metadata": {},
     "output_type": "execute_result"
    }
   ],
   "source": [
    "df2.isnull().sum()"
   ]
  },
  {
   "cell_type": "code",
   "execution_count": 126,
   "id": "246896a1",
   "metadata": {},
   "outputs": [],
   "source": [
    "df2.dropna(inplace = True)"
   ]
  },
  {
   "cell_type": "code",
   "execution_count": 127,
   "id": "001a1a7d",
   "metadata": {},
   "outputs": [
    {
     "data": {
      "text/html": [
       "<div>\n",
       "<style scoped>\n",
       "    .dataframe tbody tr th:only-of-type {\n",
       "        vertical-align: middle;\n",
       "    }\n",
       "\n",
       "    .dataframe tbody tr th {\n",
       "        vertical-align: top;\n",
       "    }\n",
       "\n",
       "    .dataframe thead th {\n",
       "        text-align: right;\n",
       "    }\n",
       "</style>\n",
       "<table border=\"1\" class=\"dataframe\">\n",
       "  <thead>\n",
       "    <tr style=\"text-align: right;\">\n",
       "      <th></th>\n",
       "      <th>County</th>\n",
       "      <th>Population</th>\n",
       "      <th>Area</th>\n",
       "      <th>count</th>\n",
       "    </tr>\n",
       "  </thead>\n",
       "  <tbody>\n",
       "    <tr>\n",
       "      <th>0</th>\n",
       "      <td>Nairobi</td>\n",
       "      <td>4397073.0</td>\n",
       "      <td>704</td>\n",
       "      <td>4397073.0</td>\n",
       "    </tr>\n",
       "    <tr>\n",
       "      <th>1</th>\n",
       "      <td>Kisumu</td>\n",
       "      <td>1155574.0</td>\n",
       "      <td>2085</td>\n",
       "      <td>1155574.0</td>\n",
       "    </tr>\n",
       "    <tr>\n",
       "      <th>2</th>\n",
       "      <td>Mombasa</td>\n",
       "      <td>1208333.0</td>\n",
       "      <td>220</td>\n",
       "      <td>1208333.0</td>\n",
       "    </tr>\n",
       "    <tr>\n",
       "      <th>3</th>\n",
       "      <td>Bungoma</td>\n",
       "      <td>1670570.0</td>\n",
       "      <td>3024</td>\n",
       "      <td>1670570.0</td>\n",
       "    </tr>\n",
       "    <tr>\n",
       "      <th>5</th>\n",
       "      <td>Turkana</td>\n",
       "      <td>926976.0</td>\n",
       "      <td>68233</td>\n",
       "      <td>926976.0</td>\n",
       "    </tr>\n",
       "    <tr>\n",
       "      <th>8</th>\n",
       "      <td>Nairobi</td>\n",
       "      <td>4397073.0</td>\n",
       "      <td>704</td>\n",
       "      <td>4397073.0</td>\n",
       "    </tr>\n",
       "  </tbody>\n",
       "</table>\n",
       "</div>"
      ],
      "text/plain": [
       "    County  Population   Area      count\n",
       "0  Nairobi   4397073.0    704  4397073.0\n",
       "1   Kisumu   1155574.0   2085  1155574.0\n",
       "2  Mombasa   1208333.0    220  1208333.0\n",
       "3  Bungoma   1670570.0   3024  1670570.0\n",
       "5  Turkana    926976.0  68233   926976.0\n",
       "8  Nairobi   4397073.0    704  4397073.0"
      ]
     },
     "execution_count": 127,
     "metadata": {},
     "output_type": "execute_result"
    }
   ],
   "source": [
    "df2[df2[\"count\"]>867457]"
   ]
  },
  {
   "cell_type": "markdown",
   "id": "ed156acb-006b-4c78-9952-2d08406f6738",
   "metadata": {
    "tags": []
   },
   "source": [
    "### Other"
   ]
  },
  {
   "cell_type": "code",
   "execution_count": 128,
   "id": "d1c956ff",
   "metadata": {},
   "outputs": [
    {
     "data": {
      "text/html": [
       "<div>\n",
       "<style scoped>\n",
       "    .dataframe tbody tr th:only-of-type {\n",
       "        vertical-align: middle;\n",
       "    }\n",
       "\n",
       "    .dataframe tbody tr th {\n",
       "        vertical-align: top;\n",
       "    }\n",
       "\n",
       "    .dataframe thead th {\n",
       "        text-align: right;\n",
       "    }\n",
       "</style>\n",
       "<table border=\"1\" class=\"dataframe\">\n",
       "  <thead>\n",
       "    <tr style=\"text-align: right;\">\n",
       "      <th></th>\n",
       "      <th>County</th>\n",
       "      <th>Population</th>\n",
       "      <th>Area</th>\n",
       "      <th>count</th>\n",
       "    </tr>\n",
       "  </thead>\n",
       "  <tbody>\n",
       "    <tr>\n",
       "      <th>0</th>\n",
       "      <td>Nairobi</td>\n",
       "      <td>4397073.0</td>\n",
       "      <td>704</td>\n",
       "      <td>4397073.0</td>\n",
       "    </tr>\n",
       "    <tr>\n",
       "      <th>1</th>\n",
       "      <td>Kisumu</td>\n",
       "      <td>1155574.0</td>\n",
       "      <td>2085</td>\n",
       "      <td>1155574.0</td>\n",
       "    </tr>\n",
       "    <tr>\n",
       "      <th>2</th>\n",
       "      <td>Mombasa</td>\n",
       "      <td>1208333.0</td>\n",
       "      <td>220</td>\n",
       "      <td>1208333.0</td>\n",
       "    </tr>\n",
       "    <tr>\n",
       "      <th>3</th>\n",
       "      <td>Bungoma</td>\n",
       "      <td>1670570.0</td>\n",
       "      <td>3024</td>\n",
       "      <td>1670570.0</td>\n",
       "    </tr>\n",
       "    <tr>\n",
       "      <th>4</th>\n",
       "      <td>Mandera</td>\n",
       "      <td>867457.0</td>\n",
       "      <td>25942</td>\n",
       "      <td>867457.0</td>\n",
       "    </tr>\n",
       "    <tr>\n",
       "      <th>5</th>\n",
       "      <td>Turkana</td>\n",
       "      <td>926976.0</td>\n",
       "      <td>68233</td>\n",
       "      <td>926976.0</td>\n",
       "    </tr>\n",
       "    <tr>\n",
       "      <th>6</th>\n",
       "      <td>Marsabit</td>\n",
       "      <td>459785.0</td>\n",
       "      <td>70944</td>\n",
       "      <td>459785.0</td>\n",
       "    </tr>\n",
       "    <tr>\n",
       "      <th>7</th>\n",
       "      <td>Nyeri</td>\n",
       "      <td>759164.0</td>\n",
       "      <td>3325</td>\n",
       "      <td>759164.0</td>\n",
       "    </tr>\n",
       "    <tr>\n",
       "      <th>8</th>\n",
       "      <td>Nairobi</td>\n",
       "      <td>4397073.0</td>\n",
       "      <td>704</td>\n",
       "      <td>4397073.0</td>\n",
       "    </tr>\n",
       "  </tbody>\n",
       "</table>\n",
       "</div>"
      ],
      "text/plain": [
       "     County  Population   Area      count\n",
       "0   Nairobi   4397073.0    704  4397073.0\n",
       "1    Kisumu   1155574.0   2085  1155574.0\n",
       "2   Mombasa   1208333.0    220  1208333.0\n",
       "3   Bungoma   1670570.0   3024  1670570.0\n",
       "4   Mandera    867457.0  25942   867457.0\n",
       "5   Turkana    926976.0  68233   926976.0\n",
       "6  Marsabit    459785.0  70944   459785.0\n",
       "7     Nyeri    759164.0   3325   759164.0\n",
       "8   Nairobi   4397073.0    704  4397073.0"
      ]
     },
     "execution_count": 128,
     "metadata": {},
     "output_type": "execute_result"
    }
   ],
   "source": [
    "df2"
   ]
  },
  {
   "cell_type": "code",
   "execution_count": 16,
   "id": "c5f99ed7",
   "metadata": {},
   "outputs": [
    {
     "data": {
      "text/html": [
       "<div>\n",
       "<style scoped>\n",
       "    .dataframe tbody tr th:only-of-type {\n",
       "        vertical-align: middle;\n",
       "    }\n",
       "\n",
       "    .dataframe tbody tr th {\n",
       "        vertical-align: top;\n",
       "    }\n",
       "\n",
       "    .dataframe thead th {\n",
       "        text-align: right;\n",
       "    }\n",
       "</style>\n",
       "<table border=\"1\" class=\"dataframe\">\n",
       "  <thead>\n",
       "    <tr style=\"text-align: right;\">\n",
       "      <th></th>\n",
       "      <th>County</th>\n",
       "      <th>Sub County</th>\n",
       "      <th>Population</th>\n",
       "      <th>Households</th>\n",
       "      <th>Average Household Size</th>\n",
       "    </tr>\n",
       "  </thead>\n",
       "  <tbody>\n",
       "    <tr>\n",
       "      <th>0</th>\n",
       "      <td>Mombasa</td>\n",
       "      <td>Changamwe</td>\n",
       "      <td>130541.0</td>\n",
       "      <td>46614.0</td>\n",
       "      <td>2.8</td>\n",
       "    </tr>\n",
       "    <tr>\n",
       "      <th>1</th>\n",
       "      <td>Mombasa</td>\n",
       "      <td>Jomvu</td>\n",
       "      <td>162760.0</td>\n",
       "      <td>53472.0</td>\n",
       "      <td>3.0</td>\n",
       "    </tr>\n",
       "    <tr>\n",
       "      <th>2</th>\n",
       "      <td>Mombasa</td>\n",
       "      <td>Kisauni</td>\n",
       "      <td>287131.0</td>\n",
       "      <td>88202.0</td>\n",
       "      <td>3.3</td>\n",
       "    </tr>\n",
       "    <tr>\n",
       "      <th>3</th>\n",
       "      <td>Mombasa</td>\n",
       "      <td>Likoni</td>\n",
       "      <td>249230.0</td>\n",
       "      <td>81191.0</td>\n",
       "      <td>3.1</td>\n",
       "    </tr>\n",
       "    <tr>\n",
       "      <th>4</th>\n",
       "      <td>Mombasa</td>\n",
       "      <td>Mvita</td>\n",
       "      <td>147983.0</td>\n",
       "      <td>38995.0</td>\n",
       "      <td>3.8</td>\n",
       "    </tr>\n",
       "    <tr>\n",
       "      <th>...</th>\n",
       "      <td>...</td>\n",
       "      <td>...</td>\n",
       "      <td>...</td>\n",
       "      <td>...</td>\n",
       "      <td>...</td>\n",
       "    </tr>\n",
       "    <tr>\n",
       "      <th>343</th>\n",
       "      <td>Nairobi</td>\n",
       "      <td>Makadara</td>\n",
       "      <td>188792.0</td>\n",
       "      <td>70361.0</td>\n",
       "      <td>2.7</td>\n",
       "    </tr>\n",
       "    <tr>\n",
       "      <th>344</th>\n",
       "      <td>Nairobi</td>\n",
       "      <td>Mathare</td>\n",
       "      <td>204469.0</td>\n",
       "      <td>74967.0</td>\n",
       "      <td>2.7</td>\n",
       "    </tr>\n",
       "    <tr>\n",
       "      <th>345</th>\n",
       "      <td>Nairobi</td>\n",
       "      <td>Njiru</td>\n",
       "      <td>623471.0</td>\n",
       "      <td>204563.0</td>\n",
       "      <td>3.0</td>\n",
       "    </tr>\n",
       "    <tr>\n",
       "      <th>346</th>\n",
       "      <td>Nairobi</td>\n",
       "      <td>Starehe</td>\n",
       "      <td>194726.0</td>\n",
       "      <td>69389.0</td>\n",
       "      <td>2.8</td>\n",
       "    </tr>\n",
       "    <tr>\n",
       "      <th>347</th>\n",
       "      <td>Nairobi</td>\n",
       "      <td>Westlands</td>\n",
       "      <td>301295.0</td>\n",
       "      <td>104980.0</td>\n",
       "      <td>2.9</td>\n",
       "    </tr>\n",
       "  </tbody>\n",
       "</table>\n",
       "<p>348 rows × 5 columns</p>\n",
       "</div>"
      ],
      "text/plain": [
       "      County Sub County  Population  Households  Average Household Size\n",
       "0    Mombasa  Changamwe    130541.0     46614.0                     2.8\n",
       "1    Mombasa      Jomvu    162760.0     53472.0                     3.0\n",
       "2    Mombasa    Kisauni    287131.0     88202.0                     3.3\n",
       "3    Mombasa     Likoni    249230.0     81191.0                     3.1\n",
       "4    Mombasa      Mvita    147983.0     38995.0                     3.8\n",
       "..       ...        ...         ...         ...                     ...\n",
       "343  Nairobi   Makadara    188792.0     70361.0                     2.7\n",
       "344  Nairobi    Mathare    204469.0     74967.0                     2.7\n",
       "345  Nairobi      Njiru    623471.0    204563.0                     3.0\n",
       "346  Nairobi    Starehe    194726.0     69389.0                     2.8\n",
       "347  Nairobi  Westlands    301295.0    104980.0                     2.9\n",
       "\n",
       "[348 rows x 5 columns]"
      ]
     },
     "execution_count": 16,
     "metadata": {},
     "output_type": "execute_result"
    }
   ],
   "source": [
    "ph=pd.read_excel(\"census population households.xlsx\", thousands=',')\n",
    "ph"
   ]
  },
  {
   "cell_type": "code",
   "execution_count": 130,
   "id": "5b16edb7",
   "metadata": {},
   "outputs": [
    {
     "data": {
      "text/html": [
       "<div>\n",
       "<style scoped>\n",
       "    .dataframe tbody tr th:only-of-type {\n",
       "        vertical-align: middle;\n",
       "    }\n",
       "\n",
       "    .dataframe tbody tr th {\n",
       "        vertical-align: top;\n",
       "    }\n",
       "\n",
       "    .dataframe thead th {\n",
       "        text-align: right;\n",
       "    }\n",
       "</style>\n",
       "<table border=\"1\" class=\"dataframe\">\n",
       "  <thead>\n",
       "    <tr style=\"text-align: right;\">\n",
       "      <th></th>\n",
       "      <th>County</th>\n",
       "      <th>Population</th>\n",
       "      <th>Area</th>\n",
       "      <th>count</th>\n",
       "    </tr>\n",
       "  </thead>\n",
       "  <tbody>\n",
       "    <tr>\n",
       "      <th>0</th>\n",
       "      <td>Nairobi</td>\n",
       "      <td>4397073.0</td>\n",
       "      <td>704</td>\n",
       "      <td>4397073.0</td>\n",
       "    </tr>\n",
       "    <tr>\n",
       "      <th>1</th>\n",
       "      <td>Kisumu</td>\n",
       "      <td>1155574.0</td>\n",
       "      <td>2085</td>\n",
       "      <td>1155574.0</td>\n",
       "    </tr>\n",
       "    <tr>\n",
       "      <th>2</th>\n",
       "      <td>Mombasa</td>\n",
       "      <td>1208333.0</td>\n",
       "      <td>220</td>\n",
       "      <td>1208333.0</td>\n",
       "    </tr>\n",
       "    <tr>\n",
       "      <th>3</th>\n",
       "      <td>Bungoma</td>\n",
       "      <td>1670570.0</td>\n",
       "      <td>3024</td>\n",
       "      <td>1670570.0</td>\n",
       "    </tr>\n",
       "    <tr>\n",
       "      <th>4</th>\n",
       "      <td>Mandera</td>\n",
       "      <td>867457.0</td>\n",
       "      <td>25942</td>\n",
       "      <td>867457.0</td>\n",
       "    </tr>\n",
       "    <tr>\n",
       "      <th>5</th>\n",
       "      <td>Turkana</td>\n",
       "      <td>926976.0</td>\n",
       "      <td>68233</td>\n",
       "      <td>926976.0</td>\n",
       "    </tr>\n",
       "    <tr>\n",
       "      <th>6</th>\n",
       "      <td>Marsabit</td>\n",
       "      <td>459785.0</td>\n",
       "      <td>70944</td>\n",
       "      <td>459785.0</td>\n",
       "    </tr>\n",
       "    <tr>\n",
       "      <th>7</th>\n",
       "      <td>Nyeri</td>\n",
       "      <td>759164.0</td>\n",
       "      <td>3325</td>\n",
       "      <td>759164.0</td>\n",
       "    </tr>\n",
       "    <tr>\n",
       "      <th>8</th>\n",
       "      <td>Nairobi</td>\n",
       "      <td>4397073.0</td>\n",
       "      <td>704</td>\n",
       "      <td>4397073.0</td>\n",
       "    </tr>\n",
       "    <tr>\n",
       "      <th>9</th>\n",
       "      <td>Embu</td>\n",
       "      <td>NaN</td>\n",
       "      <td>2821</td>\n",
       "      <td>NaN</td>\n",
       "    </tr>\n",
       "  </tbody>\n",
       "</table>\n",
       "</div>"
      ],
      "text/plain": [
       "     County  Population   Area      count\n",
       "0   Nairobi   4397073.0    704  4397073.0\n",
       "1    Kisumu   1155574.0   2085  1155574.0\n",
       "2   Mombasa   1208333.0    220  1208333.0\n",
       "3   Bungoma   1670570.0   3024  1670570.0\n",
       "4   Mandera    867457.0  25942   867457.0\n",
       "5   Turkana    926976.0  68233   926976.0\n",
       "6  Marsabit    459785.0  70944   459785.0\n",
       "7     Nyeri    759164.0   3325   759164.0\n",
       "8   Nairobi   4397073.0    704  4397073.0\n",
       "9      Embu         NaN   2821        NaN"
      ]
     },
     "execution_count": 130,
     "metadata": {},
     "output_type": "execute_result"
    }
   ],
   "source": [
    "df2=pd.read_csv(\"df.csv\")\n",
    "df2"
   ]
  },
  {
   "cell_type": "code",
   "execution_count": 131,
   "id": "556b2959",
   "metadata": {},
   "outputs": [
    {
     "data": {
      "text/html": [
       "<div>\n",
       "<style scoped>\n",
       "    .dataframe tbody tr th:only-of-type {\n",
       "        vertical-align: middle;\n",
       "    }\n",
       "\n",
       "    .dataframe tbody tr th {\n",
       "        vertical-align: top;\n",
       "    }\n",
       "\n",
       "    .dataframe thead th {\n",
       "        text-align: right;\n",
       "    }\n",
       "</style>\n",
       "<table border=\"1\" class=\"dataframe\">\n",
       "  <thead>\n",
       "    <tr style=\"text-align: right;\">\n",
       "      <th></th>\n",
       "      <th>County</th>\n",
       "      <th>Population</th>\n",
       "      <th>Area</th>\n",
       "      <th>count</th>\n",
       "    </tr>\n",
       "  </thead>\n",
       "  <tbody>\n",
       "    <tr>\n",
       "      <th>0</th>\n",
       "      <td>Nairobi</td>\n",
       "      <td>4397073.0</td>\n",
       "      <td>704</td>\n",
       "      <td>4397073.0</td>\n",
       "    </tr>\n",
       "    <tr>\n",
       "      <th>1</th>\n",
       "      <td>Kisumu</td>\n",
       "      <td>1155574.0</td>\n",
       "      <td>2085</td>\n",
       "      <td>1155574.0</td>\n",
       "    </tr>\n",
       "    <tr>\n",
       "      <th>2</th>\n",
       "      <td>Mombasa</td>\n",
       "      <td>1208333.0</td>\n",
       "      <td>220</td>\n",
       "      <td>1208333.0</td>\n",
       "    </tr>\n",
       "    <tr>\n",
       "      <th>3</th>\n",
       "      <td>Bungoma</td>\n",
       "      <td>1670570.0</td>\n",
       "      <td>3024</td>\n",
       "      <td>1670570.0</td>\n",
       "    </tr>\n",
       "    <tr>\n",
       "      <th>4</th>\n",
       "      <td>Mandera</td>\n",
       "      <td>867457.0</td>\n",
       "      <td>25942</td>\n",
       "      <td>867457.0</td>\n",
       "    </tr>\n",
       "    <tr>\n",
       "      <th>5</th>\n",
       "      <td>Turkana</td>\n",
       "      <td>926976.0</td>\n",
       "      <td>68233</td>\n",
       "      <td>926976.0</td>\n",
       "    </tr>\n",
       "    <tr>\n",
       "      <th>6</th>\n",
       "      <td>Marsabit</td>\n",
       "      <td>459785.0</td>\n",
       "      <td>70944</td>\n",
       "      <td>459785.0</td>\n",
       "    </tr>\n",
       "    <tr>\n",
       "      <th>7</th>\n",
       "      <td>Nyeri</td>\n",
       "      <td>759164.0</td>\n",
       "      <td>3325</td>\n",
       "      <td>759164.0</td>\n",
       "    </tr>\n",
       "    <tr>\n",
       "      <th>8</th>\n",
       "      <td>Nairobi</td>\n",
       "      <td>4397073.0</td>\n",
       "      <td>704</td>\n",
       "      <td>4397073.0</td>\n",
       "    </tr>\n",
       "    <tr>\n",
       "      <th>9</th>\n",
       "      <td>Embu</td>\n",
       "      <td>NaN</td>\n",
       "      <td>2821</td>\n",
       "      <td>NaN</td>\n",
       "    </tr>\n",
       "  </tbody>\n",
       "</table>\n",
       "</div>"
      ],
      "text/plain": [
       "     County  Population   Area      count\n",
       "0   Nairobi   4397073.0    704  4397073.0\n",
       "1    Kisumu   1155574.0   2085  1155574.0\n",
       "2   Mombasa   1208333.0    220  1208333.0\n",
       "3   Bungoma   1670570.0   3024  1670570.0\n",
       "4   Mandera    867457.0  25942   867457.0\n",
       "5   Turkana    926976.0  68233   926976.0\n",
       "6  Marsabit    459785.0  70944   459785.0\n",
       "7     Nyeri    759164.0   3325   759164.0\n",
       "8   Nairobi   4397073.0    704  4397073.0\n",
       "9      Embu         NaN   2821        NaN"
      ]
     },
     "execution_count": 131,
     "metadata": {},
     "output_type": "execute_result"
    }
   ],
   "source": [
    "#this is not a copy\n",
    "df=df2\n",
    "df"
   ]
  },
  {
   "cell_type": "code",
   "execution_count": 132,
   "id": "c8917ef7",
   "metadata": {},
   "outputs": [],
   "source": [
    "df.drop('count',axis=1,inplace=True)"
   ]
  },
  {
   "cell_type": "code",
   "execution_count": 133,
   "id": "6255e009",
   "metadata": {},
   "outputs": [
    {
     "data": {
      "text/html": [
       "<div>\n",
       "<style scoped>\n",
       "    .dataframe tbody tr th:only-of-type {\n",
       "        vertical-align: middle;\n",
       "    }\n",
       "\n",
       "    .dataframe tbody tr th {\n",
       "        vertical-align: top;\n",
       "    }\n",
       "\n",
       "    .dataframe thead th {\n",
       "        text-align: right;\n",
       "    }\n",
       "</style>\n",
       "<table border=\"1\" class=\"dataframe\">\n",
       "  <thead>\n",
       "    <tr style=\"text-align: right;\">\n",
       "      <th></th>\n",
       "      <th>County</th>\n",
       "      <th>Population</th>\n",
       "      <th>Area</th>\n",
       "    </tr>\n",
       "  </thead>\n",
       "  <tbody>\n",
       "    <tr>\n",
       "      <th>0</th>\n",
       "      <td>Nairobi</td>\n",
       "      <td>4397073.0</td>\n",
       "      <td>704</td>\n",
       "    </tr>\n",
       "    <tr>\n",
       "      <th>1</th>\n",
       "      <td>Kisumu</td>\n",
       "      <td>1155574.0</td>\n",
       "      <td>2085</td>\n",
       "    </tr>\n",
       "    <tr>\n",
       "      <th>2</th>\n",
       "      <td>Mombasa</td>\n",
       "      <td>1208333.0</td>\n",
       "      <td>220</td>\n",
       "    </tr>\n",
       "    <tr>\n",
       "      <th>3</th>\n",
       "      <td>Bungoma</td>\n",
       "      <td>1670570.0</td>\n",
       "      <td>3024</td>\n",
       "    </tr>\n",
       "    <tr>\n",
       "      <th>4</th>\n",
       "      <td>Mandera</td>\n",
       "      <td>867457.0</td>\n",
       "      <td>25942</td>\n",
       "    </tr>\n",
       "    <tr>\n",
       "      <th>5</th>\n",
       "      <td>Turkana</td>\n",
       "      <td>926976.0</td>\n",
       "      <td>68233</td>\n",
       "    </tr>\n",
       "    <tr>\n",
       "      <th>6</th>\n",
       "      <td>Marsabit</td>\n",
       "      <td>459785.0</td>\n",
       "      <td>70944</td>\n",
       "    </tr>\n",
       "    <tr>\n",
       "      <th>7</th>\n",
       "      <td>Nyeri</td>\n",
       "      <td>759164.0</td>\n",
       "      <td>3325</td>\n",
       "    </tr>\n",
       "    <tr>\n",
       "      <th>8</th>\n",
       "      <td>Nairobi</td>\n",
       "      <td>4397073.0</td>\n",
       "      <td>704</td>\n",
       "    </tr>\n",
       "    <tr>\n",
       "      <th>9</th>\n",
       "      <td>Embu</td>\n",
       "      <td>NaN</td>\n",
       "      <td>2821</td>\n",
       "    </tr>\n",
       "  </tbody>\n",
       "</table>\n",
       "</div>"
      ],
      "text/plain": [
       "     County  Population   Area\n",
       "0   Nairobi   4397073.0    704\n",
       "1    Kisumu   1155574.0   2085\n",
       "2   Mombasa   1208333.0    220\n",
       "3   Bungoma   1670570.0   3024\n",
       "4   Mandera    867457.0  25942\n",
       "5   Turkana    926976.0  68233\n",
       "6  Marsabit    459785.0  70944\n",
       "7     Nyeri    759164.0   3325\n",
       "8   Nairobi   4397073.0    704\n",
       "9      Embu         NaN   2821"
      ]
     },
     "execution_count": 133,
     "metadata": {},
     "output_type": "execute_result"
    }
   ],
   "source": [
    "df2"
   ]
  },
  {
   "cell_type": "code",
   "execution_count": 134,
   "id": "4eefaf2a",
   "metadata": {},
   "outputs": [],
   "source": [
    "#this is a copy any changes made on df are not reflected on df2 and vice versa\n",
    "df=df2.copy()"
   ]
  },
  {
   "cell_type": "code",
   "execution_count": 135,
   "id": "a20d5aff",
   "metadata": {},
   "outputs": [],
   "source": [
    "#df.drop('count',axis=1,inplace=True)"
   ]
  },
  {
   "cell_type": "code",
   "execution_count": 136,
   "id": "26c61c13",
   "metadata": {},
   "outputs": [
    {
     "data": {
      "text/html": [
       "<div>\n",
       "<style scoped>\n",
       "    .dataframe tbody tr th:only-of-type {\n",
       "        vertical-align: middle;\n",
       "    }\n",
       "\n",
       "    .dataframe tbody tr th {\n",
       "        vertical-align: top;\n",
       "    }\n",
       "\n",
       "    .dataframe thead th {\n",
       "        text-align: right;\n",
       "    }\n",
       "</style>\n",
       "<table border=\"1\" class=\"dataframe\">\n",
       "  <thead>\n",
       "    <tr style=\"text-align: right;\">\n",
       "      <th></th>\n",
       "      <th>County</th>\n",
       "      <th>Population</th>\n",
       "      <th>Area</th>\n",
       "    </tr>\n",
       "  </thead>\n",
       "  <tbody>\n",
       "    <tr>\n",
       "      <th>0</th>\n",
       "      <td>Nairobi</td>\n",
       "      <td>4397073.0</td>\n",
       "      <td>704</td>\n",
       "    </tr>\n",
       "    <tr>\n",
       "      <th>1</th>\n",
       "      <td>Kisumu</td>\n",
       "      <td>1155574.0</td>\n",
       "      <td>2085</td>\n",
       "    </tr>\n",
       "    <tr>\n",
       "      <th>2</th>\n",
       "      <td>Mombasa</td>\n",
       "      <td>1208333.0</td>\n",
       "      <td>220</td>\n",
       "    </tr>\n",
       "    <tr>\n",
       "      <th>3</th>\n",
       "      <td>Bungoma</td>\n",
       "      <td>1670570.0</td>\n",
       "      <td>3024</td>\n",
       "    </tr>\n",
       "    <tr>\n",
       "      <th>4</th>\n",
       "      <td>Mandera</td>\n",
       "      <td>867457.0</td>\n",
       "      <td>25942</td>\n",
       "    </tr>\n",
       "    <tr>\n",
       "      <th>5</th>\n",
       "      <td>Turkana</td>\n",
       "      <td>926976.0</td>\n",
       "      <td>68233</td>\n",
       "    </tr>\n",
       "    <tr>\n",
       "      <th>6</th>\n",
       "      <td>Marsabit</td>\n",
       "      <td>459785.0</td>\n",
       "      <td>70944</td>\n",
       "    </tr>\n",
       "    <tr>\n",
       "      <th>7</th>\n",
       "      <td>Nyeri</td>\n",
       "      <td>759164.0</td>\n",
       "      <td>3325</td>\n",
       "    </tr>\n",
       "    <tr>\n",
       "      <th>8</th>\n",
       "      <td>Nairobi</td>\n",
       "      <td>4397073.0</td>\n",
       "      <td>704</td>\n",
       "    </tr>\n",
       "    <tr>\n",
       "      <th>9</th>\n",
       "      <td>Embu</td>\n",
       "      <td>NaN</td>\n",
       "      <td>2821</td>\n",
       "    </tr>\n",
       "  </tbody>\n",
       "</table>\n",
       "</div>"
      ],
      "text/plain": [
       "     County  Population   Area\n",
       "0   Nairobi   4397073.0    704\n",
       "1    Kisumu   1155574.0   2085\n",
       "2   Mombasa   1208333.0    220\n",
       "3   Bungoma   1670570.0   3024\n",
       "4   Mandera    867457.0  25942\n",
       "5   Turkana    926976.0  68233\n",
       "6  Marsabit    459785.0  70944\n",
       "7     Nyeri    759164.0   3325\n",
       "8   Nairobi   4397073.0    704\n",
       "9      Embu         NaN   2821"
      ]
     },
     "execution_count": 136,
     "metadata": {},
     "output_type": "execute_result"
    }
   ],
   "source": [
    "df2"
   ]
  },
  {
   "cell_type": "markdown",
   "id": "276c70ee",
   "metadata": {
    "tags": []
   },
   "source": [
    "### **7. Merging datasets**\n",
    "\n",
    "-- when merging datasets it is important to merge the datasets on the column that exist in both data sets and it has unique values.\n",
    "\n",
    "--this helps in avoiding to redo the cleaning again in a merged dataset\n",
    "\n",
    "--we use the following syntax to merge"
   ]
  },
  {
   "cell_type": "raw",
   "id": "c72565a3",
   "metadata": {},
   "source": [
    "pd.merge[data1,data2,on=\"column name\"]"
   ]
  },
  {
   "cell_type": "code",
   "execution_count": 137,
   "id": "487c7e79",
   "metadata": {},
   "outputs": [
    {
     "data": {
      "text/html": [
       "<div>\n",
       "<style scoped>\n",
       "    .dataframe tbody tr th:only-of-type {\n",
       "        vertical-align: middle;\n",
       "    }\n",
       "\n",
       "    .dataframe tbody tr th {\n",
       "        vertical-align: top;\n",
       "    }\n",
       "\n",
       "    .dataframe thead th {\n",
       "        text-align: right;\n",
       "    }\n",
       "</style>\n",
       "<table border=\"1\" class=\"dataframe\">\n",
       "  <thead>\n",
       "    <tr style=\"text-align: right;\">\n",
       "      <th></th>\n",
       "      <th>County_x</th>\n",
       "      <th>Population_x</th>\n",
       "      <th>Area_x</th>\n",
       "      <th>count</th>\n",
       "      <th>County_y</th>\n",
       "      <th>Population_y</th>\n",
       "      <th>Area_y</th>\n",
       "    </tr>\n",
       "  </thead>\n",
       "  <tbody>\n",
       "    <tr>\n",
       "      <th>0</th>\n",
       "      <td>Nairobi</td>\n",
       "      <td>4397073.0</td>\n",
       "      <td>704</td>\n",
       "      <td>4397073.0</td>\n",
       "      <td>Nairobi</td>\n",
       "      <td>4397073.0</td>\n",
       "      <td>704</td>\n",
       "    </tr>\n",
       "    <tr>\n",
       "      <th>1</th>\n",
       "      <td>Nairobi</td>\n",
       "      <td>4397073.0</td>\n",
       "      <td>704</td>\n",
       "      <td>4397073.0</td>\n",
       "      <td>Nairobi</td>\n",
       "      <td>4397073.0</td>\n",
       "      <td>704</td>\n",
       "    </tr>\n",
       "    <tr>\n",
       "      <th>2</th>\n",
       "      <td>Nairobi</td>\n",
       "      <td>4397073.0</td>\n",
       "      <td>704</td>\n",
       "      <td>4397073.0</td>\n",
       "      <td>Nairobi</td>\n",
       "      <td>4397073.0</td>\n",
       "      <td>704</td>\n",
       "    </tr>\n",
       "    <tr>\n",
       "      <th>3</th>\n",
       "      <td>Nairobi</td>\n",
       "      <td>4397073.0</td>\n",
       "      <td>704</td>\n",
       "      <td>4397073.0</td>\n",
       "      <td>Nairobi</td>\n",
       "      <td>4397073.0</td>\n",
       "      <td>704</td>\n",
       "    </tr>\n",
       "    <tr>\n",
       "      <th>4</th>\n",
       "      <td>Kisumu</td>\n",
       "      <td>1155574.0</td>\n",
       "      <td>2085</td>\n",
       "      <td>1155574.0</td>\n",
       "      <td>Kisumu</td>\n",
       "      <td>1155574.0</td>\n",
       "      <td>2085</td>\n",
       "    </tr>\n",
       "    <tr>\n",
       "      <th>5</th>\n",
       "      <td>Mombasa</td>\n",
       "      <td>1208333.0</td>\n",
       "      <td>220</td>\n",
       "      <td>1208333.0</td>\n",
       "      <td>Mombasa</td>\n",
       "      <td>1208333.0</td>\n",
       "      <td>220</td>\n",
       "    </tr>\n",
       "    <tr>\n",
       "      <th>6</th>\n",
       "      <td>Bungoma</td>\n",
       "      <td>1670570.0</td>\n",
       "      <td>3024</td>\n",
       "      <td>1670570.0</td>\n",
       "      <td>Bungoma</td>\n",
       "      <td>1670570.0</td>\n",
       "      <td>3024</td>\n",
       "    </tr>\n",
       "    <tr>\n",
       "      <th>7</th>\n",
       "      <td>Mandera</td>\n",
       "      <td>867457.0</td>\n",
       "      <td>25942</td>\n",
       "      <td>867457.0</td>\n",
       "      <td>Mandera</td>\n",
       "      <td>867457.0</td>\n",
       "      <td>25942</td>\n",
       "    </tr>\n",
       "    <tr>\n",
       "      <th>8</th>\n",
       "      <td>Turkana</td>\n",
       "      <td>926976.0</td>\n",
       "      <td>68233</td>\n",
       "      <td>926976.0</td>\n",
       "      <td>Turkana</td>\n",
       "      <td>926976.0</td>\n",
       "      <td>68233</td>\n",
       "    </tr>\n",
       "    <tr>\n",
       "      <th>9</th>\n",
       "      <td>Marsabit</td>\n",
       "      <td>459785.0</td>\n",
       "      <td>70944</td>\n",
       "      <td>459785.0</td>\n",
       "      <td>Marsabit</td>\n",
       "      <td>459785.0</td>\n",
       "      <td>70944</td>\n",
       "    </tr>\n",
       "    <tr>\n",
       "      <th>10</th>\n",
       "      <td>Nyeri</td>\n",
       "      <td>759164.0</td>\n",
       "      <td>3325</td>\n",
       "      <td>759164.0</td>\n",
       "      <td>Nyeri</td>\n",
       "      <td>759164.0</td>\n",
       "      <td>3325</td>\n",
       "    </tr>\n",
       "    <tr>\n",
       "      <th>11</th>\n",
       "      <td>Embu</td>\n",
       "      <td>NaN</td>\n",
       "      <td>2821</td>\n",
       "      <td>NaN</td>\n",
       "      <td>Embu</td>\n",
       "      <td>NaN</td>\n",
       "      <td>2821</td>\n",
       "    </tr>\n",
       "  </tbody>\n",
       "</table>\n",
       "</div>"
      ],
      "text/plain": [
       "    County_x  Population_x  Area_x      count  County_y  Population_y  Area_y\n",
       "0    Nairobi     4397073.0     704  4397073.0   Nairobi     4397073.0     704\n",
       "1    Nairobi     4397073.0     704  4397073.0   Nairobi     4397073.0     704\n",
       "2    Nairobi     4397073.0     704  4397073.0   Nairobi     4397073.0     704\n",
       "3    Nairobi     4397073.0     704  4397073.0   Nairobi     4397073.0     704\n",
       "4     Kisumu     1155574.0    2085  1155574.0    Kisumu     1155574.0    2085\n",
       "5    Mombasa     1208333.0     220  1208333.0   Mombasa     1208333.0     220\n",
       "6    Bungoma     1670570.0    3024  1670570.0   Bungoma     1670570.0    3024\n",
       "7    Mandera      867457.0   25942   867457.0   Mandera      867457.0   25942\n",
       "8    Turkana      926976.0   68233   926976.0   Turkana      926976.0   68233\n",
       "9   Marsabit      459785.0   70944   459785.0  Marsabit      459785.0   70944\n",
       "10     Nyeri      759164.0    3325   759164.0     Nyeri      759164.0    3325\n",
       "11      Embu           NaN    2821        NaN      Embu           NaN    2821"
      ]
     },
     "execution_count": 137,
     "metadata": {},
     "output_type": "execute_result"
    }
   ],
   "source": [
    "df2=pd.read_csv(\"df.csv\")\n",
    "df=df2.copy()\n",
    "pd.merge(df2,df,on=\"count\")"
   ]
  },
  {
   "cell_type": "markdown",
   "id": "6a8fcc52-af6f-4978-b2af-5d1c9c14e455",
   "metadata": {},
   "source": [
    "--We can change datatypes from float to integer data types\n",
    "\n",
    "--step1--extract the column"
   ]
  },
  {
   "cell_type": "code",
   "execution_count": 138,
   "id": "b7da7f9e",
   "metadata": {},
   "outputs": [
    {
     "data": {
      "text/html": [
       "<div>\n",
       "<style scoped>\n",
       "    .dataframe tbody tr th:only-of-type {\n",
       "        vertical-align: middle;\n",
       "    }\n",
       "\n",
       "    .dataframe tbody tr th {\n",
       "        vertical-align: top;\n",
       "    }\n",
       "\n",
       "    .dataframe thead th {\n",
       "        text-align: right;\n",
       "    }\n",
       "</style>\n",
       "<table border=\"1\" class=\"dataframe\">\n",
       "  <thead>\n",
       "    <tr style=\"text-align: right;\">\n",
       "      <th></th>\n",
       "      <th>County</th>\n",
       "      <th>Population</th>\n",
       "      <th>Area</th>\n",
       "      <th>count</th>\n",
       "    </tr>\n",
       "  </thead>\n",
       "  <tbody>\n",
       "    <tr>\n",
       "      <th>0</th>\n",
       "      <td>Nairobi</td>\n",
       "      <td>4397073.0</td>\n",
       "      <td>704</td>\n",
       "      <td>4397073.0</td>\n",
       "    </tr>\n",
       "    <tr>\n",
       "      <th>1</th>\n",
       "      <td>Kisumu</td>\n",
       "      <td>1155574.0</td>\n",
       "      <td>2085</td>\n",
       "      <td>1155574.0</td>\n",
       "    </tr>\n",
       "    <tr>\n",
       "      <th>2</th>\n",
       "      <td>Mombasa</td>\n",
       "      <td>1208333.0</td>\n",
       "      <td>220</td>\n",
       "      <td>1208333.0</td>\n",
       "    </tr>\n",
       "    <tr>\n",
       "      <th>3</th>\n",
       "      <td>Bungoma</td>\n",
       "      <td>1670570.0</td>\n",
       "      <td>3024</td>\n",
       "      <td>1670570.0</td>\n",
       "    </tr>\n",
       "    <tr>\n",
       "      <th>4</th>\n",
       "      <td>Mandera</td>\n",
       "      <td>867457.0</td>\n",
       "      <td>25942</td>\n",
       "      <td>867457.0</td>\n",
       "    </tr>\n",
       "    <tr>\n",
       "      <th>5</th>\n",
       "      <td>Turkana</td>\n",
       "      <td>926976.0</td>\n",
       "      <td>68233</td>\n",
       "      <td>926976.0</td>\n",
       "    </tr>\n",
       "    <tr>\n",
       "      <th>6</th>\n",
       "      <td>Marsabit</td>\n",
       "      <td>459785.0</td>\n",
       "      <td>70944</td>\n",
       "      <td>459785.0</td>\n",
       "    </tr>\n",
       "    <tr>\n",
       "      <th>7</th>\n",
       "      <td>Nyeri</td>\n",
       "      <td>759164.0</td>\n",
       "      <td>3325</td>\n",
       "      <td>759164.0</td>\n",
       "    </tr>\n",
       "    <tr>\n",
       "      <th>8</th>\n",
       "      <td>Nairobi</td>\n",
       "      <td>4397073.0</td>\n",
       "      <td>704</td>\n",
       "      <td>4397073.0</td>\n",
       "    </tr>\n",
       "  </tbody>\n",
       "</table>\n",
       "</div>"
      ],
      "text/plain": [
       "     County  Population   Area      count\n",
       "0   Nairobi   4397073.0    704  4397073.0\n",
       "1    Kisumu   1155574.0   2085  1155574.0\n",
       "2   Mombasa   1208333.0    220  1208333.0\n",
       "3   Bungoma   1670570.0   3024  1670570.0\n",
       "4   Mandera    867457.0  25942   867457.0\n",
       "5   Turkana    926976.0  68233   926976.0\n",
       "6  Marsabit    459785.0  70944   459785.0\n",
       "7     Nyeri    759164.0   3325   759164.0\n",
       "8   Nairobi   4397073.0    704  4397073.0"
      ]
     },
     "execution_count": 138,
     "metadata": {},
     "output_type": "execute_result"
    }
   ],
   "source": [
    "import numpy as np\n",
    "df2.dropna(inplace=True)\n",
    "df2"
   ]
  },
  {
   "cell_type": "code",
   "execution_count": 139,
   "id": "ef0b2254",
   "metadata": {},
   "outputs": [],
   "source": [
    "df2[\"Population\"]=df2[\"Population\"].astype(np.int32)"
   ]
  },
  {
   "cell_type": "code",
   "execution_count": 140,
   "id": "2b603903",
   "metadata": {},
   "outputs": [
    {
     "data": {
      "text/html": [
       "<div>\n",
       "<style scoped>\n",
       "    .dataframe tbody tr th:only-of-type {\n",
       "        vertical-align: middle;\n",
       "    }\n",
       "\n",
       "    .dataframe tbody tr th {\n",
       "        vertical-align: top;\n",
       "    }\n",
       "\n",
       "    .dataframe thead th {\n",
       "        text-align: right;\n",
       "    }\n",
       "</style>\n",
       "<table border=\"1\" class=\"dataframe\">\n",
       "  <thead>\n",
       "    <tr style=\"text-align: right;\">\n",
       "      <th></th>\n",
       "      <th>County</th>\n",
       "      <th>Population</th>\n",
       "      <th>Area</th>\n",
       "      <th>count</th>\n",
       "    </tr>\n",
       "  </thead>\n",
       "  <tbody>\n",
       "    <tr>\n",
       "      <th>0</th>\n",
       "      <td>Nairobi</td>\n",
       "      <td>4397073</td>\n",
       "      <td>704</td>\n",
       "      <td>4397073.0</td>\n",
       "    </tr>\n",
       "    <tr>\n",
       "      <th>1</th>\n",
       "      <td>Kisumu</td>\n",
       "      <td>1155574</td>\n",
       "      <td>2085</td>\n",
       "      <td>1155574.0</td>\n",
       "    </tr>\n",
       "    <tr>\n",
       "      <th>2</th>\n",
       "      <td>Mombasa</td>\n",
       "      <td>1208333</td>\n",
       "      <td>220</td>\n",
       "      <td>1208333.0</td>\n",
       "    </tr>\n",
       "    <tr>\n",
       "      <th>3</th>\n",
       "      <td>Bungoma</td>\n",
       "      <td>1670570</td>\n",
       "      <td>3024</td>\n",
       "      <td>1670570.0</td>\n",
       "    </tr>\n",
       "    <tr>\n",
       "      <th>4</th>\n",
       "      <td>Mandera</td>\n",
       "      <td>867457</td>\n",
       "      <td>25942</td>\n",
       "      <td>867457.0</td>\n",
       "    </tr>\n",
       "    <tr>\n",
       "      <th>5</th>\n",
       "      <td>Turkana</td>\n",
       "      <td>926976</td>\n",
       "      <td>68233</td>\n",
       "      <td>926976.0</td>\n",
       "    </tr>\n",
       "    <tr>\n",
       "      <th>6</th>\n",
       "      <td>Marsabit</td>\n",
       "      <td>459785</td>\n",
       "      <td>70944</td>\n",
       "      <td>459785.0</td>\n",
       "    </tr>\n",
       "    <tr>\n",
       "      <th>7</th>\n",
       "      <td>Nyeri</td>\n",
       "      <td>759164</td>\n",
       "      <td>3325</td>\n",
       "      <td>759164.0</td>\n",
       "    </tr>\n",
       "    <tr>\n",
       "      <th>8</th>\n",
       "      <td>Nairobi</td>\n",
       "      <td>4397073</td>\n",
       "      <td>704</td>\n",
       "      <td>4397073.0</td>\n",
       "    </tr>\n",
       "  </tbody>\n",
       "</table>\n",
       "</div>"
      ],
      "text/plain": [
       "     County  Population   Area      count\n",
       "0   Nairobi     4397073    704  4397073.0\n",
       "1    Kisumu     1155574   2085  1155574.0\n",
       "2   Mombasa     1208333    220  1208333.0\n",
       "3   Bungoma     1670570   3024  1670570.0\n",
       "4   Mandera      867457  25942   867457.0\n",
       "5   Turkana      926976  68233   926976.0\n",
       "6  Marsabit      459785  70944   459785.0\n",
       "7     Nyeri      759164   3325   759164.0\n",
       "8   Nairobi     4397073    704  4397073.0"
      ]
     },
     "execution_count": 140,
     "metadata": {},
     "output_type": "execute_result"
    }
   ],
   "source": [
    "df2"
   ]
  },
  {
   "cell_type": "code",
   "execution_count": 141,
   "id": "0e869985",
   "metadata": {},
   "outputs": [
    {
     "name": "stdout",
     "output_type": "stream",
     "text": [
      "<class 'pandas.core.frame.DataFrame'>\n",
      "Int64Index: 9 entries, 0 to 8\n",
      "Data columns (total 4 columns):\n",
      " #   Column      Non-Null Count  Dtype  \n",
      "---  ------      --------------  -----  \n",
      " 0   County      9 non-null      object \n",
      " 1   Population  9 non-null      int32  \n",
      " 2   Area        9 non-null      int64  \n",
      " 3   count       9 non-null      float64\n",
      "dtypes: float64(1), int32(1), int64(1), object(1)\n",
      "memory usage: 324.0+ bytes\n"
     ]
    }
   ],
   "source": [
    "df2.info()"
   ]
  },
  {
   "cell_type": "markdown",
   "id": "6cbc7e22",
   "metadata": {},
   "source": [
    "Good book to read: https://jakevdp.github.io/PythonDataScienceHandbook/"
   ]
  },
  {
   "cell_type": "markdown",
   "id": "4f762956",
   "metadata": {},
   "source": [
    "- append() and concatenate()  https://jakevdp.github.io/PythonDataScienceHandbook/03.06-concat-and-append.html\n",
    "\n",
    "- Combining Datasets: Merge and Join https://jakevdp.github.io/PythonDataScienceHandbook/03.07-merge-and-join.html"
   ]
  },
  {
   "cell_type": "markdown",
   "id": "01df3756",
   "metadata": {
    "tags": []
   },
   "source": [
    "### **8. Group_by**\n",
    "\n",
    "--groups rows that have the same value into summary rows and is used together with aggregating   functions for example sum()\n",
    "mean()e.t.c"
   ]
  },
  {
   "cell_type": "raw",
   "id": "6172f68f",
   "metadata": {},
   "source": [
    "the name syntax is\n",
    "\n",
    "DataFrame.groupby(\"column name\")"
   ]
  },
  {
   "cell_type": "code",
   "execution_count": 2,
   "id": "a3161130-5d34-4ae6-bb85-2b70c41e8a08",
   "metadata": {},
   "outputs": [],
   "source": [
    "import pandas as pd"
   ]
  },
  {
   "cell_type": "code",
   "execution_count": 13,
   "id": "5ca7c880",
   "metadata": {},
   "outputs": [
    {
     "data": {
      "text/html": [
       "<div>\n",
       "<style scoped>\n",
       "    .dataframe tbody tr th:only-of-type {\n",
       "        vertical-align: middle;\n",
       "    }\n",
       "\n",
       "    .dataframe tbody tr th {\n",
       "        vertical-align: top;\n",
       "    }\n",
       "\n",
       "    .dataframe thead th {\n",
       "        text-align: right;\n",
       "    }\n",
       "</style>\n",
       "<table border=\"1\" class=\"dataframe\">\n",
       "  <thead>\n",
       "    <tr style=\"text-align: right;\">\n",
       "      <th></th>\n",
       "      <th>Sub County</th>\n",
       "      <th>Area</th>\n",
       "      <th>Density</th>\n",
       "    </tr>\n",
       "  </thead>\n",
       "  <tbody>\n",
       "    <tr>\n",
       "      <th>0</th>\n",
       "      <td>Changamwe</td>\n",
       "      <td>17.7</td>\n",
       "      <td>7457</td>\n",
       "    </tr>\n",
       "    <tr>\n",
       "      <th>1</th>\n",
       "      <td>Jomvu</td>\n",
       "      <td>36.9</td>\n",
       "      <td>4432</td>\n",
       "    </tr>\n",
       "    <tr>\n",
       "      <th>2</th>\n",
       "      <td>Kisauni</td>\n",
       "      <td>87.7</td>\n",
       "      <td>3328</td>\n",
       "    </tr>\n",
       "    <tr>\n",
       "      <th>3</th>\n",
       "      <td>Likoni</td>\n",
       "      <td>40.5</td>\n",
       "      <td>6187</td>\n",
       "    </tr>\n",
       "    <tr>\n",
       "      <th>4</th>\n",
       "      <td>Mvita</td>\n",
       "      <td>14.6</td>\n",
       "      <td>10543</td>\n",
       "    </tr>\n",
       "    <tr>\n",
       "      <th>...</th>\n",
       "      <td>...</td>\n",
       "      <td>...</td>\n",
       "      <td>...</td>\n",
       "    </tr>\n",
       "    <tr>\n",
       "      <th>343</th>\n",
       "      <td>Makadara</td>\n",
       "      <td>11.7</td>\n",
       "      <td>16150</td>\n",
       "    </tr>\n",
       "    <tr>\n",
       "      <th>344</th>\n",
       "      <td>Mathare</td>\n",
       "      <td>3.0</td>\n",
       "      <td>68941</td>\n",
       "    </tr>\n",
       "    <tr>\n",
       "      <th>345</th>\n",
       "      <td>Njiru</td>\n",
       "      <td>129.9</td>\n",
       "      <td>4821</td>\n",
       "    </tr>\n",
       "    <tr>\n",
       "      <th>346</th>\n",
       "      <td>Starehe</td>\n",
       "      <td>20.6</td>\n",
       "      <td>10205</td>\n",
       "    </tr>\n",
       "    <tr>\n",
       "      <th>347</th>\n",
       "      <td>Westlands</td>\n",
       "      <td>97.5</td>\n",
       "      <td>3167</td>\n",
       "    </tr>\n",
       "  </tbody>\n",
       "</table>\n",
       "<p>348 rows × 3 columns</p>\n",
       "</div>"
      ],
      "text/plain": [
       "    Sub County   Area  Density\n",
       "0    Changamwe   17.7     7457\n",
       "1        Jomvu   36.9     4432\n",
       "2      Kisauni   87.7     3328\n",
       "3       Likoni   40.5     6187\n",
       "4        Mvita   14.6    10543\n",
       "..         ...    ...      ...\n",
       "343   Makadara   11.7    16150\n",
       "344    Mathare    3.0    68941\n",
       "345      Njiru  129.9     4821\n",
       "346    Starehe   20.6    10205\n",
       "347  Westlands   97.5     3167\n",
       "\n",
       "[348 rows x 3 columns]"
      ]
     },
     "execution_count": 13,
     "metadata": {},
     "output_type": "execute_result"
    }
   ],
   "source": [
    "cad=pd.read_excel(\"census area density.xlsx\", thousands=',')\n",
    "cad"
   ]
  },
  {
   "cell_type": "code",
   "execution_count": 14,
   "id": "703b8115-d5a3-4df8-98e8-a9f69b030a7e",
   "metadata": {},
   "outputs": [
    {
     "data": {
      "text/plain": [
       "Sub County     object\n",
       "Area          float64\n",
       "Density         int64\n",
       "dtype: object"
      ]
     },
     "execution_count": 14,
     "metadata": {},
     "output_type": "execute_result"
    }
   ],
   "source": [
    "cad.dtypes"
   ]
  },
  {
   "cell_type": "code",
   "execution_count": 17,
   "id": "342716d5",
   "metadata": {},
   "outputs": [
    {
     "data": {
      "text/html": [
       "<div>\n",
       "<style scoped>\n",
       "    .dataframe tbody tr th:only-of-type {\n",
       "        vertical-align: middle;\n",
       "    }\n",
       "\n",
       "    .dataframe tbody tr th {\n",
       "        vertical-align: top;\n",
       "    }\n",
       "\n",
       "    .dataframe thead th {\n",
       "        text-align: right;\n",
       "    }\n",
       "</style>\n",
       "<table border=\"1\" class=\"dataframe\">\n",
       "  <thead>\n",
       "    <tr style=\"text-align: right;\">\n",
       "      <th></th>\n",
       "      <th>County</th>\n",
       "      <th>Sub County</th>\n",
       "      <th>Population</th>\n",
       "      <th>Households</th>\n",
       "      <th>Average Household Size</th>\n",
       "    </tr>\n",
       "  </thead>\n",
       "  <tbody>\n",
       "    <tr>\n",
       "      <th>0</th>\n",
       "      <td>Mombasa</td>\n",
       "      <td>Changamwe</td>\n",
       "      <td>130541.0</td>\n",
       "      <td>46614.0</td>\n",
       "      <td>2.8</td>\n",
       "    </tr>\n",
       "    <tr>\n",
       "      <th>1</th>\n",
       "      <td>Mombasa</td>\n",
       "      <td>Jomvu</td>\n",
       "      <td>162760.0</td>\n",
       "      <td>53472.0</td>\n",
       "      <td>3.0</td>\n",
       "    </tr>\n",
       "    <tr>\n",
       "      <th>2</th>\n",
       "      <td>Mombasa</td>\n",
       "      <td>Kisauni</td>\n",
       "      <td>287131.0</td>\n",
       "      <td>88202.0</td>\n",
       "      <td>3.3</td>\n",
       "    </tr>\n",
       "    <tr>\n",
       "      <th>3</th>\n",
       "      <td>Mombasa</td>\n",
       "      <td>Likoni</td>\n",
       "      <td>249230.0</td>\n",
       "      <td>81191.0</td>\n",
       "      <td>3.1</td>\n",
       "    </tr>\n",
       "    <tr>\n",
       "      <th>4</th>\n",
       "      <td>Mombasa</td>\n",
       "      <td>Mvita</td>\n",
       "      <td>147983.0</td>\n",
       "      <td>38995.0</td>\n",
       "      <td>3.8</td>\n",
       "    </tr>\n",
       "    <tr>\n",
       "      <th>...</th>\n",
       "      <td>...</td>\n",
       "      <td>...</td>\n",
       "      <td>...</td>\n",
       "      <td>...</td>\n",
       "      <td>...</td>\n",
       "    </tr>\n",
       "    <tr>\n",
       "      <th>343</th>\n",
       "      <td>Nairobi</td>\n",
       "      <td>Makadara</td>\n",
       "      <td>188792.0</td>\n",
       "      <td>70361.0</td>\n",
       "      <td>2.7</td>\n",
       "    </tr>\n",
       "    <tr>\n",
       "      <th>344</th>\n",
       "      <td>Nairobi</td>\n",
       "      <td>Mathare</td>\n",
       "      <td>204469.0</td>\n",
       "      <td>74967.0</td>\n",
       "      <td>2.7</td>\n",
       "    </tr>\n",
       "    <tr>\n",
       "      <th>345</th>\n",
       "      <td>Nairobi</td>\n",
       "      <td>Njiru</td>\n",
       "      <td>623471.0</td>\n",
       "      <td>204563.0</td>\n",
       "      <td>3.0</td>\n",
       "    </tr>\n",
       "    <tr>\n",
       "      <th>346</th>\n",
       "      <td>Nairobi</td>\n",
       "      <td>Starehe</td>\n",
       "      <td>194726.0</td>\n",
       "      <td>69389.0</td>\n",
       "      <td>2.8</td>\n",
       "    </tr>\n",
       "    <tr>\n",
       "      <th>347</th>\n",
       "      <td>Nairobi</td>\n",
       "      <td>Westlands</td>\n",
       "      <td>301295.0</td>\n",
       "      <td>104980.0</td>\n",
       "      <td>2.9</td>\n",
       "    </tr>\n",
       "  </tbody>\n",
       "</table>\n",
       "<p>348 rows × 5 columns</p>\n",
       "</div>"
      ],
      "text/plain": [
       "      County Sub County  Population  Households  Average Household Size\n",
       "0    Mombasa  Changamwe    130541.0     46614.0                     2.8\n",
       "1    Mombasa      Jomvu    162760.0     53472.0                     3.0\n",
       "2    Mombasa    Kisauni    287131.0     88202.0                     3.3\n",
       "3    Mombasa     Likoni    249230.0     81191.0                     3.1\n",
       "4    Mombasa      Mvita    147983.0     38995.0                     3.8\n",
       "..       ...        ...         ...         ...                     ...\n",
       "343  Nairobi   Makadara    188792.0     70361.0                     2.7\n",
       "344  Nairobi    Mathare    204469.0     74967.0                     2.7\n",
       "345  Nairobi      Njiru    623471.0    204563.0                     3.0\n",
       "346  Nairobi    Starehe    194726.0     69389.0                     2.8\n",
       "347  Nairobi  Westlands    301295.0    104980.0                     2.9\n",
       "\n",
       "[348 rows x 5 columns]"
      ]
     },
     "execution_count": 17,
     "metadata": {},
     "output_type": "execute_result"
    }
   ],
   "source": [
    "ph"
   ]
  },
  {
   "cell_type": "code",
   "execution_count": 18,
   "id": "8920666e-8203-4a1e-b770-b2768c4747b3",
   "metadata": {},
   "outputs": [
    {
     "data": {
      "text/plain": [
       "County                     object\n",
       "Sub County                 object\n",
       "Population                float64\n",
       "Households                float64\n",
       "Average Household Size    float64\n",
       "dtype: object"
      ]
     },
     "execution_count": 18,
     "metadata": {},
     "output_type": "execute_result"
    }
   ],
   "source": [
    "ph.dtypes"
   ]
  },
  {
   "cell_type": "code",
   "execution_count": 19,
   "id": "5d397807",
   "metadata": {},
   "outputs": [
    {
     "data": {
      "text/html": [
       "<div>\n",
       "<style scoped>\n",
       "    .dataframe tbody tr th:only-of-type {\n",
       "        vertical-align: middle;\n",
       "    }\n",
       "\n",
       "    .dataframe tbody tr th {\n",
       "        vertical-align: top;\n",
       "    }\n",
       "\n",
       "    .dataframe thead th {\n",
       "        text-align: right;\n",
       "    }\n",
       "</style>\n",
       "<table border=\"1\" class=\"dataframe\">\n",
       "  <thead>\n",
       "    <tr style=\"text-align: right;\">\n",
       "      <th></th>\n",
       "      <th>County</th>\n",
       "      <th>Population</th>\n",
       "      <th>Households</th>\n",
       "      <th>Average Household Size</th>\n",
       "    </tr>\n",
       "  </thead>\n",
       "  <tbody>\n",
       "    <tr>\n",
       "      <th>0</th>\n",
       "      <td>Baringo</td>\n",
       "      <td>662760.0</td>\n",
       "      <td>142518.0</td>\n",
       "      <td>33.8</td>\n",
       "    </tr>\n",
       "    <tr>\n",
       "      <th>1</th>\n",
       "      <td>Bomet</td>\n",
       "      <td>873023.0</td>\n",
       "      <td>187641.0</td>\n",
       "      <td>23.3</td>\n",
       "    </tr>\n",
       "    <tr>\n",
       "      <th>2</th>\n",
       "      <td>Bungoma</td>\n",
       "      <td>1663898.0</td>\n",
       "      <td>358796.0</td>\n",
       "      <td>56.6</td>\n",
       "    </tr>\n",
       "    <tr>\n",
       "      <th>3</th>\n",
       "      <td>Busia</td>\n",
       "      <td>886856.0</td>\n",
       "      <td>198152.0</td>\n",
       "      <td>31.5</td>\n",
       "    </tr>\n",
       "    <tr>\n",
       "      <th>4</th>\n",
       "      <td>Elgeyo/Marakwet</td>\n",
       "      <td>453403.0</td>\n",
       "      <td>99861.0</td>\n",
       "      <td>18.1</td>\n",
       "    </tr>\n",
       "    <tr>\n",
       "      <th>5</th>\n",
       "      <td>Embu</td>\n",
       "      <td>604769.0</td>\n",
       "      <td>182743.0</td>\n",
       "      <td>17.9</td>\n",
       "    </tr>\n",
       "    <tr>\n",
       "      <th>6</th>\n",
       "      <td>Garissa</td>\n",
       "      <td>835482.0</td>\n",
       "      <td>141394.0</td>\n",
       "      <td>43.6</td>\n",
       "    </tr>\n",
       "    <tr>\n",
       "      <th>7</th>\n",
       "      <td>Homa Bay</td>\n",
       "      <td>1125823.0</td>\n",
       "      <td>262036.0</td>\n",
       "      <td>34.3</td>\n",
       "    </tr>\n",
       "    <tr>\n",
       "      <th>8</th>\n",
       "      <td>Isiolo</td>\n",
       "      <td>267997.0</td>\n",
       "      <td>58072.0</td>\n",
       "      <td>14.3</td>\n",
       "    </tr>\n",
       "    <tr>\n",
       "      <th>9</th>\n",
       "      <td>Kajiado</td>\n",
       "      <td>1107296.0</td>\n",
       "      <td>316179.0</td>\n",
       "      <td>22.4</td>\n",
       "    </tr>\n",
       "    <tr>\n",
       "      <th>10</th>\n",
       "      <td>Kakamega</td>\n",
       "      <td>1861332.0</td>\n",
       "      <td>433207.0</td>\n",
       "      <td>56.3</td>\n",
       "    </tr>\n",
       "    <tr>\n",
       "      <th>11</th>\n",
       "      <td>Kericho</td>\n",
       "      <td>896863.0</td>\n",
       "      <td>206036.0</td>\n",
       "      <td>26.4</td>\n",
       "    </tr>\n",
       "    <tr>\n",
       "      <th>12</th>\n",
       "      <td>Kiambu</td>\n",
       "      <td>2402834.0</td>\n",
       "      <td>795241.0</td>\n",
       "      <td>40.5</td>\n",
       "    </tr>\n",
       "    <tr>\n",
       "      <th>13</th>\n",
       "      <td>Kilifi</td>\n",
       "      <td>1440958.0</td>\n",
       "      <td>298472.0</td>\n",
       "      <td>46.9</td>\n",
       "    </tr>\n",
       "    <tr>\n",
       "      <th>14</th>\n",
       "      <td>Kirinyaga</td>\n",
       "      <td>605630.0</td>\n",
       "      <td>204188.0</td>\n",
       "      <td>16.4</td>\n",
       "    </tr>\n",
       "    <tr>\n",
       "      <th>15</th>\n",
       "      <td>Kisii</td>\n",
       "      <td>1260509.0</td>\n",
       "      <td>308054.0</td>\n",
       "      <td>45.7</td>\n",
       "    </tr>\n",
       "    <tr>\n",
       "      <th>16</th>\n",
       "      <td>Kisumu</td>\n",
       "      <td>1144777.0</td>\n",
       "      <td>300745.0</td>\n",
       "      <td>27.2</td>\n",
       "    </tr>\n",
       "    <tr>\n",
       "      <th>17</th>\n",
       "      <td>Kitui</td>\n",
       "      <td>1130134.0</td>\n",
       "      <td>262942.0</td>\n",
       "      <td>78.2</td>\n",
       "    </tr>\n",
       "    <tr>\n",
       "      <th>18</th>\n",
       "      <td>Kwale</td>\n",
       "      <td>858748.0</td>\n",
       "      <td>173176.0</td>\n",
       "      <td>25.5</td>\n",
       "    </tr>\n",
       "    <tr>\n",
       "      <th>19</th>\n",
       "      <td>Laikipia</td>\n",
       "      <td>513879.0</td>\n",
       "      <td>149271.0</td>\n",
       "      <td>18.0</td>\n",
       "    </tr>\n",
       "    <tr>\n",
       "      <th>20</th>\n",
       "      <td>Lamu</td>\n",
       "      <td>141909.0</td>\n",
       "      <td>37963.0</td>\n",
       "      <td>8.0</td>\n",
       "    </tr>\n",
       "    <tr>\n",
       "      <th>21</th>\n",
       "      <td>Machakos</td>\n",
       "      <td>1414022.0</td>\n",
       "      <td>402466.0</td>\n",
       "      <td>33.0</td>\n",
       "    </tr>\n",
       "    <tr>\n",
       "      <th>22</th>\n",
       "      <td>Makueni</td>\n",
       "      <td>977015.0</td>\n",
       "      <td>244669.0</td>\n",
       "      <td>36.0</td>\n",
       "    </tr>\n",
       "    <tr>\n",
       "      <th>23</th>\n",
       "      <td>Mandera</td>\n",
       "      <td>862079.0</td>\n",
       "      <td>125763.0</td>\n",
       "      <td>48.9</td>\n",
       "    </tr>\n",
       "    <tr>\n",
       "      <th>24</th>\n",
       "      <td>Marsabit</td>\n",
       "      <td>447150.0</td>\n",
       "      <td>77495.0</td>\n",
       "      <td>40.6</td>\n",
       "    </tr>\n",
       "    <tr>\n",
       "      <th>25</th>\n",
       "      <td>Meru</td>\n",
       "      <td>1535635.0</td>\n",
       "      <td>426360.0</td>\n",
       "      <td>43.2</td>\n",
       "    </tr>\n",
       "    <tr>\n",
       "      <th>26</th>\n",
       "      <td>Migori</td>\n",
       "      <td>1108950.0</td>\n",
       "      <td>240168.0</td>\n",
       "      <td>37.2</td>\n",
       "    </tr>\n",
       "    <tr>\n",
       "      <th>27</th>\n",
       "      <td>Mombasa</td>\n",
       "      <td>1190987.0</td>\n",
       "      <td>378422.0</td>\n",
       "      <td>19.1</td>\n",
       "    </tr>\n",
       "    <tr>\n",
       "      <th>28</th>\n",
       "      <td>Murang’a</td>\n",
       "      <td>1053059.0</td>\n",
       "      <td>318105.0</td>\n",
       "      <td>27.7</td>\n",
       "    </tr>\n",
       "    <tr>\n",
       "      <th>29</th>\n",
       "      <td>Nairobi</td>\n",
       "      <td>4337080.0</td>\n",
       "      <td>1506888.0</td>\n",
       "      <td>31.6</td>\n",
       "    </tr>\n",
       "    <tr>\n",
       "      <th>30</th>\n",
       "      <td>Nakuru</td>\n",
       "      <td>2142667.0</td>\n",
       "      <td>616046.0</td>\n",
       "      <td>39.9</td>\n",
       "    </tr>\n",
       "    <tr>\n",
       "      <th>31</th>\n",
       "      <td>Nandi</td>\n",
       "      <td>883634.0</td>\n",
       "      <td>199426.0</td>\n",
       "      <td>26.8</td>\n",
       "    </tr>\n",
       "    <tr>\n",
       "      <th>32</th>\n",
       "      <td>Narok</td>\n",
       "      <td>1149379.0</td>\n",
       "      <td>241125.0</td>\n",
       "      <td>30.1</td>\n",
       "    </tr>\n",
       "    <tr>\n",
       "      <th>33</th>\n",
       "      <td>Nyamira</td>\n",
       "      <td>603051.0</td>\n",
       "      <td>150669.0</td>\n",
       "      <td>19.8</td>\n",
       "    </tr>\n",
       "    <tr>\n",
       "      <th>34</th>\n",
       "      <td>Nyandarua</td>\n",
       "      <td>636002.0</td>\n",
       "      <td>179686.0</td>\n",
       "      <td>26.2</td>\n",
       "    </tr>\n",
       "    <tr>\n",
       "      <th>35</th>\n",
       "      <td>Nyeri</td>\n",
       "      <td>752695.0</td>\n",
       "      <td>248050.0</td>\n",
       "      <td>27.8</td>\n",
       "    </tr>\n",
       "    <tr>\n",
       "      <th>36</th>\n",
       "      <td>Samburu</td>\n",
       "      <td>307957.0</td>\n",
       "      <td>65910.0</td>\n",
       "      <td>14.0</td>\n",
       "    </tr>\n",
       "    <tr>\n",
       "      <th>37</th>\n",
       "      <td>Siaya</td>\n",
       "      <td>989708.0</td>\n",
       "      <td>250698.0</td>\n",
       "      <td>23.7</td>\n",
       "    </tr>\n",
       "    <tr>\n",
       "      <th>38</th>\n",
       "      <td>Taita/Taveta</td>\n",
       "      <td>335747.0</td>\n",
       "      <td>96429.0</td>\n",
       "      <td>14.1</td>\n",
       "    </tr>\n",
       "    <tr>\n",
       "      <th>39</th>\n",
       "      <td>Tana River</td>\n",
       "      <td>314710.0</td>\n",
       "      <td>68242.0</td>\n",
       "      <td>13.8</td>\n",
       "    </tr>\n",
       "    <tr>\n",
       "      <th>40</th>\n",
       "      <td>Tharaka-Nithi</td>\n",
       "      <td>391303.0</td>\n",
       "      <td>109860.0</td>\n",
       "      <td>20.0</td>\n",
       "    </tr>\n",
       "    <tr>\n",
       "      <th>41</th>\n",
       "      <td>Trans Nzoia</td>\n",
       "      <td>985333.0</td>\n",
       "      <td>223808.0</td>\n",
       "      <td>22.2</td>\n",
       "    </tr>\n",
       "    <tr>\n",
       "      <th>42</th>\n",
       "      <td>Turkana</td>\n",
       "      <td>922210.0</td>\n",
       "      <td>164519.0</td>\n",
       "      <td>40.8</td>\n",
       "    </tr>\n",
       "    <tr>\n",
       "      <th>43</th>\n",
       "      <td>Uasin Gishu</td>\n",
       "      <td>1152671.0</td>\n",
       "      <td>304943.0</td>\n",
       "      <td>23.0</td>\n",
       "    </tr>\n",
       "    <tr>\n",
       "      <th>44</th>\n",
       "      <td>Vihiga</td>\n",
       "      <td>587189.0</td>\n",
       "      <td>143365.0</td>\n",
       "      <td>21.8</td>\n",
       "    </tr>\n",
       "    <tr>\n",
       "      <th>45</th>\n",
       "      <td>Wajir</td>\n",
       "      <td>775302.0</td>\n",
       "      <td>127932.0</td>\n",
       "      <td>50.0</td>\n",
       "    </tr>\n",
       "    <tr>\n",
       "      <th>46</th>\n",
       "      <td>West Pokot</td>\n",
       "      <td>618867.0</td>\n",
       "      <td>116182.0</td>\n",
       "      <td>27.0</td>\n",
       "    </tr>\n",
       "  </tbody>\n",
       "</table>\n",
       "</div>"
      ],
      "text/plain": [
       "             County  Population  Households  Average Household Size\n",
       "0           Baringo    662760.0    142518.0                    33.8\n",
       "1             Bomet    873023.0    187641.0                    23.3\n",
       "2           Bungoma   1663898.0    358796.0                    56.6\n",
       "3             Busia    886856.0    198152.0                    31.5\n",
       "4   Elgeyo/Marakwet    453403.0     99861.0                    18.1\n",
       "5              Embu    604769.0    182743.0                    17.9\n",
       "6           Garissa    835482.0    141394.0                    43.6\n",
       "7          Homa Bay   1125823.0    262036.0                    34.3\n",
       "8            Isiolo    267997.0     58072.0                    14.3\n",
       "9           Kajiado   1107296.0    316179.0                    22.4\n",
       "10         Kakamega   1861332.0    433207.0                    56.3\n",
       "11          Kericho    896863.0    206036.0                    26.4\n",
       "12           Kiambu   2402834.0    795241.0                    40.5\n",
       "13           Kilifi   1440958.0    298472.0                    46.9\n",
       "14        Kirinyaga    605630.0    204188.0                    16.4\n",
       "15            Kisii   1260509.0    308054.0                    45.7\n",
       "16           Kisumu   1144777.0    300745.0                    27.2\n",
       "17            Kitui   1130134.0    262942.0                    78.2\n",
       "18            Kwale    858748.0    173176.0                    25.5\n",
       "19         Laikipia    513879.0    149271.0                    18.0\n",
       "20             Lamu    141909.0     37963.0                     8.0\n",
       "21         Machakos   1414022.0    402466.0                    33.0\n",
       "22          Makueni    977015.0    244669.0                    36.0\n",
       "23          Mandera    862079.0    125763.0                    48.9\n",
       "24         Marsabit    447150.0     77495.0                    40.6\n",
       "25             Meru   1535635.0    426360.0                    43.2\n",
       "26           Migori   1108950.0    240168.0                    37.2\n",
       "27          Mombasa   1190987.0    378422.0                    19.1\n",
       "28         Murang’a   1053059.0    318105.0                    27.7\n",
       "29          Nairobi   4337080.0   1506888.0                    31.6\n",
       "30           Nakuru   2142667.0    616046.0                    39.9\n",
       "31            Nandi    883634.0    199426.0                    26.8\n",
       "32            Narok   1149379.0    241125.0                    30.1\n",
       "33          Nyamira    603051.0    150669.0                    19.8\n",
       "34        Nyandarua    636002.0    179686.0                    26.2\n",
       "35            Nyeri    752695.0    248050.0                    27.8\n",
       "36          Samburu    307957.0     65910.0                    14.0\n",
       "37            Siaya    989708.0    250698.0                    23.7\n",
       "38     Taita/Taveta    335747.0     96429.0                    14.1\n",
       "39       Tana River    314710.0     68242.0                    13.8\n",
       "40    Tharaka-Nithi    391303.0    109860.0                    20.0\n",
       "41      Trans Nzoia    985333.0    223808.0                    22.2\n",
       "42          Turkana    922210.0    164519.0                    40.8\n",
       "43      Uasin Gishu   1152671.0    304943.0                    23.0\n",
       "44           Vihiga    587189.0    143365.0                    21.8\n",
       "45            Wajir    775302.0    127932.0                    50.0\n",
       "46       West Pokot    618867.0    116182.0                    27.0"
      ]
     },
     "execution_count": 19,
     "metadata": {},
     "output_type": "execute_result"
    }
   ],
   "source": [
    "ph.groupby(\"County\").sum().reset_index()\n"
   ]
  },
  {
   "cell_type": "code",
   "execution_count": 20,
   "id": "7a88e38a",
   "metadata": {},
   "outputs": [
    {
     "data": {
      "text/plain": [
       "County                    West Pokot\n",
       "Population                 4337080.0\n",
       "Households                 1506888.0\n",
       "Average Household Size          78.2\n",
       "dtype: object"
      ]
     },
     "execution_count": 20,
     "metadata": {},
     "output_type": "execute_result"
    }
   ],
   "source": [
    "ph.groupby(\"County\").sum().reset_index().max()"
   ]
  },
  {
   "cell_type": "code",
   "execution_count": 21,
   "id": "f1a59aac",
   "metadata": {},
   "outputs": [],
   "source": [
    "ph.dropna(inplace=True)"
   ]
  },
  {
   "cell_type": "code",
   "execution_count": 22,
   "id": "463189d5",
   "metadata": {},
   "outputs": [
    {
     "data": {
      "text/html": [
       "<div>\n",
       "<style scoped>\n",
       "    .dataframe tbody tr th:only-of-type {\n",
       "        vertical-align: middle;\n",
       "    }\n",
       "\n",
       "    .dataframe tbody tr th {\n",
       "        vertical-align: top;\n",
       "    }\n",
       "\n",
       "    .dataframe thead th {\n",
       "        text-align: right;\n",
       "    }\n",
       "</style>\n",
       "<table border=\"1\" class=\"dataframe\">\n",
       "  <thead>\n",
       "    <tr style=\"text-align: right;\">\n",
       "      <th></th>\n",
       "      <th>County</th>\n",
       "      <th>Sub County</th>\n",
       "      <th>Population</th>\n",
       "      <th>Households</th>\n",
       "      <th>Average Household Size</th>\n",
       "    </tr>\n",
       "  </thead>\n",
       "  <tbody>\n",
       "    <tr>\n",
       "      <th>0</th>\n",
       "      <td>Mombasa</td>\n",
       "      <td>Changamwe</td>\n",
       "      <td>130541.0</td>\n",
       "      <td>46614.0</td>\n",
       "      <td>2.8</td>\n",
       "    </tr>\n",
       "    <tr>\n",
       "      <th>1</th>\n",
       "      <td>Mombasa</td>\n",
       "      <td>Jomvu</td>\n",
       "      <td>162760.0</td>\n",
       "      <td>53472.0</td>\n",
       "      <td>3.0</td>\n",
       "    </tr>\n",
       "    <tr>\n",
       "      <th>2</th>\n",
       "      <td>Mombasa</td>\n",
       "      <td>Kisauni</td>\n",
       "      <td>287131.0</td>\n",
       "      <td>88202.0</td>\n",
       "      <td>3.3</td>\n",
       "    </tr>\n",
       "    <tr>\n",
       "      <th>3</th>\n",
       "      <td>Mombasa</td>\n",
       "      <td>Likoni</td>\n",
       "      <td>249230.0</td>\n",
       "      <td>81191.0</td>\n",
       "      <td>3.1</td>\n",
       "    </tr>\n",
       "    <tr>\n",
       "      <th>4</th>\n",
       "      <td>Mombasa</td>\n",
       "      <td>Mvita</td>\n",
       "      <td>147983.0</td>\n",
       "      <td>38995.0</td>\n",
       "      <td>3.8</td>\n",
       "    </tr>\n",
       "    <tr>\n",
       "      <th>...</th>\n",
       "      <td>...</td>\n",
       "      <td>...</td>\n",
       "      <td>...</td>\n",
       "      <td>...</td>\n",
       "      <td>...</td>\n",
       "    </tr>\n",
       "    <tr>\n",
       "      <th>343</th>\n",
       "      <td>Nairobi</td>\n",
       "      <td>Makadara</td>\n",
       "      <td>188792.0</td>\n",
       "      <td>70361.0</td>\n",
       "      <td>2.7</td>\n",
       "    </tr>\n",
       "    <tr>\n",
       "      <th>344</th>\n",
       "      <td>Nairobi</td>\n",
       "      <td>Mathare</td>\n",
       "      <td>204469.0</td>\n",
       "      <td>74967.0</td>\n",
       "      <td>2.7</td>\n",
       "    </tr>\n",
       "    <tr>\n",
       "      <th>345</th>\n",
       "      <td>Nairobi</td>\n",
       "      <td>Njiru</td>\n",
       "      <td>623471.0</td>\n",
       "      <td>204563.0</td>\n",
       "      <td>3.0</td>\n",
       "    </tr>\n",
       "    <tr>\n",
       "      <th>346</th>\n",
       "      <td>Nairobi</td>\n",
       "      <td>Starehe</td>\n",
       "      <td>194726.0</td>\n",
       "      <td>69389.0</td>\n",
       "      <td>2.8</td>\n",
       "    </tr>\n",
       "    <tr>\n",
       "      <th>347</th>\n",
       "      <td>Nairobi</td>\n",
       "      <td>Westlands</td>\n",
       "      <td>301295.0</td>\n",
       "      <td>104980.0</td>\n",
       "      <td>2.9</td>\n",
       "    </tr>\n",
       "  </tbody>\n",
       "</table>\n",
       "<p>345 rows × 5 columns</p>\n",
       "</div>"
      ],
      "text/plain": [
       "      County Sub County  Population  Households  Average Household Size\n",
       "0    Mombasa  Changamwe    130541.0     46614.0                     2.8\n",
       "1    Mombasa      Jomvu    162760.0     53472.0                     3.0\n",
       "2    Mombasa    Kisauni    287131.0     88202.0                     3.3\n",
       "3    Mombasa     Likoni    249230.0     81191.0                     3.1\n",
       "4    Mombasa      Mvita    147983.0     38995.0                     3.8\n",
       "..       ...        ...         ...         ...                     ...\n",
       "343  Nairobi   Makadara    188792.0     70361.0                     2.7\n",
       "344  Nairobi    Mathare    204469.0     74967.0                     2.7\n",
       "345  Nairobi      Njiru    623471.0    204563.0                     3.0\n",
       "346  Nairobi    Starehe    194726.0     69389.0                     2.8\n",
       "347  Nairobi  Westlands    301295.0    104980.0                     2.9\n",
       "\n",
       "[345 rows x 5 columns]"
      ]
     },
     "execution_count": 22,
     "metadata": {},
     "output_type": "execute_result"
    }
   ],
   "source": [
    "ph"
   ]
  },
  {
   "cell_type": "code",
   "execution_count": 148,
   "id": "58dce118",
   "metadata": {},
   "outputs": [
    {
     "data": {
      "text/plain": [
       "<pandas.core.groupby.generic.DataFrameGroupBy object at 0x000001E42AB16220>"
      ]
     },
     "execution_count": 148,
     "metadata": {},
     "output_type": "execute_result"
    }
   ],
   "source": [
    "ph.groupby(\"Sub County\")"
   ]
  },
  {
   "cell_type": "code",
   "execution_count": 149,
   "id": "e56f3074",
   "metadata": {},
   "outputs": [
    {
     "data": {
      "text/html": [
       "<div>\n",
       "<style scoped>\n",
       "    .dataframe tbody tr th:only-of-type {\n",
       "        vertical-align: middle;\n",
       "    }\n",
       "\n",
       "    .dataframe tbody tr th {\n",
       "        vertical-align: top;\n",
       "    }\n",
       "\n",
       "    .dataframe thead th {\n",
       "        text-align: right;\n",
       "    }\n",
       "</style>\n",
       "<table border=\"1\" class=\"dataframe\">\n",
       "  <thead>\n",
       "    <tr style=\"text-align: right;\">\n",
       "      <th></th>\n",
       "      <th>County</th>\n",
       "      <th>Sub County</th>\n",
       "      <th>Population</th>\n",
       "      <th>Households</th>\n",
       "      <th>Average Household Size</th>\n",
       "    </tr>\n",
       "  </thead>\n",
       "  <tbody>\n",
       "    <tr>\n",
       "      <th>0</th>\n",
       "      <td>Mombasa</td>\n",
       "      <td>Changamwe</td>\n",
       "      <td>130,541</td>\n",
       "      <td>46,614</td>\n",
       "      <td>2.8</td>\n",
       "    </tr>\n",
       "    <tr>\n",
       "      <th>1</th>\n",
       "      <td>Mombasa</td>\n",
       "      <td>Jomvu</td>\n",
       "      <td>162,760</td>\n",
       "      <td>53,472</td>\n",
       "      <td>3.0</td>\n",
       "    </tr>\n",
       "    <tr>\n",
       "      <th>2</th>\n",
       "      <td>Mombasa</td>\n",
       "      <td>Kisauni</td>\n",
       "      <td>287,131</td>\n",
       "      <td>88,202</td>\n",
       "      <td>3.3</td>\n",
       "    </tr>\n",
       "    <tr>\n",
       "      <th>3</th>\n",
       "      <td>Mombasa</td>\n",
       "      <td>Likoni</td>\n",
       "      <td>249,230</td>\n",
       "      <td>81,191</td>\n",
       "      <td>3.1</td>\n",
       "    </tr>\n",
       "    <tr>\n",
       "      <th>4</th>\n",
       "      <td>Mombasa</td>\n",
       "      <td>Mvita</td>\n",
       "      <td>147,983</td>\n",
       "      <td>38,995</td>\n",
       "      <td>3.8</td>\n",
       "    </tr>\n",
       "    <tr>\n",
       "      <th>...</th>\n",
       "      <td>...</td>\n",
       "      <td>...</td>\n",
       "      <td>...</td>\n",
       "      <td>...</td>\n",
       "      <td>...</td>\n",
       "    </tr>\n",
       "    <tr>\n",
       "      <th>343</th>\n",
       "      <td>Nairobi</td>\n",
       "      <td>Makadara</td>\n",
       "      <td>188,792</td>\n",
       "      <td>70,361</td>\n",
       "      <td>2.7</td>\n",
       "    </tr>\n",
       "    <tr>\n",
       "      <th>344</th>\n",
       "      <td>Nairobi</td>\n",
       "      <td>Mathare</td>\n",
       "      <td>204,469</td>\n",
       "      <td>74,967</td>\n",
       "      <td>2.7</td>\n",
       "    </tr>\n",
       "    <tr>\n",
       "      <th>345</th>\n",
       "      <td>Nairobi</td>\n",
       "      <td>Njiru</td>\n",
       "      <td>623,471</td>\n",
       "      <td>204,563</td>\n",
       "      <td>3.0</td>\n",
       "    </tr>\n",
       "    <tr>\n",
       "      <th>346</th>\n",
       "      <td>Nairobi</td>\n",
       "      <td>Starehe</td>\n",
       "      <td>194,726</td>\n",
       "      <td>69,389</td>\n",
       "      <td>2.8</td>\n",
       "    </tr>\n",
       "    <tr>\n",
       "      <th>347</th>\n",
       "      <td>Nairobi</td>\n",
       "      <td>Westlands</td>\n",
       "      <td>301,295</td>\n",
       "      <td>104,980</td>\n",
       "      <td>2.9</td>\n",
       "    </tr>\n",
       "  </tbody>\n",
       "</table>\n",
       "<p>345 rows × 5 columns</p>\n",
       "</div>"
      ],
      "text/plain": [
       "      County Sub County Population Households  Average Household Size\n",
       "0    Mombasa  Changamwe    130,541     46,614                     2.8\n",
       "1    Mombasa      Jomvu    162,760     53,472                     3.0\n",
       "2    Mombasa    Kisauni    287,131     88,202                     3.3\n",
       "3    Mombasa     Likoni    249,230     81,191                     3.1\n",
       "4    Mombasa      Mvita    147,983     38,995                     3.8\n",
       "..       ...        ...        ...        ...                     ...\n",
       "343  Nairobi   Makadara    188,792     70,361                     2.7\n",
       "344  Nairobi    Mathare    204,469     74,967                     2.7\n",
       "345  Nairobi      Njiru    623,471    204,563                     3.0\n",
       "346  Nairobi    Starehe    194,726     69,389                     2.8\n",
       "347  Nairobi  Westlands    301,295    104,980                     2.9\n",
       "\n",
       "[345 rows x 5 columns]"
      ]
     },
     "execution_count": 149,
     "metadata": {},
     "output_type": "execute_result"
    }
   ],
   "source": [
    "ph"
   ]
  },
  {
   "cell_type": "markdown",
   "id": "f669408c",
   "metadata": {
    "jp-MarkdownHeadingCollapsed": true,
    "tags": []
   },
   "source": [
    "# Assignment\n",
    "**using the two datasets combine them togethre using append,concatenate,merge**\n",
    "\n",
    "1). why the data is not recognising the comma seperated value 130,456\n",
    "\n",
    "3). group the two data using county and subcounty and fine the mean in each \n",
    "\n",
    "4). create a third categorical  column variable called overpopulated to check density,,if density is greater than 3000 it should assign yes if not it should assign yes\n",
    "\n",
    "5). group using the three variables and find mean population in those areas\n",
    "\n",
    "2). change the data types of population ,households from object to integers /float.\n",
    "\n",
    "\n"
   ]
  },
  {
   "cell_type": "code",
   "execution_count": 150,
   "id": "5b1e800c",
   "metadata": {},
   "outputs": [],
   "source": [
    "ph.dropna(inplace=True)"
   ]
  },
  {
   "cell_type": "code",
   "execution_count": 151,
   "id": "ddcf8c18",
   "metadata": {},
   "outputs": [
    {
     "name": "stdout",
     "output_type": "stream",
     "text": [
      "<class 'pandas.core.frame.DataFrame'>\n",
      "Int64Index: 345 entries, 0 to 347\n",
      "Data columns (total 5 columns):\n",
      " #   Column                  Non-Null Count  Dtype  \n",
      "---  ------                  --------------  -----  \n",
      " 0   County                  345 non-null    object \n",
      " 1   Sub County              345 non-null    object \n",
      " 2   Population              345 non-null    object \n",
      " 3   Households              345 non-null    object \n",
      " 4   Average Household Size  345 non-null    float64\n",
      "dtypes: float64(1), object(4)\n",
      "memory usage: 16.2+ KB\n"
     ]
    }
   ],
   "source": [
    "ph.info()"
   ]
  },
  {
   "cell_type": "code",
   "execution_count": 152,
   "id": "c50af5c4",
   "metadata": {},
   "outputs": [
    {
     "ename": "ValueError",
     "evalue": "invalid literal for int() with base 10: '130,541'",
     "output_type": "error",
     "traceback": [
      "\u001b[1;31m---------------------------------------------------------------------------\u001b[0m",
      "\u001b[1;31mValueError\u001b[0m                                Traceback (most recent call last)",
      "\u001b[1;32m~\\AppData\\Local\\Temp\\ipykernel_13036\\1960623568.py\u001b[0m in \u001b[0;36m<module>\u001b[1;34m\u001b[0m\n\u001b[1;32m----> 1\u001b[1;33m \u001b[0mph\u001b[0m\u001b[1;33m[\u001b[0m\u001b[1;34m\"Population\"\u001b[0m\u001b[1;33m]\u001b[0m\u001b[1;33m=\u001b[0m\u001b[0mph\u001b[0m\u001b[1;33m[\u001b[0m\u001b[1;34m\"Population\"\u001b[0m\u001b[1;33m]\u001b[0m\u001b[1;33m.\u001b[0m\u001b[0mastype\u001b[0m\u001b[1;33m(\u001b[0m\u001b[0mnp\u001b[0m\u001b[1;33m.\u001b[0m\u001b[0mint64\u001b[0m\u001b[1;33m)\u001b[0m\u001b[1;33m\u001b[0m\u001b[1;33m\u001b[0m\u001b[0m\n\u001b[0m",
      "\u001b[1;32mC:\\ProgramData\\Anaconda3\\lib\\site-packages\\pandas\\core\\generic.py\u001b[0m in \u001b[0;36mastype\u001b[1;34m(self, dtype, copy, errors)\u001b[0m\n\u001b[0;32m   5910\u001b[0m         \u001b[1;32melse\u001b[0m\u001b[1;33m:\u001b[0m\u001b[1;33m\u001b[0m\u001b[1;33m\u001b[0m\u001b[0m\n\u001b[0;32m   5911\u001b[0m             \u001b[1;31m# else, only a single dtype is given\u001b[0m\u001b[1;33m\u001b[0m\u001b[1;33m\u001b[0m\u001b[0m\n\u001b[1;32m-> 5912\u001b[1;33m             \u001b[0mnew_data\u001b[0m \u001b[1;33m=\u001b[0m \u001b[0mself\u001b[0m\u001b[1;33m.\u001b[0m\u001b[0m_mgr\u001b[0m\u001b[1;33m.\u001b[0m\u001b[0mastype\u001b[0m\u001b[1;33m(\u001b[0m\u001b[0mdtype\u001b[0m\u001b[1;33m=\u001b[0m\u001b[0mdtype\u001b[0m\u001b[1;33m,\u001b[0m \u001b[0mcopy\u001b[0m\u001b[1;33m=\u001b[0m\u001b[0mcopy\u001b[0m\u001b[1;33m,\u001b[0m \u001b[0merrors\u001b[0m\u001b[1;33m=\u001b[0m\u001b[0merrors\u001b[0m\u001b[1;33m)\u001b[0m\u001b[1;33m\u001b[0m\u001b[1;33m\u001b[0m\u001b[0m\n\u001b[0m\u001b[0;32m   5913\u001b[0m             \u001b[1;32mreturn\u001b[0m \u001b[0mself\u001b[0m\u001b[1;33m.\u001b[0m\u001b[0m_constructor\u001b[0m\u001b[1;33m(\u001b[0m\u001b[0mnew_data\u001b[0m\u001b[1;33m)\u001b[0m\u001b[1;33m.\u001b[0m\u001b[0m__finalize__\u001b[0m\u001b[1;33m(\u001b[0m\u001b[0mself\u001b[0m\u001b[1;33m,\u001b[0m \u001b[0mmethod\u001b[0m\u001b[1;33m=\u001b[0m\u001b[1;34m\"astype\"\u001b[0m\u001b[1;33m)\u001b[0m\u001b[1;33m\u001b[0m\u001b[1;33m\u001b[0m\u001b[0m\n\u001b[0;32m   5914\u001b[0m \u001b[1;33m\u001b[0m\u001b[0m\n",
      "\u001b[1;32mC:\\ProgramData\\Anaconda3\\lib\\site-packages\\pandas\\core\\internals\\managers.py\u001b[0m in \u001b[0;36mastype\u001b[1;34m(self, dtype, copy, errors)\u001b[0m\n\u001b[0;32m    417\u001b[0m \u001b[1;33m\u001b[0m\u001b[0m\n\u001b[0;32m    418\u001b[0m     \u001b[1;32mdef\u001b[0m \u001b[0mastype\u001b[0m\u001b[1;33m(\u001b[0m\u001b[0mself\u001b[0m\u001b[1;33m:\u001b[0m \u001b[0mT\u001b[0m\u001b[1;33m,\u001b[0m \u001b[0mdtype\u001b[0m\u001b[1;33m,\u001b[0m \u001b[0mcopy\u001b[0m\u001b[1;33m:\u001b[0m \u001b[0mbool\u001b[0m \u001b[1;33m=\u001b[0m \u001b[1;32mFalse\u001b[0m\u001b[1;33m,\u001b[0m \u001b[0merrors\u001b[0m\u001b[1;33m:\u001b[0m \u001b[0mstr\u001b[0m \u001b[1;33m=\u001b[0m \u001b[1;34m\"raise\"\u001b[0m\u001b[1;33m)\u001b[0m \u001b[1;33m->\u001b[0m \u001b[0mT\u001b[0m\u001b[1;33m:\u001b[0m\u001b[1;33m\u001b[0m\u001b[1;33m\u001b[0m\u001b[0m\n\u001b[1;32m--> 419\u001b[1;33m         \u001b[1;32mreturn\u001b[0m \u001b[0mself\u001b[0m\u001b[1;33m.\u001b[0m\u001b[0mapply\u001b[0m\u001b[1;33m(\u001b[0m\u001b[1;34m\"astype\"\u001b[0m\u001b[1;33m,\u001b[0m \u001b[0mdtype\u001b[0m\u001b[1;33m=\u001b[0m\u001b[0mdtype\u001b[0m\u001b[1;33m,\u001b[0m \u001b[0mcopy\u001b[0m\u001b[1;33m=\u001b[0m\u001b[0mcopy\u001b[0m\u001b[1;33m,\u001b[0m \u001b[0merrors\u001b[0m\u001b[1;33m=\u001b[0m\u001b[0merrors\u001b[0m\u001b[1;33m)\u001b[0m\u001b[1;33m\u001b[0m\u001b[1;33m\u001b[0m\u001b[0m\n\u001b[0m\u001b[0;32m    420\u001b[0m \u001b[1;33m\u001b[0m\u001b[0m\n\u001b[0;32m    421\u001b[0m     def convert(\n",
      "\u001b[1;32mC:\\ProgramData\\Anaconda3\\lib\\site-packages\\pandas\\core\\internals\\managers.py\u001b[0m in \u001b[0;36mapply\u001b[1;34m(self, f, align_keys, ignore_failures, **kwargs)\u001b[0m\n\u001b[0;32m    302\u001b[0m                     \u001b[0mapplied\u001b[0m \u001b[1;33m=\u001b[0m \u001b[0mb\u001b[0m\u001b[1;33m.\u001b[0m\u001b[0mapply\u001b[0m\u001b[1;33m(\u001b[0m\u001b[0mf\u001b[0m\u001b[1;33m,\u001b[0m \u001b[1;33m**\u001b[0m\u001b[0mkwargs\u001b[0m\u001b[1;33m)\u001b[0m\u001b[1;33m\u001b[0m\u001b[1;33m\u001b[0m\u001b[0m\n\u001b[0;32m    303\u001b[0m                 \u001b[1;32melse\u001b[0m\u001b[1;33m:\u001b[0m\u001b[1;33m\u001b[0m\u001b[1;33m\u001b[0m\u001b[0m\n\u001b[1;32m--> 304\u001b[1;33m                     \u001b[0mapplied\u001b[0m \u001b[1;33m=\u001b[0m \u001b[0mgetattr\u001b[0m\u001b[1;33m(\u001b[0m\u001b[0mb\u001b[0m\u001b[1;33m,\u001b[0m \u001b[0mf\u001b[0m\u001b[1;33m)\u001b[0m\u001b[1;33m(\u001b[0m\u001b[1;33m**\u001b[0m\u001b[0mkwargs\u001b[0m\u001b[1;33m)\u001b[0m\u001b[1;33m\u001b[0m\u001b[1;33m\u001b[0m\u001b[0m\n\u001b[0m\u001b[0;32m    305\u001b[0m             \u001b[1;32mexcept\u001b[0m \u001b[1;33m(\u001b[0m\u001b[0mTypeError\u001b[0m\u001b[1;33m,\u001b[0m \u001b[0mNotImplementedError\u001b[0m\u001b[1;33m)\u001b[0m\u001b[1;33m:\u001b[0m\u001b[1;33m\u001b[0m\u001b[1;33m\u001b[0m\u001b[0m\n\u001b[0;32m    306\u001b[0m                 \u001b[1;32mif\u001b[0m \u001b[1;32mnot\u001b[0m \u001b[0mignore_failures\u001b[0m\u001b[1;33m:\u001b[0m\u001b[1;33m\u001b[0m\u001b[1;33m\u001b[0m\u001b[0m\n",
      "\u001b[1;32mC:\\ProgramData\\Anaconda3\\lib\\site-packages\\pandas\\core\\internals\\blocks.py\u001b[0m in \u001b[0;36mastype\u001b[1;34m(self, dtype, copy, errors)\u001b[0m\n\u001b[0;32m    578\u001b[0m         \u001b[0mvalues\u001b[0m \u001b[1;33m=\u001b[0m \u001b[0mself\u001b[0m\u001b[1;33m.\u001b[0m\u001b[0mvalues\u001b[0m\u001b[1;33m\u001b[0m\u001b[1;33m\u001b[0m\u001b[0m\n\u001b[0;32m    579\u001b[0m \u001b[1;33m\u001b[0m\u001b[0m\n\u001b[1;32m--> 580\u001b[1;33m         \u001b[0mnew_values\u001b[0m \u001b[1;33m=\u001b[0m \u001b[0mastype_array_safe\u001b[0m\u001b[1;33m(\u001b[0m\u001b[0mvalues\u001b[0m\u001b[1;33m,\u001b[0m \u001b[0mdtype\u001b[0m\u001b[1;33m,\u001b[0m \u001b[0mcopy\u001b[0m\u001b[1;33m=\u001b[0m\u001b[0mcopy\u001b[0m\u001b[1;33m,\u001b[0m \u001b[0merrors\u001b[0m\u001b[1;33m=\u001b[0m\u001b[0merrors\u001b[0m\u001b[1;33m)\u001b[0m\u001b[1;33m\u001b[0m\u001b[1;33m\u001b[0m\u001b[0m\n\u001b[0m\u001b[0;32m    581\u001b[0m \u001b[1;33m\u001b[0m\u001b[0m\n\u001b[0;32m    582\u001b[0m         \u001b[0mnew_values\u001b[0m \u001b[1;33m=\u001b[0m \u001b[0mmaybe_coerce_values\u001b[0m\u001b[1;33m(\u001b[0m\u001b[0mnew_values\u001b[0m\u001b[1;33m)\u001b[0m\u001b[1;33m\u001b[0m\u001b[1;33m\u001b[0m\u001b[0m\n",
      "\u001b[1;32mC:\\ProgramData\\Anaconda3\\lib\\site-packages\\pandas\\core\\dtypes\\cast.py\u001b[0m in \u001b[0;36mastype_array_safe\u001b[1;34m(values, dtype, copy, errors)\u001b[0m\n\u001b[0;32m   1290\u001b[0m \u001b[1;33m\u001b[0m\u001b[0m\n\u001b[0;32m   1291\u001b[0m     \u001b[1;32mtry\u001b[0m\u001b[1;33m:\u001b[0m\u001b[1;33m\u001b[0m\u001b[1;33m\u001b[0m\u001b[0m\n\u001b[1;32m-> 1292\u001b[1;33m         \u001b[0mnew_values\u001b[0m \u001b[1;33m=\u001b[0m \u001b[0mastype_array\u001b[0m\u001b[1;33m(\u001b[0m\u001b[0mvalues\u001b[0m\u001b[1;33m,\u001b[0m \u001b[0mdtype\u001b[0m\u001b[1;33m,\u001b[0m \u001b[0mcopy\u001b[0m\u001b[1;33m=\u001b[0m\u001b[0mcopy\u001b[0m\u001b[1;33m)\u001b[0m\u001b[1;33m\u001b[0m\u001b[1;33m\u001b[0m\u001b[0m\n\u001b[0m\u001b[0;32m   1293\u001b[0m     \u001b[1;32mexcept\u001b[0m \u001b[1;33m(\u001b[0m\u001b[0mValueError\u001b[0m\u001b[1;33m,\u001b[0m \u001b[0mTypeError\u001b[0m\u001b[1;33m)\u001b[0m\u001b[1;33m:\u001b[0m\u001b[1;33m\u001b[0m\u001b[1;33m\u001b[0m\u001b[0m\n\u001b[0;32m   1294\u001b[0m         \u001b[1;31m# e.g. astype_nansafe can fail on object-dtype of strings\u001b[0m\u001b[1;33m\u001b[0m\u001b[1;33m\u001b[0m\u001b[0m\n",
      "\u001b[1;32mC:\\ProgramData\\Anaconda3\\lib\\site-packages\\pandas\\core\\dtypes\\cast.py\u001b[0m in \u001b[0;36mastype_array\u001b[1;34m(values, dtype, copy)\u001b[0m\n\u001b[0;32m   1235\u001b[0m \u001b[1;33m\u001b[0m\u001b[0m\n\u001b[0;32m   1236\u001b[0m     \u001b[1;32melse\u001b[0m\u001b[1;33m:\u001b[0m\u001b[1;33m\u001b[0m\u001b[1;33m\u001b[0m\u001b[0m\n\u001b[1;32m-> 1237\u001b[1;33m         \u001b[0mvalues\u001b[0m \u001b[1;33m=\u001b[0m \u001b[0mastype_nansafe\u001b[0m\u001b[1;33m(\u001b[0m\u001b[0mvalues\u001b[0m\u001b[1;33m,\u001b[0m \u001b[0mdtype\u001b[0m\u001b[1;33m,\u001b[0m \u001b[0mcopy\u001b[0m\u001b[1;33m=\u001b[0m\u001b[0mcopy\u001b[0m\u001b[1;33m)\u001b[0m\u001b[1;33m\u001b[0m\u001b[1;33m\u001b[0m\u001b[0m\n\u001b[0m\u001b[0;32m   1238\u001b[0m \u001b[1;33m\u001b[0m\u001b[0m\n\u001b[0;32m   1239\u001b[0m     \u001b[1;31m# in pandas we don't store numpy str dtypes, so convert to object\u001b[0m\u001b[1;33m\u001b[0m\u001b[1;33m\u001b[0m\u001b[0m\n",
      "\u001b[1;32mC:\\ProgramData\\Anaconda3\\lib\\site-packages\\pandas\\core\\dtypes\\cast.py\u001b[0m in \u001b[0;36mastype_nansafe\u001b[1;34m(arr, dtype, copy, skipna)\u001b[0m\n\u001b[0;32m   1152\u001b[0m         \u001b[1;31m# work around NumPy brokenness, #1987\u001b[0m\u001b[1;33m\u001b[0m\u001b[1;33m\u001b[0m\u001b[0m\n\u001b[0;32m   1153\u001b[0m         \u001b[1;32mif\u001b[0m \u001b[0mnp\u001b[0m\u001b[1;33m.\u001b[0m\u001b[0missubdtype\u001b[0m\u001b[1;33m(\u001b[0m\u001b[0mdtype\u001b[0m\u001b[1;33m.\u001b[0m\u001b[0mtype\u001b[0m\u001b[1;33m,\u001b[0m \u001b[0mnp\u001b[0m\u001b[1;33m.\u001b[0m\u001b[0minteger\u001b[0m\u001b[1;33m)\u001b[0m\u001b[1;33m:\u001b[0m\u001b[1;33m\u001b[0m\u001b[1;33m\u001b[0m\u001b[0m\n\u001b[1;32m-> 1154\u001b[1;33m             \u001b[1;32mreturn\u001b[0m \u001b[0mlib\u001b[0m\u001b[1;33m.\u001b[0m\u001b[0mastype_intsafe\u001b[0m\u001b[1;33m(\u001b[0m\u001b[0marr\u001b[0m\u001b[1;33m,\u001b[0m \u001b[0mdtype\u001b[0m\u001b[1;33m)\u001b[0m\u001b[1;33m\u001b[0m\u001b[1;33m\u001b[0m\u001b[0m\n\u001b[0m\u001b[0;32m   1155\u001b[0m \u001b[1;33m\u001b[0m\u001b[0m\n\u001b[0;32m   1156\u001b[0m         \u001b[1;31m# if we have a datetime/timedelta array of objects\u001b[0m\u001b[1;33m\u001b[0m\u001b[1;33m\u001b[0m\u001b[0m\n",
      "\u001b[1;32mC:\\ProgramData\\Anaconda3\\lib\\site-packages\\pandas\\_libs\\lib.pyx\u001b[0m in \u001b[0;36mpandas._libs.lib.astype_intsafe\u001b[1;34m()\u001b[0m\n",
      "\u001b[1;31mValueError\u001b[0m: invalid literal for int() with base 10: '130,541'"
     ]
    }
   ],
   "source": [
    "ph[\"Population\"]=ph[\"Population\"].astype(np.int64)"
   ]
  },
  {
   "cell_type": "code",
   "execution_count": null,
   "id": "f5155e5a",
   "metadata": {},
   "outputs": [],
   "source": [
    "ph[\"Average Household Size\"]=ph[\"Average Household Size\"].astype(np.int64)"
   ]
  },
  {
   "cell_type": "code",
   "execution_count": null,
   "id": "335fd538",
   "metadata": {},
   "outputs": [],
   "source": [
    "ph.info()"
   ]
  },
  {
   "cell_type": "code",
   "execution_count": null,
   "id": "5408c60c",
   "metadata": {},
   "outputs": [],
   "source": [
    "#merging ph and df2 using the append function\n",
    "new=ph.append(cad)\n",
    "new"
   ]
  }
 ],
 "metadata": {
  "kernelspec": {
   "display_name": "Python 3 (ipykernel)",
   "language": "python",
   "name": "python3"
  },
  "language_info": {
   "codemirror_mode": {
    "name": "ipython",
    "version": 3
   },
   "file_extension": ".py",
   "mimetype": "text/x-python",
   "name": "python",
   "nbconvert_exporter": "python",
   "pygments_lexer": "ipython3",
   "version": "3.9.13"
  }
 },
 "nbformat": 4,
 "nbformat_minor": 5
}
