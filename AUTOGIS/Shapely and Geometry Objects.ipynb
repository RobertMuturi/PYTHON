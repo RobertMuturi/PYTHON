{
 "cells": [
  {
   "cell_type": "markdown",
   "id": "f7b7d682-ce98-480b-8691-7cca4de6c32e",
   "metadata": {
    "tags": []
   },
   "source": [
    "# Using shapely to create, access, manipulate and analyse geometric objects\n",
    "Shapely can perform many useful operations on geometries, and provides a range of attributes of geometries. For instance, you can:\n",
    "- create lines and polygons from a set of points\n",
    "- calculate the area, length, perimeter, etc., of geometries\n",
    "- perform geometric operations on a set of geometries, for instance, merging (union), subtracting (difference), or calculating the distance between geometries.\n",
    "- query the relationship between geometries, i.e., find out whether two geometries intersect, touch, cross, etc."
   ]
  },
  {
   "cell_type": "markdown",
   "id": "7bd0d91e-dd79-4975-a101-66597e436aa8",
   "metadata": {
    "tags": []
   },
   "source": [
    "# Creating Point geometries and accessing their properties"
   ]
  },
  {
   "cell_type": "code",
   "execution_count": 1,
   "id": "84eee2fd-38fd-44fd-baa2-e91a5042f862",
   "metadata": {},
   "outputs": [
    {
     "data": {
      "image/svg+xml": [
       "<svg xmlns=\"http://www.w3.org/2000/svg\" xmlns:xlink=\"http://www.w3.org/1999/xlink\" width=\"100.0\" height=\"100.0\" viewBox=\"1.2000000000000002 3.2 2.0 2.0\" preserveAspectRatio=\"xMinYMin meet\"><g transform=\"matrix(1,0,0,-1,0,8.4)\"><circle cx=\"2.2\" cy=\"4.2\" r=\"0.06\" stroke=\"#555555\" stroke-width=\"0.02\" fill=\"#66cc99\" opacity=\"0.6\" /></g></svg>"
      ],
      "text/plain": [
       "<POINT (2.2 4.2)>"
      ]
     },
     "execution_count": 1,
     "metadata": {},
     "output_type": "execute_result"
    }
   ],
   "source": [
    "# import 'shapely.geometry.point' class\n",
    "from shapely.geometry import Point\n",
    "\n",
    "#create 'point' obejects\n",
    "point1 = Point(2.2, 4.2)\n",
    "point2 = Point(7.2, -25.1)\n",
    "point3 = Point(9.26, -2.456)\n",
    "point4_3D = Point(9.26, -2.456, 0.57)\n",
    "\n",
    "#print out\n",
    "point1"
   ]
  },
  {
   "cell_type": "markdown",
   "id": "879b69c1-7b18-4bcc-b569-7720523d7d59",
   "metadata": {},
   "source": [
    "Alternatively, use a print statement to show the text representation of a shapely geometry object:"
   ]
  },
  {
   "cell_type": "code",
   "execution_count": 2,
   "id": "b329b3dc-3626-4f23-8b71-d37ae663248f",
   "metadata": {},
   "outputs": [
    {
     "name": "stdout",
     "output_type": "stream",
     "text": [
      "POINT (2.2 4.2)\n",
      "POINT Z (9.26 -2.456 0.57)\n"
     ]
    }
   ],
   "source": [
    "print(point1)\n",
    "print(point4_3D)"
   ]
  },
  {
   "cell_type": "markdown",
   "id": "ffaaf60c-d53c-4f68-8df0-c21acb19d141",
   "metadata": {},
   "source": [
    "Let’s also check the data type of a point:"
   ]
  },
  {
   "cell_type": "code",
   "execution_count": 3,
   "id": "f9bb25df-ae3e-47d7-81a5-4c7cc2c44d1e",
   "metadata": {},
   "outputs": [
    {
     "data": {
      "text/plain": [
       "shapely.geometry.point.Point"
      ]
     },
     "execution_count": 3,
     "metadata": {},
     "output_type": "execute_result"
    }
   ],
   "source": [
    "type(point1)"
   ]
  },
  {
   "cell_type": "markdown",
   "id": "05e7d88a-4aff-4dd6-aab4-04720c0d32fb",
   "metadata": {
    "jp-MarkdownHeadingCollapsed": true,
    "tags": []
   },
   "source": [
    "## Point properties and methods"
   ]
  },
  {
   "cell_type": "markdown",
   "id": "29a8f85e-5876-4c58-8752-a551de88ecc7",
   "metadata": {},
   "source": [
    "The `geom_type` property contains information about the geometry type of a shapely geometry:"
   ]
  },
  {
   "cell_type": "code",
   "execution_count": 4,
   "id": "23940698-81bd-4114-98e1-c44713029f96",
   "metadata": {},
   "outputs": [
    {
     "data": {
      "text/plain": [
       "'Point'"
      ]
     },
     "execution_count": 4,
     "metadata": {},
     "output_type": "execute_result"
    }
   ],
   "source": [
    "point1.geom_type"
   ]
  },
  {
   "cell_type": "markdown",
   "id": "63eb08fe-216c-46ab-b89e-928083a75d2c",
   "metadata": {},
   "source": [
    "There are multiple ways to access the coordinates of geometry object. For instance, coords is a spapely.coords.CoordinateSequence. It is an Iterator, an efficient Python data structure to iterate over lists of items, but for now we can simply convert it into a list of the (one pair of) coordinates:"
   ]
  },
  {
   "cell_type": "code",
   "execution_count": 5,
   "id": "010c8b90-a69c-4b80-8809-8a18920b8c96",
   "metadata": {},
   "outputs": [
    {
     "data": {
      "text/plain": [
       "[(2.2, 4.2)]"
      ]
     },
     "execution_count": 5,
     "metadata": {},
     "output_type": "execute_result"
    }
   ],
   "source": [
    "# get coordinate tuple\n",
    "list(point1.coords)"
   ]
  },
  {
   "cell_type": "markdown",
   "id": "7da70522-5eca-44aa-8146-29699bbb46c9",
   "metadata": {},
   "source": [
    "However, since points, by definition, only contain one coordinate tuple, shapely.geometry.Points have properties to directly access its coordinate values: the properties x, y, and (possibly) z, which are basic float type decimal numbers."
   ]
  },
  {
   "cell_type": "code",
   "execution_count": 6,
   "id": "814d8a8a-d5ba-4ddb-aa2a-6b975d849d32",
   "metadata": {},
   "outputs": [
    {
     "name": "stdout",
     "output_type": "stream",
     "text": [
      "2.2 4.2\n"
     ]
    }
   ],
   "source": [
    "# read x and y coords separately\n",
    "x = point1.x\n",
    "y = point1.y\n",
    "\n",
    "print(x, y)"
   ]
  },
  {
   "cell_type": "code",
   "execution_count": 7,
   "id": "b411d398-bd1f-44be-a7a8-d4c9ed2edc3a",
   "metadata": {},
   "outputs": [
    {
     "name": "stdout",
     "output_type": "stream",
     "text": [
      "9.26 -2.456 0.57\n"
     ]
    }
   ],
   "source": [
    "# Read x, y, and z\n",
    "x = point4_3D.x\n",
    "y = point4_3D.y\n",
    "z = point4_3D.z\n",
    "\n",
    "print(x, y, z)"
   ]
  },
  {
   "cell_type": "markdown",
   "id": "cb954d19-a1bd-4159-b66c-506db3ec3ee4",
   "metadata": {},
   "source": [
    "It is also possible to calculate the distance between two objects using the distance method.\n",
    "\n",
    "In our example the distance is calculated in a cartesian coordinate system. When working with real GIS data the distance is based on the used coordinate reference system. always check what is the unit of measurement (for example, meters) in the coordinate reference system you are using.\n",
    "\n",
    "Let’s calculate the distance between point1 and point2:"
   ]
  },
  {
   "cell_type": "code",
   "execution_count": 8,
   "id": "33894f4a-7d09-4023-bca0-02b0e33bfc55",
   "metadata": {},
   "outputs": [
    {
     "name": "stdout",
     "output_type": "stream",
     "text": [
      "POINT (2.2 4.2)\n",
      "POINT (7.2 -25.1)\n"
     ]
    }
   ],
   "source": [
    "# Check input data\n",
    "print(point1)\n",
    "print(point2)"
   ]
  },
  {
   "cell_type": "code",
   "execution_count": 9,
   "id": "ef15972b-72ed-4001-85f5-9d9c234faeaf",
   "metadata": {},
   "outputs": [
    {
     "name": "stdout",
     "output_type": "stream",
     "text": [
      "Distance between the points is 29.72 units\n"
     ]
    }
   ],
   "source": [
    "#calculate  the distance between point1 and point2\n",
    "dist = point1.distance(point2)\n",
    "\n",
    "print(f'Distance between the points is {dist:.2f} units')"
   ]
  },
  {
   "cell_type": "markdown",
   "id": "f1a68b92-fcaf-4acd-aae0-a31ef6d37b2f",
   "metadata": {},
   "source": [
    "**CAUTION**\n",
    "\n",
    "Shapely geometries are, by design, agnostic (unaware) of the reference system used to represent them. Distances and surface area calculated using the built-in shapely methods will always: a) assume a flat, Cartesian, Euclidean space, and b) return the calculated value in the unit of the coordinates (e.g., meters, or degrees).\n",
    "\n",
    "This is perfectly fine for small-scale geo-spatial operations, if you keep yourself aware of the expected output unit. Most packages built on top of shapely, for instance GeoPandas, which we will get to know in lesson 2, bring their own functions and take the coordinate reference system into consideration."
   ]
  },
  {
   "cell_type": "markdown",
   "id": "034b5da6-4c5d-4aa1-b06e-a6df463f7036",
   "metadata": {},
   "source": [
    "# Lines"
   ]
  },
  {
   "cell_type": "markdown",
   "id": "579fefc1-69bb-4a64-869c-bc961de12a58",
   "metadata": {},
   "source": [
    "Creating LineString objects is similar to creating Points. Instead of a single coordinate tuple, we pass a list of coordinate tuples, or a list of points, that make up the line:"
   ]
  },
  {
   "cell_type": "code",
   "execution_count": 10,
   "id": "69d9425d-3a95-4477-b565-54019cbb5bc8",
   "metadata": {},
   "outputs": [],
   "source": [
    "# import linestring class\n",
    "from shapely.geometry import LineString\n",
    "\n",
    "# create linestring from point objects\n",
    "line = LineString([point1, point2, point3])"
   ]
  },
  {
   "cell_type": "code",
   "execution_count": 11,
   "id": "1751c4e2-0c23-49ff-b648-4ab0582e1016",
   "metadata": {},
   "outputs": [],
   "source": [
    "# Create a LineString from a list of coordinates:\n",
    "# (with the same coordinate values as the points, so results should be identical)\n",
    "line2 = LineString([(2.2, 4.2), (7.2, -25.1), (9.26, -2.456)])"
   ]
  },
  {
   "cell_type": "code",
   "execution_count": 12,
   "id": "98943afe-94ac-4c64-b1f1-8948cf06b53f",
   "metadata": {},
   "outputs": [
    {
     "data": {
      "text/plain": [
       "True"
      ]
     },
     "execution_count": 12,
     "metadata": {},
     "output_type": "execute_result"
    }
   ],
   "source": [
    "# Check if the lines are, indeed, identical:\n",
    "line == line2"
   ]
  },
  {
   "cell_type": "code",
   "execution_count": 13,
   "id": "cc0d1f88-4bc4-4a4e-b684-419ef03c3095",
   "metadata": {},
   "outputs": [
    {
     "data": {
      "image/svg+xml": [
       "<svg xmlns=\"http://www.w3.org/2000/svg\" xmlns:xlink=\"http://www.w3.org/1999/xlink\" width=\"100.0\" height=\"100.0\" viewBox=\"1.028 -26.272000000000002 9.404 31.644000000000002\" preserveAspectRatio=\"xMinYMin meet\"><g transform=\"matrix(1,0,0,-1,0,-20.900000000000002)\"><polyline fill=\"none\" stroke=\"#66cc99\" stroke-width=\"0.63288\" points=\"2.2,4.2 7.2,-25.1 9.26,-2.456\" opacity=\"0.8\" /></g></svg>"
      ],
      "text/plain": [
       "<LINESTRING (2.2 4.2, 7.2 -25.1, 9.26 -2.456)>"
      ]
     },
     "execution_count": 13,
     "metadata": {},
     "output_type": "execute_result"
    }
   ],
   "source": [
    "line"
   ]
  },
  {
   "cell_type": "code",
   "execution_count": 14,
   "id": "032bf626-128c-499c-907a-3fc4b1bad5ac",
   "metadata": {},
   "outputs": [
    {
     "name": "stdout",
     "output_type": "stream",
     "text": [
      "LINESTRING (2.2 4.2, 7.2 -25.1, 9.26 -2.456)\n"
     ]
    }
   ],
   "source": [
    "print(line)"
   ]
  },
  {
   "cell_type": "code",
   "execution_count": 15,
   "id": "4cc09e04-63ac-4c0f-a33e-8098433f7c9b",
   "metadata": {},
   "outputs": [
    {
     "data": {
      "text/plain": [
       "shapely.geometry.linestring.LineString"
      ]
     },
     "execution_count": 15,
     "metadata": {},
     "output_type": "execute_result"
    }
   ],
   "source": [
    "#check data type\n",
    "type(line)"
   ]
  },
  {
   "cell_type": "code",
   "execution_count": 16,
   "id": "b2fc2325-5bf6-4279-99e0-40279e09396f",
   "metadata": {},
   "outputs": [
    {
     "data": {
      "text/plain": [
       "'LineString'"
      ]
     },
     "execution_count": 16,
     "metadata": {},
     "output_type": "execute_result"
    }
   ],
   "source": [
    "#check geomtry type\n",
    "line.geom_type"
   ]
  },
  {
   "cell_type": "markdown",
   "id": "7ea4ccfb-1f91-4224-8b49-6b16e53c8023",
   "metadata": {},
   "source": [
    "## LineString properties and methods"
   ]
  },
  {
   "cell_type": "markdown",
   "id": "324dbbf8-b49a-4dd3-8eb5-1b81aee43f25",
   "metadata": {},
   "source": [
    "Linear geometries in their shapely representations (LineString, LinearRing, MultiLineString) have a variety of properties and methods that expose useful functionality. For instance, it is possible to access a geometry’s coordinates, calculate its lengths, find its centre point, create points along the line at a specified interval, or compute the closest distance between a line an another geometry"
   ]
  },
  {
   "cell_type": "markdown",
   "id": "7e1ebe7f-de28-4f99-a603-c45a4e1bf74a",
   "metadata": {},
   "source": [
    "Fundamentally, accessing the coordinates of a line is very similar as accessing the ones of a point:"
   ]
  },
  {
   "cell_type": "code",
   "execution_count": 17,
   "id": "c7f4dd6f-1fa8-432e-a841-fc90e8bae6df",
   "metadata": {},
   "outputs": [
    {
     "data": {
      "text/plain": [
       "[(2.2, 4.2), (7.2, -25.1), (9.26, -2.456)]"
      ]
     },
     "execution_count": 17,
     "metadata": {},
     "output_type": "execute_result"
    }
   ],
   "source": [
    "#get coords\n",
    "list(line.coords)"
   ]
  },
  {
   "cell_type": "markdown",
   "id": "15706342-5e92-4927-a650-851318de6efa",
   "metadata": {},
   "source": [
    "If you would need to access all x-coordinates or all y-coordinates of the line, you can use its xy attribute (an iterator, but, again, for now, we can use them as lists):"
   ]
  },
  {
   "cell_type": "code",
   "execution_count": 18,
   "id": "b56f48b1-8c69-4f31-91a7-950edf775b86",
   "metadata": {},
   "outputs": [
    {
     "name": "stdout",
     "output_type": "stream",
     "text": [
      "[2.2, 7.2, 9.26]\n",
      "[4.2, -25.1, -2.456]\n"
     ]
    }
   ],
   "source": [
    "#obtain x and y coords\n",
    "xcoords = list(line.xy[0])\n",
    "ycoords = list(line.xy[1])\n",
    "\n",
    "print(xcoords)\n",
    "print(ycoords)"
   ]
  },
  {
   "cell_type": "markdown",
   "id": "d358e9e1-9a0e-4965-b078-73c9a277aa2f",
   "metadata": {},
   "source": [
    "Other properties of lines that are useful for GIS analyses include the length and the centre point (centroid) of lines:"
   ]
  },
  {
   "cell_type": "code",
   "execution_count": 19,
   "id": "82bdb002-e68c-46a2-a451-763d0f81f82b",
   "metadata": {},
   "outputs": [
    {
     "name": "stdout",
     "output_type": "stream",
     "text": [
      "length of line 52.5\n"
     ]
    }
   ],
   "source": [
    "#get lenght of line\n",
    "line_length = line.length\n",
    "print(f'length of line {line_length:.1f}')"
   ]
  },
  {
   "cell_type": "code",
   "execution_count": 20,
   "id": "1bdceb8d-3e22-44ea-a00b-df7eaeb4ec45",
   "metadata": {},
   "outputs": [
    {
     "name": "stdout",
     "output_type": "stream",
     "text": [
      "POINT (6.229961354035622 -11.892411157572392)\n"
     ]
    }
   ],
   "source": [
    "#get center of line\n",
    "print(line.centroid)"
   ]
  },
  {
   "cell_type": "markdown",
   "id": "4d58fe45-c3c8-4714-8f7d-400c52b298a2",
   "metadata": {},
   "source": [
    "# Polygon"
   ]
  },
  {
   "cell_type": "markdown",
   "id": "e24e0cb2-9509-41b4-b77a-636f4d6fe8c3",
   "metadata": {},
   "source": [
    "Creating a polygon geometry follows the same logic as creating a point or line geometry. However, as discussed above the rules for what constitutes a polygon are more complex: It is constructed of exactly one linear ring forming its exterior (perimeter), and any number of additional linear rings forming holes that are cut out of the exterior shell.\n",
    "\n",
    "Consequently, the shapely.geometry.Polygon constructor function accepts two parameter: the first one, shell, is a list of coordinate tuples, a list of points, or a LinearRing, and will form the outer hull of the new polygon. The second, optional, parameter holes can be a list of holes to cut out of shell (the items in the list can be the same data types as shell).\n",
    "\n",
    "For now, let’s create a simple polygon without any holes. The first example uses (at least three) coordinate tuples (three points are required to form a surface):"
   ]
  },
  {
   "cell_type": "code",
   "execution_count": 21,
   "id": "6625afbe-efd4-4145-8113-e42681053da9",
   "metadata": {},
   "outputs": [],
   "source": [
    "from shapely.geometry import Polygon\n",
    "\n",
    "#create a polygon from the coords\n",
    "polygon1 = Polygon([(2.2, 4.2), (7.2, -25.1), (9.26, -2.456)])"
   ]
  },
  {
   "cell_type": "markdown",
   "id": "bc09f0f8-74c9-4f30-9d98-ff066f82a47d",
   "metadata": {},
   "source": [
    "We can also construct the polygon directly from a list of points:"
   ]
  },
  {
   "cell_type": "code",
   "execution_count": 22,
   "id": "3275a89e-7620-404b-bce3-8ae7ff64c313",
   "metadata": {},
   "outputs": [],
   "source": [
    "polygon2 = Polygon([point1, point2, point3])"
   ]
  },
  {
   "cell_type": "markdown",
   "id": "84686529-39ca-457c-9068-800c7d6a64da",
   "metadata": {},
   "source": [
    "or from a LinearRing (which has an almost identical behaviour as a LineString, except that it is closed, i.e., the first and last point are identical):"
   ]
  },
  {
   "cell_type": "code",
   "execution_count": 23,
   "id": "c96743ed-a3bb-4f7d-a4f3-3b5a53d1877b",
   "metadata": {},
   "outputs": [],
   "source": [
    "from shapely.geometry import LinearRing\n",
    "\n",
    "shell = LinearRing([point1, point2, point3, point1])\n",
    "polygon3 = Polygon(shell)"
   ]
  },
  {
   "cell_type": "code",
   "execution_count": 24,
   "id": "b0da952b-899d-47f3-8592-a4ffead7e87b",
   "metadata": {},
   "outputs": [
    {
     "data": {
      "text/plain": [
       "True"
      ]
     },
     "execution_count": 24,
     "metadata": {},
     "output_type": "execute_result"
    }
   ],
   "source": [
    "polygon1 == polygon2 == polygon3"
   ]
  },
  {
   "cell_type": "code",
   "execution_count": 25,
   "id": "22840233-134e-4155-a012-64f7bae540c7",
   "metadata": {},
   "outputs": [
    {
     "data": {
      "image/svg+xml": [
       "<svg xmlns=\"http://www.w3.org/2000/svg\" xmlns:xlink=\"http://www.w3.org/1999/xlink\" width=\"100.0\" height=\"100.0\" viewBox=\"1.028 -26.272000000000002 9.404 31.644000000000002\" preserveAspectRatio=\"xMinYMin meet\"><g transform=\"matrix(1,0,0,-1,0,-20.900000000000002)\"><path fill-rule=\"evenodd\" fill=\"#66cc99\" stroke=\"#555555\" stroke-width=\"0.63288\" opacity=\"0.6\" d=\"M 2.2,4.2 L 7.2,-25.1 L 9.26,-2.456 L 2.2,4.2 z\" /></g></svg>"
      ],
      "text/plain": [
       "<POLYGON ((2.2 4.2, 7.2 -25.1, 9.26 -2.456, 2.2 4.2))>"
      ]
     },
     "execution_count": 25,
     "metadata": {},
     "output_type": "execute_result"
    }
   ],
   "source": [
    "polygon1"
   ]
  },
  {
   "cell_type": "code",
   "execution_count": 26,
   "id": "d9d3424b-02ea-4283-9d23-ca34d49b2cae",
   "metadata": {},
   "outputs": [
    {
     "data": {
      "text/plain": [
       "shapely.geometry.polygon.Polygon"
      ]
     },
     "execution_count": 26,
     "metadata": {},
     "output_type": "execute_result"
    }
   ],
   "source": [
    "#data type\n",
    "type(polygon1)"
   ]
  },
  {
   "cell_type": "code",
   "execution_count": 27,
   "id": "643320e6-a517-4506-acc1-bf890207ce19",
   "metadata": {},
   "outputs": [
    {
     "data": {
      "text/plain": [
       "'Polygon'"
      ]
     },
     "execution_count": 27,
     "metadata": {},
     "output_type": "execute_result"
    }
   ],
   "source": [
    "#geometry type\n",
    "polygon1.geom_type"
   ]
  },
  {
   "cell_type": "markdown",
   "id": "5a15b1eb-d863-4e28-9499-5e3575307cb5",
   "metadata": {},
   "source": [
    "## Let’s still see how to create a polygon with a hole:"
   ]
  },
  {
   "cell_type": "code",
   "execution_count": 28,
   "id": "da2f348d-2234-4e32-859f-07d5acfc158d",
   "metadata": {},
   "outputs": [],
   "source": [
    "# define the exterior\n",
    "outer = LinearRing([(-180, 90), (-180, -90), (180, -90), (180, 90)])\n",
    "\n",
    "# define a hole:\n",
    "hole = LinearRing([(-170, 80), (-100, -80), (100, -80), (170, 80)])"
   ]
  },
  {
   "cell_type": "code",
   "execution_count": 29,
   "id": "3ebeea18-d1c6-4507-8bf4-84ef9f759213",
   "metadata": {},
   "outputs": [
    {
     "data": {
      "image/svg+xml": [
       "<svg xmlns=\"http://www.w3.org/2000/svg\" xmlns:xlink=\"http://www.w3.org/1999/xlink\" width=\"300\" height=\"208.8\" viewBox=\"-194.4 -104.4 388.8 208.8\" preserveAspectRatio=\"xMinYMin meet\"><g transform=\"matrix(1,0,0,-1,0,0.0)\"><polyline fill=\"none\" stroke=\"#66cc99\" stroke-width=\"2.592\" points=\"-180.0,90.0 -180.0,-90.0 180.0,-90.0 180.0,90.0 -180.0,90.0\" opacity=\"0.8\" /></g></svg>"
      ],
      "text/plain": [
       "<LINEARRING (-180 90, -180 -90, 180 -90, 180 90, -180 90)>"
      ]
     },
     "execution_count": 29,
     "metadata": {},
     "output_type": "execute_result"
    }
   ],
   "source": [
    "outer"
   ]
  },
  {
   "cell_type": "code",
   "execution_count": 30,
   "id": "03e08b35-1981-4f50-baae-79c1fba135a9",
   "metadata": {},
   "outputs": [
    {
     "data": {
      "image/svg+xml": [
       "<svg xmlns=\"http://www.w3.org/2000/svg\" xmlns:xlink=\"http://www.w3.org/1999/xlink\" width=\"300\" height=\"187.2\" viewBox=\"-183.6 -93.6 367.2 187.2\" preserveAspectRatio=\"xMinYMin meet\"><g transform=\"matrix(1,0,0,-1,0,0.0)\"><polyline fill=\"none\" stroke=\"#66cc99\" stroke-width=\"2.448\" points=\"-170.0,80.0 -100.0,-80.0 100.0,-80.0 170.0,80.0 -170.0,80.0\" opacity=\"0.8\" /></g></svg>"
      ],
      "text/plain": [
       "<LINEARRING (-170 80, -100 -80, 100 -80, 170 80, -170 80)>"
      ]
     },
     "execution_count": 30,
     "metadata": {},
     "output_type": "execute_result"
    }
   ],
   "source": [
    "hole"
   ]
  },
  {
   "cell_type": "markdown",
   "id": "b905f2d3-44dd-451b-afe2-3acc51c0a2c3",
   "metadata": {},
   "source": [
    "A polygon using only the exterior shell"
   ]
  },
  {
   "cell_type": "markdown",
   "id": "92892682-9d70-4bbe-acfd-614b21c6e1bf",
   "metadata": {},
   "source": [
    "polygon_without_hole = Polygon(outer)\n",
    "polygon_without_hole"
   ]
  },
  {
   "cell_type": "markdown",
   "id": "b671a99f-eac1-43a0-a34d-b08959897a85",
   "metadata": {},
   "source": [
    "And, finally, a polygon defined by the exterior shell, and one hole (note that holes need to be specified as a list):"
   ]
  },
  {
   "cell_type": "code",
   "execution_count": 31,
   "id": "2cdc3c33-de8b-4eba-9b2e-9ab55a322090",
   "metadata": {},
   "outputs": [
    {
     "data": {
      "image/svg+xml": [
       "<svg xmlns=\"http://www.w3.org/2000/svg\" xmlns:xlink=\"http://www.w3.org/1999/xlink\" width=\"300\" height=\"208.8\" viewBox=\"-194.4 -104.4 388.8 208.8\" preserveAspectRatio=\"xMinYMin meet\"><g transform=\"matrix(1,0,0,-1,0,0.0)\"><path fill-rule=\"evenodd\" fill=\"#66cc99\" stroke=\"#555555\" stroke-width=\"2.592\" opacity=\"0.6\" d=\"M -180.0,90.0 L -180.0,-90.0 L 180.0,-90.0 L 180.0,90.0 L -180.0,90.0 z M -170.0,80.0 L -100.0,-80.0 L 100.0,-80.0 L 170.0,80.0 L -170.0,80.0 z\" /></g></svg>"
      ],
      "text/plain": [
       "<POLYGON ((-180 90, -180 -90, 180 -90, 180 90, -180 90), (-170 80, -100 -80,...>"
      ]
     },
     "execution_count": 31,
     "metadata": {},
     "output_type": "execute_result"
    }
   ],
   "source": [
    "polygon_with_hole = Polygon(outer, [hole])\n",
    "polygon_with_hole"
   ]
  },
  {
   "cell_type": "code",
   "execution_count": 32,
   "id": "d857ef89-d9c5-4f52-955c-c79a939894b2",
   "metadata": {},
   "outputs": [
    {
     "data": {
      "image/svg+xml": [
       "<svg xmlns=\"http://www.w3.org/2000/svg\" xmlns:xlink=\"http://www.w3.org/1999/xlink\" width=\"300\" height=\"208.8\" viewBox=\"-194.4 -104.4 388.8 208.8\" preserveAspectRatio=\"xMinYMin meet\"><g transform=\"matrix(1,0,0,-1,0,0.0)\"><path fill-rule=\"evenodd\" fill=\"#66cc99\" stroke=\"#555555\" stroke-width=\"2.592\" opacity=\"0.6\" d=\"M -180.0,90.0 L -180.0,-90.0 L 180.0,-90.0 L 180.0,90.0 L -180.0,90.0 z\" /></g></svg>"
      ],
      "text/plain": [
       "<POLYGON ((-180 90, -180 -90, 180 -90, 180 90, -180 90))>"
      ]
     },
     "execution_count": 32,
     "metadata": {},
     "output_type": "execute_result"
    }
   ],
   "source": [
    "polygon_without_hole = Polygon(outer)\n",
    "polygon_without_hole"
   ]
  },
  {
   "cell_type": "markdown",
   "id": "d55584a1-d969-470d-8431-ace968f71e9e",
   "metadata": {},
   "source": [
    "## Polygon properties and methods"
   ]
  },
  {
   "cell_type": "markdown",
   "id": "176cb6ff-62d0-4c46-8acc-f3fe552f32cd",
   "metadata": {},
   "source": [
    "Very similar to lines and points, also shapely.geometry.Polygons expose a number of properties and methods that can be useful for spatial analysis tasks. Consult the shapely user manual for a complete list, and see a few examples here:"
   ]
  },
  {
   "cell_type": "code",
   "execution_count": 33,
   "id": "5583753b-a7d8-4f26-88ab-8c4293c9238f",
   "metadata": {},
   "outputs": [
    {
     "name": "stdout",
     "output_type": "stream",
     "text": [
      "Polygon centroid: POINT (0 -13.827160493827162)\n",
      "Polygon area: 21600.0\n",
      "Polygon bounding box: (-180.0, -90.0, 180.0, 90.0)\n",
      "Polygon exterior ring: LINEARRING (-180 90, -180 -90, 180 -90, 180 90, -180 90)\n",
      "Polygon circumference: 1080.0\n"
     ]
    }
   ],
   "source": [
    "print(f\"Polygon centroid: {polygon_with_hole.centroid}\")\n",
    "print(f\"Polygon area: {polygon_with_hole.area}\")\n",
    "print(f\"Polygon bounding box: {polygon_with_hole.bounds}\")\n",
    "print(f\"Polygon exterior ring: {polygon_with_hole.exterior}\")\n",
    "print(f\"Polygon circumference: {polygon_with_hole.exterior.length}\")"
   ]
  },
  {
   "cell_type": "markdown",
   "id": "485bfdfa-260c-4345-a60c-d10d8f389c1e",
   "metadata": {},
   "source": [
    "## Plot these shapes using shapely!"
   ]
  },
  {
   "cell_type": "code",
   "execution_count": 34,
   "id": "ae629ecc-3da1-43a0-bf43-8a5c5bad0144",
   "metadata": {},
   "outputs": [
    {
     "data": {
      "image/svg+xml": [
       "<svg xmlns=\"http://www.w3.org/2000/svg\" xmlns:xlink=\"http://www.w3.org/1999/xlink\" width=\"100.0\" height=\"100.0\" viewBox=\"27.9372 -1.7828 4.125600000000002 3.9455999999999998\" preserveAspectRatio=\"xMinYMin meet\"><g transform=\"matrix(1,0,0,-1,0,0.3799999999999999)\"><path fill-rule=\"evenodd\" fill=\"#66cc99\" stroke=\"#555555\" stroke-width=\"0.08251200000000004\" opacity=\"0.6\" d=\"M 30.0,2.01 L 31.91,0.62 L 31.18,-1.63 L 28.82,-1.63 L 28.09,0.62 L 30.0,2.01 z\" /></g></svg>"
      ],
      "text/plain": [
       "<POLYGON ((30 2.01, 31.91 0.62, 31.18 -1.63, 28.82 -1.63, 28.09 0.62, 30 2.01))>"
      ]
     },
     "execution_count": 34,
     "metadata": {},
     "output_type": "execute_result"
    }
   ],
   "source": [
    "#Pentagon\n",
    "pentagon = Polygon([(30, 2.01), (31.91, 0.62), (31.18, -1.63), (28.82, -1.63), (28.09, 0.62)])\n",
    "pentagon"
   ]
  },
  {
   "cell_type": "code",
   "execution_count": 35,
   "id": "ff00878b-8e02-4fcc-8b04-344df3491056",
   "metadata": {},
   "outputs": [
    {
     "data": {
      "image/svg+xml": [
       "<svg xmlns=\"http://www.w3.org/2000/svg\" xmlns:xlink=\"http://www.w3.org/1999/xlink\" width=\"100.0\" height=\"100.0\" viewBox=\"28.6744 -1.7755999999999998 2.651200000000003 3.9311999999999996\" preserveAspectRatio=\"xMinYMin meet\"><g transform=\"matrix(1,0,0,-1,0,0.3799999999999999)\"><path fill-rule=\"evenodd\" fill=\"#66cc99\" stroke=\"#555555\" stroke-width=\"0.07862399999999999\" opacity=\"0.6\" d=\"M 30.0,2.01 L 31.18,-1.63 L 28.82,-1.63 L 30.0,2.01 z\" /></g></svg>"
      ],
      "text/plain": [
       "<POLYGON ((30 2.01, 31.18 -1.63, 28.82 -1.63, 30 2.01))>"
      ]
     },
     "execution_count": 35,
     "metadata": {},
     "output_type": "execute_result"
    }
   ],
   "source": [
    "# Triangle\n",
    "triangle = Polygon([(30, 2.01), (31.18, -1.63), (28.82, -1.63)])\n",
    "triangle"
   ]
  },
  {
   "cell_type": "code",
   "execution_count": 36,
   "id": "473f3ba1-0bbf-4ed9-a9ec-dc14148cd088",
   "metadata": {},
   "outputs": [
    {
     "data": {
      "image/svg+xml": [
       "<svg xmlns=\"http://www.w3.org/2000/svg\" xmlns:xlink=\"http://www.w3.org/1999/xlink\" width=\"100.0\" height=\"100.0\" viewBox=\"28.6964 -1.7535999999999998 3.3371999999999993 2.4972\" preserveAspectRatio=\"xMinYMin meet\"><g transform=\"matrix(1,0,0,-1,0,-1.0099999999999998)\"><path fill-rule=\"evenodd\" fill=\"#66cc99\" stroke=\"#555555\" stroke-width=\"0.06674399999999998\" opacity=\"0.6\" d=\"M 31.91,0.62 L 31.91,-1.63 L 28.82,-1.63 L 28.82,0.62 L 31.91,0.62 z\" /></g></svg>"
      ],
      "text/plain": [
       "<POLYGON ((31.91 0.62, 31.91 -1.63, 28.82 -1.63, 28.82 0.62, 31.91 0.62))>"
      ]
     },
     "execution_count": 36,
     "metadata": {},
     "output_type": "execute_result"
    }
   ],
   "source": [
    "# Square\n",
    "square = Polygon([(31.91, 0.62), (31.91, -1.63), (28.82, -1.63), (28.82, 0.62)])\n",
    "square"
   ]
  },
  {
   "cell_type": "code",
   "execution_count": 37,
   "id": "775a0c19-cc0f-4b9c-8bc6-8e774b2df774",
   "metadata": {},
   "outputs": [
    {
     "data": {
      "image/svg+xml": [
       "<svg xmlns=\"http://www.w3.org/2000/svg\" xmlns:xlink=\"http://www.w3.org/1999/xlink\" width=\"100.0\" height=\"100.0\" viewBox=\"-1.08 -1.08 2.16 2.16\" preserveAspectRatio=\"xMinYMin meet\"><g transform=\"matrix(1,0,0,-1,0,0.0)\"><path fill-rule=\"evenodd\" fill=\"#66cc99\" stroke=\"#555555\" stroke-width=\"0.0432\" opacity=\"0.6\" d=\"M 1.0,0.0 L 0.9951847266721969,-0.0980171403295606 L 0.9807852804032304,-0.19509032201612825 L 0.9569403357322088,-0.29028467725446233 L 0.9238795325112867,-0.3826834323650898 L 0.881921264348355,-0.47139673682599764 L 0.8314696123025452,-0.5555702330196022 L 0.773010453362737,-0.6343932841636455 L 0.7071067811865476,-0.7071067811865476 L 0.6343932841636455,-0.7730104533627369 L 0.5555702330196023,-0.8314696123025452 L 0.4713967368259978,-0.8819212643483549 L 0.38268343236508984,-0.9238795325112867 L 0.29028467725446233,-0.9569403357322089 L 0.19509032201612833,-0.9807852804032304 L 0.09801714032956077,-0.9951847266721968 L 6.123233995736766e-17,-1.0 L -0.09801714032956065,-0.9951847266721969 L -0.1950903220161282,-0.9807852804032304 L -0.29028467725446216,-0.9569403357322089 L -0.3826834323650897,-0.9238795325112867 L -0.4713967368259977,-0.881921264348355 L -0.555570233019602,-0.8314696123025453 L -0.6343932841636454,-0.7730104533627371 L -0.7071067811865475,-0.7071067811865476 L -0.773010453362737,-0.6343932841636455 L -0.8314696123025453,-0.5555702330196022 L -0.8819212643483549,-0.4713967368259978 L -0.9238795325112867,-0.3826834323650899 L -0.9569403357322088,-0.2902846772544624 L -0.9807852804032304,-0.1950903220161286 L -0.9951847266721968,-0.09801714032956083 L -1.0,-1.2246467991473532e-16 L -0.9951847266721969,0.09801714032956059 L -0.9807852804032304,0.19509032201612836 L -0.9569403357322089,0.2902846772544621 L -0.9238795325112868,0.38268343236508967 L -0.881921264348355,0.47139673682599764 L -0.8314696123025455,0.555570233019602 L -0.7730104533627371,0.6343932841636453 L -0.7071067811865477,0.7071067811865475 L -0.6343932841636459,0.7730104533627367 L -0.5555702330196022,0.8314696123025452 L -0.47139673682599786,0.8819212643483549 L -0.38268343236509034,0.9238795325112865 L -0.29028467725446244,0.9569403357322088 L -0.19509032201612866,0.9807852804032303 L -0.09801714032956045,0.9951847266721969 L -1.8369701987210297e-16,1.0 L 0.09801714032956009,0.9951847266721969 L 0.1950903220161283,0.9807852804032304 L 0.29028467725446205,0.9569403357322089 L 0.38268343236509,0.9238795325112866 L 0.4713967368259976,0.881921264348355 L 0.5555702330196018,0.8314696123025455 L 0.6343932841636456,0.7730104533627369 L 0.7071067811865474,0.7071067811865477 L 0.7730104533627365,0.6343932841636459 L 0.8314696123025452,0.5555702330196022 L 0.8819212643483548,0.4713967368259979 L 0.9238795325112865,0.3826834323650904 L 0.9569403357322088,0.2902846772544625 L 0.9807852804032303,0.19509032201612872 L 0.9951847266721969,0.0980171403295605 L 1.0,0.0 z\" /></g></svg>"
      ],
      "text/plain": [
       "<POLYGON ((1 0, 0.995 -0.098, 0.981 -0.195, 0.957 -0.29, 0.924 -0.383, 0.882...>"
      ]
     },
     "execution_count": 37,
     "metadata": {},
     "output_type": "execute_result"
    }
   ],
   "source": [
    "# circle (using a buffer around a point)\n",
    "point = Point((0,0))\n",
    "point.buffer(1)#the 1 is distance"
   ]
  },
  {
   "cell_type": "markdown",
   "id": "657f7795-12ec-4d71-add1-0c1d5dd3444e",
   "metadata": {},
   "source": [
    "# Geometry collections"
   ]
  },
  {
   "cell_type": "markdown",
   "id": "0529740a-389d-4f74-a166-b8af3c052c8a",
   "metadata": {},
   "source": [
    "Sometimes, it can be useful to store multiple geometries (for example, several points or several polygons) in a single feature.\n",
    "\n",
    "**CAUTION**\n",
    "By convention, data sets should always consist of either single- or multi-geometries. Some file formats enforce this, and many GIS tools refuse operation on data sets with mixed single- and multi-geometries.\n",
    "\n",
    "If one feature in a data set is a MultiGeometry, all other features should be converted, too. All single geometries can be expressed as a collection of one item."
   ]
  },
  {
   "cell_type": "markdown",
   "id": "ee7415e7-443d-48b8-a93b-a34101557575",
   "metadata": {},
   "source": [
    "In shapely, collections of points are implemented as MultiPoint geometries, collections of lines as MultiLineString geometries, and collections of polygons as MultiPolygon geometries."
   ]
  },
  {
   "cell_type": "code",
   "execution_count": 38,
   "id": "2cd2f003-70b9-4218-a968-151339e5a78c",
   "metadata": {},
   "outputs": [
    {
     "name": "stdout",
     "output_type": "stream",
     "text": [
      "MULTIPOINT (2.2 4.2, 7.2 -25.1, 9.26 -2.456)\n",
      "MULTILINESTRING ((2.2 4.2, 7.2 -25.1), (7.2 -25.1, 9.26 -2.456))\n"
     ]
    }
   ],
   "source": [
    "from shapely.geometry import MultiPoint, MultiLineString, MultiPolygon\n",
    "\n",
    "# Create a MultiPoint object of our points 1,2 and 3\n",
    "multipoint = MultiPoint([point1, point2, point3])\n",
    "\n",
    "# We can also create a MultiLineString with two lines\n",
    "line1 = LineString([point1, point2])\n",
    "line2 = LineString([point2, point3])\n",
    "multiline = MultiLineString([line1, line2])\n",
    "\n",
    "print(multipoint)\n",
    "print(multiline)"
   ]
  },
  {
   "cell_type": "code",
   "execution_count": 39,
   "id": "bc4ca274-ea10-4b34-8c26-fd6139618373",
   "metadata": {},
   "outputs": [
    {
     "data": {
      "image/svg+xml": [
       "<svg xmlns=\"http://www.w3.org/2000/svg\" xmlns:xlink=\"http://www.w3.org/1999/xlink\" width=\"100.0\" height=\"100.0\" viewBox=\"1.028 -26.272000000000002 9.404 31.644000000000002\" preserveAspectRatio=\"xMinYMin meet\"><g transform=\"matrix(1,0,0,-1,0,-20.900000000000002)\"><g><circle cx=\"2.2\" cy=\"4.2\" r=\"0.9493199999999999\" stroke=\"#555555\" stroke-width=\"0.31644\" fill=\"#66cc99\" opacity=\"0.6\" /><circle cx=\"7.2\" cy=\"-25.1\" r=\"0.9493199999999999\" stroke=\"#555555\" stroke-width=\"0.31644\" fill=\"#66cc99\" opacity=\"0.6\" /><circle cx=\"9.26\" cy=\"-2.456\" r=\"0.9493199999999999\" stroke=\"#555555\" stroke-width=\"0.31644\" fill=\"#66cc99\" opacity=\"0.6\" /></g></g></svg>"
      ],
      "text/plain": [
       "<MULTIPOINT (2.2 4.2, 7.2 -25.1, 9.26 -2.456)>"
      ]
     },
     "execution_count": 39,
     "metadata": {},
     "output_type": "execute_result"
    }
   ],
   "source": [
    "multipoint"
   ]
  },
  {
   "cell_type": "code",
   "execution_count": 40,
   "id": "0ebeec86-32b3-4eb9-8c0f-9e5f18649378",
   "metadata": {},
   "outputs": [
    {
     "data": {
      "image/svg+xml": [
       "<svg xmlns=\"http://www.w3.org/2000/svg\" xmlns:xlink=\"http://www.w3.org/1999/xlink\" width=\"100.0\" height=\"100.0\" viewBox=\"1.028 -26.272000000000002 9.404 31.644000000000002\" preserveAspectRatio=\"xMinYMin meet\"><g transform=\"matrix(1,0,0,-1,0,-20.900000000000002)\"><g><polyline fill=\"none\" stroke=\"#66cc99\" stroke-width=\"0.63288\" points=\"2.2,4.2 7.2,-25.1\" opacity=\"0.8\" /><polyline fill=\"none\" stroke=\"#66cc99\" stroke-width=\"0.63288\" points=\"7.2,-25.1 9.26,-2.456\" opacity=\"0.8\" /></g></g></svg>"
      ],
      "text/plain": [
       "<MULTILINESTRING ((2.2 4.2, 7.2 -25.1), (7.2 -25.1, 9.26 -2.456))>"
      ]
     },
     "execution_count": 40,
     "metadata": {},
     "output_type": "execute_result"
    }
   ],
   "source": [
    "multiline"
   ]
  },
  {
   "cell_type": "markdown",
   "id": "8f2be42f-3b6f-435a-98c6-f9c4a1c92ec1",
   "metadata": {},
   "source": [
    "MultiPolygons are constructed in a similar manner. Let’s create a bounding box for ‘the world’ by combining two separate polygons that represent the western and eastern hemispheres."
   ]
  },
  {
   "cell_type": "code",
   "execution_count": 41,
   "id": "f61149ec-a749-4786-90a1-0471e38e1b06",
   "metadata": {},
   "outputs": [
    {
     "name": "stdout",
     "output_type": "stream",
     "text": [
      "POLYGON ((-180 90, -180 -90, 0 -90, 0 90, -180 90))\n"
     ]
    },
    {
     "data": {
      "image/svg+xml": [
       "<svg xmlns=\"http://www.w3.org/2000/svg\" xmlns:xlink=\"http://www.w3.org/1999/xlink\" width=\"194.39999999999998\" height=\"194.4\" viewBox=\"-187.2 -97.2 194.39999999999998 194.4\" preserveAspectRatio=\"xMinYMin meet\"><g transform=\"matrix(1,0,0,-1,0,0.0)\"><path fill-rule=\"evenodd\" fill=\"#66cc99\" stroke=\"#555555\" stroke-width=\"2.0\" opacity=\"0.6\" d=\"M -180.0,90.0 L -180.0,-90.0 L 0.0,-90.0 L 0.0,90.0 L -180.0,90.0 z\" /></g></svg>"
      ],
      "text/plain": [
       "<POLYGON ((-180 90, -180 -90, 0 -90, 0 90, -180 90))>"
      ]
     },
     "execution_count": 41,
     "metadata": {},
     "output_type": "execute_result"
    }
   ],
   "source": [
    "# Let’s create the exterior of the western part of the world\n",
    "western_hemisphere = Polygon([(-180, 90), (-180, -90), (0, -90), (0, 90)])\n",
    "print(western_hemisphere)\n",
    "western_hemisphere"
   ]
  },
  {
   "cell_type": "markdown",
   "id": "48ab8467-6607-4d06-9f1a-ae6b8f2f2064",
   "metadata": {},
   "source": [
    "Shapely has a short-hand function for creating rectangular polygons, ‘boxes’. It can be used, for instance, to create bounding boxes using minimum and maximum x and y coordinates.\n",
    "\n",
    "Let’s use shapely.geometry.box() for creating the polygon representing the the eastern hemisphere:"
   ]
  },
  {
   "cell_type": "code",
   "execution_count": 42,
   "id": "3155c7dd-3f05-4e33-865c-1088480ac2d0",
   "metadata": {},
   "outputs": [
    {
     "name": "stdout",
     "output_type": "stream",
     "text": [
      "POLYGON ((180 -90, 180 90, 0 90, 0 -90, 180 -90))\n"
     ]
    },
    {
     "data": {
      "image/svg+xml": [
       "<svg xmlns=\"http://www.w3.org/2000/svg\" xmlns:xlink=\"http://www.w3.org/1999/xlink\" width=\"194.39999999999998\" height=\"194.4\" viewBox=\"-7.2 -97.2 194.39999999999998 194.4\" preserveAspectRatio=\"xMinYMin meet\"><g transform=\"matrix(1,0,0,-1,0,0.0)\"><path fill-rule=\"evenodd\" fill=\"#66cc99\" stroke=\"#555555\" stroke-width=\"2.0\" opacity=\"0.6\" d=\"M 180.0,-90.0 L 180.0,90.0 L 0.0,90.0 L 0.0,-90.0 L 180.0,-90.0 z\" /></g></svg>"
      ],
      "text/plain": [
       "<POLYGON ((180 -90, 180 90, 0 90, 0 -90, 180 -90))>"
      ]
     },
     "execution_count": 42,
     "metadata": {},
     "output_type": "execute_result"
    }
   ],
   "source": [
    "from shapely.geometry import box\n",
    "min_x = 0\n",
    "max_x = 180\n",
    "min_y = -90\n",
    "max_y = 90\n",
    "\n",
    "eastern_hemisphere = box(min_x, min_y, max_x, max_y)\n",
    "\n",
    "print(eastern_hemisphere)\n",
    "eastern_hemisphere"
   ]
  },
  {
   "cell_type": "markdown",
   "id": "d7581758-87f4-4bd0-9af4-6fd691a6de25",
   "metadata": {},
   "source": [
    "we can combine the two polygons into a MultiPolygon:"
   ]
  },
  {
   "cell_type": "code",
   "execution_count": 43,
   "id": "8b0025fe-87ab-4d04-a03b-5be8265b177f",
   "metadata": {},
   "outputs": [
    {
     "name": "stdout",
     "output_type": "stream",
     "text": [
      "MULTIPOLYGON (((-180 90, -180 -90, 0 -90, 0 90, -180 90)), ((180 -90, 180 90, 0 90, 0 -90, 180 -90)))\n"
     ]
    },
    {
     "data": {
      "image/svg+xml": [
       "<svg xmlns=\"http://www.w3.org/2000/svg\" xmlns:xlink=\"http://www.w3.org/1999/xlink\" width=\"300\" height=\"208.8\" viewBox=\"-194.4 -104.4 388.8 208.8\" preserveAspectRatio=\"xMinYMin meet\"><g transform=\"matrix(1,0,0,-1,0,0.0)\"><g><path fill-rule=\"evenodd\" fill=\"#ff3333\" stroke=\"#555555\" stroke-width=\"2.592\" opacity=\"0.6\" d=\"M -180.0,90.0 L -180.0,-90.0 L 0.0,-90.0 L 0.0,90.0 L -180.0,90.0 z\" /><path fill-rule=\"evenodd\" fill=\"#ff3333\" stroke=\"#555555\" stroke-width=\"2.592\" opacity=\"0.6\" d=\"M 180.0,-90.0 L 180.0,90.0 L 0.0,90.0 L 0.0,-90.0 L 180.0,-90.0 z\" /></g></g></svg>"
      ],
      "text/plain": [
       "<MULTIPOLYGON (((-180 90, -180 -90, 0 -90, 0 90, -180 90)), ((180 -90, 180 9...>"
      ]
     },
     "execution_count": 43,
     "metadata": {},
     "output_type": "execute_result"
    }
   ],
   "source": [
    "# Let’s create our MultiPolygon.\n",
    "# Pass multiple Polygon objects as a list\n",
    "multipolygon = MultiPolygon([western_hemisphere, eastern_hemisphere])\n",
    "\n",
    "print(multipolygon)\n",
    "multipolygon"
   ]
  },
  {
   "cell_type": "markdown",
   "id": "b2d956bc-ad55-4f23-ad30-4df611f81d90",
   "metadata": {},
   "source": [
    "# Convex hull and envelope\n",
    "\n",
    "A ‘convex hull’ refers to the smallest possible convex polygon that can contain a geometry or a set of geometries. Alongside bounding boxes, convex hulls are useful to describe the extent of data sets."
   ]
  },
  {
   "cell_type": "code",
   "execution_count": 44,
   "id": "aa3aa1d6-0f2c-4a49-a987-ed3d228f14aa",
   "metadata": {},
   "outputs": [
    {
     "data": {
      "image/svg+xml": [
       "<svg xmlns=\"http://www.w3.org/2000/svg\" xmlns:xlink=\"http://www.w3.org/1999/xlink\" width=\"100.0\" height=\"100.0\" viewBox=\"1.028 -26.272000000000002 9.404 31.644000000000002\" preserveAspectRatio=\"xMinYMin meet\"><g transform=\"matrix(1,0,0,-1,0,-20.900000000000002)\"><g><circle cx=\"2.2\" cy=\"4.2\" r=\"0.9493199999999999\" stroke=\"#555555\" stroke-width=\"0.31644\" fill=\"#66cc99\" opacity=\"0.6\" /><circle cx=\"7.2\" cy=\"-25.1\" r=\"0.9493199999999999\" stroke=\"#555555\" stroke-width=\"0.31644\" fill=\"#66cc99\" opacity=\"0.6\" /><circle cx=\"9.26\" cy=\"-2.456\" r=\"0.9493199999999999\" stroke=\"#555555\" stroke-width=\"0.31644\" fill=\"#66cc99\" opacity=\"0.6\" /></g></g></svg>"
      ],
      "text/plain": [
       "<MULTIPOINT (2.2 4.2, 7.2 -25.1, 9.26 -2.456)>"
      ]
     },
     "execution_count": 44,
     "metadata": {},
     "output_type": "execute_result"
    }
   ],
   "source": [
    "#check input geometry\n",
    "multipoint"
   ]
  },
  {
   "cell_type": "code",
   "execution_count": 45,
   "id": "2c58092e-dfcf-433a-92fe-85ff55ba15f4",
   "metadata": {},
   "outputs": [
    {
     "data": {
      "text/plain": [
       "[<POLYGON ((7.2 -25.1, 2.2 4.2, 9.26 -2.456, 7.2 -25.1))>,\n",
       " <MULTIPOINT (2.2 4.2, 7.2 -25.1, 9.26 -2.456)>]"
      ]
     },
     "execution_count": 45,
     "metadata": {},
     "output_type": "execute_result"
    }
   ],
   "source": [
    "#conves hull\n",
    "[multipoint.convex_hull, multipoint]"
   ]
  },
  {
   "cell_type": "code",
   "execution_count": 46,
   "id": "501c55ad",
   "metadata": {},
   "outputs": [
    {
     "data": {
      "image/svg+xml": [
       "<svg xmlns=\"http://www.w3.org/2000/svg\" xmlns:xlink=\"http://www.w3.org/1999/xlink\" width=\"100.0\" height=\"100.0\" viewBox=\"1.028 -26.272000000000002 9.404 31.644000000000002\" preserveAspectRatio=\"xMinYMin meet\"><g transform=\"matrix(1,0,0,-1,0,-20.900000000000002)\"><path fill-rule=\"evenodd\" fill=\"#66cc99\" stroke=\"#555555\" stroke-width=\"0.63288\" opacity=\"0.6\" d=\"M 7.2,-25.1 L 2.2,4.2 L 9.26,-2.456 L 7.2,-25.1 z\" /></g></svg>"
      ],
      "text/plain": [
       "<POLYGON ((7.2 -25.1, 2.2 4.2, 9.26 -2.456, 7.2 -25.1))>"
      ]
     },
     "execution_count": 46,
     "metadata": {},
     "output_type": "execute_result"
    }
   ],
   "source": [
    "multipoint.convex_hull"
   ]
  },
  {
   "cell_type": "code",
   "execution_count": 47,
   "id": "8b05d06c-4217-4225-a7cb-c39f344275c6",
   "metadata": {},
   "outputs": [
    {
     "data": {
      "image/svg+xml": [
       "<svg xmlns=\"http://www.w3.org/2000/svg\" xmlns:xlink=\"http://www.w3.org/1999/xlink\" width=\"100.0\" height=\"100.0\" viewBox=\"1.028 -26.272000000000002 9.404 31.644000000000002\" preserveAspectRatio=\"xMinYMin meet\"><g transform=\"matrix(1,0,0,-1,0,-20.900000000000002)\"><path fill-rule=\"evenodd\" fill=\"#66cc99\" stroke=\"#555555\" stroke-width=\"0.63288\" opacity=\"0.6\" d=\"M 2.2,-25.1 L 9.26,-25.1 L 9.26,4.2 L 2.2,4.2 L 2.2,-25.1 z\" /></g></svg>"
      ],
      "text/plain": [
       "<POLYGON ((2.2 -25.1, 9.26 -25.1, 9.26 4.2, 2.2 4.2, 2.2 -25.1))>"
      ]
     },
     "execution_count": 47,
     "metadata": {},
     "output_type": "execute_result"
    }
   ],
   "source": [
    "# Envelope (smalles rectangular polygon around a geometry/set of geometries):\n",
    "multipoint.envelope"
   ]
  },
  {
   "attachments": {},
   "cell_type": "markdown",
   "id": "fb646de0",
   "metadata": {},
   "source": [
    "# Other Useful Attributes\n",
    "lenght of the geometry collection:"
   ]
  },
  {
   "cell_type": "code",
   "execution_count": 64,
   "id": "d1e785ed",
   "metadata": {},
   "outputs": [
    {
     "name": "stdout",
     "output_type": "stream",
     "text": [
      "Number of objects in our MultiLine: 2\n",
      "Number of objects in our MultiPolygon: 2\n"
     ]
    }
   ],
   "source": [
    "print(f\"Number of objects in our MultiLine: {len(multiline.geoms)}\")\n",
    "print(f\"Number of objects in our MultiPolygon: {len(multipolygon.geoms)}\")"
   ]
  },
  {
   "cell_type": "code",
   "execution_count": 72,
   "id": "012ba2a2",
   "metadata": {},
   "outputs": [
    {
     "data": {
      "text/plain": [
       "64800.0"
      ]
     },
     "execution_count": 72,
     "metadata": {},
     "output_type": "execute_result"
    }
   ],
   "source": [
    "#get area of multipolygon\n",
    "multipolygon.area"
   ]
  },
  {
   "cell_type": "code",
   "execution_count": 73,
   "id": "69c2c144",
   "metadata": {},
   "outputs": [
    {
     "name": "stdout",
     "output_type": "stream",
     "text": [
      "Area of our MultiPolygon: 64800.0\n",
      "Area of our Western Hemisphere polygon: 32400.0\n"
     ]
    }
   ],
   "source": [
    "#Area\n",
    "# Print outputs:\n",
    "print(f\"Area of our MultiPolygon: {multipolygon.area}\")\n",
    "print(f\"Area of our Western Hemisphere polygon: {multipolygon.geoms[0].area}\")"
   ]
  },
  {
   "cell_type": "markdown",
   "id": "dafdeafa-a37d-4e79-adc9-719826c49da3",
   "metadata": {},
   "source": [
    "# Validity of geometries\n",
    "\n",
    "As discussed on the very top of this page, already the geometric primitives have certain requirements. For instance, a LineString must consist of at least two points, and a Polygon’s exterior shell and holes must not intersect.\n",
    "\n",
    "Each shapely geometry has a built-in check that can be of great help, for instance, finding topological errors:"
   ]
  },
  {
   "cell_type": "code",
   "execution_count": 48,
   "id": "ae2f9f6c-d2df-4fab-b382-52ca4b6cd581",
   "metadata": {},
   "outputs": [
    {
     "name": "stdout",
     "output_type": "stream",
     "text": [
      "Is polygon valid?: True\n"
     ]
    }
   ],
   "source": [
    "print(f\"Is polygon valid?: {polygon_with_hole.is_valid}\")"
   ]
  },
  {
   "cell_type": "markdown",
   "id": "e82107cf-4830-4d63-93af-3bdc260daea8",
   "metadata": {},
   "source": [
    "# Exercise 1"
   ]
  },
  {
   "cell_type": "markdown",
   "id": "a4b7bb58",
   "metadata": {},
   "source": [
    "## Problem 1: Creating basic geometries"
   ]
  },
  {
   "cell_type": "markdown",
   "id": "70593d45",
   "metadata": {},
   "source": [
    "### 1a. Point geometry\n",
    "Create a function called create_point_geometry() that accepts two parameters, x_coord and y_coord. The function should return a shapely.geometry.Point geometry object."
   ]
  },
  {
   "cell_type": "markdown",
   "id": "defc583a",
   "metadata": {},
   "source": [
    "Create a function called create_point_geometry() that accepts two parameters, x_coord and y_coord. The function should return a shapely.geometry.Point geometry object."
   ]
  },
  {
   "cell_type": "code",
   "execution_count": 49,
   "id": "dc07a570",
   "metadata": {},
   "outputs": [],
   "source": [
    "#import functions\n",
    "import pandas as pd\n",
    "from shapely.geometry import Point, LineString, Polygon\n",
    "\n",
    "#create funtion that accepts x and y parameters\n",
    "def create_point_geometry(x_coord, y_coord):\n",
    "    return Point(x_coord, y_coord)"
   ]
  },
  {
   "cell_type": "code",
   "execution_count": 50,
   "id": "7f89286e",
   "metadata": {},
   "outputs": [
    {
     "name": "stdout",
     "output_type": "stream",
     "text": [
      "POINT (0 1.1)\n",
      "Point\n"
     ]
    }
   ],
   "source": [
    "# NON-EDITABLE CODE CELL FOR TESTING YOUR SOLUTION\n",
    "point1 = create_point_geometry(0.0, 1.1)\n",
    "print(point1)\n",
    "print(point1.geom_type)"
   ]
  },
  {
   "cell_type": "markdown",
   "id": "fcbf1cc4",
   "metadata": {},
   "source": [
    "### 1b.  Line Geometry\n",
    "Create a function called create_line_geometry() that takes a list of shapely.geometry.Points as an argument, and returns a shapely.geometry.LineString object of those input points."
   ]
  },
  {
   "cell_type": "code",
   "execution_count": 51,
   "id": "077f5d05",
   "metadata": {},
   "outputs": [],
   "source": [
    "#create a function that shapely point and returns shapely Linestring\n",
    "def create_line_geometry(points):\n",
    "    assert type(points) is list, 'Input should be a list'\n",
    "    assert len(points) >= 2, 'At minimum two points are required for LineString'\n",
    "    assert all(isinstance(i, Point) for i in points), 'All list values must be of type shapely.geometry.Point'\n",
    "\n",
    "    return LineString(points)"
   ]
  },
  {
   "cell_type": "code",
   "execution_count": 52,
   "id": "46c9ed7d",
   "metadata": {},
   "outputs": [],
   "source": [
    "# add points and check function\n",
    "line1 = create_line_geometry([Point(45.2, 22.34), Point(100.22, -3.20)])"
   ]
  },
  {
   "cell_type": "code",
   "execution_count": 53,
   "id": "d9b7ca15",
   "metadata": {},
   "outputs": [
    {
     "data": {
      "text/plain": [
       "shapely.geometry.point.Point"
      ]
     },
     "execution_count": 53,
     "metadata": {},
     "output_type": "execute_result"
    }
   ],
   "source": [
    "type(point1)"
   ]
  },
  {
   "cell_type": "code",
   "execution_count": 54,
   "id": "25d80ef8",
   "metadata": {},
   "outputs": [
    {
     "name": "stdout",
     "output_type": "stream",
     "text": [
      "LINESTRING (45.2 22.34, 100.22 -3.2)\n",
      "LineString\n"
     ]
    }
   ],
   "source": [
    "# NON-EDITABLE CODE CELL FOR TESTING YOUR SOLUTION\n",
    "print(line1)\n",
    "print(line1.geom_type)"
   ]
  },
  {
   "cell_type": "code",
   "execution_count": 55,
   "id": "b5ac995d",
   "metadata": {},
   "outputs": [
    {
     "name": "stdout",
     "output_type": "stream",
     "text": [
      "The function (correctly) detected an error. The error message was ‘Input should be a list’\n"
     ]
    }
   ],
   "source": [
    "# NON-EDITABLE CODE CELL FOR TESTING YOUR SOLUTION\n",
    "try:\n",
    "    # Pass something else than a list\n",
    "    create_line_geometry(\"Give me a line!\")\n",
    "except AssertionError as exception:\n",
    "    print(f\"The function (correctly) detected an error. The error message was ‘{exception.args[0]}’\")\n",
    "except Exception as exception:\n",
    "    raise exception"
   ]
  },
  {
   "cell_type": "markdown",
   "id": "270c7bb1",
   "metadata": {},
   "source": [
    "### 1c Polyon Geometry\n",
    "Create a function create_polygon_geometry() that accepts one parameter coordinates. coordinates should be a list of coordinate tuples. The function should create and return a shapely.geometry.Polygon object based on these coordinates."
   ]
  },
  {
   "cell_type": "code",
   "execution_count": 56,
   "id": "3bda488a",
   "metadata": {},
   "outputs": [
    {
     "data": {
      "text/plain": [
       "\"#create polygon geometry\\ndef create_polygon_geometry(coordinates):\\n    poly = Polygon([(p.x, p.y) for p in coordinates])# need to use list comprehension to extract the x and y coords from the list of tuppples\\n    assert type(coordinates) is list, 'Input should be a list'\\n    assert len(coordinates) >= 3, 'At minimum 3 points are needed'\\n    assert all(isinstance(i, tuple) and len(i) == 2 for i in coordinates), 'All list values must be coordinate tuples'\\n    assert all(isinstance(i, int or float) for i in coordinates), 'Values must be int or float'\\n\\n    return poly\""
      ]
     },
     "execution_count": 56,
     "metadata": {},
     "output_type": "execute_result"
    }
   ],
   "source": [
    "'''#create polygon geometry\n",
    "def create_polygon_geometry(coordinates):\n",
    "    poly = Polygon([(p.x, p.y) for p in coordinates])# need to use list comprehension to extract the x and y coords from the list of tuppples\n",
    "    assert type(coordinates) is list, 'Input should be a list'\n",
    "    assert len(coordinates) >= 3, 'At minimum 3 points are needed'\n",
    "    assert all(isinstance(i, tuple) and len(i) == 2 for i in coordinates), 'All list values must be coordinate tuples'\n",
    "    assert all(isinstance(i, int or float) for i in coordinates), 'Values must be int or float'\n",
    "\n",
    "    return poly'''"
   ]
  },
  {
   "cell_type": "markdown",
   "id": "cfd55b46",
   "metadata": {},
   "source": [
    "Here’s an updated version of your code that allows the input to be a list of shapely.geometry.Point objects:\n",
    "\n",
    "In this updated version of your code, we first check if the input is a list. If it’s not a list, we raise a TypeError with an appropriate error message. If the length of the input is less than 3, we raise a ValueError with an appropriate error message.\n",
    "\n",
    "Next, we check if all elements in the input are tuples with length 2. If they are tuples, we create a polygon based on these points using the Polygon() function from the shapely.geometry module.\n",
    "\n",
    "If all elements in the input are instances of shapely.geometry.Point, we create a polygon based on these points by converting each point to a tuple using (p.x, p.y) and passing this list of tuples to the Polygon() function.\n",
    "\n",
    "If the input is neither a list of tuples nor a list of shapely.geometry.Point, we raise a ValueError with an appropriate error message."
   ]
  },
  {
   "cell_type": "code",
   "execution_count": 57,
   "id": "7778750b",
   "metadata": {},
   "outputs": [],
   "source": [
    "#create polygon geometry\n",
    "def create_polygon_geometry(coords):\n",
    "    if not isinstance(coords, list):\n",
    "        raise TypeError('Input should be a list')\n",
    "    if len(coords) < 3:\n",
    "        raise ValueError('At minimum 3 points are needed')\n",
    "    if all(isinstance(i, tuple) and len(i) == 2 for i in coords):\n",
    "        return Polygon(coords)\n",
    "    elif all(isinstance(i, Point) for i in coords):\n",
    "        return Polygon([(p.x, p.y) for p in coords])\n",
    "    else:\n",
    "        raise ValueError('Input should be a list of tuples or Points')"
   ]
  },
  {
   "cell_type": "code",
   "execution_count": 58,
   "id": "e59e4f0d",
   "metadata": {},
   "outputs": [
    {
     "data": {
      "text/plain": [
       "'from typing import List\\nfrom shapely.geometry import Polygon, Point\\n\\ndef create_polygon_geometry(coordinates: List) -> Polygon:\\n    if not isinstance(coordinates, list):\\n        raise ValueError(\"Input should be a list\")\\n    if len(coordinates) < 3:\\n        raise ValueError(\"At minimum three points are required for a polygon\")\\n    for coord in coordinates:\\n        if not isinstance(coord, tuple):\\n            raise ValueError(\"All list values must be coordinate tuples\")\\n        if len(coord) != 2:\\n            raise ValueError(\"All tuples must have two values\")\\n        if not all(isinstance(val, (int, float)) for val in coord):\\n            raise ValueError(\"All tuple values must be instances of either int or float\")\\n    if all(isinstance(coord, Point) for coord in coordinates):\\n        return Polygon([[point.x, point.y] for point in coordinates])\\n    return Polygon(coordinates)'"
      ]
     },
     "execution_count": 58,
     "metadata": {},
     "output_type": "execute_result"
    }
   ],
   "source": [
    "# alternatine\n",
    "'''from typing import List\n",
    "from shapely.geometry import Polygon, Point\n",
    "\n",
    "def create_polygon_geometry(coordinates: List) -> Polygon:\n",
    "    if not isinstance(coordinates, list):\n",
    "        raise ValueError(\"Input should be a list\")\n",
    "    if len(coordinates) < 3:\n",
    "        raise ValueError(\"At minimum three points are required for a polygon\")\n",
    "    for coord in coordinates:\n",
    "        if not isinstance(coord, tuple):\n",
    "            raise ValueError(\"All list values must be coordinate tuples\")\n",
    "        if len(coord) != 2:\n",
    "            raise ValueError(\"All tuples must have two values\")\n",
    "        if not all(isinstance(val, (int, float)) for val in coord):\n",
    "            raise ValueError(\"All tuple values must be instances of either int or float\")\n",
    "    if all(isinstance(coord, Point) for coord in coordinates):\n",
    "        return Polygon([[point.x, point.y] for point in coordinates])\n",
    "    return Polygon(coordinates)'''"
   ]
  },
  {
   "cell_type": "code",
   "execution_count": 59,
   "id": "6c4a61e0",
   "metadata": {},
   "outputs": [],
   "source": [
    "#demonstrate\n",
    "polygon1 = [(45.2, 22.34), (100.22, -3.20), (70.0, 10.20)]\n",
    "polygon1 = create_polygon_geometry(polygon1)"
   ]
  },
  {
   "cell_type": "code",
   "execution_count": 60,
   "id": "d56d1d01",
   "metadata": {},
   "outputs": [
    {
     "data": {
      "image/svg+xml": [
       "<svg xmlns=\"http://www.w3.org/2000/svg\" xmlns:xlink=\"http://www.w3.org/1999/xlink\" width=\"100.0\" height=\"100.0\" viewBox=\"42.9992 -5.4008 59.4216 29.9416\" preserveAspectRatio=\"xMinYMin meet\"><g transform=\"matrix(1,0,0,-1,0,19.14)\"><path fill-rule=\"evenodd\" fill=\"#66cc99\" stroke=\"#555555\" stroke-width=\"1.188432\" opacity=\"0.6\" d=\"M 45.2,22.34 L 100.22,-3.2 L 70.0,10.2 L 45.2,22.34 z\" /></g></svg>"
      ],
      "text/plain": [
       "<POLYGON ((45.2 22.3, 100 -3.2, 70 10.2, 45.2 22.3))>"
      ]
     },
     "execution_count": 60,
     "metadata": {},
     "output_type": "execute_result"
    }
   ],
   "source": [
    "polygon1"
   ]
  },
  {
   "cell_type": "markdown",
   "id": "d9f7df64",
   "metadata": {},
   "source": [
    "## Problem 2: Attributes of geometries"
   ]
  },
  {
   "cell_type": "markdown",
   "id": "a8214bcd",
   "metadata": {},
   "source": [
    "### 2a Get Centroid\n",
    "Create a function called get_centroid() that accepts one parameter, geom. The function should take any kind of Shapely’s geometry objects (any instance of shapely.geometry.base.BaseGeometry) as an input, and return the centroid of that geometry."
   ]
  },
  {
   "cell_type": "code",
   "execution_count": 61,
   "id": "d21b3490",
   "metadata": {},
   "outputs": [],
   "source": [
    "#import shapely geometry\n",
    "from shapely.geometry.base import BaseGeometry\n",
    "\n",
    "# create function for shapely geometry\n",
    "def get_centroid(geom):\n",
    "    assert isinstance(geom, BaseGeometry), 'input must be a shapely geometry'\n",
    "    return geom.centroid"
   ]
  },
  {
   "cell_type": "code",
   "execution_count": 62,
   "id": "09463d6b",
   "metadata": {},
   "outputs": [
    {
     "data": {
      "text/plain": [
       "shapely.geometry.polygon.Polygon"
      ]
     },
     "execution_count": 62,
     "metadata": {},
     "output_type": "execute_result"
    }
   ],
   "source": [
    "type(polygon1)"
   ]
  },
  {
   "cell_type": "code",
   "execution_count": 63,
   "id": "08eff334",
   "metadata": {},
   "outputs": [
    {
     "name": "stdout",
     "output_type": "stream",
     "text": [
      "POINT (71.80666666666667 9.780000000000001)\n"
     ]
    }
   ],
   "source": [
    "#test the function\n",
    "centroid_poly = get_centroid(polygon1)\n",
    "print(centroid_poly)"
   ]
  },
  {
   "cell_type": "markdown",
   "id": "095c42d8",
   "metadata": {},
   "source": [
    "### 2b. Get Area\n",
    "Create a function get_area() accepting one parameter polygon."
   ]
  },
  {
   "cell_type": "code",
   "execution_count": 64,
   "id": "1c4432e3",
   "metadata": {},
   "outputs": [],
   "source": [
    "#create get are function only accepting polygon\n",
    "def get_area(polygon):\n",
    "    assert isinstance(polygon, Polygon), 'Input should be a shapely Polygon'\n",
    "    return polygon.area"
   ]
  },
  {
   "cell_type": "code",
   "execution_count": 65,
   "id": "b658fb78",
   "metadata": {},
   "outputs": [
    {
     "name": "stdout",
     "output_type": "stream",
     "text": [
      "17.28\n"
     ]
    }
   ],
   "source": [
    "# NON-EDITABLE CODE CELL FOR TESTING YOUR SOLUTION\n",
    "area = get_area(polygon1)\n",
    "print(round(area, 2))"
   ]
  },
  {
   "cell_type": "markdown",
   "id": "c5eea8d2",
   "metadata": {
    "jp-MarkdownHeadingCollapsed": true,
    "tags": []
   },
   "source": [
    "### 2c. Get Length\n",
    "Create a function get_length() accepting one parameter, geometry."
   ]
  },
  {
   "cell_type": "code",
   "execution_count": 66,
   "id": "9548b61f",
   "metadata": {},
   "outputs": [],
   "source": [
    "#create funtion to get either line or polygo and get length/circumference\n",
    "\n",
    "def get_length(geometry):\n",
    "    if isinstance(geometry, LineString):\n",
    "        return geometry.length\n",
    "    if isinstance(geometry, Polygon):\n",
    "        return geometry.exterior.length\n",
    "    else:\n",
    "        raise ValueError('geometry’ should be either a LineString or a Polygon')"
   ]
  },
  {
   "cell_type": "code",
   "execution_count": 67,
   "id": "efeec260",
   "metadata": {},
   "outputs": [
    {
     "name": "stdout",
     "output_type": "stream",
     "text": [
      "60.65881634189707\n"
     ]
    }
   ],
   "source": [
    "line1_length = get_length(line1)\n",
    "print(line1_length)"
   ]
  },
  {
   "cell_type": "code",
   "execution_count": 68,
   "id": "efa75688",
   "metadata": {},
   "outputs": [
    {
     "name": "stdout",
     "output_type": "stream",
     "text": [
      "121.32841570092893\n"
     ]
    }
   ],
   "source": [
    "poly_length = get_length(polygon1)\n",
    "print(poly_length)"
   ]
  },
  {
   "cell_type": "markdown",
   "id": "a897866e",
   "metadata": {},
   "source": [
    "## Problem 3 Reading coordinates from a text file, and creating geometries"
   ]
  },
  {
   "cell_type": "markdown",
   "id": "f1c194f3",
   "metadata": {},
   "source": [
    "### 1. use pandas to read the file into a variable data"
   ]
  },
  {
   "cell_type": "code",
   "execution_count": 69,
   "id": "6c5f670c",
   "metadata": {},
   "outputs": [
    {
     "data": {
      "text/html": [
       "<div>\n",
       "<style scoped>\n",
       "    .dataframe tbody tr th:only-of-type {\n",
       "        vertical-align: middle;\n",
       "    }\n",
       "\n",
       "    .dataframe tbody tr th {\n",
       "        vertical-align: top;\n",
       "    }\n",
       "\n",
       "    .dataframe thead th {\n",
       "        text-align: right;\n",
       "    }\n",
       "</style>\n",
       "<table border=\"1\" class=\"dataframe\">\n",
       "  <thead>\n",
       "    <tr style=\"text-align: right;\">\n",
       "      <th></th>\n",
       "      <th>from_id</th>\n",
       "      <th>to_id</th>\n",
       "      <th>fromid_toid</th>\n",
       "      <th>route_number</th>\n",
       "      <th>at</th>\n",
       "      <th>from_x</th>\n",
       "      <th>from_y</th>\n",
       "      <th>to_x</th>\n",
       "      <th>to_y</th>\n",
       "      <th>total_route_time</th>\n",
       "      <th>route_time</th>\n",
       "      <th>route_distance</th>\n",
       "      <th>route_total_lines</th>\n",
       "    </tr>\n",
       "  </thead>\n",
       "  <tbody>\n",
       "    <tr>\n",
       "      <th>0</th>\n",
       "      <td>5861326</td>\n",
       "      <td>5785640</td>\n",
       "      <td>5861326_5785640</td>\n",
       "      <td>1</td>\n",
       "      <td>08:10</td>\n",
       "      <td>24.970438</td>\n",
       "      <td>60.311917</td>\n",
       "      <td>24.856034</td>\n",
       "      <td>60.399941</td>\n",
       "      <td>125.0</td>\n",
       "      <td>99.0</td>\n",
       "      <td>22917.6</td>\n",
       "      <td>2.0</td>\n",
       "    </tr>\n",
       "    <tr>\n",
       "      <th>1</th>\n",
       "      <td>5861326</td>\n",
       "      <td>5785641</td>\n",
       "      <td>5861326_5785641</td>\n",
       "      <td>1</td>\n",
       "      <td>08:10</td>\n",
       "      <td>24.970438</td>\n",
       "      <td>60.311917</td>\n",
       "      <td>24.860568</td>\n",
       "      <td>60.400014</td>\n",
       "      <td>123.0</td>\n",
       "      <td>102.0</td>\n",
       "      <td>23123.5</td>\n",
       "      <td>2.0</td>\n",
       "    </tr>\n",
       "    <tr>\n",
       "      <th>2</th>\n",
       "      <td>5861326</td>\n",
       "      <td>5785642</td>\n",
       "      <td>5861326_5785642</td>\n",
       "      <td>1</td>\n",
       "      <td>08:10</td>\n",
       "      <td>24.970438</td>\n",
       "      <td>60.311917</td>\n",
       "      <td>24.865102</td>\n",
       "      <td>60.400086</td>\n",
       "      <td>125.0</td>\n",
       "      <td>103.0</td>\n",
       "      <td>23241.3</td>\n",
       "      <td>2.0</td>\n",
       "    </tr>\n",
       "    <tr>\n",
       "      <th>3</th>\n",
       "      <td>5861326</td>\n",
       "      <td>5785643</td>\n",
       "      <td>5861326_5785643</td>\n",
       "      <td>1</td>\n",
       "      <td>08:10</td>\n",
       "      <td>24.970438</td>\n",
       "      <td>60.311917</td>\n",
       "      <td>24.869636</td>\n",
       "      <td>60.400159</td>\n",
       "      <td>129.0</td>\n",
       "      <td>107.0</td>\n",
       "      <td>23534.2</td>\n",
       "      <td>2.0</td>\n",
       "    </tr>\n",
       "    <tr>\n",
       "      <th>4</th>\n",
       "      <td>5861326</td>\n",
       "      <td>5787544</td>\n",
       "      <td>5861326_5787544</td>\n",
       "      <td>1</td>\n",
       "      <td>08:10</td>\n",
       "      <td>24.970438</td>\n",
       "      <td>60.311917</td>\n",
       "      <td>24.842582</td>\n",
       "      <td>60.397478</td>\n",
       "      <td>118.0</td>\n",
       "      <td>92.0</td>\n",
       "      <td>22428.2</td>\n",
       "      <td>2.0</td>\n",
       "    </tr>\n",
       "  </tbody>\n",
       "</table>\n",
       "</div>"
      ],
      "text/plain": [
       "   from_id    to_id      fromid_toid  route_number     at     from_x  \\\n",
       "0  5861326  5785640  5861326_5785640             1  08:10  24.970438   \n",
       "1  5861326  5785641  5861326_5785641             1  08:10  24.970438   \n",
       "2  5861326  5785642  5861326_5785642             1  08:10  24.970438   \n",
       "3  5861326  5785643  5861326_5785643             1  08:10  24.970438   \n",
       "4  5861326  5787544  5861326_5787544             1  08:10  24.970438   \n",
       "\n",
       "      from_y       to_x       to_y  total_route_time  route_time  \\\n",
       "0  60.311917  24.856034  60.399941             125.0        99.0   \n",
       "1  60.311917  24.860568  60.400014             123.0       102.0   \n",
       "2  60.311917  24.865102  60.400086             125.0       103.0   \n",
       "3  60.311917  24.869636  60.400159             129.0       107.0   \n",
       "4  60.311917  24.842582  60.397478             118.0        92.0   \n",
       "\n",
       "   route_distance  route_total_lines  \n",
       "0         22917.6                2.0  \n",
       "1         23123.5                2.0  \n",
       "2         23241.3                2.0  \n",
       "3         23534.2                2.0  \n",
       "4         22428.2                2.0  "
      ]
     },
     "execution_count": 69,
     "metadata": {},
     "output_type": "execute_result"
    }
   ],
   "source": [
    "#import pandas\n",
    "import pandas as pd\n",
    "\n",
    "# read in data file\n",
    "data = pd.read_csv('travel_times_2015_helsinki.txt',\n",
    "                   sep=';',\n",
    ")\n",
    "\n",
    "data.head()"
   ]
  },
  {
   "cell_type": "code",
   "execution_count": 70,
   "id": "632ba375",
   "metadata": {},
   "outputs": [
    {
     "name": "stdout",
     "output_type": "stream",
     "text": [
      "(14643, 13)\n"
     ]
    }
   ],
   "source": [
    "#check rows and columns in data set\n",
    "print(data.shape)"
   ]
  },
  {
   "cell_type": "code",
   "execution_count": 71,
   "id": "c6fa4f2b",
   "metadata": {},
   "outputs": [
    {
     "data": {
      "text/plain": [
       "from_id              False\n",
       "to_id                False\n",
       "fromid_toid          False\n",
       "route_number         False\n",
       "at                   False\n",
       "from_x               False\n",
       "from_y               False\n",
       "to_x                 False\n",
       "to_y                 False\n",
       "total_route_time     False\n",
       "route_time           False\n",
       "route_distance       False\n",
       "route_total_lines    False\n",
       "dtype: bool"
      ]
     },
     "execution_count": 71,
     "metadata": {},
     "output_type": "execute_result"
    }
   ],
   "source": [
    "#check null values\n",
    "data.isnull().any()"
   ]
  },
  {
   "cell_type": "markdown",
   "id": "e1fd7598",
   "metadata": {},
   "source": [
    "### 2. select the 4 columns that contain coordinate information (from_x, from_y, to_x, to_y),"
   ]
  },
  {
   "cell_type": "code",
   "execution_count": 72,
   "id": "cd41281e",
   "metadata": {},
   "outputs": [
    {
     "data": {
      "text/html": [
       "<div>\n",
       "<style scoped>\n",
       "    .dataframe tbody tr th:only-of-type {\n",
       "        vertical-align: middle;\n",
       "    }\n",
       "\n",
       "    .dataframe tbody tr th {\n",
       "        vertical-align: top;\n",
       "    }\n",
       "\n",
       "    .dataframe thead th {\n",
       "        text-align: right;\n",
       "    }\n",
       "</style>\n",
       "<table border=\"1\" class=\"dataframe\">\n",
       "  <thead>\n",
       "    <tr style=\"text-align: right;\">\n",
       "      <th></th>\n",
       "      <th>from_x</th>\n",
       "      <th>from_y</th>\n",
       "      <th>to_x</th>\n",
       "      <th>to_y</th>\n",
       "    </tr>\n",
       "  </thead>\n",
       "  <tbody>\n",
       "    <tr>\n",
       "      <th>0</th>\n",
       "      <td>24.970438</td>\n",
       "      <td>60.311917</td>\n",
       "      <td>24.856034</td>\n",
       "      <td>60.399941</td>\n",
       "    </tr>\n",
       "    <tr>\n",
       "      <th>1</th>\n",
       "      <td>24.970438</td>\n",
       "      <td>60.311917</td>\n",
       "      <td>24.860568</td>\n",
       "      <td>60.400014</td>\n",
       "    </tr>\n",
       "    <tr>\n",
       "      <th>2</th>\n",
       "      <td>24.970438</td>\n",
       "      <td>60.311917</td>\n",
       "      <td>24.865102</td>\n",
       "      <td>60.400086</td>\n",
       "    </tr>\n",
       "    <tr>\n",
       "      <th>3</th>\n",
       "      <td>24.970438</td>\n",
       "      <td>60.311917</td>\n",
       "      <td>24.869636</td>\n",
       "      <td>60.400159</td>\n",
       "    </tr>\n",
       "    <tr>\n",
       "      <th>4</th>\n",
       "      <td>24.970438</td>\n",
       "      <td>60.311917</td>\n",
       "      <td>24.842582</td>\n",
       "      <td>60.397478</td>\n",
       "    </tr>\n",
       "  </tbody>\n",
       "</table>\n",
       "</div>"
      ],
      "text/plain": [
       "      from_x     from_y       to_x       to_y\n",
       "0  24.970438  60.311917  24.856034  60.399941\n",
       "1  24.970438  60.311917  24.860568  60.400014\n",
       "2  24.970438  60.311917  24.865102  60.400086\n",
       "3  24.970438  60.311917  24.869636  60.400159\n",
       "4  24.970438  60.311917  24.842582  60.397478"
      ]
     },
     "execution_count": 72,
     "metadata": {},
     "output_type": "execute_result"
    }
   ],
   "source": [
    "#select columns\n",
    "data = data.filter(['from_x', 'from_y', 'to_x', 'to_y'])\n",
    "data.head()"
   ]
  },
  {
   "cell_type": "markdown",
   "id": "850aec36",
   "metadata": {},
   "source": [
    "### 3. Finally, create two lists called origin_points and destination_points that contain shapely.geometry.Point"
   ]
  },
  {
   "cell_type": "code",
   "execution_count": 73,
   "id": "2e34706f",
   "metadata": {},
   "outputs": [
    {
     "data": {
      "text/plain": [
       "'origin_points = []\\ndestination_points = []\\n\\nfor idx, row in data.iterrows():\\n\\n    #create shapely points for based on coordinate column\\n    from_points = Point(row[0], row[1])\\n    to_points = Point(row[2], row[3])\\n\\n    #append to created list\\n    origin_points.append(from_points)\\n    destination_points.append(to_points)'"
      ]
     },
     "execution_count": 73,
     "metadata": {},
     "output_type": "execute_result"
    }
   ],
   "source": [
    "#Approach A, using for loop\n",
    "#from shapely.geometry import Point, LineString, Polygon\n",
    "\n",
    "#create list for two sets of points\n",
    "'''origin_points = []\n",
    "destination_points = []\n",
    "\n",
    "for idx, row in data.iterrows():\n",
    "\n",
    "    #create shapely points for based on coordinate column\n",
    "    from_points = Point(row[0], row[1])\n",
    "    to_points = Point(row[2], row[3])\n",
    "\n",
    "    #append to created list\n",
    "    origin_points.append(from_points)\n",
    "    destination_points.append(to_points)'''"
   ]
  },
  {
   "cell_type": "code",
   "execution_count": 74,
   "id": "32bc1a8c",
   "metadata": {},
   "outputs": [
    {
     "data": {
      "text/plain": [
       "'def get_start_points(row):\\n    \"\"\"Create a Point geometry from a row with x and y values.\"\"\"\\n    start_points = Point(row[\\'from_x\\'], row[\\'from_y\\'])\\n    return start_points\\n\\norigin_points = data.apply(get_start_points, axis=1)\\n\\ndef get_end_points(row):\\n    \"\"\"Create a Point geometry from a row with x and y values.\"\"\"\\n    end_points = Point(row[\\'to_x\\'], row[\\'to_y\\'])\\n    return end_points\\n\\ndestination_points = data.apply(get_end_points, axis=1)'"
      ]
     },
     "execution_count": 74,
     "metadata": {},
     "output_type": "execute_result"
    }
   ],
   "source": [
    "#Approach B, use apply function and lambda function\n",
    "#create a function that converts data to points\n",
    "'''def get_start_points(row):\n",
    "    \"\"\"Create a Point geometry from a row with x and y values.\"\"\"\n",
    "    start_points = Point(row['from_x'], row['from_y'])\n",
    "    return start_points\n",
    "\n",
    "origin_points = data.apply(get_start_points, axis=1)\n",
    "\n",
    "def get_end_points(row):\n",
    "    \"\"\"Create a Point geometry from a row with x and y values.\"\"\"\n",
    "    end_points = Point(row['to_x'], row['to_y'])\n",
    "    return end_points\n",
    "\n",
    "destination_points = data.apply(get_end_points, axis=1)'''"
   ]
  },
  {
   "cell_type": "code",
   "execution_count": 75,
   "id": "b324e220-d575-454d-95e6-ca4ee5031fdb",
   "metadata": {},
   "outputs": [],
   "source": [
    "#Approach A, using for loop\n",
    "from shapely.geometry import Point, LineString, Polygon\n",
    "\n",
    "# using lambda function\n",
    "origin_points = data.apply(\n",
    "    lambda row: Point(row['from_x'], row['from_y']),\n",
    "    axis=1\n",
    ")\n",
    "\n",
    "destination_points = data.apply(\n",
    "    lambda row: Point(row['to_x'], row['to_y']),\n",
    "    axis=1\n",
    ")"
   ]
  },
  {
   "cell_type": "code",
   "execution_count": 76,
   "id": "27ab9d7d-36d5-4d68-ab27-7bc4944c8cae",
   "metadata": {},
   "outputs": [
    {
     "data": {
      "text/plain": [
       "int"
      ]
     },
     "execution_count": 76,
     "metadata": {},
     "output_type": "execute_result"
    }
   ],
   "source": [
    "type(len(origin_points))"
   ]
  },
  {
   "cell_type": "code",
   "execution_count": 77,
   "id": "65ca7e12-b02e-43d8-97b1-c16109f29435",
   "metadata": {},
   "outputs": [
    {
     "data": {
      "text/plain": [
       "14643"
      ]
     },
     "execution_count": 77,
     "metadata": {},
     "output_type": "execute_result"
    }
   ],
   "source": [
    "len(destination_points)"
   ]
  },
  {
   "cell_type": "markdown",
   "id": "79e09227",
   "metadata": {},
   "source": [
    "## Problem 4: Creating LineStrings that represent the movements"
   ]
  },
  {
   "cell_type": "markdown",
   "id": "4d54655d",
   "metadata": {},
   "source": [
    "### 1. To create the shapely.geometry.LineStrings for each pair of origins and destinations\n",
    "- need to loop over both lists at the same time."
   ]
  },
  {
   "cell_type": "code",
   "execution_count": 78,
   "id": "afb6e1e9",
   "metadata": {},
   "outputs": [],
   "source": [
    "# Approach A, using zip function\n",
    "#create empty list\n",
    "lines = []\n",
    "\n",
    "# iterrate over origin and destination lists in parallel\n",
    "for start, end in zip(origin_points, destination_points):\n",
    "    lines_cords = LineString((start, end))\n",
    "    lines.append(lines_cords)"
   ]
  },
  {
   "cell_type": "code",
   "execution_count": 79,
   "id": "ca9e40e8",
   "metadata": {},
   "outputs": [
    {
     "data": {
      "text/plain": [
       "'lines = []\\n\\n#iterrate over list\\nfor i in range(len(origin_points)):\\n    lines_cords = LineString((origin_points[i], destination_points[i]))\\n    lines.append(lines_cords)'"
      ]
     },
     "execution_count": 79,
     "metadata": {},
     "output_type": "execute_result"
    }
   ],
   "source": [
    "#Approach B, using for range\n",
    "#create empty list\n",
    "'''lines = []\n",
    "\n",
    "#iterrate over list\n",
    "for i in range(len(origin_points)):\n",
    "    lines_cords = LineString((origin_points[i], destination_points[i]))\n",
    "    lines.append(lines_cords)'''"
   ]
  },
  {
   "cell_type": "code",
   "execution_count": 80,
   "id": "82ed2425",
   "metadata": {},
   "outputs": [],
   "source": [
    "# NON-EDITABLE CODE CELL FOR TESTING YOUR SOLUTION\n",
    "\n",
    "# Test that the list has correct number of LineStrings\n",
    "assert len(lines) == len(data), \"There should be as many lines as there are rows in the original data\""
   ]
  },
  {
   "cell_type": "markdown",
   "id": "675294ce",
   "metadata": {},
   "source": [
    "### 2. Create a variable called total_length, and store the total (Euclidian) distance\n",
    "- store the total (Euclidian) distance of all the origin-destination LineStrings that we just created into that variable."
   ]
  },
  {
   "cell_type": "code",
   "execution_count": 81,
   "id": "458cd817",
   "metadata": {},
   "outputs": [
    {
     "name": "stdout",
     "output_type": "stream",
     "text": [
      "3148.570780865155\n"
     ]
    }
   ],
   "source": [
    "# create a total legth varaible starting from 0\n",
    "total_length = 0\n",
    "\n",
    "for line in lines:\n",
    "    total_length += line.length\n",
    "\n",
    "print(total_length)"
   ]
  },
  {
   "cell_type": "code",
   "execution_count": 82,
   "id": "04d330f6",
   "metadata": {},
   "outputs": [
    {
     "name": "stdout",
     "output_type": "stream",
     "text": [
      "Total length of all lines is 3148.57\n"
     ]
    }
   ],
   "source": [
    "# NON-EDITABLE CODE CELL FOR TESTING YOUR SOLUTION\n",
    "\n",
    "# This test print should print the total length of all lines\n",
    "print(\"Total length of all lines is\", round(total_length, 2))\n",
    "assert round(total_length, 2) == 3148.57"
   ]
  },
  {
   "cell_type": "markdown",
   "id": "4c1aa9d4",
   "metadata": {},
   "source": [
    "### 3. Create functions that automate the functionality you implemented for part (1) and part (2) of this problem:"
   ]
  },
  {
   "cell_type": "code",
   "execution_count": 83,
   "id": "67a55829",
   "metadata": {},
   "outputs": [],
   "source": [
    "# create function that accepts two lists of shapely.geometry.Points and returns a list of shapely.geometry.LineStrings\n",
    "def create_od_lines(list_1, list_2):\n",
    "    \n",
    "    lines = []\n",
    "\n",
    "    #loop through list to create linestrings\n",
    "    for start, end in zip(list_1, list_2):\n",
    "        line = LineString((start, end))\n",
    "        lines.append(line)\n",
    "    return(lines)"
   ]
  },
  {
   "cell_type": "code",
   "execution_count": 84,
   "id": "a45749c5",
   "metadata": {},
   "outputs": [],
   "source": [
    "#create function for calculating total distance\n",
    "def calculate_total_distance(lines):\n",
    "    '''create total length variable'''\n",
    "    total_length = 0\n",
    "    '''iterate through list'''\n",
    "    for line in lines:\n",
    "        total_length += line.length\n",
    "    return total_length"
   ]
  },
  {
   "cell_type": "code",
   "execution_count": 85,
   "id": "997736c2",
   "metadata": {},
   "outputs": [
    {
     "name": "stdout",
     "output_type": "stream",
     "text": [
      "Total distance 3148.57\n"
     ]
    }
   ],
   "source": [
    "# NON-EDITABLE CODE CELL FOR TESTING YOUR SOLUTION\n",
    "\n",
    "# Create origin-destination lines\n",
    "od_lines = create_od_lines(origin_points, destination_points)\n",
    "\n",
    "# Calculate the total distance\n",
    "tot_dist = calculate_total_distance(od_lines)\n",
    "\n",
    "print(\"Total distance\", round(tot_dist,2))\n",
    "assert tot_dist == total_length"
   ]
  }
 ],
 "metadata": {
  "kernelspec": {
   "display_name": "Python 3 (ipykernel)",
   "language": "python",
   "name": "python3"
  },
  "language_info": {
   "codemirror_mode": {
    "name": "ipython",
    "version": 3
   },
   "file_extension": ".py",
   "mimetype": "text/x-python",
   "name": "python",
   "nbconvert_exporter": "python",
   "pygments_lexer": "ipython3",
   "version": "3.11.3"
  },
  "toc-autonumbering": false,
  "toc-showcode": false,
  "toc-showmarkdowntxt": false
 },
 "nbformat": 4,
 "nbformat_minor": 5
}
