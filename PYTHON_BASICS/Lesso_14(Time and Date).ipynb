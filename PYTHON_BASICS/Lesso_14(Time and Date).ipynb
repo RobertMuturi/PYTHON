{
 "cells": [
  {
   "cell_type": "markdown",
   "id": "01eba5d4-1597-4dc0-aaa5-17c065fa736e",
   "metadata": {},
   "source": [
    "Date and Time"
   ]
  },
  {
   "cell_type": "code",
   "execution_count": 10,
   "id": "f07fb5c4-5292-47c3-b59a-d9b07a87520b",
   "metadata": {},
   "outputs": [],
   "source": [
    "import time\n",
    "import calendar"
   ]
  },
  {
   "cell_type": "code",
   "execution_count": 11,
   "id": "08591d4c-2c6d-4edd-ae78-48807bc4847d",
   "metadata": {},
   "outputs": [
    {
     "name": "stdout",
     "output_type": "stream",
     "text": [
      "Number of ticks since 12:00am, January 1 1970  1678181542.604532\n"
     ]
    }
   ],
   "source": [
    "ticks = time.time() #number of seconds\n",
    "print(\"Number of ticks since 12:00am, January 1 1970 \", ticks)"
   ]
  },
  {
   "cell_type": "code",
   "execution_count": 12,
   "id": "912cf41a-129b-47bf-907b-f46b8b70ede4",
   "metadata": {},
   "outputs": [
    {
     "name": "stdout",
     "output_type": "stream",
     "text": [
      "Current Time  time.struct_time(tm_year=2023, tm_mon=3, tm_mday=7, tm_hour=12, tm_min=32, tm_sec=23, tm_wday=1, tm_yday=66, tm_isdst=0)\n"
     ]
    }
   ],
   "source": [
    "#get currrent time\n",
    "curr_time = time.localtime(time.time())\n",
    "print(\"Current Time \", curr_time)"
   ]
  },
  {
   "cell_type": "code",
   "execution_count": 13,
   "id": "e191c455-41e9-44ef-893d-59abab81be58",
   "metadata": {},
   "outputs": [
    {
     "name": "stdout",
     "output_type": "stream",
     "text": [
      "current time:  Tue Mar  7 12:32:23 2023\n"
     ]
    }
   ],
   "source": [
    "#formatted time\n",
    "curr_time_formatted = time.asctime(curr_time)\n",
    "print(\"current time: \", curr_time_formatted)"
   ]
  },
  {
   "cell_type": "code",
   "execution_count": 15,
   "id": "9cde966b-6182-495d-8dfa-124fc95df3ce",
   "metadata": {},
   "outputs": [
    {
     "name": "stdout",
     "output_type": "stream",
     "text": [
      "march 2023:      March 2023\n",
      "Mo Tu We Th Fr Sa Su\n",
      "       1  2  3  4  5\n",
      " 6  7  8  9 10 11 12\n",
      "13 14 15 16 17 18 19\n",
      "20 21 22 23 24 25 26\n",
      "27 28 29 30 31\n",
      "\n"
     ]
    }
   ],
   "source": [
    "march_2023 = calendar.month(2023,3)\n",
    "print(\"march 2023:\", march_2023)"
   ]
  },
  {
   "cell_type": "code",
   "execution_count": 16,
   "id": "48e4406c-c249-40f3-80fe-1bd61728ab1e",
   "metadata": {},
   "outputs": [
    {
     "name": "stdout",
     "output_type": "stream",
     "text": [
      "Start : Tue Mar  7 12:32:49 2023\n",
      "End : Tue Mar  7 12:32:54 2023\n"
     ]
    }
   ],
   "source": [
    "#function to run after specified seconds\n",
    "print(\"Start : %s\" % time.ctime())\n",
    "time.sleep(5)\n",
    "print(\"End : %s\" % time.ctime())"
   ]
  },
  {
   "cell_type": "code",
   "execution_count": 20,
   "id": "6ec72e36-536a-40ab-8a1c-6664103ea44b",
   "metadata": {},
   "outputs": [
    {
     "name": "stdout",
     "output_type": "stream",
     "text": [
      "Feb 17 2009 14:03:38\n"
     ]
    }
   ],
   "source": [
    "#using atring formatted time(define your format) strftime\n",
    "t = (2009, 2, 17, 17, 3, 38, 1, 48, 0)\n",
    "t = time.mktime(t)\n",
    "print(time.strftime(\"%b %d %Y %H:%M:%S\", time.gmtime(t)))"
   ]
  },
  {
   "cell_type": "code",
   "execution_count": 21,
   "id": "30cd8794-66e2-45b8-8b88-15dc7ee48217",
   "metadata": {},
   "outputs": [
    {
     "name": "stdout",
     "output_type": "stream",
     "text": [
      "0\n"
     ]
    }
   ],
   "source": [
    "#more calendar\n",
    "print(calendar.firstweekday())"
   ]
  },
  {
   "cell_type": "code",
   "execution_count": 22,
   "id": "baddf6ab-195e-42e9-bac7-b9a9ed65a135",
   "metadata": {},
   "outputs": [
    {
     "name": "stdout",
     "output_type": "stream",
     "text": [
      "True\n"
     ]
    }
   ],
   "source": [
    "#leap year\n",
    "print(calendar.isleap(2020))"
   ]
  },
  {
   "cell_type": "code",
   "execution_count": 23,
   "id": "0377d3f9-3848-477e-9265-f393afbf1ba7",
   "metadata": {},
   "outputs": [
    {
     "name": "stdin",
     "output_type": "stream",
     "text": [
      "Enter year to check if it leap:  2020\n"
     ]
    },
    {
     "name": "stdout",
     "output_type": "stream",
     "text": [
      "The year 2020 was a leap year\n"
     ]
    },
    {
     "name": "stdin",
     "output_type": "stream",
     "text": [
      "Enter year to check if it leap:  2015\n"
     ]
    },
    {
     "name": "stdout",
     "output_type": "stream",
     "text": [
      "The year 2015 was not a leap year\n"
     ]
    },
    {
     "name": "stdin",
     "output_type": "stream",
     "text": [
      "Enter year to check if it leap:  2012\n"
     ]
    },
    {
     "name": "stdout",
     "output_type": "stream",
     "text": [
      "The year 2012 was a leap year\n"
     ]
    },
    {
     "name": "stdin",
     "output_type": "stream",
     "text": [
      "Enter year to check if it leap:  2030\n"
     ]
    },
    {
     "name": "stdout",
     "output_type": "stream",
     "text": [
      "The year 2030 was not a leap year\n"
     ]
    },
    {
     "name": "stdin",
     "output_type": "stream",
     "text": [
      "Enter year to check if it leap:  2040\n"
     ]
    },
    {
     "name": "stdout",
     "output_type": "stream",
     "text": [
      "The year 2040 was a leap year\n"
     ]
    }
   ],
   "source": [
    "for i in range(5):\n",
    "    check_leap_year = int(input(\"Enter year to check if it leap: \"))\n",
    "    if calendar.isleap(check_leap_year) == True:\n",
    "        print(f\"The year {check_leap_year} was a leap year\")\n",
    "    else:\n",
    "        print(f\"The year {check_leap_year} was not a leap year\")"
   ]
  },
  {
   "cell_type": "code",
   "execution_count": 26,
   "id": "1430c732-db9b-4957-a813-0294fb55845f",
   "metadata": {},
   "outputs": [
    {
     "name": "stdout",
     "output_type": "stream",
     "text": [
      "check leap days between 2018 and 2023:  1\n"
     ]
    }
   ],
   "source": [
    "print(\"check leap days between 2018 and 2023: \", calendar.leapdays(2018, 2023))"
   ]
  },
  {
   "cell_type": "code",
   "execution_count": 27,
   "id": "f92aa7ed-af95-4bf0-81ab-ac097d08ebd3",
   "metadata": {},
   "outputs": [
    {
     "name": "stdout",
     "output_type": "stream",
     "text": [
      "check leap days between 2018 and 2023:  3\n"
     ]
    }
   ],
   "source": [
    "print(\"check leap days between 2018 and 2023: \", calendar.leapdays(2010, 2023))"
   ]
  },
  {
   "cell_type": "code",
   "execution_count": 28,
   "id": "12d6d29d-4bf9-4ec9-bee1-51421dfc7cdc",
   "metadata": {},
   "outputs": [
    {
     "name": "stdout",
     "output_type": "stream",
     "text": [
      "Month calendar [[0, 0, 1, 2, 3, 4, 5], [6, 7, 8, 9, 10, 11, 12], [13, 14, 15, 16, 17, 18, 19], [20, 21, 22, 23, 24, 25, 26], [27, 28, 29, 30, 31, 0, 0]]\n"
     ]
    }
   ],
   "source": [
    "print(\"Month calendar\", calendar.monthcalendar(2023,3))"
   ]
  },
  {
   "cell_type": "code",
   "execution_count": 30,
   "id": "3fdc58d6-868d-43ec-94d6-2e2e63140883",
   "metadata": {},
   "outputs": [
    {
     "name": "stdout",
     "output_type": "stream",
     "text": [
      "(2, 31)\n"
     ]
    }
   ],
   "source": [
    "print(calendar.monthrange(2023,3))"
   ]
  },
  {
   "cell_type": "code",
   "execution_count": 31,
   "id": "949682ae-8593-409a-b252-6df3c3eea425",
   "metadata": {},
   "outputs": [
    {
     "name": "stdout",
     "output_type": "stream",
     "text": [
      "                                  2023\n",
      "\n",
      "      January                   February                   March\n",
      "Mo Tu We Th Fr Sa Su      Mo Tu We Th Fr Sa Su      Mo Tu We Th Fr Sa Su\n",
      "                   1             1  2  3  4  5             1  2  3  4  5\n",
      " 2  3  4  5  6  7  8       6  7  8  9 10 11 12       6  7  8  9 10 11 12\n",
      " 9 10 11 12 13 14 15      13 14 15 16 17 18 19      13 14 15 16 17 18 19\n",
      "16 17 18 19 20 21 22      20 21 22 23 24 25 26      20 21 22 23 24 25 26\n",
      "23 24 25 26 27 28 29      27 28                     27 28 29 30 31\n",
      "30 31\n",
      "\n",
      "       April                      May                       June\n",
      "Mo Tu We Th Fr Sa Su      Mo Tu We Th Fr Sa Su      Mo Tu We Th Fr Sa Su\n",
      "                1  2       1  2  3  4  5  6  7                1  2  3  4\n",
      " 3  4  5  6  7  8  9       8  9 10 11 12 13 14       5  6  7  8  9 10 11\n",
      "10 11 12 13 14 15 16      15 16 17 18 19 20 21      12 13 14 15 16 17 18\n",
      "17 18 19 20 21 22 23      22 23 24 25 26 27 28      19 20 21 22 23 24 25\n",
      "24 25 26 27 28 29 30      29 30 31                  26 27 28 29 30\n",
      "\n",
      "        July                     August                  September\n",
      "Mo Tu We Th Fr Sa Su      Mo Tu We Th Fr Sa Su      Mo Tu We Th Fr Sa Su\n",
      "                1  2          1  2  3  4  5  6                   1  2  3\n",
      " 3  4  5  6  7  8  9       7  8  9 10 11 12 13       4  5  6  7  8  9 10\n",
      "10 11 12 13 14 15 16      14 15 16 17 18 19 20      11 12 13 14 15 16 17\n",
      "17 18 19 20 21 22 23      21 22 23 24 25 26 27      18 19 20 21 22 23 24\n",
      "24 25 26 27 28 29 30      28 29 30 31               25 26 27 28 29 30\n",
      "31\n",
      "\n",
      "      October                   November                  December\n",
      "Mo Tu We Th Fr Sa Su      Mo Tu We Th Fr Sa Su      Mo Tu We Th Fr Sa Su\n",
      "                   1             1  2  3  4  5                   1  2  3\n",
      " 2  3  4  5  6  7  8       6  7  8  9 10 11 12       4  5  6  7  8  9 10\n",
      " 9 10 11 12 13 14 15      13 14 15 16 17 18 19      11 12 13 14 15 16 17\n",
      "16 17 18 19 20 21 22      20 21 22 23 24 25 26      18 19 20 21 22 23 24\n",
      "23 24 25 26 27 28 29      27 28 29 30               25 26 27 28 29 30 31\n",
      "30 31\n",
      "None\n"
     ]
    }
   ],
   "source": [
    "print(calendar.prcal(2023))"
   ]
  },
  {
   "cell_type": "code",
   "execution_count": 32,
   "id": "f864d655-118e-4271-acf4-3b5eb2fb4a2b",
   "metadata": {},
   "outputs": [
    {
     "name": "stdout",
     "output_type": "stream",
     "text": [
      "     March 2023\n",
      "Mo Tu We Th Fr Sa Su\n",
      "       1  2  3  4  5\n",
      " 6  7  8  9 10 11 12\n",
      "13 14 15 16 17 18 19\n",
      "20 21 22 23 24 25 26\n",
      "27 28 29 30 31\n",
      "None\n"
     ]
    }
   ],
   "source": [
    "print(calendar.prmonth(2023, 3))"
   ]
  },
  {
   "cell_type": "code",
   "execution_count": 36,
   "id": "db547542-d3d3-4a14-a3db-63ecd81774f7",
   "metadata": {},
   "outputs": [
    {
     "name": "stdout",
     "output_type": "stream",
     "text": [
      "first day of the week is None\n"
     ]
    }
   ],
   "source": [
    "#set first day of the week as tuesday\n",
    "first_day = calendar.setfirstweekday(calendar.TUESDAY)\n",
    "print(f\"first day of the week is {first_day}\")"
   ]
  },
  {
   "cell_type": "code",
   "execution_count": 37,
   "id": "8e62ad20-7b58-4a1d-848e-e25c23b1db61",
   "metadata": {},
   "outputs": [
    {
     "name": "stdout",
     "output_type": "stream",
     "text": [
      "0\n"
     ]
    }
   ],
   "source": [
    "#return index of day. Monday is 0...\n",
    "print(calendar.weekday(2023, 3, 6))"
   ]
  },
  {
   "cell_type": "code",
   "execution_count": 43,
   "id": "2775f2e4-5c9f-47dd-a4da-1f7e3dcede34",
   "metadata": {},
   "outputs": [
    {
     "name": "stdout",
     "output_type": "stream",
     "text": [
      " ---Welcome to a Guessing game----\n",
      " #################################\n",
      "You are allowed enter any number\n",
      "The game ends when your entry matches the number in the draw\n",
      "\n"
     ]
    },
    {
     "name": "stdin",
     "output_type": "stream",
     "text": [
      "Enter a number:  5\n"
     ]
    },
    {
     "name": "stdout",
     "output_type": "stream",
     "text": [
      "You made 1 attempts\n",
      "--------------------------------\n",
      "End of the Game!\n",
      "You took 2.67 seconds to play\n"
     ]
    }
   ],
   "source": [
    "#Start time and end time (time taken)\n",
    "#show how long it takes to win a game\n",
    "\n",
    "#Guessing game - Guess -- Lottery -- random \n",
    "print(\" ---Welcome to a Guessing game----\")\n",
    "print(\" #################################\")\n",
    "print(\"You are allowed enter any number\")\n",
    "print(\"The game ends when your entry matches the number in the draw\")\n",
    "print()\n",
    "\n",
    "start_time = time.time() #starting counting in sec\n",
    "counter = 0\n",
    "\n",
    "counter = 0\n",
    "while True:\n",
    "    number = int(input('Enter a number: '))\n",
    "    counter = counter + 1\n",
    "    if number  == 5:\n",
    "        break #Note the use of break\n",
    "    print(number)\n",
    "    print()\n",
    "\n",
    "end_time = time.time() #stop counting after game ends\n",
    "    \n",
    "print(\"You made {} attempts\".format(counter))\n",
    "print(\"--------------------------------\")\n",
    "print(\"End of the Game!\")\n",
    "print(f\"You took {round(end_time-start_time, 2)} seconds to play\")"
   ]
  },
  {
   "cell_type": "raw",
   "id": "8bb75ed0-ea1f-4c59-b537-3360fe72246b",
   "metadata": {},
   "source": [
    "Lesson 14 Takeaway Task\n",
    "Python Date and Time\n",
    "6th March 2023\n",
    "1.\tCreate a program that prints numbers from 1 to 500 separated by comma using loop.  Track the time taken (in seconds) for the program to run and print it (round off to 1 decimal place).\n",
    "2.\tWrite a program that prints NON_LEAP YEARS since 2000.\n"
   ]
  },
  {
   "cell_type": "code",
   "execution_count": 46,
   "id": "0d0beb6c-2ee3-4485-a0ef-4ef92ce022b6",
   "metadata": {},
   "outputs": [
    {
     "name": "stdout",
     "output_type": "stream",
     "text": [
      "0 , 1 , 2 , 3 , 4 , 5 , 6 , 7 , 8 , 9 , 10 , 11 , 12 , 13 , 14 , 15 , 16 , 17 , 18 , 19 , 20 , 21 , 22 , 23 , 24 , 25 , 26 , 27 , 28 , 29 , 30 , 31 , 32 , 33 , 34 , 35 , 36 , 37 , 38 , 39 , 40 , 41 , 42 , 43 , 44 , 45 , 46 , 47 , 48 , 49 , 50 , 51 , 52 , 53 , 54 , 55 , 56 , 57 , 58 , 59 , 60 , 61 , 62 , 63 , 64 , 65 , 66 , 67 , 68 , 69 , 70 , 71 , 72 , 73 , 74 , 75 , 76 , 77 , 78 , 79 , 80 , 81 , 82 , 83 , 84 , 85 , 86 , 87 , 88 , 89 , 90 , 91 , 92 , 93 , 94 , 95 , 96 , 97 , 98 , 99 , 100 , 101 , 102 , 103 , 104 , 105 , 106 , 107 , 108 , 109 , 110 , 111 , 112 , 113 , 114 , 115 , 116 , 117 , 118 , 119 , 120 , 121 , 122 , 123 , 124 , 125 , 126 , 127 , 128 , 129 , 130 , 131 , 132 , 133 , 134 , 135 , 136 , 137 , 138 , 139 , 140 , 141 , 142 , 143 , 144 , 145 , 146 , 147 , 148 , 149 , 150 , 151 , 152 , 153 , 154 , 155 , 156 , 157 , 158 , 159 , 160 , 161 , 162 , 163 , 164 , 165 , 166 , 167 , 168 , 169 , 170 , 171 , 172 , 173 , 174 , 175 , 176 , 177 , 178 , 179 , 180 , 181 , 182 , 183 , 184 , 185 , 186 , 187 , 188 , 189 , 190 , 191 , 192 , 193 , 194 , 195 , 196 , 197 , 198 , 199 , 200 , 201 , 202 , 203 , 204 , 205 , 206 , 207 , 208 , 209 , 210 , 211 , 212 , 213 , 214 , 215 , 216 , 217 , 218 , 219 , 220 , 221 , 222 , 223 , 224 , 225 , 226 , 227 , 228 , 229 , 230 , 231 , 232 , 233 , 234 , 235 , 236 , 237 , 238 , 239 , 240 , 241 , 242 , 243 , 244 , 245 , 246 , 247 , 248 , 249 , 250 , 251 , 252 , 253 , 254 , 255 , 256 , 257 , 258 , 259 , 260 , 261 , 262 , 263 , 264 , 265 , 266 , 267 , 268 , 269 , 270 , 271 , 272 , 273 , 274 , 275 , 276 , 277 , 278 , 279 , 280 , 281 , 282 , 283 , 284 , 285 , 286 , 287 , 288 , 289 , 290 , 291 , 292 , 293 , 294 , 295 , 296 , 297 , 298 , 299 , 300 , 301 , 302 , 303 , 304 , 305 , 306 , 307 , 308 , 309 , 310 , 311 , 312 , 313 , 314 , 315 , 316 , 317 , 318 , 319 , 320 , 321 , 322 , 323 , 324 , 325 , 326 , 327 , 328 , 329 , 330 , 331 , 332 , 333 , 334 , 335 , 336 , 337 , 338 , 339 , 340 , 341 , 342 , 343 , 344 , 345 , 346 , 347 , 348 , 349 , 350 , 351 , 352 , 353 , 354 , 355 , 356 , 357 , 358 , 359 , 360 , 361 , 362 , 363 , 364 , 365 , 366 , 367 , 368 , 369 , 370 , 371 , 372 , 373 , 374 , 375 , 376 , 377 , 378 , 379 , 380 , 381 , 382 , 383 , 384 , 385 , 386 , 387 , 388 , 389 , 390 , 391 , 392 , 393 , 394 , 395 , 396 , 397 , 398 , 399 , 400 , 401 , 402 , 403 , 404 , 405 , 406 , 407 , 408 , 409 , 410 , 411 , 412 , 413 , 414 , 415 , 416 , 417 , 418 , 419 , 420 , 421 , 422 , 423 , 424 , 425 , 426 , 427 , 428 , 429 , 430 , 431 , 432 , 433 , 434 , 435 , 436 , 437 , 438 , 439 , 440 , 441 , 442 , 443 , 444 , 445 , 446 , 447 , 448 , 449 , 450 , 451 , 452 , 453 , 454 , 455 , 456 , 457 , 458 , 459 , 460 , 461 , 462 , 463 , 464 , 465 , 466 , 467 , 468 , 469 , 470 , 471 , 472 , 473 , 474 , 475 , 476 , 477 , 478 , 479 , 480 , 481 , 482 , 483 , 484 , 485 , 486 , 487 , 488 , 489 , 490 , 491 , 492 , 493 , 494 , 495 , 496 , 497 , 498 , 499 , \n",
      "Program to 0.0\n"
     ]
    }
   ],
   "source": [
    "#program that print 1 -500 seprated by comma. Track time taken by program, round of to 1dp\n",
    "\n",
    "start_time = time.time() #start counting\n",
    "counter = 0\n",
    "\n",
    "for i in range(500):\n",
    "    print(i, end=\" , \")\n",
    "    \n",
    "end_time = time.time() #end counting\n",
    "print()\n",
    "#time taken\n",
    "print(f\"Program to {round(end_time-start_time, 1)}\")"
   ]
  },
  {
   "cell_type": "code",
   "execution_count": 51,
   "id": "b3c544e7-9f6d-4573-b695-560f35880cc0",
   "metadata": {},
   "outputs": [
    {
     "name": "stdout",
     "output_type": "stream",
     "text": [
      "2000\n",
      "2004\n",
      "2008\n",
      "2012\n",
      "2016\n",
      "2020\n"
     ]
    }
   ],
   "source": [
    "#program that prints NON_LEAP YEARS since 2000\n",
    "\n",
    "for i in range(2000, 2023):\n",
    "    if calendar.isleap(i) == True:\n",
    "        print(i)"
   ]
  },
  {
   "cell_type": "code",
   "execution_count": null,
   "id": "4fba791e-58fb-4800-9472-834da7047b0f",
   "metadata": {},
   "outputs": [],
   "source": []
  },
  {
   "cell_type": "code",
   "execution_count": null,
   "id": "bd692603-dcf8-44fd-bc43-76cf4b0a9023",
   "metadata": {},
   "outputs": [],
   "source": []
  }
 ],
 "metadata": {
  "kernelspec": {
   "display_name": "Python 3 (ipykernel)",
   "language": "python",
   "name": "python3"
  },
  "language_info": {
   "codemirror_mode": {
    "name": "ipython",
    "version": 3
   },
   "file_extension": ".py",
   "mimetype": "text/x-python",
   "name": "python",
   "nbconvert_exporter": "python",
   "pygments_lexer": "ipython3",
   "version": "3.9.13"
  }
 },
 "nbformat": 4,
 "nbformat_minor": 5
}
