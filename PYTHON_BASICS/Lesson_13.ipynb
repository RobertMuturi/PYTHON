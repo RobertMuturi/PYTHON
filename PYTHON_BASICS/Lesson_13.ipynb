{
 "cells": [
  {
   "cell_type": "markdown",
   "id": "c82f7162-422d-46e9-9778-7d750989ed9f",
   "metadata": {},
   "source": [
    "Numeric operators -  add, subtract, divide, multiply, remainder"
   ]
  },
  {
   "cell_type": "code",
   "execution_count": 1,
   "id": "13fd6238-751b-47bd-8df6-d106712afc23",
   "metadata": {},
   "outputs": [
    {
     "name": "stdout",
     "output_type": "stream",
     "text": [
      "Addition 15\n",
      "Subtraction 5\n",
      "Mulitple 50\n",
      "Division 2.0\n"
     ]
    }
   ],
   "source": [
    "number_1 = 10\n",
    "number_2 = 5\n",
    "print(\"Addition\", number_1 + number_2)\n",
    "print(\"Subtraction\", number_1 - number_2)\n",
    "print(\"Mulitple\", number_1 * number_2)\n",
    "print(\"Division\", number_1 / number_2) #epects remainder so converts to float"
   ]
  },
  {
   "cell_type": "code",
   "execution_count": 2,
   "id": "3a42f8cb-bfd5-40a7-8c54-3eca82b65bd4",
   "metadata": {},
   "outputs": [
    {
     "name": "stdout",
     "output_type": "stream",
     "text": [
      "Division 2.8\n",
      "Floor Division 2\n"
     ]
    }
   ],
   "source": [
    "#Floor division ignores remainder\n",
    "number_1 = 14\n",
    "number_2 = 5\n",
    "print(\"Division\", number_1 / number_2)\n",
    "print(\"Floor Division\", number_1 // number_2)"
   ]
  },
  {
   "cell_type": "code",
   "execution_count": 3,
   "id": "d3bb4bda-b386-49f4-8712-f013419d16e5",
   "metadata": {},
   "outputs": [
    {
     "name": "stdout",
     "output_type": "stream",
     "text": [
      "Remainder 4\n"
     ]
    }
   ],
   "source": [
    "#remainder captured by modulus sign\n",
    "print(\"Remainder\", number_1 % number_2)"
   ]
  },
  {
   "cell_type": "code",
   "execution_count": 4,
   "id": "09f9a303-8198-4a38-b07c-4ee6fa6ded03",
   "metadata": {},
   "outputs": [
    {
     "data": {
      "text/plain": [
       "0.30000000000000004"
      ]
     },
     "execution_count": 4,
     "metadata": {},
     "output_type": "execute_result"
    }
   ],
   "source": [
    "#this is due to how python stores data\n",
    "0.1+0.2"
   ]
  },
  {
   "cell_type": "markdown",
   "id": "bcdc3802-acb9-4f4b-8d73-71cb88ca1578",
   "metadata": {},
   "source": [
    "Math functions"
   ]
  },
  {
   "cell_type": "code",
   "execution_count": 5,
   "id": "56a03ebe-b4e5-4fed-bce8-fc579a896e0c",
   "metadata": {},
   "outputs": [
    {
     "name": "stdout",
     "output_type": "stream",
     "text": [
      "round off to 2 dp:  2.46\n",
      "round off:  2\n"
     ]
    }
   ],
   "source": [
    "#round off to decimail places\n",
    "number_3 = 2.456689\n",
    "print(\"round off to 2 dp: \", round(number_3, 2))\n",
    "\n",
    "#rounding to whole number\n",
    "print(\"round off: \", round(number_3))"
   ]
  },
  {
   "cell_type": "code",
   "execution_count": 6,
   "id": "da317b8b-628a-4703-ad90-7d7c1645079b",
   "metadata": {},
   "outputs": [
    {
     "name": "stdout",
     "output_type": "stream",
     "text": [
      "Absolute 5\n"
     ]
    }
   ],
   "source": [
    "#absoulute value\n",
    "number_4 = -5\n",
    "print(\"Absolute\", abs(number_4))"
   ]
  },
  {
   "cell_type": "code",
   "execution_count": 7,
   "id": "7bdccc46-7728-4a78-a1a7-6b99a7a01a3d",
   "metadata": {},
   "outputs": [
    {
     "data": {
      "text/plain": [
       "8"
      ]
     },
     "execution_count": 7,
     "metadata": {},
     "output_type": "execute_result"
    }
   ],
   "source": [
    "#raising to power\n",
    "pow(2, 3)"
   ]
  },
  {
   "cell_type": "code",
   "execution_count": 8,
   "id": "4a3663bf-1fe3-46c7-bf59-7b72e823348f",
   "metadata": {},
   "outputs": [
    {
     "name": "stdout",
     "output_type": "stream",
     "text": [
      "0\n",
      "2\n"
     ]
    }
   ],
   "source": [
    "#modula\n",
    "print(pow(2, 3, 2)) #(2 ** 3) % 2)\n",
    "print(pow(2, 3, 3)) #(2 ** 3) % 3)"
   ]
  },
  {
   "cell_type": "code",
   "execution_count": 9,
   "id": "3ce949e4-6335-4ca6-b956-f18dbf73b793",
   "metadata": {},
   "outputs": [
    {
     "data": {
      "text/plain": [
       "'The value of n is 7.13'"
      ]
     },
     "execution_count": 9,
     "metadata": {},
     "output_type": "execute_result"
    }
   ],
   "source": [
    "n = 7.126\n",
    "f\"The value of n is {n:.2f}\"\n"
   ]
  },
  {
   "cell_type": "code",
   "execution_count": 10,
   "id": "803f1690-7922-4d98-a5f2-0f4dc3ea3103",
   "metadata": {},
   "outputs": [],
   "source": [
    "#math library\n",
    "import math "
   ]
  },
  {
   "cell_type": "code",
   "execution_count": 11,
   "id": "913a0ab4-adf7-4964-9fca-36b8a25d3797",
   "metadata": {},
   "outputs": [],
   "source": [
    "#python date time library"
   ]
  },
  {
   "cell_type": "markdown",
   "id": "b059a104-db1c-4aa3-bfb6-ab2e019631c7",
   "metadata": {},
   "source": [
    "Lesson 13 Takeaway Task\n",
    "Numbers\n",
    "3, March 2023\n",
    "Write a program that checks if:\n",
    "1. A number has remainder of 3, add it to a list called ‘remainders_of_three’. Print the list\n",
    "2. A number is even, add it to a list called ‘evens’. Print the list\n",
    "3. A number is odd, add it to a list called ‘odds’. Print the list\n",
    "\n",
    "Note: The program should check within a range of 1 to 100\n"
   ]
  },
  {
   "cell_type": "code",
   "execution_count": 23,
   "id": "7e24979b-6e71-444b-94f3-7cf498196c97",
   "metadata": {},
   "outputs": [
    {
     "name": "stdout",
     "output_type": "stream",
     "text": [
      "[] has a remainder of 3\n",
      "[0, 2, 4, 6, 8, 10, 12, 14, 16, 18, 20, 22, 24, 26, 28, 30, 32, 34, 36, 38, 40, 42, 44, 46, 48, 50, 52, 54, 56, 58, 60, 62, 64, 66, 68, 70, 72, 74, 76, 78, 80, 82, 84, 86, 88, 90, 92, 94, 96, 98] is an even number\n",
      "[1, 3, 5, 7, 9, 11, 13, 15, 17, 19, 21, 23, 25, 27, 29, 31, 33, 35, 37, 39, 41, 43, 45, 47, 49, 51, 53, 55, 57, 59, 61, 63, 65, 67, 69, 71, 73, 75, 77, 79, 81, 83, 85, 87, 89, 91, 93, 95, 97, 99] is an odd number\n"
     ]
    }
   ],
   "source": [
    "#program to check if number has a raminder of three, is even or is odd.\n",
    "remainders_of_three = []\n",
    "evens = []\n",
    "odds = []\n",
    "\n",
    "for i in range(100):\n",
    "    if i % 2 == 3:\n",
    "        remainders_of_three.append(i)\n",
    "    elif i % 2 == 0:\n",
    "        evens.append(i)  \n",
    "    elif i % 2 != 0:\n",
    "        odds.append(i)\n",
    "        \n",
    "        \n",
    "print(f\"{remainders_of_three} has a remainder of 3\")\n",
    "print(f\"{evens} is an even number\")\n",
    "print(f\"{odds} is an odd number\")"
   ]
  },
  {
   "cell_type": "code",
   "execution_count": null,
   "id": "42ebb900-3acc-4fe5-8797-2fecb7356ed5",
   "metadata": {},
   "outputs": [],
   "source": []
  }
 ],
 "metadata": {
  "kernelspec": {
   "display_name": "Python 3 (ipykernel)",
   "language": "python",
   "name": "python3"
  },
  "language_info": {
   "codemirror_mode": {
    "name": "ipython",
    "version": 3
   },
   "file_extension": ".py",
   "mimetype": "text/x-python",
   "name": "python",
   "nbconvert_exporter": "python",
   "pygments_lexer": "ipython3",
   "version": "3.9.13"
  }
 },
 "nbformat": 4,
 "nbformat_minor": 5
}
