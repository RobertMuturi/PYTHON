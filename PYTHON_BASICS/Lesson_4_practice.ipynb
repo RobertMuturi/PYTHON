{
 "cells": [
  {
   "cell_type": "code",
   "execution_count": 1,
   "id": "a7c5f02d-4997-4e0e-9f9a-6a7ab90811e6",
   "metadata": {},
   "outputs": [],
   "source": [
    "'''string operations & indexing and positon'''\n",
    "\n",
    "string_one = \"some text\"\n",
    "string_two = \"some other text\""
   ]
  },
  {
   "cell_type": "code",
   "execution_count": 2,
   "id": "2892a2c1-34ce-4f4b-a29a-07690f1b1e9f",
   "metadata": {},
   "outputs": [
    {
     "name": "stdout",
     "output_type": "stream",
     "text": [
      "first character s\n",
      "second character m\n"
     ]
    }
   ],
   "source": [
    "print(\"first character\", string_one[0])\n",
    "print(\"second character\", string_two[2])"
   ]
  },
  {
   "cell_type": "markdown",
   "id": "016e57c8-ae5f-4f60-a1a8-cc41d92b5132",
   "metadata": {},
   "source": [
    "\n",
    "positive indexing - index from start to end,\n",
    "negative indexing - index from end to start\n"
   ]
  },
  {
   "cell_type": "code",
   "execution_count": 3,
   "id": "005e6b7b-eee0-494c-a2c4-3b2984fdf3b0",
   "metadata": {},
   "outputs": [
    {
     "name": "stdout",
     "output_type": "stream",
     "text": [
      "first word in string one: some\n",
      "second word in string one: text\n"
     ]
    }
   ],
   "source": [
    "'''\n",
    "positve indexing to slice string\n",
    "variable[start:end]\n",
    "'''\n",
    "\n",
    "print(\"first word in string one:\", string_one[0:4])\n",
    "#second word\n",
    "print(\"second word in string one:\", string_one[5:9])"
   ]
  },
  {
   "cell_type": "code",
   "execution_count": 4,
   "id": "6bbe6678-0ea7-480a-a8ed-b1976bd282c3",
   "metadata": {},
   "outputs": [
    {
     "name": "stdout",
     "output_type": "stream",
     "text": [
      "last word in string one:  text\n",
      "last three letters in string one:  tex\n"
     ]
    }
   ],
   "source": [
    "#negative indexing\n",
    "print(\"last word in string one:\", string_one[-5:])\n",
    "print(\"last three letters in string one:\", string_one[-5:-1])"
   ]
  },
  {
   "cell_type": "code",
   "execution_count": 6,
   "id": "f6e925bd-90ff-4968-84f8-f5534e7971b2",
   "metadata": {},
   "outputs": [
    {
     "name": "stdout",
     "output_type": "stream",
     "text": [
      "\n",
      "string one\n",
      "string two \n",
      "string three\n",
      "\n"
     ]
    }
   ],
   "source": [
    "#multiple line string\n",
    "multi_string = \"\"\"\n",
    "string one\n",
    "string two \n",
    "string three\n",
    "\"\"\"\n",
    "\n",
    "print(multi_string)"
   ]
  },
  {
   "cell_type": "code",
   "execution_count": 7,
   "id": "c32d6e59-28e1-42c2-ba1e-7eb3cdb9be14",
   "metadata": {},
   "outputs": [
    {
     "name": "stdout",
     "output_type": "stream",
     "text": [
      "False\n",
      "True\n"
     ]
    }
   ],
   "source": [
    "#check if some strings are the same\n",
    "string_three = \"we are coding\"\n",
    "string_four = \"we are writing\"\n",
    "string_five = \"we are coding\"\n",
    "\n",
    "print(string_three == string_four)\n",
    "print(string_three == string_five)"
   ]
  },
  {
   "cell_type": "code",
   "execution_count": 9,
   "id": "8752e45c-edfc-4067-a648-253a11eadfbb",
   "metadata": {},
   "outputs": [
    {
     "name": "stdout",
     "output_type": "stream",
     "text": [
      "hello you\n"
     ]
    }
   ],
   "source": [
    "#join string\n",
    "greet = \"hello\"\n",
    "last = \" you\"\n",
    "\n",
    "result = greet + last\n",
    "print(result)"
   ]
  },
  {
   "cell_type": "code",
   "execution_count": 10,
   "id": "a9d15254-d112-472b-bdbb-7afb27a02712",
   "metadata": {},
   "outputs": [
    {
     "name": "stdout",
     "output_type": "stream",
     "text": [
      "c\n",
      "o\n",
      "d\n",
      "i\n",
      "n\n",
      "g\n"
     ]
    }
   ],
   "source": [
    "#iterating (loop through a string) extract characters and print each line by line\n",
    "string_six = \"coding\"\n",
    "\n",
    "for char in string_six:\n",
    "    print(char)"
   ]
  },
  {
   "cell_type": "code",
   "execution_count": 11,
   "id": "496d039d-8a26-4c6a-b31e-2d8891324be2",
   "metadata": {},
   "outputs": [
    {
     "name": "stdout",
     "output_type": "stream",
     "text": [
      "6\n"
     ]
    }
   ],
   "source": [
    "#count length of a string\n",
    "print(len(string_six))"
   ]
  },
  {
   "cell_type": "code",
   "execution_count": 16,
   "id": "c3faeb6a-bcb5-4689-86cf-86485504f678",
   "metadata": {},
   "outputs": [
    {
     "name": "stdin",
     "output_type": "stream",
     "text": [
      "write somthing sjjckd\n"
     ]
    },
    {
     "name": "stdout",
     "output_type": "stream",
     "text": [
      "post in the correct limit\n"
     ]
    }
   ],
   "source": [
    "#example tweet\n",
    "post = input(\"write somthing\")\n",
    "\n",
    "if len(post) > 10:\n",
    "    print(\"exceded character limit\")\n",
    "else:\n",
    "    print(\"post in the correct limit\")"
   ]
  },
  {
   "cell_type": "markdown",
   "id": "c2e7aa29-5ba6-486d-8a4c-c26589647a5d",
   "metadata": {},
   "source": [
    "EXERCISE"
   ]
  },
  {
   "cell_type": "code",
   "execution_count": 18,
   "id": "506e60fe-05fd-47f6-8eb9-00070b45fe0d",
   "metadata": {},
   "outputs": [
    {
     "name": "stdout",
     "output_type": "stream",
     "text": [
      "The number of characters is 35\n"
     ]
    },
    {
     "name": "stdin",
     "output_type": "stream",
     "text": [
      "Enter your first name:  ROBERT\n",
      "Enter the year you were born:  1950\n"
     ]
    },
    {
     "name": "stdout",
     "output_type": "stream",
     "text": [
      "Hello robert1950 You are 73\n"
     ]
    }
   ],
   "source": [
    "#String Variable\n",
    "string_one = \"Today is on Tuesday in month of February\"\n",
    "\n",
    "#counting characters from position 5\n",
    "print(\"The number of characters is\", len(string_one[5:]))\n",
    "\n",
    "#First name and birth year input\n",
    "first_name = input(\"Enter your first name: \")\n",
    "yob = input(\"Enter the year you were born: \")\n",
    "\n",
    "#generating username\n",
    "username = (first_name + yob)\n",
    "print(\"Hello\", username.lower(), \"You are\", 2023 - int(yob))"
   ]
  },
  {
   "cell_type": "code",
   "execution_count": 24,
   "id": "59c331f5-929a-4d99-af88-3cf233a7e423",
   "metadata": {},
   "outputs": [
    {
     "name": "stdout",
     "output_type": "stream",
     "text": [
      "The number of characters is 35\n"
     ]
    },
    {
     "name": "stdin",
     "output_type": "stream",
     "text": [
      "Enter your first name:  ROBERT\n",
      "Enter the year you were born:  1950\n"
     ]
    },
    {
     "name": "stdout",
     "output_type": "stream",
     "text": [
      "Hello robert1950 You are 73\n"
     ]
    }
   ],
   "source": [
    "#String Variable\n",
    "string_one = \"Today is on Tuesday in month of February\"\n",
    "\n",
    "#counting characters from position 5\n",
    "print(\"The number of characters is\", len(string_one[5:]))\n",
    "\n",
    "#First name and birth year input\n",
    "first_name = input(\"Enter your first name: \")\n",
    "yob = input(\"Enter the year you were born: \")\n",
    "\n",
    "#generating username\n",
    "username = (first_name + yob)\n",
    "print(f\"Hello {username.lower()} You are {2023 - int(yob)}\")"
   ]
  },
  {
   "cell_type": "code",
   "execution_count": null,
   "id": "e85bcb37-6867-4e2b-a1f7-62a392ec7487",
   "metadata": {},
   "outputs": [],
   "source": []
  }
 ],
 "metadata": {
  "kernelspec": {
   "display_name": "Python 3 (ipykernel)",
   "language": "python",
   "name": "python3"
  },
  "language_info": {
   "codemirror_mode": {
    "name": "ipython",
    "version": 3
   },
   "file_extension": ".py",
   "mimetype": "text/x-python",
   "name": "python",
   "nbconvert_exporter": "python",
   "pygments_lexer": "ipython3",
   "version": "3.9.13"
  }
 },
 "nbformat": 4,
 "nbformat_minor": 5
}
