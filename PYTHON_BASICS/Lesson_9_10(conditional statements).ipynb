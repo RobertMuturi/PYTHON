{
 "cells": [
  {
   "cell_type": "markdown",
   "id": "7d6783e7-7a40-402d-8259-0188f02141fb",
   "metadata": {},
   "source": [
    "CONDITIONAL STATEMENTS"
   ]
  },
  {
   "cell_type": "code",
   "execution_count": null,
   "id": "69e2a26c-89e8-44ad-9d13-695c1057ecaf",
   "metadata": {},
   "outputs": [],
   "source": [
    "age = int(input(\"Enter your age: \"))\n",
    "\n",
    "if age > 18:\n",
    "    print(\"An adult...\")"
   ]
  },
  {
   "cell_type": "code",
   "execution_count": null,
   "id": "2fc8bf21-5199-4c6c-a4b5-95cfbc85041a",
   "metadata": {},
   "outputs": [],
   "source": [
    "age = int(input(\"Enter your age: \"))\n",
    "\n",
    "if age > 18:\n",
    "    print(\"This is an adult...\")\n",
    "else:\n",
    "    print(\"This is a young person\")"
   ]
  },
  {
   "cell_type": "code",
   "execution_count": null,
   "id": "1077649b-182e-48cf-a010-66e3ea4bb796",
   "metadata": {},
   "outputs": [],
   "source": [
    "age = int(input(\"Enter your age: \"))\n",
    "\n",
    "if age < 0:\n",
    "    print(\"Negative age does not exist\")\n",
    "elif age <= 12: #else if\n",
    "    print(\"This is a child\")\n",
    "elif age <= 19: #else if\n",
    "    print(\"This is a teenager\")\n",
    "else:\n",
    "    print(\"The person is an adult...\")"
   ]
  },
  {
   "cell_type": "code",
   "execution_count": null,
   "id": "9180d72c-0e4d-427a-ab63-f97fac4f14da",
   "metadata": {},
   "outputs": [],
   "source": [
    "password = 2023\n",
    "passwd = int(input(\"Enter your password: \"))\n",
    "\n",
    "if passwd == password:\n",
    "    print(\"The password is correct...\")\n",
    "else:\n",
    "    print(\"You entered the wrong password!\")"
   ]
  },
  {
   "cell_type": "code",
   "execution_count": 7,
   "id": "0069e5da-48cf-48b8-9df9-b63c3e204122",
   "metadata": {},
   "outputs": [
    {
     "name": "stdin",
     "output_type": "stream",
     "text": [
      "How is the weather? hot\n"
     ]
    },
    {
     "name": "stdout",
     "output_type": "stream",
     "text": [
      "wear light clothing\n"
     ]
    }
   ],
   "source": [
    "weather_condition = [\"cold\", \"hot\", \"warm\"]\n",
    "choice= input(\"How is the weather?\")\n",
    "\n",
    "#for condition in weather_conditions:\n",
    "if choice == \"cold\":\n",
    "    print(\"Wear heavy clothing\")\n",
    "elif choice == \"hot\":\n",
    "    print(\"wear light clothing\")\n",
    "else:\n",
    "    print(\"Minimail clothing\")\n",
    "        "
   ]
  },
  {
   "cell_type": "code",
   "execution_count": 4,
   "id": "ba588d95-7bd1-478e-b370-c15f996408ef",
   "metadata": {},
   "outputs": [
    {
     "name": "stdout",
     "output_type": "stream",
     "text": [
      "How is the weather today?\n",
      "1. Cold\n",
      "1. Hot\n",
      "1. Warm\n"
     ]
    },
    {
     "name": "stdin",
     "output_type": "stream",
     "text": [
      "enter your choice 1\n"
     ]
    },
    {
     "name": "stdout",
     "output_type": "stream",
     "text": [
      "Wear heavy clothing\n"
     ]
    }
   ],
   "source": [
    "print(\"How is the weather today?\")\n",
    "print(\"1. Cold\")\n",
    "print(\"1. Hot\")\n",
    "print(\"1. Warm\")\n",
    "\n",
    "choice = int(input(\"enter your choice: \"))\n",
    "if choice == 1:\n",
    "    print(\"Wear heavy clothing\")\n",
    "elif choice == 2:\n",
    "    print(\"wear light clothing\")\n",
    "else:\n",
    "    print(\"Minimail clothing\")"
   ]
  },
  {
   "cell_type": "code",
   "execution_count": 9,
   "id": "f2dd9d93-a76a-4ab4-9194-b458ca212e70",
   "metadata": {},
   "outputs": [
    {
     "name": "stdout",
     "output_type": "stream",
     "text": [
      "the person is not male\n"
     ]
    }
   ],
   "source": [
    "#nested conditionals statements = if(if -- if) else\n",
    "age = 20\n",
    "gender = \"female\"\n",
    "city = \"nairobi\"\n",
    "\n",
    "if age > 18:\n",
    "    if gender == \"male\":\n",
    "        if city == \"nairobi\":\n",
    "            print(\"this is male adult is living in nairobi\")\n",
    "        else:\n",
    "            print(\"this is male doesnt live in nairobi\")\n",
    "    else:\n",
    "        print(\"the person is not male\")\n",
    "else:\n",
    "    print(\"the person is not above 18\")\n",
    "    "
   ]
  },
  {
   "cell_type": "markdown",
   "id": "c6fc9730-b67d-41be-91ef-a3cd13e464fe",
   "metadata": {},
   "source": [
    "Take Away Task"
   ]
  },
  {
   "cell_type": "code",
   "execution_count": 26,
   "id": "0171e612-a814-4f1a-97e5-4973182cedf0",
   "metadata": {},
   "outputs": [
    {
     "name": "stdin",
     "output_type": "stream",
     "text": [
      "Are you from the main campus? Yes or No? no\n",
      "Are you from the school of Engineering? Yes or No? yes\n",
      "Are you studying calculus? Yes or No? yes\n"
     ]
    },
    {
     "name": "stdout",
     "output_type": "stream",
     "text": [
      "This student is not from the main campus\n"
     ]
    }
   ],
   "source": [
    "#Nested conditional Statement on Student in JKUAT\n",
    "\n",
    "campus = input(\"Are you from the main campus? Yes or No? \")\n",
    "school = input(\"Are you from the school of Engineering? Yes or No? \")\n",
    "calculus = input(\"Are you studying calculus? Yes or No? \")\n",
    "\n",
    "if campus == \"yes\":\n",
    "    if school == \"yes\":\n",
    "        if calculus == \"yes\":\n",
    "            print(\"This student is in the school of Eng. at the main campus studying calculus\")\n",
    "        else:\n",
    "            print(\"This student is in the school of Eng. at the main campus but not studying calculus\")\n",
    "    else:\n",
    "        print(\"This student is from the main campus but not from the school of Engineering\")\n",
    "else:\n",
    "    print(\"This student is not from the main campus\")"
   ]
  },
  {
   "cell_type": "markdown",
   "id": "776e06eb-40b1-4604-ac1c-e237f3d0d984",
   "metadata": {},
   "source": [
    "USING AND / OR"
   ]
  },
  {
   "cell_type": "code",
   "execution_count": 3,
   "id": "ea446453-59a7-4f66-bec1-3b9787d03988",
   "metadata": {},
   "outputs": [
    {
     "name": "stdout",
     "output_type": "stream",
     "text": [
      "not qualified\n"
     ]
    }
   ],
   "source": [
    "math = 40\n",
    "eng = 40\n",
    "\n",
    "if eng > 60 and math > 60:\n",
    "    print(\"qualified to join course\")\n",
    "else:\n",
    "    print(\"not qualified\")"
   ]
  },
  {
   "cell_type": "code",
   "execution_count": 4,
   "id": "265f33de-183e-45e8-a1d9-1be5c184b8c6",
   "metadata": {},
   "outputs": [
    {
     "name": "stdout",
     "output_type": "stream",
     "text": [
      "Qualified\n"
     ]
    }
   ],
   "source": [
    "math = 70\n",
    "eng = 40\n",
    "\n",
    "if eng > 60 or math >60:\n",
    "    print(\"Qualified\")\n",
    "else:\n",
    "    print(\"Not qualified\")"
   ]
  },
  {
   "cell_type": "code",
   "execution_count": 5,
   "id": "d7836edf-8af1-4bd9-bdfe-42fcfab35a43",
   "metadata": {},
   "outputs": [],
   "source": [
    "#Pass statement -- used when you want to leave some codeblock blank\n",
    "student_marks = 40\n",
    "\n",
    "if student_marks >50:\n",
    "    pass   \n",
    "else:\n",
    "    pass"
   ]
  }
 ],
 "metadata": {
  "kernelspec": {
   "display_name": "Python 3 (ipykernel)",
   "language": "python",
   "name": "python3"
  },
  "language_info": {
   "codemirror_mode": {
    "name": "ipython",
    "version": 3
   },
   "file_extension": ".py",
   "mimetype": "text/x-python",
   "name": "python",
   "nbconvert_exporter": "python",
   "pygments_lexer": "ipython3",
   "version": "3.9.13"
  }
 },
 "nbformat": 4,
 "nbformat_minor": 5
}
