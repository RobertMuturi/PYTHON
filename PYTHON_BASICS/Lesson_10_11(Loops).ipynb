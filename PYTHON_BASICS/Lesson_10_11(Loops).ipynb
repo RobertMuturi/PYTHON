{
 "cells": [
  {
   "cell_type": "markdown",
   "id": "979186f6-fa8a-43d4-99fb-1982b1ab7027",
   "metadata": {},
   "source": [
    "LOOPS & ITERATION\n",
    "for loops and while loops"
   ]
  },
  {
   "cell_type": "code",
   "execution_count": 1,
   "id": "16e7df79-9e93-4c0d-ba25-3f9b1051fcc7",
   "metadata": {},
   "outputs": [
    {
     "name": "stdout",
     "output_type": "stream",
     "text": [
      "5\n",
      "4\n",
      "3\n",
      "2\n",
      "1\n",
      "Blastoff\n",
      "0\n"
     ]
    }
   ],
   "source": [
    "#while loop\n",
    "num = 5\n",
    "while num > 0:\n",
    "    print(num)\n",
    "    num = num - 1\n",
    "print(\"Blastoff\")\n",
    "print(num)"
   ]
  },
  {
   "cell_type": "code",
   "execution_count": 2,
   "id": "70dddf4a-a64a-4713-88ad-a6cfd37bb57f",
   "metadata": {},
   "outputs": [
    {
     "name": "stdout",
     "output_type": "stream",
     "text": [
      "5\n",
      "4\n",
      "3\n",
      "2\n",
      "1\n",
      "Nothing more to count\n",
      "0\n"
     ]
    }
   ],
   "source": [
    "count = 5\n",
    "while count > 0:\n",
    "    print(count)\n",
    "    count = count - 1\n",
    "print(\"Nothing more to count\")\n",
    "print(num)"
   ]
  },
  {
   "cell_type": "raw",
   "id": "4ec239e7-de45-4412-b8ef-88c5dae0c88d",
   "metadata": {},
   "source": [
    "Two types of loops\n",
    "finite loop - has an end\n",
    "infinite loop - doesnt have an end\n",
    "the above are finite"
   ]
  },
  {
   "cell_type": "raw",
   "id": "801c3be8-8189-458f-a5fa-9f48abc5307e",
   "metadata": {},
   "source": [
    "#infinite loop\n",
    "count = 5\n",
    "while count > 0:\n",
    "    print(\"counting\")\n",
    "print(\"call off\")"
   ]
  },
  {
   "cell_type": "code",
   "execution_count": null,
   "id": "a02d6c86-d6b2-4800-81b2-42bdaf808071",
   "metadata": {},
   "outputs": [
    {
     "name": "stdin",
     "output_type": "stream",
     "text": [
      "> mer\n",
      "> so\n",
      "> donr\n",
      "> done\n"
     ]
    }
   ],
   "source": [
    "#break statement ends current loop and start again until condition is met\n",
    "while True:\n",
    "    line = input('>')\n",
    "    if line == \"done\":\n",
    "        break\n",
    "    print(line)\n",
    "print(\"done\")"
   ]
  },
  {
   "cell_type": "code",
   "execution_count": null,
   "id": "8a9d1592-813e-474f-84ae-9c7a7d79cce8",
   "metadata": {},
   "outputs": [],
   "source": [
    "#guessing game\n",
    "correct_number = 27\n",
    "\n",
    "print('''Welcome to a guessing game, \\n \n",
    "    You are allowed to enter number till it matches with the correct one''')\n",
    "counter = 0\n",
    "while True:\n",
    "    number = int(input(\"Enter a number: \"))\n",
    "    counter = counter + 1\n",
    "    if number == 5:\n",
    "        break\n",
    "    print(number)\n",
    "print(\"You made () attempts\".format(counter))\n",
    "print('End of the game')"
   ]
  },
  {
   "cell_type": "code",
   "execution_count": 13,
   "id": "a6333900-b362-49ea-8be6-4b99667fa99c",
   "metadata": {},
   "outputs": [
    {
     "name": "stdin",
     "output_type": "stream",
     "text": [
      ">  df\n"
     ]
    },
    {
     "name": "stdout",
     "output_type": "stream",
     "text": [
      "df\n"
     ]
    },
    {
     "name": "stdin",
     "output_type": "stream",
     "text": [
      ">  df\n"
     ]
    },
    {
     "name": "stdout",
     "output_type": "stream",
     "text": [
      "df\n"
     ]
    },
    {
     "name": "stdin",
     "output_type": "stream",
     "text": [
      ">  df\n"
     ]
    },
    {
     "name": "stdout",
     "output_type": "stream",
     "text": [
      "df\n"
     ]
    },
    {
     "name": "stdin",
     "output_type": "stream",
     "text": [
      ">  df\n"
     ]
    },
    {
     "name": "stdout",
     "output_type": "stream",
     "text": [
      "df\n"
     ]
    },
    {
     "name": "stdin",
     "output_type": "stream",
     "text": [
      ">  #\n",
      ">  done\n"
     ]
    },
    {
     "name": "stdout",
     "output_type": "stream",
     "text": [
      "Done\n"
     ]
    }
   ],
   "source": [
    "#continue statement ends current iteration and jumps to the top of the loop\n",
    "while True:\n",
    "    line = input(\"> \")\n",
    "    if line[0] == \"#\":\n",
    "        continue\n",
    "    if line == \"done\":\n",
    "        break\n",
    "    print(line)\n",
    "print(\"Done\")"
   ]
  },
  {
   "cell_type": "raw",
   "id": "218b5ab5-daee-44bb-b61d-ea76d8565a20",
   "metadata": {},
   "source": [
    "Lesson 10 Takeaway\n",
    "Python Conditional Statements (and/or) / While Loops\n",
    "28th February 2023\n",
    "1.\tWrite a simple program to get user input checking if a user is employed and earns over KSh. 10,000 (if so, they are eligible for taxation) – include the else statements.\n",
    "2.\tWrite simple if – else statement with the pass statement(s) \n",
    "3.\tWrite a program that checks for password provided by a user against a certain stored (correct) password. The program should continue if the user starts password with either $, % or #. The program should break and pass executive to the final statement if the user enters the correct password\n"
   ]
  },
  {
   "cell_type": "code",
   "execution_count": 5,
   "id": "de37a0c2-0e66-4565-adee-a5dad88ce231",
   "metadata": {},
   "outputs": [
    {
     "name": "stdout",
     "output_type": "stream",
     "text": [
      "To answer the questions below, please use \n",
      " 1 for Yes \n",
      " 2 for no\n"
     ]
    },
    {
     "name": "stdin",
     "output_type": "stream",
     "text": [
      "Are you employed?  1\n",
      "Are you earning over Ksh 10,000?  2\n"
     ]
    },
    {
     "name": "stdout",
     "output_type": "stream",
     "text": [
      "You are not eligible for taxation\n"
     ]
    }
   ],
   "source": [
    "#program to check employment and earnings\n",
    "\n",
    "print(\"To answer the questions below, please use \\n 1 for Yes \\n 2 for no\")\n",
    "      \n",
    "employed = int(input(\"Are you employed? \"))\n",
    "earning = int(input(\"Are you earning over Ksh 10,000? \"))\n",
    "\n",
    "if employed == 1 and earning == 1:\n",
    "    print(\"You are eligible for taxation\")\n",
    "else:\n",
    "    print(\"You are not eligible for taxation\")"
   ]
  },
  {
   "cell_type": "code",
   "execution_count": 9,
   "id": "55a12433-1361-40c8-b1bf-39d29cbbd8ed",
   "metadata": {},
   "outputs": [],
   "source": [
    "#else - if statement with pass statement\n",
    "earning = 20000\n",
    "\n",
    "if earning > 10000:\n",
    "    pass\n",
    "else:\n",
    "    pass"
   ]
  },
  {
   "cell_type": "code",
   "execution_count": 17,
   "id": "ca187d21-2e17-45e6-8d9c-2c46e876a667",
   "metadata": {},
   "outputs": [
    {
     "name": "stdin",
     "output_type": "stream",
     "text": [
      "Enter password:  #python\n"
     ]
    },
    {
     "name": "stdout",
     "output_type": "stream",
     "text": [
      "First character correct.\n",
      "Correct password\n",
      "Logged in\n"
     ]
    }
   ],
   "source": [
    "#program to check stored password against user input\n",
    "\n",
    "while True:\n",
    "    password = input(\"Enter password: \")\n",
    "    if password[0] == \"#\" or password[0] == \"$\" or password[0] == \"%\":\n",
    "        print(\"First character correct.\")\n",
    "    else:\n",
    "        print(\"First character wrong.\")\n",
    "        continue\n",
    "    if password == \"#python\" or password == \"$python\" or password == \"%python\":\n",
    "        print(\"Correct password\")\n",
    "        break\n",
    "    else:\n",
    "        print(\"Wrong password\")\n",
    "    print(password)#\n",
    "    \n",
    "            \n",
    "print(\"Logged in\")"
   ]
  },
  {
   "cell_type": "code",
   "execution_count": 3,
   "id": "957943d0-b0e5-4b73-aea7-b5bf759826c1",
   "metadata": {},
   "outputs": [
    {
     "name": "stdout",
     "output_type": "stream",
     "text": [
      "Number:  1\n",
      "Number:  2\n",
      "Number:  3\n",
      "Number:  4\n",
      "Number:  5\n",
      "End of program\n"
     ]
    }
   ],
   "source": [
    "#definie loops - Defined set of items (items in a list, tuple, dict, set -- str characters)\n",
    "\n",
    "for number in [1, 2, 3, 4, 5]:\n",
    "    print(\"Number: \", number)\n",
    "print(\"End of program\")"
   ]
  },
  {
   "cell_type": "code",
   "execution_count": 4,
   "id": "3821f70c-2342-4797-8304-4c30377cd83e",
   "metadata": {},
   "outputs": [
    {
     "name": "stdout",
     "output_type": "stream",
     "text": [
      "Hey --Robin--, let's meet at 6pm.\n",
      "Hey --Robert--, let's meet at 6pm.\n",
      "Hey --Priscah--, let's meet at 6pm.\n",
      "Hey --Adrian--, let's meet at 6pm.\n",
      "Hey --Tyson--, let's meet at 6pm.\n",
      "Message sent!\n"
     ]
    }
   ],
   "source": [
    "#Iterate a list\n",
    "my_contacts = [\"Robin\", \"Robert\", \"Priscah\", \"Adrian\", \"Tyson\"]\n",
    "for every_contact in my_contacts:\n",
    "    print(\"Hey --{}--, let's meet at 6pm.\".format(every_contact))\n",
    "print(\"Message sent!\")"
   ]
  },
  {
   "cell_type": "code",
   "execution_count": 6,
   "id": "8656b6a2-7570-4581-ae25-ebb5cb6f6428",
   "metadata": {},
   "outputs": [
    {
     "name": "stdout",
     "output_type": "stream",
     "text": [
      "Hey Robin, let's meet at 6pm.\n",
      "Hey Robert, let's meet at 6pm.\n",
      "Hey Priscah, let's meet at 6pm.\n",
      "Hey Adrian, let's meet at 6pm.\n",
      "Hey Tyson, let's meet at 6pm.\n",
      "Message sent!\n"
     ]
    }
   ],
   "source": [
    "#Iterate a list\n",
    "my_contacts = [\"Robin\", \"Robert\", \"Priscah\", \"Adrian\", \"Tyson\"]\n",
    "for every_contact in my_contacts:\n",
    "    print(f\"Hey {every_contact}, let's meet at 6pm.\")\n",
    "print(\"Message sent!\")"
   ]
  },
  {
   "cell_type": "code",
   "execution_count": 7,
   "id": "8fa27ce2-e5ba-4624-b231-4de291264407",
   "metadata": {},
   "outputs": [
    {
     "name": "stdout",
     "output_type": "stream",
     "text": [
      "Largest number:  12\n",
      "Largest number:  12\n",
      "Largest number:  45\n",
      "Largest number:  45\n",
      "Largest number:  45\n",
      "Largest number:  66\n",
      "Largest number:  66\n",
      "Largest number:  101\n",
      "\n",
      "Largest number:  101\n"
     ]
    }
   ],
   "source": [
    "#Check the largest number\n",
    "largest_number = -1\n",
    "list_of_numbers = [12, 2, 45, 4, 9, 66, 13, 101]\n",
    "\n",
    "for number in list_of_numbers:\n",
    "    if number > largest_number:\n",
    "        largest_number = number\n",
    "    print(\"Largest number: \", largest_number)\n",
    "print()\n",
    "print(\"Largest number: \", largest_number)"
   ]
  },
  {
   "cell_type": "code",
   "execution_count": 8,
   "id": "66ff8fe2-bc1c-441a-ae98-9930bfceb91a",
   "metadata": {},
   "outputs": [
    {
     "name": "stdout",
     "output_type": "stream",
     "text": [
      "Count Tails 1 : Tail \n",
      "Count Heads 1 : Head \n",
      "Count Heads 2 : Head \n",
      "Count Heads 3 : Head \n",
      "Count Tails 2 : Tail \n",
      "Count Tails 3 : Tail \n",
      "Count Heads 4 : Head \n",
      "Count Tails 4 : Tail \n",
      "Count Tails 5 : Tail \n",
      "\n",
      "Total Head Tosses:  4\n",
      "Total Tail Tosses:  5\n"
     ]
    }
   ],
   "source": [
    "#counting in a loop\n",
    "#Count number of executions\n",
    "coin_tosses = [\"Tail\", \"Head\", \"Head\", \"Head\", \"Tail\", \"Tail\", \"Head\",\"Tail\", \"Tail\"]\n",
    "counter_tail = 0\n",
    "counter_head = 0\n",
    "\n",
    "for toss in coin_tosses:\n",
    "    if toss == \"Tail\":\n",
    "        counter_tail = counter_tail + 1\n",
    "        print(\"Count Tails {} : {} \".format(counter_tail, toss))\n",
    "    else:\n",
    "        counter_head = counter_head + 1\n",
    "        print(\"Count Heads {} : {} \".format(counter_head, toss))\n",
    "print()\n",
    "print(\"Total Head Tosses: \", counter_head)\n",
    "print(\"Total Tail Tosses: \", counter_tail)"
   ]
  },
  {
   "cell_type": "code",
   "execution_count": 11,
   "id": "8a2b6534-d719-4adf-ac4a-d3d0b920c9f8",
   "metadata": {},
   "outputs": [
    {
     "name": "stdout",
     "output_type": "stream",
     "text": [
      "Total:  200\n",
      "Total:  1500\n",
      "Total:  1600\n",
      "Total:  2050\n",
      "Total:  3250\n",
      "Total:  4150\n",
      "\n",
      "Total sales:  4150\n",
      "Average sales:  691.6666666666666\n"
     ]
    }
   ],
   "source": [
    "#Customer sales -- amount\n",
    "sales_amount = [200, 1300, 100, 450, 1200, 900]\n",
    "total_sales = 0\n",
    "#count = 0\n",
    "\n",
    "for amount in sales_amount:\n",
    "    total_sales = total_sales + amount\n",
    "    print(\"Total: \", total_sales)\n",
    "    #count  = count + 1\n",
    "\n",
    "print()\n",
    "print(\"Total sales: \", total_sales)\n",
    "print(\"Average sales: \", total_sales/len(sales_amount))"
   ]
  },
  {
   "cell_type": "code",
   "execution_count": 12,
   "id": "feba7607-8cc8-4a02-beb4-6dce8ef1e133",
   "metadata": {},
   "outputs": [
    {
     "name": "stdout",
     "output_type": "stream",
     "text": [
      "False Adrian\n",
      "False Robin\n",
      "Name found!\n",
      "Search status:  True\n"
     ]
    }
   ],
   "source": [
    "#Search an item\n",
    "names = [\"Adrian\", \"Robin\", \"Tyson\", \"Priscah\", \"Robert\"]\n",
    "found = False\n",
    "                                         \n",
    "for name in names:\n",
    "    if name == \"Tyson\":\n",
    "        found = True\n",
    "        print(\"Name found!\")\n",
    "        break #If searching only one entry\n",
    "    print(found, name)\n",
    "print(\"Search status: \", found)"
   ]
  },
  {
   "cell_type": "code",
   "execution_count": 14,
   "id": "dfe72640-d283-4b39-9fd6-552f221e18a8",
   "metadata": {},
   "outputs": [
    {
     "name": "stdout",
     "output_type": "stream",
     "text": [
      "Smallest number:  12\n",
      "Smallest number:  12\n",
      "Smallest number:  4\n",
      "Smallest number:  4\n",
      "Smallest number:  4\n",
      "Smallest number:  2\n",
      "Smallest number:  2\n",
      "Smallest number:  2\n",
      "\n",
      "Smallest number:  2\n"
     ]
    }
   ],
   "source": [
    "#Check the Smallest number\n",
    "smallest_number = None\n",
    "list_of_numbers = [12, 45, 4, 9, 66, 2, 13, 101]\n",
    "\n",
    "for number in list_of_numbers:\n",
    "    if smallest_number is None:\n",
    "        smallest_number = number\n",
    "    elif number < smallest_number:\n",
    "        smallest_number = number\n",
    "    print(\"Smallest number: \", smallest_number)\n",
    "print()\n",
    "print(\"Smallest number: \", smallest_number)"
   ]
  },
  {
   "cell_type": "code",
   "execution_count": 15,
   "id": "ff5fe3e3-b14c-4d8a-8eba-4a38b364801a",
   "metadata": {},
   "outputs": [
    {
     "name": "stdout",
     "output_type": "stream",
     "text": [
      "Smallest number:  12\n",
      "Smallest number:  45\n",
      "Smallest number:  45\n",
      "Smallest number:  45\n",
      "Smallest number:  66\n",
      "Smallest number:  66\n",
      "Smallest number:  66\n",
      "Smallest number:  101\n",
      "\n",
      "Smallest number:  101\n"
     ]
    }
   ],
   "source": [
    "#check the largest number\n",
    "largest_number = None\n",
    "list_of_numbers = [12, 45, 4, 9, 66, 2, 13, 101]\n",
    "\n",
    "for number in list_of_numbers:\n",
    "    if largest_number is None:\n",
    "        largest_number = number\n",
    "    elif number > largest_number:\n",
    "        largest_number = number\n",
    "    print(\"Smallest number: \", largest_number)\n",
    "print()\n",
    "print(\"Smallest number: \", largest_number)"
   ]
  },
  {
   "cell_type": "raw",
   "id": "fa4b3349-a4e8-47f9-872a-60684e4ca134",
   "metadata": {},
   "source": [
    "Lesson 11 Takeaway Task\n",
    "Python Loops\n",
    "March 1, 2023\n",
    "1.\tCreate list of 5 marks of students (5 entries)\n",
    "a.\tFind the highest mark scored\n",
    "b.\tFind the smallest mark scored\n",
    "c.\tFind the average mark\n",
    "d.\tCount the number of occurrences for marks above 50 and below 50 and print the counts, and for marks above 50 and below 50 print “pass” and “fail respectively.\n"
   ]
  },
  {
   "cell_type": "code",
   "execution_count": 18,
   "id": "a64b616c-917c-44aa-a721-d0f163e182fd",
   "metadata": {},
   "outputs": [
    {
     "name": "stdout",
     "output_type": "stream",
     "text": [
      "The highest mark is 43\n",
      "The highest mark is 70\n",
      "The highest mark is 70\n",
      "The highest mark is 91\n",
      "The highest mark is 91\n"
     ]
    }
   ],
   "source": [
    "#create a list 5 marks\n",
    "exam_marks = [43, 70, 51, 91, 32]\n",
    "\n",
    "highest_mark = None\n",
    "lowest_mark = None\n",
    "\n",
    "#Find the highest mark\n",
    "for marks in exam_marks:\n",
    "    if highest_mark is None:\n",
    "        highest_mark = marks\n",
    "    elif highest_mark < marks:\n",
    "        highest_mark = marks\n",
    "    print(\"The highest mark is\", highest_mark)"
   ]
  },
  {
   "cell_type": "code",
   "execution_count": 19,
   "id": "85662aa7-393f-4306-8fae-eab0910d58df",
   "metadata": {},
   "outputs": [
    {
     "name": "stdout",
     "output_type": "stream",
     "text": [
      "The lowest mark is 43\n",
      "The lowest mark is 43\n",
      "The lowest mark is 43\n",
      "The lowest mark is 43\n",
      "The lowest mark is 32\n"
     ]
    }
   ],
   "source": [
    "#find the lowest mark\n",
    "for marks in exam_marks:    \n",
    "    if lowest_mark is None:\n",
    "        lowest_mark = marks\n",
    "    elif lowest_mark > marks:\n",
    "        lowest_mark = marks\n",
    "    print(\"The lowest mark is\", lowest_mark)"
   ]
  },
  {
   "cell_type": "code",
   "execution_count": 20,
   "id": "b83c3eae-284e-4b20-84bd-4ac7586237ab",
   "metadata": {},
   "outputs": [
    {
     "name": "stdout",
     "output_type": "stream",
     "text": [
      "The total marks are: 287\n",
      "The average marks are: 57.4\n"
     ]
    }
   ],
   "source": [
    "#find the average mark\n",
    "count = 0\n",
    "total = 0\n",
    "\n",
    "for mark in exam_marks:\n",
    "    count = count + 1\n",
    "    total = total + mark\n",
    "print(\"The total marks are:\", total)\n",
    "print(\"The average marks are:\", total / count)"
   ]
  },
  {
   "cell_type": "code",
   "execution_count": 21,
   "id": "92f3c515-25db-4d5e-9250-a57e980854fd",
   "metadata": {},
   "outputs": [
    {
     "name": "stdout",
     "output_type": "stream",
     "text": [
      "Marks below 50 are: 2\n",
      "Marks above 50 are: 3\n",
      "\n"
     ]
    }
   ],
   "source": [
    "#count the marks above and below 50\n",
    "above_50 = 0\n",
    "below_50 = 0\n",
    "\n",
    "for mark in exam_marks:\n",
    "    if mark < 50:\n",
    "        below_50 = below_50 + 1\n",
    "    else:\n",
    "        above_50 = above_50 + 1\n",
    "print(\"Marks below 50 are:\", below_50)\n",
    "print(\"Marks above 50 are:\", above_50)\n",
    "print()"
   ]
  },
  {
   "cell_type": "code",
   "execution_count": 22,
   "id": "c795e63a-d4c6-4ca0-a96c-c7d9b726560f",
   "metadata": {},
   "outputs": [
    {
     "name": "stdout",
     "output_type": "stream",
     "text": [
      "43 Fail\n",
      "70 Pass\n",
      "51 Pass\n",
      "91 Pass\n",
      "32 Fail\n"
     ]
    }
   ],
   "source": [
    "#print pass or fail to the mark\n",
    "for mark in exam_marks:\n",
    "    if mark > 50:\n",
    "        print(mark, \"Pass\")\n",
    "    else:\n",
    "        print(mark, \"Fail\")"
   ]
  },
  {
   "cell_type": "code",
   "execution_count": null,
   "id": "50ca6f47-4156-4ec8-b59c-f35e7c60e9e6",
   "metadata": {},
   "outputs": [],
   "source": []
  }
 ],
 "metadata": {
  "kernelspec": {
   "display_name": "Python 3 (ipykernel)",
   "language": "python",
   "name": "python3"
  },
  "language_info": {
   "codemirror_mode": {
    "name": "ipython",
    "version": 3
   },
   "file_extension": ".py",
   "mimetype": "text/x-python",
   "name": "python",
   "nbconvert_exporter": "python",
   "pygments_lexer": "ipython3",
   "version": "3.9.13"
  }
 },
 "nbformat": 4,
 "nbformat_minor": 5
}
