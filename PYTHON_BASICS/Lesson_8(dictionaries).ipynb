{
 "cells": [
  {
   "cell_type": "markdown",
   "id": "e6a7fcef-2ee5-47ad-87b6-226f42e1cb18",
   "metadata": {},
   "source": [
    "DICTIONARIES"
   ]
  },
  {
   "cell_type": "markdown",
   "id": "bf3d3e3f-7417-46af-a9e8-4ffcbb4ebb93",
   "metadata": {},
   "source": [
    "An ordered collection storing elements in key/value pairs"
   ]
  },
  {
   "cell_type": "code",
   "execution_count": 1,
   "id": "b4f99684-d207-4958-8582-cc66bd21cdbf",
   "metadata": {},
   "outputs": [
    {
     "name": "stdout",
     "output_type": "stream",
     "text": [
      "{'Kenya': 'Nairobi', 'Uganda': 'Kampala', 'Tanzania': 'Dar es salaam'}\n"
     ]
    }
   ],
   "source": [
    "#representing a dictionary\n",
    "#dict_format = {key:value, key:value, key:value}\n",
    "countries = {\"Kenya\":\"Nairobi\", \"Uganda\":\"Kampala\", \"Tanzania\":\"Dar es salaam\"}\n",
    "print(countries)"
   ]
  },
  {
   "cell_type": "code",
   "execution_count": 2,
   "id": "f7dbc271-72e8-4800-862f-ee8a8f12ad1e",
   "metadata": {},
   "outputs": [
    {
     "name": "stdout",
     "output_type": "stream",
     "text": [
      "Capital city of Kenya:  Nairobi\n",
      "Kampala\n",
      "Dar es salaam\n"
     ]
    }
   ],
   "source": [
    "#retrieving specific item\n",
    "print(\"Capital city of Kenya: \", countries[\"Kenya\"])\n",
    "print(countries[\"Uganda\"])\n",
    "print(countries[\"Tanzania\"])"
   ]
  },
  {
   "cell_type": "code",
   "execution_count": 3,
   "id": "32d9a042-0201-44da-91a1-aaff96a2c621",
   "metadata": {},
   "outputs": [
    {
     "name": "stdout",
     "output_type": "stream",
     "text": [
      "{'Kenya': 'Nairobi', 'Uganda': 'Kampala', 'Tanzania': 'Dar es salaam', 'Ethiopia': 'Addis Ababa'}\n"
     ]
    }
   ],
   "source": [
    "#adding elements\n",
    "countries[\"Ethiopia\"] = \"Addis Ababa\"\n",
    "print(countries)"
   ]
  },
  {
   "cell_type": "code",
   "execution_count": 4,
   "id": "e96b7c18-4346-484d-be8a-98234945c867",
   "metadata": {},
   "outputs": [
    {
     "name": "stdout",
     "output_type": "stream",
     "text": [
      "{'Kenya': 'Mombasa', 'Uganda': 'Kampala', 'Tanzania': 'Dar es salaam', 'Ethiopia': 'Addis Ababa'}\n"
     ]
    }
   ],
   "source": [
    "#Change value\n",
    "countries[\"Kenya\"] = \"Mombasa\"\n",
    "print(countries)"
   ]
  },
  {
   "cell_type": "code",
   "execution_count": 5,
   "id": "67a035e2-fa7a-432a-93cd-a51a8b4ffbed",
   "metadata": {},
   "outputs": [
    {
     "name": "stdout",
     "output_type": "stream",
     "text": [
      "{'Kenya': 'Mombasa', 'Tanzania': 'Dar es salaam', 'Ethiopia': 'Addis Ababa'}\n"
     ]
    }
   ],
   "source": [
    "#removing elements\n",
    "del countries[\"Uganda\"]\n",
    "print(countries)"
   ]
  },
  {
   "cell_type": "code",
   "execution_count": 6,
   "id": "74a8775d-8dc3-4500-b301-c22f88b0ce3d",
   "metadata": {},
   "outputs": [
    {
     "name": "stdout",
     "output_type": "stream",
     "text": [
      "True\n",
      "False\n",
      "False\n"
     ]
    }
   ],
   "source": [
    "#membership test in dictionary(check if entry exists)\n",
    "print(\"Kenya\" in countries)\n",
    "print(\"Kenya\" not in countries)\n",
    "print(\"Burundi\" in countries)"
   ]
  },
  {
   "cell_type": "code",
   "execution_count": 7,
   "id": "074d29c2-50e5-4562-b07b-e49fc91dfb9f",
   "metadata": {},
   "outputs": [
    {
     "name": "stdout",
     "output_type": "stream",
     "text": [
      "Mombasa\n",
      "Dar es salaam\n",
      "Addis Ababa\n"
     ]
    }
   ],
   "source": [
    "#iterating through dictionary\n",
    "for i in countries:\n",
    "    print(countries[i])"
   ]
  },
  {
   "cell_type": "code",
   "execution_count": 8,
   "id": "a60ceb13-b7ad-4d76-9903-35d5fda6e741",
   "metadata": {},
   "outputs": [
    {
     "name": "stdout",
     "output_type": "stream",
     "text": [
      "3\n"
     ]
    }
   ],
   "source": [
    "#number of items in dict\n",
    "print(len(countries))"
   ]
  },
  {
   "cell_type": "code",
   "execution_count": 9,
   "id": "e6b98af4-1a60-44b8-a5c0-c99aa4e41f35",
   "metadata": {},
   "outputs": [
    {
     "name": "stdout",
     "output_type": "stream",
     "text": [
      "['Ethiopia', 'Kenya', 'Tanzania']\n"
     ]
    }
   ],
   "source": [
    "#sorting\n",
    "print(sorted(countries))"
   ]
  },
  {
   "cell_type": "code",
   "execution_count": 10,
   "id": "6184a0fa-1b21-4115-b4c1-048ab66ea7e7",
   "metadata": {},
   "outputs": [
    {
     "name": "stdout",
     "output_type": "stream",
     "text": [
      "[('Ethiopia', 'Addis Ababa'), ('Kenya', 'Mombasa'), ('Tanzania', 'Dar es salaam')]\n"
     ]
    }
   ],
   "source": [
    "#sorting\n",
    "print(sorted(countries.items()))"
   ]
  },
  {
   "cell_type": "code",
   "execution_count": 11,
   "id": "96d5e609-bfa0-468a-8a34-fba2115cb844",
   "metadata": {},
   "outputs": [
    {
     "name": "stdout",
     "output_type": "stream",
     "text": [
      "dict_keys(['Kenya', 'Tanzania', 'Ethiopia'])\n"
     ]
    }
   ],
   "source": [
    "#getting dict keys\n",
    "print(countries.keys())"
   ]
  },
  {
   "cell_type": "code",
   "execution_count": 12,
   "id": "28d65537-3adb-47e4-8201-d89da1bdec89",
   "metadata": {},
   "outputs": [
    {
     "name": "stdout",
     "output_type": "stream",
     "text": [
      "dict_values(['Mombasa', 'Dar es salaam', 'Addis Ababa'])\n"
     ]
    }
   ],
   "source": [
    "#getting dict values\n",
    "print(countries.values())"
   ]
  },
  {
   "cell_type": "code",
   "execution_count": 13,
   "id": "a80f3488-1029-4aaa-b3dd-e5e78def4a79",
   "metadata": {},
   "outputs": [
    {
     "name": "stdout",
     "output_type": "stream",
     "text": [
      "{}\n"
     ]
    }
   ],
   "source": [
    "#clear dict\n",
    "countries.clear()\n",
    "print(countries)"
   ]
  },
  {
   "cell_type": "code",
   "execution_count": 14,
   "id": "eb225fe5-0d9c-4968-a0c8-4160dd9e044a",
   "metadata": {},
   "outputs": [
    {
     "ename": "NameError",
     "evalue": "name 'countries' is not defined",
     "output_type": "error",
     "traceback": [
      "\u001b[1;31m---------------------------------------------------------------------------\u001b[0m",
      "\u001b[1;31mNameError\u001b[0m                                 Traceback (most recent call last)",
      "\u001b[1;32m~\\AppData\\Local\\Temp\\ipykernel_12136\\3137860516.py\u001b[0m in \u001b[0;36m<module>\u001b[1;34m\u001b[0m\n\u001b[0;32m      1\u001b[0m \u001b[1;31m#deleting the dictionary\u001b[0m\u001b[1;33m\u001b[0m\u001b[1;33m\u001b[0m\u001b[0m\n\u001b[0;32m      2\u001b[0m \u001b[1;32mdel\u001b[0m \u001b[0mcountries\u001b[0m\u001b[1;33m\u001b[0m\u001b[1;33m\u001b[0m\u001b[0m\n\u001b[1;32m----> 3\u001b[1;33m \u001b[0mprint\u001b[0m\u001b[1;33m(\u001b[0m\u001b[0mcountries\u001b[0m\u001b[1;33m)\u001b[0m\u001b[1;33m\u001b[0m\u001b[1;33m\u001b[0m\u001b[0m\n\u001b[0m",
      "\u001b[1;31mNameError\u001b[0m: name 'countries' is not defined"
     ]
    }
   ],
   "source": [
    "#deleting the dictionary\n",
    "del countries\n",
    "print(countries)"
   ]
  }
 ],
 "metadata": {
  "kernelspec": {
   "display_name": "Python 3 (ipykernel)",
   "language": "python",
   "name": "python3"
  },
  "language_info": {
   "codemirror_mode": {
    "name": "ipython",
    "version": 3
   },
   "file_extension": ".py",
   "mimetype": "text/x-python",
   "name": "python",
   "nbconvert_exporter": "python",
   "pygments_lexer": "ipython3",
   "version": "3.9.13"
  }
 },
 "nbformat": 4,
 "nbformat_minor": 5
}
