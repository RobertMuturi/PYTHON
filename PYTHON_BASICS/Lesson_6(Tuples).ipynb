{
 "cells": [
  {
   "cell_type": "markdown",
   "id": "c4152b39-bdcb-49d8-baea-24c58315a096",
   "metadata": {},
   "source": [
    "TUPLES"
   ]
  },
  {
   "cell_type": "code",
   "execution_count": 1,
   "id": "173627cb-7948-4db6-96a3-54a2ebd6b837",
   "metadata": {},
   "outputs": [
    {
     "data": {
      "text/plain": [
       "\"\\nUses normal bracket ()\\nCan't change items inside\\nUses same opeartions as list\\n\""
      ]
     },
     "execution_count": 1,
     "metadata": {},
     "output_type": "execute_result"
    }
   ],
   "source": [
    "\"\"\"\n",
    "Uses normal bracket ()\n",
    "Can't change items inside\n",
    "Uses same opeartions as list\n",
    "\"\"\""
   ]
  },
  {
   "cell_type": "code",
   "execution_count": 2,
   "id": "33a91c91-9054-413f-8965-ed7571bf4b57",
   "metadata": {},
   "outputs": [],
   "source": [
    "tuple_1 = (\"Afred\", 2023, True, \"Kenya\")"
   ]
  },
  {
   "cell_type": "code",
   "execution_count": 3,
   "id": "db08edfe-24fa-4eda-a909-e882d075d7c6",
   "metadata": {},
   "outputs": [
    {
     "name": "stdout",
     "output_type": "stream",
     "text": [
      "('Afred', 2023, True, 'Kenya')\n"
     ]
    }
   ],
   "source": [
    "#using a constructor\n",
    "tuple_2 = tuple((\"Afred\", 2023, True, \"Kenya\"))\n",
    "print(tuple_2)"
   ]
  },
  {
   "cell_type": "code",
   "execution_count": 4,
   "id": "3341a6ed-4725-4f9b-8ac7-c8b7cc8cc06a",
   "metadata": {},
   "outputs": [
    {
     "data": {
      "text/plain": [
       "(True, 'Kenya')"
      ]
     },
     "execution_count": 4,
     "metadata": {},
     "output_type": "execute_result"
    }
   ],
   "source": [
    "#indexing\n",
    "tuple_1[0]\n",
    "tuple_1[2:4]"
   ]
  },
  {
   "cell_type": "code",
   "execution_count": 5,
   "id": "75bf81a7-6c4a-40d1-91ed-8fff171725f0",
   "metadata": {},
   "outputs": [
    {
     "name": "stdout",
     "output_type": "stream",
     "text": [
      "item doesn't exist\n"
     ]
    }
   ],
   "source": [
    "#chesk if item exists\n",
    "if \"2023\" in tuple_1:\n",
    "    print(\"item exists\")\n",
    "else:\n",
    "    print(\"item doesn't exist\")"
   ]
  },
  {
   "cell_type": "code",
   "execution_count": 6,
   "id": "05561cd7-ec31-4921-b2cd-67a689ce9787",
   "metadata": {},
   "outputs": [
    {
     "name": "stdout",
     "output_type": "stream",
     "text": [
      "item exists\n"
     ]
    }
   ],
   "source": [
    "#chesk if item exists\n",
    "if 2023 in tuple_1:\n",
    "    print(\"item exists\")\n",
    "else:\n",
    "    print(\"item doesn't exist\")"
   ]
  },
  {
   "cell_type": "code",
   "execution_count": 7,
   "id": "019bd317-4430-43e5-915e-5f35bef8de2a",
   "metadata": {},
   "outputs": [
    {
     "name": "stdout",
     "output_type": "stream",
     "text": [
      "('Afred', 2023, 'New item', 'Kenya')\n"
     ]
    }
   ],
   "source": [
    "#updating tuple - first convert to list then back to tuple\n",
    "list_tuple_1 = list(tuple_1)\n",
    "list_tuple_1[2] = \"New item\"\n",
    "tuple_1 = tuple(list_tuple_1)\n",
    "print(tuple_1)"
   ]
  },
  {
   "cell_type": "raw",
   "id": "85399369-3f2c-4984-9d75-c3c27ff83123",
   "metadata": {},
   "source": [
    "Lesson 6 Takeaway Task\n",
    "PYTHON LISTS/TUPLE\n",
    "22ND FEB 2023\n",
    "1.\tCreate a list with 5 items\n",
    "a.\tAccess and print each item using for loop\n",
    "b.\tAccess and print each item using for loop and list comprehension\n",
    "2.\tSort this list below in descending order\n",
    "counties = [“Mombasa”, “kirinyaga”, “embu”, “Nairobi”, “Kisumu”]\n",
    "3.\tGet user input for five items and add them to an empty tuple. Print output.\n",
    "4.\tAdd new item to the tuple created in Question 3. Print output.\n",
    "5.\tDelete the tuple created. Print output.\n"
   ]
  },
  {
   "cell_type": "code",
   "execution_count": 38,
   "id": "4ce89a15-58b4-4ea1-af36-1f2ac1e74c19",
   "metadata": {},
   "outputs": [
    {
     "name": "stdout",
     "output_type": "stream",
     "text": [
      "Mangoes\n",
      "Oranges\n",
      "Apples\n",
      "Bananas\n",
      "Passion\n",
      "Mangoes\n",
      "Oranges\n",
      "Apples\n",
      "Bananas\n",
      "Passion\n",
      "Counties sorted:  ['Nairobi', 'Mombasa', 'Kisumu', 'kirinyaga', 'embu']\n"
     ]
    },
    {
     "name": "stdin",
     "output_type": "stream",
     "text": [
      "Enter vegetables:  cd\n",
      "Enter vegetables:  cd\n",
      "Enter vegetables:  cd\n",
      "Enter vegetables:  cd\n",
      "Enter vegetables:  cd\n"
     ]
    },
    {
     "name": "stdout",
     "output_type": "stream",
     "text": [
      "('cd', 'cd', 'cd', 'cd', 'cd')\n",
      "('cd', 'cd', 'cd', 'cd', 'cd', 'onions')\n"
     ]
    },
    {
     "ename": "NameError",
     "evalue": "name 'veg_tuple' is not defined",
     "output_type": "error",
     "traceback": [
      "\u001b[1;31m---------------------------------------------------------------------------\u001b[0m",
      "\u001b[1;31mNameError\u001b[0m                                 Traceback (most recent call last)",
      "\u001b[1;32m~\\AppData\\Local\\Temp\\ipykernel_2604\\1822316591.py\u001b[0m in \u001b[0;36m<module>\u001b[1;34m\u001b[0m\n\u001b[0;32m     34\u001b[0m \u001b[1;31m#Delete the tuple created. Print output.\u001b[0m\u001b[1;33m\u001b[0m\u001b[1;33m\u001b[0m\u001b[0m\n\u001b[0;32m     35\u001b[0m \u001b[1;32mdel\u001b[0m \u001b[0mveg_tuple\u001b[0m\u001b[1;33m\u001b[0m\u001b[1;33m\u001b[0m\u001b[0m\n\u001b[1;32m---> 36\u001b[1;33m \u001b[0mprint\u001b[0m\u001b[1;33m(\u001b[0m\u001b[0mveg_tuple\u001b[0m\u001b[1;33m)\u001b[0m\u001b[1;33m\u001b[0m\u001b[1;33m\u001b[0m\u001b[0m\n\u001b[0m",
      "\u001b[1;31mNameError\u001b[0m: name 'veg_tuple' is not defined"
     ]
    }
   ],
   "source": [
    "#create a list with 5 items\n",
    "fruits = [\"Mangoes\", \"Oranges\", \"Apples\", \"Bananas\", \"Passion\"]\n",
    "\n",
    "#Access and print each item using for loop\n",
    "for fruit in fruits:\n",
    "    print(fruit)\n",
    "    \n",
    "#Access and print each item using for loop and list comprehension\n",
    "[print(fruit) for fruit in fruits]\n",
    "\n",
    "#Sort this list below in descending order\n",
    "counties = [\"Mombasa\", \"kirinyaga\", \"embu\", \"Nairobi\", \"Kisumu\"]\n",
    "counties.sort(key = str.lower)\n",
    "counties.reverse()\n",
    "print(\"Counties sorted: \", counties)\n",
    "\n",
    "#Get user input for five items and add them to an empty tuple. Print output\n",
    "\n",
    "veg_list = []\n",
    "\n",
    "for veg in range(5):\n",
    "    veg  = input(\"Enter vegetables: \")\n",
    "    veg_list.append(veg)\n",
    "\n",
    "veg_tuple = tuple(veg_list)\n",
    "print(veg_tuple)\n",
    "\n",
    "#Add new item to the tuple created in Question 3. Print output.\n",
    "veg_list = list(veg_tuple)\n",
    "veg_list.append(\"onions\")\n",
    "veg_tuple = tuple(veg_list)\n",
    "print(veg_tuple)\n",
    "\n",
    "#Delete the tuple created. Print output.\n",
    "del veg_tuple\n",
    "print(veg_tuple)"
   ]
  },
  {
   "cell_type": "code",
   "execution_count": 6,
   "id": "6c2cac77-e40f-4dc5-95e1-9bfb844822bd",
   "metadata": {},
   "outputs": [
    {
     "name": "stdout",
     "output_type": "stream",
     "text": [
      "oranges\n",
      "lemon\n",
      "berry\n"
     ]
    }
   ],
   "source": [
    "#unpacking a tuple\n",
    "fruits = (\"oranges\", \"lemon\", \"berry\")\n",
    "#unpacking with colors\n",
    "(orange, green, red) = fruits\n",
    "\n",
    "print(orange)\n",
    "print(green)\n",
    "print(red)"
   ]
  },
  {
   "cell_type": "code",
   "execution_count": 2,
   "id": "095d28d3-4d74-49cc-9c46-36bb9ccf52d2",
   "metadata": {},
   "outputs": [
    {
     "name": "stdout",
     "output_type": "stream",
     "text": [
      "oranges\n",
      "lemon\n",
      "berry\n"
     ]
    }
   ],
   "source": [
    "#looping through tuple \n",
    "for fruit in fruits:\n",
    "    print(fruit)"
   ]
  },
  {
   "cell_type": "code",
   "execution_count": 3,
   "id": "b70206c1-c171-483a-a647-cbdda7fe1d45",
   "metadata": {},
   "outputs": [
    {
     "name": "stdout",
     "output_type": "stream",
     "text": [
      "oranges\n",
      "lemon\n",
      "berry\n"
     ]
    }
   ],
   "source": [
    "for i in range(len(fruits)):\n",
    "    print(fruits[i])"
   ]
  },
  {
   "cell_type": "code",
   "execution_count": 4,
   "id": "7c3e0370-53d6-4552-aea9-f8b200add03d",
   "metadata": {},
   "outputs": [
    {
     "name": "stdout",
     "output_type": "stream",
     "text": [
      "oranges\n",
      "lemon\n",
      "berry\n"
     ]
    }
   ],
   "source": [
    "i = 0\n",
    "while i < len(fruits):\n",
    "    print(fruits[i])\n",
    "    i = i + 1"
   ]
  },
  {
   "cell_type": "code",
   "execution_count": 5,
   "id": "8cac2ec3-a400-4c90-bc14-94cecd838903",
   "metadata": {},
   "outputs": [
    {
     "name": "stdout",
     "output_type": "stream",
     "text": [
      "('oranges', 'lemon', 'berry', 'Cabbage', 'Spinach', 'Brocolli', 'Sukuma')\n"
     ]
    }
   ],
   "source": [
    "# joining tuples\n",
    "#Join - same as list\n",
    "vegetables = (\"Cabbage\",\"Spinach\", \"Brocolli\", \"Sukuma\")\n",
    "joined_tuple = fruits + vegetables\n",
    "print(joined_tuple)\n"
   ]
  },
  {
   "cell_type": "code",
   "execution_count": null,
   "id": "ceeaf785-e6b4-435e-b3fb-e17f026090f1",
   "metadata": {},
   "outputs": [],
   "source": []
  }
 ],
 "metadata": {
  "kernelspec": {
   "display_name": "Python 3 (ipykernel)",
   "language": "python",
   "name": "python3"
  },
  "language_info": {
   "codemirror_mode": {
    "name": "ipython",
    "version": 3
   },
   "file_extension": ".py",
   "mimetype": "text/x-python",
   "name": "python",
   "nbconvert_exporter": "python",
   "pygments_lexer": "ipython3",
   "version": "3.9.13"
  }
 },
 "nbformat": 4,
 "nbformat_minor": 5
}
