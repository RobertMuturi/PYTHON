{
 "cells": [
  {
   "cell_type": "markdown",
   "id": "9db73e88-ea9c-49fd-8066-76c42a4b93db",
   "metadata": {},
   "source": [
    "SETS"
   ]
  },
  {
   "cell_type": "code",
   "execution_count": 1,
   "id": "ce8337f8-af01-4d86-9409-d5bd3dec53d3",
   "metadata": {},
   "outputs": [
    {
     "name": "stdout",
     "output_type": "stream",
     "text": [
      "<class 'set'>\n",
      "{33, 4, 56, 12, 78, 79}\n"
     ]
    }
   ],
   "source": [
    "set_one = {12, 33, 12, 4, 56,78,79}\n",
    "print(type(set_one))\n",
    "print(set_one)"
   ]
  },
  {
   "cell_type": "code",
   "execution_count": 2,
   "id": "bcbc95d5-158a-49c7-a066-0534f34d2852",
   "metadata": {},
   "outputs": [],
   "source": [
    "#creating a set\n",
    "empty_set = set()"
   ]
  },
  {
   "cell_type": "code",
   "execution_count": 3,
   "id": "613c9502-3965-4dda-aca3-8fca4303c45f",
   "metadata": {},
   "outputs": [
    {
     "name": "stdout",
     "output_type": "stream",
     "text": [
      "{33, 4, 100, 56, 12, 78, 79}\n"
     ]
    }
   ],
   "source": [
    "#adding to a set\n",
    "set_one.add(100)\n",
    "print(set_one)"
   ]
  },
  {
   "cell_type": "code",
   "execution_count": 4,
   "id": "6993f049-7513-4302-a2f0-d61bc709bee2",
   "metadata": {},
   "outputs": [
    {
     "name": "stdout",
     "output_type": "stream",
     "text": [
      "{4, 12, 78, 79, 'one', 23, 33, 100, 'three', 56}\n"
     ]
    }
   ],
   "source": [
    "#updating a set\n",
    "list_items = [\"one\", \"three\", 23, 12]\n",
    "set_one.update(list_items)\n",
    "print(set_one)"
   ]
  },
  {
   "cell_type": "code",
   "execution_count": 5,
   "id": "80d22190-88d0-4bc2-bba9-85244eae59ae",
   "metadata": {},
   "outputs": [
    {
     "name": "stdout",
     "output_type": "stream",
     "text": [
      "{4, 12, 78, 79, 23, 33, 100, 'three', 56}\n"
     ]
    }
   ],
   "source": [
    "#Remove elements - discard()\n",
    "set_one.discard(\"one\")\n",
    "print(set_one)"
   ]
  },
  {
   "cell_type": "code",
   "execution_count": 6,
   "id": "fcb8981a-af24-4159-bd3c-5d9900899976",
   "metadata": {},
   "outputs": [
    {
     "name": "stdout",
     "output_type": "stream",
     "text": [
      "4\n",
      "12\n",
      "78\n",
      "79\n",
      "23\n",
      "33\n",
      "100\n",
      "three\n",
      "56\n",
      "count of itens 9\n"
     ]
    }
   ],
   "source": [
    "#iterate over a set\n",
    "for item in set_one:\n",
    "    print(item)\n",
    "print(\"count of itens\", len(set_one))"
   ]
  },
  {
   "cell_type": "raw",
   "id": "4586e2a5-997f-48d3-87f3-92aaeeeac225",
   "metadata": {},
   "source": [
    "#set operations\n",
    "'''\n",
    "union\n",
    "intersection\n",
    "subtraction\n",
    "symmetric difference'''"
   ]
  },
  {
   "cell_type": "code",
   "execution_count": 7,
   "id": "773f4558-3d8e-4421-984b-ea2d5c5a5e04",
   "metadata": {},
   "outputs": [],
   "source": [
    "sales_2022 = {\"samsung\", \"von\", \"lg\", \"sony\", \"panasonic\"}\n",
    "sales_2023 = {\"ramtons\", \"infinix\", \"samsung\", \"sony\", \"tecno\"}"
   ]
  },
  {
   "cell_type": "code",
   "execution_count": 8,
   "id": "b93c2fa2-6e63-4274-8d31-19fbef6d08b2",
   "metadata": {},
   "outputs": [
    {
     "name": "stdout",
     "output_type": "stream",
     "text": [
      "All items:  {'tecno', 'ramtons', 'panasonic', 'sony', 'infinix', 'samsung', 'lg', 'von'}\n"
     ]
    }
   ],
   "source": [
    "#set union\n",
    "print(\"All items: \", sales_2022.union(sales_2023))"
   ]
  },
  {
   "cell_type": "code",
   "execution_count": 9,
   "id": "ca8a14b7-6b06-4cff-9ad7-993b5cf63589",
   "metadata": {},
   "outputs": [
    {
     "name": "stdout",
     "output_type": "stream",
     "text": [
      "Items in both:  {'samsung', 'sony'}\n"
     ]
    }
   ],
   "source": [
    "#set intersection\n",
    "print(\"Items in both: \", sales_2022.intersection(sales_2023))"
   ]
  },
  {
   "cell_type": "code",
   "execution_count": 10,
   "id": "95d5c239-5004-40b7-a417-89a00624d793",
   "metadata": {},
   "outputs": [
    {
     "name": "stdout",
     "output_type": "stream",
     "text": [
      "Items only for 2022:  {'lg', 'von', 'panasonic'}\n"
     ]
    }
   ],
   "source": [
    "#set defference\n",
    "print(\"Items only for 2022: \", sales_2022.difference(sales_2023))"
   ]
  },
  {
   "cell_type": "code",
   "execution_count": 11,
   "id": "d496ab9a-a596-4093-98b2-549724eb398f",
   "metadata": {},
   "outputs": [
    {
     "name": "stdout",
     "output_type": "stream",
     "text": [
      "Items not in intersection for both:  {'infinix', 'tecno', 'ramtons', 'lg', 'von', 'panasonic'}\n"
     ]
    }
   ],
   "source": [
    "#set symmeric defference\n",
    "print(\"Items not in intersection for both: \", sales_2022.symmetric_difference(sales_2023))"
   ]
  },
  {
   "cell_type": "code",
   "execution_count": 12,
   "id": "d6e78af2-4293-40ef-a85b-1c3cac87818c",
   "metadata": {},
   "outputs": [
    {
     "name": "stdout",
     "output_type": "stream",
     "text": [
      "Set A and B are equal\n"
     ]
    }
   ],
   "source": [
    "#check if two sets are equal\n",
    "setA = {2,3,4}\n",
    "setB = {4,2,3}\n",
    "\n",
    "if setA == setB:\n",
    "    print(\"Set A and B are equal\")\n",
    "else:\n",
    "    print(\"Set A amd B aren't equal\")"
   ]
  },
  {
   "cell_type": "code",
   "execution_count": 13,
   "id": "8ce9d789-76b7-4e27-bf7f-6d3c4ccde35d",
   "metadata": {},
   "outputs": [
    {
     "name": "stdout",
     "output_type": "stream",
     "text": [
      "Set A amd B aren't equal\n"
     ]
    }
   ],
   "source": [
    "#check if two sets are equal\n",
    "setA = {2,3,4}\n",
    "setB = {4,2,3,6}\n",
    "\n",
    "if setA == setB:\n",
    "    print(\"Set A and B are equal\")\n",
    "else:\n",
    "    print(\"Set A amd B aren't equal\")"
   ]
  },
  {
   "cell_type": "raw",
   "id": "03fc5c5e-2897-48ec-a26b-d9a9663a1ab5",
   "metadata": {},
   "source": [
    "Lesson 7 Takeaway Task\n",
    "Python Tuples/Sets\n",
    "23rd Feb 2023\n",
    "1.\tCreate a tuple called ‘customers’ with name of 5 customers\n",
    "a.\tUnpack the tuple the ids of the customers (assign random ids -- numbers)\n",
    "b.\tPrint the values of the tuple using the customer ids assign in part a\n",
    "2.\tCreate an empty set\n",
    "a.\tAdd 5 items in the empty set from user input\n",
    "b.\tRemove the 3rd item in the set\n",
    "c.\tDelete the set\n",
    "3.\tCreate 2 sets:\n",
    "nairobi  = {“Kenyatta avenue”, “Moi avenue”, “Kimathi street”}\n",
    "mombasa = {“Mtwapa street”, “Kenyatta avenue”, “Kisaju”}\n",
    "Create and print set union, intersection, difference, and symmetric difference for the given sets.\n"
   ]
  },
  {
   "cell_type": "code",
   "execution_count": 49,
   "id": "5f110379-eeaa-474e-af19-ae797dc3911b",
   "metadata": {},
   "outputs": [
    {
     "ename": "SyntaxError",
     "evalue": "cannot assign to literal (1453839750.py, line 5)",
     "output_type": "error",
     "traceback": [
      "\u001b[1;36m  File \u001b[1;32m\"C:\\Users\\Joe\\AppData\\Local\\Temp\\ipykernel_8412\\1453839750.py\"\u001b[1;36m, line \u001b[1;32m5\u001b[0m\n\u001b[1;33m    (15, 20, 3, 36, 23) = customers\u001b[0m\n\u001b[1;37m     ^\u001b[0m\n\u001b[1;31mSyntaxError\u001b[0m\u001b[1;31m:\u001b[0m cannot assign to literal\n"
     ]
    }
   ],
   "source": [
    "#Create a tuple called ‘customers’ with name of 5 customers\n",
    "customers = (\"Mary\", \"John\", \"Faith\", \"Mike\", \"Eve\")\n",
    "\n",
    "#Unpack the tuple with ids of the customers\n",
    "(15, 20, 3, 36, 23) = customers\n",
    "\n",
    "#Print the values of the tuple using the customer ids\n",
    "print(15)\n",
    "print(20)\n",
    "print(3)\n",
    "print(36)\n",
    "print(23)\n"
   ]
  },
  {
   "cell_type": "code",
   "execution_count": 44,
   "id": "d348d1d9-595f-4bf0-b8c0-9bfafe12fdb1",
   "metadata": {},
   "outputs": [
    {
     "name": "stdout",
     "output_type": "stream",
     "text": [
      "Mary\n",
      "John\n",
      "Faith\n",
      "Mike\n",
      "Eve\n"
     ]
    }
   ],
   "source": [
    "#Create a tuple called ‘customers’ with name of 5 customers\n",
    "customers = (\"Mary\", \"John\", \"Faith\", \"Mike\", \"Eve\")\n",
    "\n",
    "#Unpack the tuple with ids of the customers \n",
    "(A15, B20, C3, D36, E23) = customers \n",
    "\n",
    "#Print the values of the tuple using the customer ids\n",
    "print(A15)\n",
    "print(B20)\n",
    "print(C3)\n",
    "print(D36)\n",
    "print(E23)"
   ]
  },
  {
   "cell_type": "code",
   "execution_count": 47,
   "id": "bef0e83d-64dc-46a8-9ed7-78e9f015a627",
   "metadata": {},
   "outputs": [
    {
     "name": "stdin",
     "output_type": "stream",
     "text": [
      "Enter phone brands:  daa\n",
      "Enter phone brands:  sds\n",
      "Enter phone brands:  dss\n",
      "Enter phone brands:  sds\n",
      "Enter phone brands:  sdsd\n"
     ]
    },
    {
     "name": "stdout",
     "output_type": "stream",
     "text": [
      "{'sdsd', 'sds', 'daa', 'dss'}\n"
     ]
    }
   ],
   "source": [
    "#Create an empty set\n",
    "phones = set()\n",
    "\n",
    "#Add 5 items in the empty set from user input\n",
    "for phone in range(5):\n",
    "    phone = input(\"Enter phone brands: \")\n",
    "    phones.add(phone)\n",
    "print(phones)"
   ]
  },
  {
   "cell_type": "code",
   "execution_count": 25,
   "id": "a778c76e-89ca-415b-a49d-39a4e115f021",
   "metadata": {},
   "outputs": [
    {
     "name": "stdout",
     "output_type": "stream",
     "text": [
      "{'ter', 'samsung', 'itel', 'redmi'}\n"
     ]
    }
   ],
   "source": [
    "#Remove the 3rd item in the set\n",
    "phones.discard(\"sony\")\n",
    "print(phones)"
   ]
  },
  {
   "cell_type": "code",
   "execution_count": 26,
   "id": "f3395a8f-a048-4f87-85ee-bbc99466dc86",
   "metadata": {},
   "outputs": [
    {
     "ename": "NameError",
     "evalue": "name 'phones' is not defined",
     "output_type": "error",
     "traceback": [
      "\u001b[1;31m---------------------------------------------------------------------------\u001b[0m",
      "\u001b[1;31mNameError\u001b[0m                                 Traceback (most recent call last)",
      "\u001b[1;32m~\\AppData\\Local\\Temp\\ipykernel_8412\\3537247755.py\u001b[0m in \u001b[0;36m<module>\u001b[1;34m\u001b[0m\n\u001b[0;32m      1\u001b[0m \u001b[1;31m#Delete the set\u001b[0m\u001b[1;33m\u001b[0m\u001b[1;33m\u001b[0m\u001b[0m\n\u001b[0;32m      2\u001b[0m \u001b[1;32mdel\u001b[0m\u001b[1;33m(\u001b[0m\u001b[0mphones\u001b[0m\u001b[1;33m)\u001b[0m\u001b[1;33m\u001b[0m\u001b[1;33m\u001b[0m\u001b[0m\n\u001b[1;32m----> 3\u001b[1;33m \u001b[0mprint\u001b[0m\u001b[1;33m(\u001b[0m\u001b[0mphones\u001b[0m\u001b[1;33m)\u001b[0m\u001b[1;33m\u001b[0m\u001b[1;33m\u001b[0m\u001b[0m\n\u001b[0m",
      "\u001b[1;31mNameError\u001b[0m: name 'phones' is not defined"
     ]
    }
   ],
   "source": [
    "#Delete the set\n",
    "del(phones)\n",
    "print(phones)"
   ]
  },
  {
   "cell_type": "code",
   "execution_count": 32,
   "id": "a1cfc1a0-152c-482d-8523-1717132652f6",
   "metadata": {},
   "outputs": [
    {
     "name": "stdout",
     "output_type": "stream",
     "text": [
      "Total number of streets in both Nairobi and Mombasa are:  {'Mtwapa street', 'Kimathi street', 'Kenyatta avenue', 'Kisaju', 'Moi avenue'}\n",
      "Streets found in both Nairobi and Mombasa are:  {'Kenyatta avenue'}\n",
      "Streets only found in Nairobi:  {'Kimathi street', 'Moi avenue'}\n",
      "Streets unique only to Nairobi or Mombasa:  {'Mtwapa street', 'Kisaju', 'Moi avenue', 'Kimathi street'}\n"
     ]
    }
   ],
   "source": [
    "#Create 2 sets:\n",
    "nairobi  = {\"Kenyatta avenue\", \"Moi avenue\", \"Kimathi street\"}\n",
    "mombasa = {\"Mtwapa street\", \"Kenyatta avenue\", \"Kisaju\"}\n",
    "\n",
    "#Create and print set union, intersection, difference, and symmetric difference for the given sets.\n",
    "print(\"Total number of streets in both Nairobi and Mombasa are: \", nairobi.union(mombasa))\n",
    "\n",
    "#set intersection\n",
    "print(\"Streets found in both Nairobi and Mombasa are: \", nairobi.intersection(mombasa))\n",
    "\n",
    "#set difference\n",
    "print(\"Streets only found in Nairobi: \", nairobi.difference(mombasa))\n",
    "\n",
    "#symmetric difference \n",
    "print(\"Streets unique only to Nairobi or Mombasa: \", nairobi.symmetric_difference(mombasa))"
   ]
  },
  {
   "cell_type": "code",
   "execution_count": null,
   "id": "2c4e6d6a-e4ab-42b0-be47-e086a70b0888",
   "metadata": {},
   "outputs": [],
   "source": []
  }
 ],
 "metadata": {
  "kernelspec": {
   "display_name": "Python 3 (ipykernel)",
   "language": "python",
   "name": "python3"
  },
  "language_info": {
   "codemirror_mode": {
    "name": "ipython",
    "version": 3
   },
   "file_extension": ".py",
   "mimetype": "text/x-python",
   "name": "python",
   "nbconvert_exporter": "python",
   "pygments_lexer": "ipython3",
   "version": "3.9.13"
  }
 },
 "nbformat": 4,
 "nbformat_minor": 5
}
