{
 "cells": [
  {
   "cell_type": "code",
   "execution_count": 1,
   "id": "60d308d9-c253-4823-a0bb-f828579fd64c",
   "metadata": {},
   "outputs": [
    {
     "name": "stdout",
     "output_type": "stream",
     "text": [
      "hello everyone, we are learning programming\n"
     ]
    }
   ],
   "source": [
    "#string formarting\n",
    "\n",
    "# % operator\n",
    "\n",
    "string_1 = \"hello everyone, we are %s programming\"\n",
    "print(string_1 %'learning')"
   ]
  },
  {
   "cell_type": "code",
   "execution_count": 2,
   "id": "74f46292-11c5-4bb4-88bb-a94b55ceceb0",
   "metadata": {},
   "outputs": [
    {
     "name": "stdout",
     "output_type": "stream",
     "text": [
      "hello Robert. Welcome to the class\n"
     ]
    }
   ],
   "source": [
    "# format () function\n",
    "name = \"Robert\"\n",
    "print(\"hello {}. Welcome to the class\".format(name))"
   ]
  },
  {
   "cell_type": "code",
   "execution_count": 3,
   "id": "39bb095f-3cf2-4411-b52e-185b23ec6f9e",
   "metadata": {},
   "outputs": [
    {
     "name": "stdout",
     "output_type": "stream",
     "text": [
      "hello Robert. Your second name is John Welcome to the class\n"
     ]
    }
   ],
   "source": [
    "# format () function\n",
    "first_name = \"Robert\"\n",
    "second_name = \"John\"\n",
    "print(\"hello {}. Your second name is {} Welcome to the class\".format(first_name,second_name))"
   ]
  },
  {
   "cell_type": "code",
   "execution_count": 4,
   "id": "50d43c44-02ca-4730-b47a-0bc1a025c4c6",
   "metadata": {},
   "outputs": [
    {
     "name": "stdout",
     "output_type": "stream",
     "text": [
      "hello John. Your second name is Robert Welcome to the class\n"
     ]
    }
   ],
   "source": [
    "# format () function\n",
    "first_name = \"Robert\"\n",
    "second_name = \"John\"\n",
    "print(\"hello {1}. Your second name is {0} Welcome to the class\".format(first_name,second_name))"
   ]
  },
  {
   "cell_type": "code",
   "execution_count": 5,
   "id": "7bfce60b-33d0-49f3-8c75-aea4ec784e52",
   "metadata": {},
   "outputs": [
    {
     "name": "stdout",
     "output_type": "stream",
     "text": [
      "hello Robert. Your second name is John Welcome to the class, your age is 40\n"
     ]
    }
   ],
   "source": [
    "# format () function\n",
    "first_name = \"Robert\"\n",
    "second_name = \"John\"\n",
    "age = 40\n",
    "print(\"hello {0}. Your second name is {1} Welcome to the class, your age is {2}\".format(first_name,second_name, age))"
   ]
  },
  {
   "cell_type": "code",
   "execution_count": 6,
   "id": "af283bb2-23ba-49d9-8de4-973021eaf5d3",
   "metadata": {},
   "outputs": [
    {
     "data": {
      "text/plain": [
       "'\\n%s strings\\n%d integers\\n%f floating points\\n'"
      ]
     },
     "execution_count": 6,
     "metadata": {},
     "output_type": "execute_result"
    }
   ],
   "source": [
    "'''\n",
    "%s strings\n",
    "%d integers\n",
    "%f floating points\n",
    "'''"
   ]
  },
  {
   "cell_type": "code",
   "execution_count": 7,
   "id": "67d58cb3-cc09-493d-95dd-360d9bcdf040",
   "metadata": {},
   "outputs": [
    {
     "name": "stdout",
     "output_type": "stream",
     "text": [
      "TODAY IS TUESDAY\n",
      "today is tuesday\n",
      "Today Is Tuesday\n"
     ]
    }
   ],
   "source": [
    "#change case\n",
    "string_3 = \"Today is Tuesday\"\n",
    "print(string_3.upper())\n",
    "print(string_3.lower())\n",
    "print(string_3.title())"
   ]
  },
  {
   "cell_type": "code",
   "execution_count": 8,
   "id": "44ee497c-5bb9-44c7-8556-ef2a0ac2c84e",
   "metadata": {},
   "outputs": [
    {
     "name": "stdout",
     "output_type": "stream",
     "text": [
      "         good evening. we are coding           \n",
      "good evening. we are coding           \n",
      "good evening. we are coding\n"
     ]
    }
   ],
   "source": [
    "#lstrip() removes left whitespace\n",
    "#rstrip() removes right whitespace\n",
    "\n",
    "string_with_whitespace = \"         good evening. we are coding           \"\n",
    "print(string_with_whitespace)\n",
    "left_stripped = string_with_whitespace.lstrip()\n",
    "print(left_stripped)\n",
    "right_stripped = left_stripped.rstrip()\n",
    "print(right_stripped)"
   ]
  },
  {
   "cell_type": "markdown",
   "id": "fb8e8747-e290-44dc-aa97-a039c24ba666",
   "metadata": {},
   "source": [
    "DATA STRUCTURES"
   ]
  },
  {
   "cell_type": "raw",
   "id": "6764facc-69a4-42b0-be7b-01367492459f",
   "metadata": {},
   "source": [
    "'''\n",
    "PYTHON DATA STRUCTURES (collection data types)\n",
    "eg Lists, Tuples, Sets, Dictionaries\n",
    "\n",
    "Lists store multiple items in a single variable. eg fruits = [\"apples, oranges\"]\n",
    "order is changable, allow duplicates\n",
    "'''\n",
    "\n"
   ]
  },
  {
   "cell_type": "code",
   "execution_count": 10,
   "id": "b88cbd28-e299-4741-b168-de99813c433a",
   "metadata": {},
   "outputs": [
    {
     "name": "stdout",
     "output_type": "stream",
     "text": [
      "['bananas', 'berries', 'oranges', 'lemons']\n"
     ]
    }
   ],
   "source": [
    "#constructing list\n",
    "fruits = list((\"bananas\", \"berries\", \"oranges\", \"lemons\"))\n",
    "print(fruits)"
   ]
  },
  {
   "cell_type": "code",
   "execution_count": 11,
   "id": "8f648dc4-ecae-495d-bcf3-a1a234dbfd09",
   "metadata": {},
   "outputs": [
    {
     "name": "stdout",
     "output_type": "stream",
     "text": [
      "bananas\n",
      "lemons\n"
     ]
    }
   ],
   "source": [
    "#indexing\n",
    "print(fruits[0])\n",
    "print(fruits[-1])"
   ]
  },
  {
   "cell_type": "code",
   "execution_count": 12,
   "id": "fd471a9f-c188-4598-963a-3cafd8db2680",
   "metadata": {},
   "outputs": [
    {
     "name": "stdout",
     "output_type": "stream",
     "text": [
      "['berries', 'oranges']\n"
     ]
    }
   ],
   "source": [
    "#slicing\n",
    "print(fruits[1:3])"
   ]
  },
  {
   "cell_type": "code",
   "execution_count": 13,
   "id": "f6ec06cf-b17c-464f-b3ca-40509b0c401b",
   "metadata": {},
   "outputs": [
    {
     "name": "stdout",
     "output_type": "stream",
     "text": [
      "['bananas', 'apples', 'oranges', 'lemons']\n"
     ]
    }
   ],
   "source": [
    "#changing an item\n",
    "fruits[1] = \"apples\"\n",
    "print(fruits)"
   ]
  },
  {
   "cell_type": "code",
   "execution_count": 14,
   "id": "eccb280c-5759-4af3-828c-8fb7c6738c55",
   "metadata": {},
   "outputs": [
    {
     "name": "stdout",
     "output_type": "stream",
     "text": [
      "['lime', 'pineapples', 'oranges', 'lemons']\n"
     ]
    }
   ],
   "source": [
    "#changing multiple items\n",
    "fruits[0:2] = [\"lime\", \"pineapples\"]\n",
    "print(fruits)"
   ]
  },
  {
   "cell_type": "code",
   "execution_count": 15,
   "id": "bb9189d7-b143-4062-9447-5171886fba47",
   "metadata": {},
   "outputs": [
    {
     "name": "stdout",
     "output_type": "stream",
     "text": [
      "['lime', 'pineapples', 'passion', 'mango', 'oranges', 'lemons']\n"
     ]
    }
   ],
   "source": [
    "#changing multiple items, if you add more it expands the list\n",
    "fruits[0:2] = [\"lime\", \"pineapples\", \"passion\", \"mango\"]\n",
    "print(fruits)"
   ]
  },
  {
   "cell_type": "code",
   "execution_count": 16,
   "id": "4fb23ffa-dd9e-4978-8de7-9f67454f2dab",
   "metadata": {},
   "outputs": [
    {
     "name": "stdin",
     "output_type": "stream",
     "text": [
      "Customer name:  d\n",
      "Customer name:  s\n",
      "Customer name:  f\n",
      "Customer name:  f\n",
      "Customer name:  g\n",
      "Customer name:  h\n"
     ]
    },
    {
     "name": "stdout",
     "output_type": "stream",
     "text": [
      "customer name ['d', 's', 'f', 'f', 'g', 'h']\n"
     ]
    }
   ],
   "source": [
    "#to add an item to a list, use append\n",
    "\n",
    "customers = []\n",
    "for customer in range(6):\n",
    "    customer = input(\"Customer name: \")\n",
    "    customers.append(customer)\n",
    "print(\"customer name\", customers)"
   ]
  },
  {
   "cell_type": "code",
   "execution_count": 17,
   "id": "2b05d30a-49e2-4ba3-a2ad-488de73e698b",
   "metadata": {},
   "outputs": [
    {
     "name": "stdout",
     "output_type": "stream",
     "text": [
      "['lime', 'pineapples', 'Kiwi', 'passion', 'mango', 'oranges', 'lemons']\n"
     ]
    }
   ],
   "source": [
    "#insert to specific position\n",
    "fruits.insert(2, \"Kiwi\")\n",
    "print(fruits)"
   ]
  },
  {
   "cell_type": "code",
   "execution_count": 18,
   "id": "429e2a1e-c546-4a68-b04a-607157b9c822",
   "metadata": {},
   "outputs": [
    {
     "name": "stdout",
     "output_type": "stream",
     "text": [
      "['lime', 'pineapples', 'Kiwi', 'passion', 'mango', 'oranges', 'lemons', 'spinach', 'kale', 'tomatoes']\n"
     ]
    }
   ],
   "source": [
    "#extending a list - pick items from one list and adding to another\n",
    "vegetables = [\"spinach\", \"kale\", \"tomatoes\"]\n",
    "fruits.extend(vegetables)\n",
    "print(fruits)"
   ]
  },
  {
   "cell_type": "code",
   "execution_count": 19,
   "id": "49d8c2b5-a410-4090-8e6f-31553c260f1d",
   "metadata": {},
   "outputs": [
    {
     "name": "stdout",
     "output_type": "stream",
     "text": [
      "['pineapples', 'Kiwi', 'passion', 'mango', 'oranges', 'lemons', 'spinach', 'kale', 'tomatoes']\n"
     ]
    }
   ],
   "source": [
    "#removing from list\n",
    "fruits.remove(\"lime\")\n",
    "print(fruits)"
   ]
  },
  {
   "cell_type": "code",
   "execution_count": 20,
   "id": "5e2d9cfd-8b17-422c-8385-38705bcdc91b",
   "metadata": {},
   "outputs": [
    {
     "name": "stdout",
     "output_type": "stream",
     "text": [
      "['pineapples', 'passion', 'mango', 'oranges', 'lemons', 'spinach', 'kale', 'tomatoes']\n"
     ]
    }
   ],
   "source": [
    "#removing item\n",
    "fruits.pop(1)\n",
    "print(fruits)"
   ]
  },
  {
   "cell_type": "code",
   "execution_count": 21,
   "id": "cd0029a4-184c-4024-b501-9a7f2c491fa3",
   "metadata": {},
   "outputs": [
    {
     "name": "stdout",
     "output_type": "stream",
     "text": [
      "['pineapples', 'passion', 'mango', 'oranges', 'lemons', 'spinach', 'kale']\n"
     ]
    }
   ],
   "source": [
    "#removing last item\n",
    "fruits.pop()\n",
    "print(fruits)"
   ]
  },
  {
   "cell_type": "code",
   "execution_count": 22,
   "id": "166eb795-7a56-4d79-a15d-759108b297b0",
   "metadata": {},
   "outputs": [
    {
     "name": "stdout",
     "output_type": "stream",
     "text": [
      "['passion', 'mango', 'oranges', 'lemons', 'spinach', 'kale']\n"
     ]
    }
   ],
   "source": [
    "#removing item\n",
    "del fruits[0]\n",
    "print(fruits)"
   ]
  },
  {
   "cell_type": "code",
   "execution_count": 23,
   "id": "87668c33-b741-4a1c-bd76-c56181adfd05",
   "metadata": {},
   "outputs": [
    {
     "name": "stdout",
     "output_type": "stream",
     "text": [
      "[]\n"
     ]
    }
   ],
   "source": [
    "#clearing list leaving it empty\n",
    "fruits.clear()\n",
    "print(fruits)"
   ]
  },
  {
   "cell_type": "code",
   "execution_count": 29,
   "id": "fec6bd29-5d66-48f9-8c0e-b33e2e50046e",
   "metadata": {},
   "outputs": [],
   "source": [
    "#this will remove entire list\n",
    "fruits = [\"bananas\", \"berries\", \"oranges\", \"lemons\"]\n",
    "del fruits"
   ]
  },
  {
   "cell_type": "raw",
   "id": "31f83e73-8442-49a9-b2ba-c849fbf811b8",
   "metadata": {},
   "source": [
    "Lesson 5 takeaway task\n",
    "\n",
    "1.\tCreate an empty list\n",
    "\n",
    "2.\tCheck the number of items in the list\n",
    "\n",
    "3.\tCreate a variable to ask user to input 5 items and store in the list created\n",
    "\n",
    "4.\tDelete the last item in the list by default\n",
    "\n",
    "5.\tCreate another list with 3 items\n",
    "\n",
    "6.\tExtend the second list using the first list\n",
    "\n",
    "7.\tClear items in the second list\n",
    "\n",
    "8.\tDelete the second list\n"
   ]
  },
  {
   "cell_type": "code",
   "execution_count": 6,
   "id": "476c9253-c2bc-4577-8b05-73190880a9ef",
   "metadata": {},
   "outputs": [
    {
     "name": "stdout",
     "output_type": "stream",
     "text": [
      "[]\n"
     ]
    },
    {
     "name": "stdin",
     "output_type": "stream",
     "text": [
      "Enter a variety of cars:  toyota\n",
      "Enter a variety of cars:  mazda\n",
      "Enter a variety of cars:  vw\n",
      "Enter a variety of cars:  isuzu\n",
      "Enter a variety of cars:  ford\n"
     ]
    },
    {
     "name": "stdout",
     "output_type": "stream",
     "text": [
      "['toyota', 'mazda', 'vw', 'isuzu', 'ford']\n",
      "['toyota', 'mazda', 'vw', 'isuzu']\n"
     ]
    },
    {
     "name": "stdin",
     "output_type": "stream",
     "text": [
      "Enter a variety of lorries:  izuzu\n",
      "Enter a variety of lorries:  man\n",
      "Enter a variety of lorries:  hino\n"
     ]
    },
    {
     "name": "stdout",
     "output_type": "stream",
     "text": [
      "['izuzu', 'man', 'hino']\n",
      "['izuzu', 'man', 'hino', 'toyota', 'mazda', 'vw', 'isuzu']\n",
      "[]\n"
     ]
    }
   ],
   "source": [
    "#empty list about cars\n",
    "cars = []\n",
    "\n",
    "#check the number of cars in list\n",
    "print(cars)\n",
    "\n",
    "#user to input cars they know and add to list\n",
    "for car in range(5):\n",
    "    car = input(\"Enter a variety of cars: \")\n",
    "    cars.append(car)\n",
    "print(cars)\n",
    "\n",
    "#delete last item in list by default\n",
    "cars.pop()\n",
    "print(cars)\n",
    "\n",
    "#user to input data into a new created list\n",
    "lorry = []\n",
    "\n",
    "for truck in range(3):\n",
    "    truck = input(\"Enter a variety of lorries: \")\n",
    "    lorry.append(truck)\n",
    "\n",
    "print(lorry)\n",
    "\n",
    "#extend the second list with the first\n",
    "lorry.extend(cars)\n",
    "print(lorry)\n",
    "\n",
    "#clear items in the second list\n",
    "lorry.clear()\n",
    "print(lorry)\n",
    "\n",
    "#delete second list\n",
    "del lorry\n"
   ]
  },
  {
   "cell_type": "code",
   "execution_count": 8,
   "id": "2f0d9a9d-a2c5-4efd-8758-2a5fdbf2ce11",
   "metadata": {},
   "outputs": [
    {
     "name": "stdout",
     "output_type": "stream",
     "text": [
      "Country name: Kenya\n",
      "Country name: Tanzania\n",
      "Country name: South Africa\n"
     ]
    }
   ],
   "source": [
    "#looping/iterate through a list\n",
    "\n",
    "countries = [\"Kenya\", \"Tanzania\", \"South Africa\"]\n",
    "\n",
    "#use for loop to print each item\n",
    "for country in countries:\n",
    "    print(f\"Country name: {country}\")"
   ]
  },
  {
   "cell_type": "code",
   "execution_count": 11,
   "id": "5d99ab9f-5a08-4a83-afc9-11721db2f303",
   "metadata": {},
   "outputs": [
    {
     "name": "stdout",
     "output_type": "stream",
     "text": [
      "Country name: Kenya\n",
      "Country name: Tanzania\n",
      "Country name: South Africa\n"
     ]
    }
   ],
   "source": [
    "#loop using index \n",
    "for index in range(len(countries)):\n",
    "    print(f\"Country name: {countries[index]}\")"
   ]
  },
  {
   "cell_type": "code",
   "execution_count": 12,
   "id": "e313820d-54e4-4e82-9808-494c81061c9d",
   "metadata": {},
   "outputs": [
    {
     "name": "stdout",
     "output_type": "stream",
     "text": [
      "Kenya\n",
      "Tanzania\n",
      "South Africa\n"
     ]
    }
   ],
   "source": [
    "#loop using while loop\n",
    "i = 0\n",
    "while i < len(countries):\n",
    "    print(countries[i])\n",
    "    #this is an increment operator\n",
    "    i = i + 1"
   ]
  },
  {
   "cell_type": "code",
   "execution_count": 15,
   "id": "5602fc98-e70c-4735-a980-fad8e06c8153",
   "metadata": {},
   "outputs": [
    {
     "name": "stdout",
     "output_type": "stream",
     "text": [
      "Kenya\n",
      "Tanzania\n",
      "South Africa\n"
     ]
    },
    {
     "data": {
      "text/plain": [
       "[None, None, None]"
      ]
     },
     "execution_count": 15,
     "metadata": {},
     "output_type": "execute_result"
    }
   ],
   "source": [
    "#looping using list comprehension(short hand/shorten the for loop)\n",
    "[print(country) for country in countries]"
   ]
  },
  {
   "cell_type": "code",
   "execution_count": 19,
   "id": "060d3462-e58f-4308-bdda-68b418e255e8",
   "metadata": {},
   "outputs": [
    {
     "name": "stdout",
     "output_type": "stream",
     "text": [
      " Names starting with 'a': Priscah\n",
      " Names starting with 'a': adrian\n",
      " Names starting with 'a': Elizabeth\n",
      "['Priscah', 'adrian', 'Elizabeth']\n"
     ]
    }
   ],
   "source": [
    "#list comprehension\n",
    "#list of contacts\n",
    "phone_book = [\"Robert\", \"Eliud\", \"Ann\", \"Priscah\", \"Tyson\", \"adrian\", \"Elizabeth\"]\n",
    "person_name_a = []\n",
    "for person_name in phone_book:\n",
    "    if \"a\" in person_name:\n",
    "        person_name_a.append(person_name)\n",
    "        print(f\" Names starting with 'a': {person_name}\")\n",
    "        \n",
    "#shortened\n",
    "person_name_a = [person_name for person_name in phone_book if \"a\" in person_name]\n",
    "print(person_name_a)\n"
   ]
  },
  {
   "cell_type": "code",
   "execution_count": 22,
   "id": "3d5f67f0-3c29-407c-abc7-8d5051705750",
   "metadata": {},
   "outputs": [
    {
     "name": "stdout",
     "output_type": "stream",
     "text": [
      "sorted phonebook: ['Ann', 'Eliud', 'Elizabeth', 'Priscah', 'Robert', 'Tyson', 'adrian']\n"
     ]
    }
   ],
   "source": [
    "#sort list\n",
    "phone_book.sort()\n",
    "print(f\"sorted phonebook: {phone_book}\")\n",
    "#make sure the variables are in the same case as they can be separated. Note below"
   ]
  },
  {
   "cell_type": "code",
   "execution_count": 24,
   "id": "6b547c65-0244-46d9-8d4d-c6e686d0ce27",
   "metadata": {},
   "outputs": [
    {
     "name": "stdout",
     "output_type": "stream",
     "text": [
      "sorted phonebook: ['adrian', 'Ann', 'Eliud', 'Elizabeth', 'Priscah', 'Robert', 'Tyson']\n"
     ]
    }
   ],
   "source": [
    "#converting to lower case then sorting\n",
    "phone_book.sort(key = str.lower)\n",
    "print(f\"sorted phonebook: {phone_book}\")"
   ]
  },
  {
   "cell_type": "code",
   "execution_count": 26,
   "id": "86ebc5bf-8a26-408e-9e5e-cab0079226e7",
   "metadata": {},
   "outputs": [
    {
     "name": "stdout",
     "output_type": "stream",
     "text": [
      "sorted phonebook: ['Tyson', 'Robert', 'Priscah', 'Elizabeth', 'Eliud', 'Ann', 'adrian']\n"
     ]
    }
   ],
   "source": [
    "#reversing list\n",
    "phone_book.reverse()\n",
    "print(f\"sorted phonebook: {phone_book}\")"
   ]
  },
  {
   "cell_type": "code",
   "execution_count": 30,
   "id": "19052b6b-544e-42ae-b939-586788c3f991",
   "metadata": {},
   "outputs": [
    {
     "name": "stdout",
     "output_type": "stream",
     "text": [
      "['Tyson', 'Robert', 'Priscah', 'Elizabeth', 'Eliud', 'Ann', 'adrian']\n"
     ]
    }
   ],
   "source": [
    "#copying list 1\n",
    "new_phone_book = phone_book.copy()\n",
    "print(new_phone_book)"
   ]
  },
  {
   "cell_type": "code",
   "execution_count": 31,
   "id": "236bbaea-af7b-4eb5-a3c0-b17b85063886",
   "metadata": {},
   "outputs": [
    {
     "name": "stdout",
     "output_type": "stream",
     "text": [
      "['Tyson', 'Robert', 'Priscah', 'Elizabeth', 'Eliud', 'Ann', 'adrian']\n"
     ]
    }
   ],
   "source": [
    "#copying list 2\n",
    "new_phone_book = list(phone_book)\n",
    "print(new_phone_book)"
   ]
  },
  {
   "cell_type": "code",
   "execution_count": 32,
   "id": "bbb90d2b-5764-4d8f-a021-e59405e266a1",
   "metadata": {},
   "outputs": [
    {
     "name": "stdout",
     "output_type": "stream",
     "text": [
      "['Tyson', 'Robert', 'Priscah', 'Elizabeth', 'Eliud', 'Ann', 'adrian', 12, 23, 45, 56]\n"
     ]
    }
   ],
   "source": [
    "#join list using +\n",
    "numbers = [12, 23, 45,56]\n",
    "pbook = phone_book + numbers\n",
    "print(pbook)"
   ]
  },
  {
   "cell_type": "code",
   "execution_count": 33,
   "id": "f144168e-0ac8-485f-9052-649a30fc7e84",
   "metadata": {},
   "outputs": [
    {
     "name": "stdout",
     "output_type": "stream",
     "text": [
      "['Tyson', 'Robert', 'Priscah', 'Elizabeth', 'Eliud', 'Ann', 'adrian', [12, 23, 45, 56]]\n",
      "['Tyson', 'Robert', 'Priscah', 'Elizabeth', 'Eliud', 'Ann', 'adrian', [12, 23, 45, 56], [12, 23, 45, 56]]\n",
      "['Tyson', 'Robert', 'Priscah', 'Elizabeth', 'Eliud', 'Ann', 'adrian', [12, 23, 45, 56], [12, 23, 45, 56], [12, 23, 45, 56]]\n",
      "['Tyson', 'Robert', 'Priscah', 'Elizabeth', 'Eliud', 'Ann', 'adrian', [12, 23, 45, 56], [12, 23, 45, 56], [12, 23, 45, 56], [12, 23, 45, 56]]\n"
     ]
    }
   ],
   "source": [
    "#join lists using for loop\n",
    "for number in numbers:\n",
    "    phone_book.append(numbers)\n",
    "    print(phone_book)"
   ]
  },
  {
   "cell_type": "code",
   "execution_count": null,
   "id": "2be0c649-a5a6-4b8e-bcee-633d9420ff31",
   "metadata": {},
   "outputs": [],
   "source": []
  }
 ],
 "metadata": {
  "kernelspec": {
   "display_name": "Python 3 (ipykernel)",
   "language": "python",
   "name": "python3"
  },
  "language_info": {
   "codemirror_mode": {
    "name": "ipython",
    "version": 3
   },
   "file_extension": ".py",
   "mimetype": "text/x-python",
   "name": "python",
   "nbconvert_exporter": "python",
   "pygments_lexer": "ipython3",
   "version": "3.9.13"
  }
 },
 "nbformat": 4,
 "nbformat_minor": 5
}
