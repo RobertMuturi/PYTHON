{
 "cells": [
  {
   "cell_type": "markdown",
   "id": "f0a3a7bc-8c3a-4fa9-897c-27c3756a893c",
   "metadata": {},
   "source": [
    "NESTED FOR LOOPS"
   ]
  },
  {
   "cell_type": "code",
   "execution_count": 1,
   "id": "edb2b33d-7c6a-4c4c-b440-3cfc43301399",
   "metadata": {},
   "outputs": [
    {
     "name": "stdout",
     "output_type": "stream",
     "text": [
      "Jack earns 10000: \n",
      "Jack earns 30000: \n",
      "Jack earns 60000: \n",
      "Jack earns 90000: \n",
      "Jack earns 40000: \n",
      "Ann earns 10000: \n",
      "Ann earns 30000: \n",
      "Ann earns 60000: \n",
      "Ann earns 90000: \n",
      "Ann earns 40000: \n",
      "Ken earns 10000: \n",
      "Ken earns 30000: \n",
      "Ken earns 60000: \n",
      "Ken earns 90000: \n",
      "Ken earns 40000: \n",
      "Ben earns 10000: \n",
      "Ben earns 30000: \n",
      "Ben earns 60000: \n",
      "Ben earns 90000: \n",
      "Ben earns 40000: \n",
      "Cate earns 10000: \n",
      "Cate earns 30000: \n",
      "Cate earns 60000: \n",
      "Cate earns 90000: \n",
      "Cate earns 40000: \n"
     ]
    }
   ],
   "source": [
    "employees = [\"Jack\", \"Ann\", \"Ken\", \"Ben\", \"Cate\"]\n",
    "salaries = [10000, 30000, 60000, 90000, 40000]\n",
    "\n",
    "for employee in employees:\n",
    "    for salary in salaries:\n",
    "        print(\"{} earns {}: \".format(employee, salary))"
   ]
  },
  {
   "cell_type": "code",
   "execution_count": 2,
   "id": "5a3e8909-cbbd-4736-8684-2dcd988933e4",
   "metadata": {},
   "outputs": [
    {
     "name": "stdout",
     "output_type": "stream",
     "text": [
      "0 x 0 = 0\n",
      "0 x 1 = 0\n",
      "0 x 2 = 0\n",
      "\n",
      "1 x 0 = 0\n",
      "1 x 1 = 1\n",
      "1 x 2 = 2\n",
      "\n",
      "2 x 0 = 0\n",
      "2 x 1 = 2\n",
      "2 x 2 = 4\n",
      "\n"
     ]
    }
   ],
   "source": [
    "for i in range(3): # 0,1,2\n",
    "    for j in range(3): # 0,1,2\n",
    "        print(i, \"x\", j, \"=\" , i*j)\n",
    "    print(\"\")"
   ]
  },
  {
   "cell_type": "code",
   "execution_count": 3,
   "id": "f6d398e8-2dcd-4fa2-ad12-744d78d89217",
   "metadata": {},
   "outputs": [
    {
     "name": "stdout",
     "output_type": "stream",
     "text": [
      "\n",
      "* \n",
      "* * \n",
      "* * * \n",
      "* * * * \n",
      "* * * * * \n"
     ]
    }
   ],
   "source": [
    "#Create some pattern\n",
    "# outer loop\n",
    "for i in range(6):\n",
    "    # inner loop\n",
    "    for j in range(1, i + 1):\n",
    "        print(\"*\", end=\" \")\n",
    "    print('')"
   ]
  },
  {
   "cell_type": "code",
   "execution_count": 4,
   "id": "b1839d20-3360-4b16-a80a-b4e12eb04d34",
   "metadata": {},
   "outputs": [
    {
     "name": "stdout",
     "output_type": "stream",
     "text": [
      "2 * 4 =  8\n",
      "2 * 6 =  12\n",
      "4 * 2 =  8\n",
      "4 * 6 =  24\n",
      "6 * 2 =  12\n",
      "6 * 4 =  24\n"
     ]
    }
   ],
   "source": [
    "first = [2, 4, 6]\n",
    "second = [2, 4, 6]\n",
    "for i in first:\n",
    "    for j in second:\n",
    "        if i == j:\n",
    "            continue\n",
    "        print(i, '*', j, '= ', i * j)"
   ]
  },
  {
   "cell_type": "raw",
   "id": "c7972c85-3961-4f18-90c9-6ad8daa5cb5a",
   "metadata": {},
   "source": [
    "Lesson 12 Takeaway task\n",
    "NESTED LOOP\n",
    "2nd March 2023\n",
    "1.\tCreate a multiple table where the user inputs the number of rows and columns to be printed.\n"
   ]
  },
  {
   "cell_type": "code",
   "execution_count": 5,
   "id": "e3be7a34-700f-4fea-983c-1bb90fe55720",
   "metadata": {},
   "outputs": [
    {
     "name": "stdin",
     "output_type": "stream",
     "text": [
      "How many rows do you want? 3\n",
      "How many columns do you want? 4\n"
     ]
    },
    {
     "name": "stdout",
     "output_type": "stream",
     "text": [
      "+ \n",
      "+ \n",
      "+ \n",
      "+ \n",
      "+ \n",
      "+ \n",
      "+ \n",
      "+ \n",
      "+ \n",
      "+ \n",
      "+ \n",
      "+ \n"
     ]
    }
   ],
   "source": [
    "#Create a multiple table where the user inputs the number of rows and columns to be printed\n",
    "rows = int(input(\"How many rows do you want?\"))\n",
    "columns = int(input(\"How many columns do you want?\"))\n",
    "\n",
    "for i in range(rows):\n",
    "    for j in range(columns):\n",
    "        print(\"+\", end = \" \")\n",
    "        print('')"
   ]
  },
  {
   "cell_type": "code",
   "execution_count": 6,
   "id": "8c31466e-f30c-4502-a43e-55e15224d411",
   "metadata": {},
   "outputs": [
    {
     "name": "stdin",
     "output_type": "stream",
     "text": [
      "How many rows do you want? 4\n",
      "How many columns do you want? 5\n"
     ]
    },
    {
     "name": "stdout",
     "output_type": "stream",
     "text": [
      " +  +  +  +  + \n",
      " +  +  +  +  + \n",
      " +  +  +  +  + \n",
      " +  +  +  +  + \n",
      "\n"
     ]
    }
   ],
   "source": [
    "#Create a multiple table where the user inputs the number of rows and columns to be printed\n",
    "rows = int(input(\"How many rows do you want?\"))\n",
    "columns = int(input(\"How many columns do you want?\"))\n",
    "table = \"\"\n",
    "\n",
    "for i in range(rows):\n",
    "    for j in range(columns):\n",
    "        table = table + \" + \"\n",
    "    table = table + \"\\n\"\n",
    "\n",
    "print(table)"
   ]
  },
  {
   "cell_type": "code",
   "execution_count": 7,
   "id": "7ac1180d-2742-4532-9dc8-c5b0871bb6cb",
   "metadata": {},
   "outputs": [
    {
     "name": "stdin",
     "output_type": "stream",
     "text": [
      "How many rows do you want? 6\n",
      "How many columns do you want? 8\n"
     ]
    },
    {
     "name": "stdout",
     "output_type": "stream",
     "text": [
      " +  +  +  +  +  +  +  + \n",
      " +  +  +  +  +  +  +  + \n",
      " +  +  +  +  +  +  +  + \n",
      " +  +  +  +  +  +  +  + \n",
      " +  +  +  +  +  +  +  + \n",
      " +  +  +  +  +  +  +  + \n"
     ]
    }
   ],
   "source": [
    "#Create a multiple table where the user inputs the number of rows and columns to be printed\n",
    "rows = int(input(\"How many rows do you want?\"))\n",
    "columns = int(input(\"How many columns do you want?\"))\n",
    "table = \"\"\n",
    "\n",
    "for i in range(rows):\n",
    "    for j in range(columns):\n",
    "        print(\" + \", end=\"\" )\n",
    "    print()   \n"
   ]
  },
  {
   "cell_type": "code",
   "execution_count": 8,
   "id": "9de0d722-15cc-499b-bd47-0f021e7d3495",
   "metadata": {},
   "outputs": [
    {
     "name": "stdout",
     "output_type": "stream",
     "text": [
      "0 0 0 1 0 2 \n",
      "1 0 1 1 1 2 \n",
      "2 0 2 1 2 2 \n"
     ]
    }
   ],
   "source": [
    "#Nested Loops - each iteration in the outside for loop has to return to each iteration\n",
    "for i in range(3):\n",
    "    for j in range(3):\n",
    "        print(i,j, end = \" \")\n",
    "    print()"
   ]
  },
  {
   "cell_type": "code",
   "execution_count": 9,
   "id": "c2e29775-d6c3-422f-9866-823c7745634c",
   "metadata": {},
   "outputs": [
    {
     "name": "stdout",
     "output_type": "stream",
     "text": [
      "Jack earns 10000: \n",
      "Jack earns 30000: \n",
      "Ann earns 10000: \n",
      "Ann earns 30000: \n"
     ]
    }
   ],
   "source": [
    "employees = [\"Jack\", \"Ann\"]\n",
    "salaries = [10000, 30000]\n",
    "\n",
    "for employee in employees:\n",
    "    for salary in salaries:\n",
    "        print(\"{} earns {}: \".format(employee, salary))"
   ]
  },
  {
   "cell_type": "code",
   "execution_count": null,
   "id": "3d455c71-6a1c-4648-a76d-327e420e3df5",
   "metadata": {},
   "outputs": [],
   "source": []
  }
 ],
 "metadata": {
  "kernelspec": {
   "display_name": "Python 3 (ipykernel)",
   "language": "python",
   "name": "python3"
  },
  "language_info": {
   "codemirror_mode": {
    "name": "ipython",
    "version": 3
   },
   "file_extension": ".py",
   "mimetype": "text/x-python",
   "name": "python",
   "nbconvert_exporter": "python",
   "pygments_lexer": "ipython3",
   "version": "3.9.13"
  }
 },
 "nbformat": 4,
 "nbformat_minor": 5
}
