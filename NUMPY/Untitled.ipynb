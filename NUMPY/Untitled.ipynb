{
 "cells": [
  {
   "cell_type": "code",
   "execution_count": 1,
   "id": "00bcf9c0-a742-472e-a064-1447d16ed6f6",
   "metadata": {},
   "outputs": [],
   "source": [
    "import numpy as np"
   ]
  },
  {
   "cell_type": "code",
   "execution_count": 2,
   "id": "f92230d0-8f0c-40bc-a459-7167495ee1f0",
   "metadata": {},
   "outputs": [
    {
     "name": "stdout",
     "output_type": "stream",
     "text": [
      "[1, 2, 3]\n",
      "<class 'list'>\n"
     ]
    }
   ],
   "source": [
    "my_list = [1, 2, 3]\n",
    "print(my_list)\n",
    "print(type(my_list))"
   ]
  },
  {
   "cell_type": "code",
   "execution_count": 3,
   "id": "05b981b3-4b77-49d3-8ae5-d326b71637d8",
   "metadata": {},
   "outputs": [
    {
     "name": "stdout",
     "output_type": "stream",
     "text": [
      "[1 2 3]\n",
      "<class 'numpy.ndarray'>\n"
     ]
    },
    {
     "data": {
      "text/plain": [
       "dtype('int32')"
      ]
     },
     "execution_count": 3,
     "metadata": {},
     "output_type": "execute_result"
    }
   ],
   "source": [
    "arr1 = np.array(my_list)\n",
    "print(arr1)\n",
    "print(type(arr1))\n",
    "arr1.dtype"
   ]
  },
  {
   "cell_type": "code",
   "execution_count": 4,
   "id": "3c28b117-cdf3-45bd-819e-0dbee6f407a8",
   "metadata": {},
   "outputs": [
    {
     "name": "stdout",
     "output_type": "stream",
     "text": [
      "float64\n",
      "[1. 2. 3. 4. 5. 7.]\n"
     ]
    }
   ],
   "source": [
    "#we can do conversions\n",
    "a = np.array([1, 2, 3, 4, 5, 7], dtype=\"float64\")\n",
    "print(a.dtype)\n",
    "print(a)"
   ]
  },
  {
   "cell_type": "code",
   "execution_count": 5,
   "id": "990c04a4-85bd-4439-9d44-9262c19895ab",
   "metadata": {},
   "outputs": [
    {
     "name": "stdout",
     "output_type": "stream",
     "text": [
      "[1.  1.  1.4]\n",
      "float64\n",
      "<class 'numpy.ndarray'>\n"
     ]
    }
   ],
   "source": [
    "#when you have int and float - converts all to float\n",
    "p = np.array([1, 1, 1.4])\n",
    "print(p)\n",
    "print(p.dtype)\n",
    "print(type(p))"
   ]
  },
  {
   "cell_type": "markdown",
   "id": "af61e278-a52a-40f4-a063-d8bcaa044469",
   "metadata": {},
   "source": [
    "# Heading\n",
    "## Heading\n",
    "\n",
    "- **to make bold**\n",
    "- <u>to underline<u/>\n",
    "- <i>to italics<i/>\n",
    "- _italics also_\n",
    "- ~strike through~\n",
    "- <del>strike through also<del>\n",
    "- `highlight`"
   ]
  },
  {
   "cell_type": "code",
   "execution_count": 7,
   "id": "f98f9f7d-58de-4362-b01a-2e7b4d56aa74",
   "metadata": {},
   "outputs": [
    {
     "ename": "AttributeError",
     "evalue": "'list' object has no attribute 'shape'",
     "output_type": "error",
     "traceback": [
      "\u001b[1;31m---------------------------------------------------------------------------\u001b[0m",
      "\u001b[1;31mAttributeError\u001b[0m                            Traceback (most recent call last)",
      "\u001b[1;32m~\\AppData\\Local\\Temp\\ipykernel_5268\\1403895998.py\u001b[0m in \u001b[0;36m<module>\u001b[1;34m\u001b[0m\n\u001b[0;32m      1\u001b[0m \u001b[1;31m#list cant give shape\u001b[0m\u001b[1;33m\u001b[0m\u001b[1;33m\u001b[0m\u001b[0m\n\u001b[0;32m      2\u001b[0m \u001b[0mx\u001b[0m\u001b[1;33m=\u001b[0m\u001b[1;33m[\u001b[0m\u001b[1;36m1\u001b[0m\u001b[1;33m,\u001b[0m\u001b[1;36m2\u001b[0m\u001b[1;33m,\u001b[0m\u001b[1;36m3\u001b[0m\u001b[1;33m,\u001b[0m\u001b[1;36m4\u001b[0m\u001b[1;33m,\u001b[0m\u001b[1;36m5.0\u001b[0m\u001b[1;33m]\u001b[0m\u001b[1;33m\u001b[0m\u001b[1;33m\u001b[0m\u001b[0m\n\u001b[1;32m----> 3\u001b[1;33m \u001b[0mx\u001b[0m\u001b[1;33m.\u001b[0m\u001b[0mshape\u001b[0m\u001b[1;33m(\u001b[0m\u001b[1;33m)\u001b[0m\u001b[1;33m\u001b[0m\u001b[1;33m\u001b[0m\u001b[0m\n\u001b[0m",
      "\u001b[1;31mAttributeError\u001b[0m: 'list' object has no attribute 'shape'"
     ]
    }
   ],
   "source": [
    "#list cant give shape\n",
    "x=[1,2,3,4,5.0]\n",
    "x.shape()"
   ]
  },
  {
   "cell_type": "code",
   "execution_count": 8,
   "id": "b5a329dd-2521-4610-bcba-f8ccf0ba66a8",
   "metadata": {},
   "outputs": [
    {
     "data": {
      "text/plain": [
       "(1, 1, 4)"
      ]
     },
     "execution_count": 8,
     "metadata": {},
     "output_type": "execute_result"
    }
   ],
   "source": [
    "#extarct data\n",
    "f=np.array([[[1,2,3,6.2]]])\n",
    "#f[2]=0\n",
    "f\n",
    "f.shape\n",
    "#f.size\n",
    "#f.ndim #number of square brackets"
   ]
  },
  {
   "cell_type": "code",
   "execution_count": 9,
   "id": "ad5dc398-a76f-453d-af2c-17d0f1ffeccb",
   "metadata": {},
   "outputs": [
    {
     "data": {
      "text/plain": [
       "(1, 1, 4)"
      ]
     },
     "execution_count": 9,
     "metadata": {},
     "output_type": "execute_result"
    }
   ],
   "source": [
    "f=np.array([[[1,2,3,6.2]]])\n",
    "#f[2]=0\n",
    "f\n",
    "f.shape #brackests"
   ]
  },
  {
   "cell_type": "markdown",
   "id": "caf91664-7f28-478a-8cd2-da9bf36c855b",
   "metadata": {
    "tags": []
   },
   "source": [
    "# BUILT IN METHODS"
   ]
  },
  {
   "cell_type": "code",
   "execution_count": 10,
   "id": "42261a2e-c0ed-4d1d-a4bb-5ef2ecd53389",
   "metadata": {},
   "outputs": [],
   "source": [
    "#generate arrays\n",
    "import numpy as np"
   ]
  },
  {
   "cell_type": "code",
   "execution_count": 11,
   "id": "29dd365d-e9f0-4751-8f81-aeef5a5ff7a7",
   "metadata": {},
   "outputs": [
    {
     "data": {
      "text/plain": [
       "array([ 0,  1,  2,  3,  4,  5,  6,  7,  8,  9, 10, 11, 12, 13, 14, 15, 16,\n",
       "       17, 18, 19, 20, 21, 22, 23, 24, 25])"
      ]
     },
     "execution_count": 11,
     "metadata": {},
     "output_type": "execute_result"
    }
   ],
   "source": [
    "#use arrange function\n",
    "np.arange(0, 26)"
   ]
  },
  {
   "cell_type": "code",
   "execution_count": 12,
   "id": "f37ebab9-48fa-49f0-ad39-eb534bde9e89",
   "metadata": {},
   "outputs": [
    {
     "data": {
      "text/plain": [
       "array([  0,   2,   4,   6,   8,  10,  12,  14,  16,  18,  20,  22,  24,\n",
       "        26,  28,  30,  32,  34,  36,  38,  40,  42,  44,  46,  48,  50,\n",
       "        52,  54,  56,  58,  60,  62,  64,  66,  68,  70,  72,  74,  76,\n",
       "        78,  80,  82,  84,  86,  88,  90,  92,  94,  96,  98, 100, 102,\n",
       "       104, 106, 108, 110, 112, 114, 116, 118, 120, 122, 124, 126, 128,\n",
       "       130, 132, 134, 136, 138, 140, 142, 144, 146, 148, 150, 152, 154,\n",
       "       156, 158, 160, 162, 164, 166, 168, 170, 172, 174, 176, 178, 180,\n",
       "       182, 184, 186, 188, 190, 192, 194, 196, 198])"
      ]
     },
     "execution_count": 12,
     "metadata": {},
     "output_type": "execute_result"
    }
   ],
   "source": [
    "np.arange(0, 200, 2)#start, end and spacing]"
   ]
  },
  {
   "cell_type": "code",
   "execution_count": 13,
   "id": "06870579-0e2a-485d-a037-49bb39027dea",
   "metadata": {},
   "outputs": [
    {
     "data": {
      "text/plain": [
       "array([0., 0., 0., 0., 0.])"
      ]
     },
     "execution_count": 13,
     "metadata": {},
     "output_type": "execute_result"
    }
   ],
   "source": [
    "np.zeros(5)"
   ]
  },
  {
   "cell_type": "code",
   "execution_count": null,
   "id": "a8820081-b17b-4321-9c6e-73bedd5a73ac",
   "metadata": {},
   "outputs": [],
   "source": []
  }
 ],
 "metadata": {
  "kernelspec": {
   "display_name": "Python 3 (ipykernel)",
   "language": "python",
   "name": "python3"
  },
  "language_info": {
   "codemirror_mode": {
    "name": "ipython",
    "version": 3
   },
   "file_extension": ".py",
   "mimetype": "text/x-python",
   "name": "python",
   "nbconvert_exporter": "python",
   "pygments_lexer": "ipython3",
   "version": "3.9.13"
  }
 },
 "nbformat": 4,
 "nbformat_minor": 5
}
