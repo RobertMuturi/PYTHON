{
 "cells": [
  {
   "cell_type": "code",
   "execution_count": 1,
   "id": "aacb6780-1df5-4594-b5de-28dc4550dc7b",
   "metadata": {},
   "outputs": [],
   "source": [
    "import numpy as np"
   ]
  },
  {
   "cell_type": "markdown",
   "id": "a8035f74-34dc-40e2-8b30-23173aaf7cdc",
   "metadata": {},
   "source": [
    "**Exercise Q1**\n",
    "\n",
    "Find sqrt, cosine and sin using arrays"
   ]
  },
  {
   "cell_type": "code",
   "execution_count": 2,
   "id": "7cbe7308-7a6b-4977-af33-0087b5d9fcef",
   "metadata": {},
   "outputs": [
    {
     "name": "stdout",
     "output_type": "stream",
     "text": [
      "<class 'numpy.ndarray'>\n"
     ]
    }
   ],
   "source": [
    "p =  np.array([1, 2, 3, 4, 5, 7], dtype=\"float64\")\n",
    "print(type(p))"
   ]
  },
  {
   "cell_type": "code",
   "execution_count": 3,
   "id": "84be85b9-0110-414d-99ba-39a983a3696f",
   "metadata": {},
   "outputs": [
    {
     "data": {
      "text/plain": [
       "array([ 0.84147098,  0.90929743,  0.14112001, -0.7568025 , -0.95892427,\n",
       "        0.6569866 ])"
      ]
     },
     "execution_count": 3,
     "metadata": {},
     "output_type": "execute_result"
    }
   ],
   "source": [
    "np.sin(p)"
   ]
  },
  {
   "cell_type": "code",
   "execution_count": 4,
   "id": "04f64d41-5d16-46f4-ab0e-e143c12caadf",
   "metadata": {},
   "outputs": [
    {
     "data": {
      "text/plain": [
       "array([ 0.54030231, -0.41614684, -0.9899925 , -0.65364362,  0.28366219,\n",
       "        0.75390225])"
      ]
     },
     "execution_count": 4,
     "metadata": {},
     "output_type": "execute_result"
    }
   ],
   "source": [
    "np.cos(p)"
   ]
  },
  {
   "cell_type": "code",
   "execution_count": 5,
   "id": "62e65cfc-0896-495a-9e7f-72b479dc9fba",
   "metadata": {},
   "outputs": [
    {
     "data": {
      "text/plain": [
       "array([1.        , 1.41421356, 1.73205081, 2.        , 2.23606798,\n",
       "       2.64575131])"
      ]
     },
     "execution_count": 5,
     "metadata": {},
     "output_type": "execute_result"
    }
   ],
   "source": [
    "np.sqrt(p)"
   ]
  },
  {
   "cell_type": "markdown",
   "id": "a1a16f63-9c29-4278-b79e-f4df93bc769d",
   "metadata": {},
   "source": [
    "**Exercise Q2**\n",
    "\n",
    "Extract\n",
    "[6, 8, 10]\n",
    "[24, 26, 28]"
   ]
  },
  {
   "cell_type": "code",
   "execution_count": 6,
   "id": "f3a52eb7-5cb0-44f5-b2fc-999663b0bf38",
   "metadata": {},
   "outputs": [
    {
     "data": {
      "text/plain": [
       "array([ 0,  1,  2,  3,  4,  5,  6,  7,  8,  9, 10, 11, 12, 13, 14, 15, 16,\n",
       "       17, 18, 19, 20, 21, 22, 23, 24, 25, 26, 27, 28, 29, 30, 31, 32, 33,\n",
       "       34, 35])"
      ]
     },
     "execution_count": 6,
     "metadata": {},
     "output_type": "execute_result"
    }
   ],
   "source": [
    "a = np.arange(36)\n",
    "a"
   ]
  },
  {
   "cell_type": "code",
   "execution_count": 7,
   "id": "39fd23ae-76a6-4ccd-a86a-c7915cada8cf",
   "metadata": {},
   "outputs": [
    {
     "data": {
      "text/plain": [
       "array([[ 0,  1,  2,  3,  4,  5],\n",
       "       [ 6,  7,  8,  9, 10, 11],\n",
       "       [12, 13, 14, 15, 16, 17],\n",
       "       [18, 19, 20, 21, 22, 23],\n",
       "       [24, 25, 26, 27, 28, 29],\n",
       "       [30, 31, 32, 33, 34, 35]])"
      ]
     },
     "execution_count": 7,
     "metadata": {},
     "output_type": "execute_result"
    }
   ],
   "source": [
    "ab = a.reshape(6, 6)\n",
    "ab"
   ]
  },
  {
   "cell_type": "code",
   "execution_count": 8,
   "id": "d91ba15f-3ba4-47df-ac4e-97f11bc46d00",
   "metadata": {},
   "outputs": [
    {
     "data": {
      "text/plain": [
       "array([[ 6,  8, 10],\n",
       "       [24, 26, 28]])"
      ]
     },
     "execution_count": 8,
     "metadata": {},
     "output_type": "execute_result"
    }
   ],
   "source": [
    "ab[1:5:3, 0:5:2]"
   ]
  },
  {
   "cell_type": "markdown",
   "id": "767fe920-24f4-4158-b1ad-881a12921022",
   "metadata": {},
   "source": [
    "# Chapter 1 Assignment\n",
    "- Create a null array of size 10 but the fifth value which is 1"
   ]
  },
  {
   "cell_type": "code",
   "execution_count": 9,
   "id": "605cc66e-ee27-4325-a5d2-69ccaead58a5",
   "metadata": {},
   "outputs": [
    {
     "data": {
      "text/plain": [
       "array([10, 11, 12, 13,  1, 15, 16, 17, 18, 19])"
      ]
     },
     "execution_count": 9,
     "metadata": {},
     "output_type": "execute_result"
    }
   ],
   "source": [
    "arr = np.arange(10,20)\n",
    "arr[4] = 1\n",
    "arr"
   ]
  },
  {
   "cell_type": "markdown",
   "id": "c8496a8e-7316-4dd9-a3d7-7951b2db4539",
   "metadata": {},
   "source": [
    "- Reverse a above created array (first element becomes last)"
   ]
  },
  {
   "cell_type": "code",
   "execution_count": 10,
   "id": "31aed9ec-605e-4209-a1c6-84e47c2e30ec",
   "metadata": {},
   "outputs": [
    {
     "name": "stdout",
     "output_type": "stream",
     "text": [
      "[19 18 17 16 15  1 13 12 11 10]\n"
     ]
    }
   ],
   "source": [
    "print(np.flip(arr))"
   ]
  },
  {
   "cell_type": "markdown",
   "id": "158347f8-f870-4756-9c6e-50254ec6b913",
   "metadata": {},
   "source": [
    "- Create a 3x3 matrix with values ranging from 0 to 8"
   ]
  },
  {
   "cell_type": "code",
   "execution_count": 11,
   "id": "ad4d5d49-48d9-423d-a087-18125fae7d7d",
   "metadata": {},
   "outputs": [
    {
     "name": "stdout",
     "output_type": "stream",
     "text": [
      "[0 1 2 3 4 5 6 7 8]\n"
     ]
    },
    {
     "data": {
      "text/plain": [
       "array([[0, 1, 2],\n",
       "       [3, 4, 5],\n",
       "       [6, 7, 8]])"
      ]
     },
     "execution_count": 11,
     "metadata": {},
     "output_type": "execute_result"
    }
   ],
   "source": [
    "a = np.arange(9)\n",
    "print(a)\n",
    "b = a.reshape(3,3)\n",
    "b"
   ]
  },
  {
   "cell_type": "markdown",
   "id": "32cb7eac-9e80-40d4-a7e3-c7369687a213",
   "metadata": {},
   "source": [
    "- Find indices of non-zero elements from [1,2,0,0,4,0]"
   ]
  },
  {
   "cell_type": "code",
   "execution_count": 12,
   "id": "76c2d268-6c3a-4797-bf1e-bad2fc0b45c5",
   "metadata": {},
   "outputs": [
    {
     "name": "stdout",
     "output_type": "stream",
     "text": [
      "[1 2 0 0 4 0]\n",
      "(array([0, 1, 4], dtype=int64),)\n"
     ]
    }
   ],
   "source": [
    "c = np.array([1,2,0,0,4,0])\n",
    "print(c)\n",
    "d = np.nonzero(c)\n",
    "print(d)"
   ]
  },
  {
   "cell_type": "markdown",
   "id": "50eca9ac-e9e3-4286-9699-4c0bc7486711",
   "metadata": {},
   "source": [
    "- Create a 3x3x3 array with random values"
   ]
  },
  {
   "cell_type": "code",
   "execution_count": 13,
   "id": "e0307289-ca53-4768-b50a-b67d1cadc81c",
   "metadata": {},
   "outputs": [
    {
     "data": {
      "text/plain": [
       "array([[[ 6,  6,  4],\n",
       "        [15,  7,  2],\n",
       "        [11,  1, 16]],\n",
       "\n",
       "       [[15,  0, 12],\n",
       "        [11,  3,  6],\n",
       "        [ 0,  7,  0]],\n",
       "\n",
       "       [[ 9,  7,  4],\n",
       "        [19, 11,  3],\n",
       "        [18,  5,  8]]])"
      ]
     },
     "execution_count": 13,
     "metadata": {},
     "output_type": "execute_result"
    }
   ],
   "source": [
    "np.random.randint(20, size = (3, 3, 3))"
   ]
  },
  {
   "cell_type": "markdown",
   "id": "a0aac71b-e2cc-4c5b-add4-09753ec3c455",
   "metadata": {},
   "source": [
    "- Create a 10x10 array with random values and find the minimum and maximum values"
   ]
  },
  {
   "cell_type": "code",
   "execution_count": 14,
   "id": "682b5d86-6161-4c14-abb5-784355a76106",
   "metadata": {},
   "outputs": [
    {
     "name": "stdout",
     "output_type": "stream",
     "text": [
      "[[24 26  3  6 27 15 26 14  8 20]\n",
      " [ 7  2 19  0 25  7 24 15 11  8]\n",
      " [25  0 11 14 26 21 20 19 14  0]\n",
      " [27  8 25 13  8  3 13 12 11 10]\n",
      " [11  0 24 23  6 27  5 11 19  8]\n",
      " [20 10 24 25 29 10  6 29  4 14]\n",
      " [ 8 17 23  2 10 18 19 26 19 17]\n",
      " [25 10 21 21  1 22 20 17 21  1]\n",
      " [17 20 23  8 13 16 21 18 24  3]\n",
      " [25 21 21  9 10 11  2 13 10 29]]\n",
      "29\n",
      "0\n"
     ]
    }
   ],
   "source": [
    "e = np.random.randint(30, size =(10, 10))\n",
    "print(e)\n",
    "print(e.max())\n",
    "print(e.min())"
   ]
  },
  {
   "cell_type": "markdown",
   "id": "48adef12-fee1-43c5-a1db-c98499cb507b",
   "metadata": {},
   "source": [
    "- Create a random vector of size 30 and find the mean value"
   ]
  },
  {
   "cell_type": "code",
   "execution_count": 15,
   "id": "463e669c-7500-4f9a-96f2-a6644fa1e4c0",
   "metadata": {},
   "outputs": [
    {
     "name": "stdout",
     "output_type": "stream",
     "text": [
      "[ 7 17  6 32 20 97 90 55 11 17 49 27  2 42 77 84 33 93 39 79 24 22 54 56\n",
      " 44 36 18 65 72 62]\n",
      "44.333333333333336\n"
     ]
    }
   ],
   "source": [
    "f = np.random.randint(1, 100, 30)\n",
    "print(f)\n",
    "print(np.mean(f))"
   ]
  },
  {
   "cell_type": "markdown",
   "id": "f8cd64d9-a9f6-4e00-92a6-702c78cdc0cc",
   "metadata": {},
   "source": [
    "- Create a 2d array with 1 on the border and 0 inside"
   ]
  },
  {
   "cell_type": "code",
   "execution_count": 16,
   "id": "6fac3bcc-bb31-43a5-bc8a-35ceeec6dea4",
   "metadata": {},
   "outputs": [
    {
     "name": "stdout",
     "output_type": "stream",
     "text": [
      "[[1. 1. 1. 1.]\n",
      " [1. 1. 1. 1.]\n",
      " [1. 1. 1. 1.]\n",
      " [1. 1. 1. 1.]]\n"
     ]
    },
    {
     "data": {
      "text/plain": [
       "array([[1., 1., 1., 1.],\n",
       "       [1., 0., 0., 1.],\n",
       "       [1., 0., 0., 1.],\n",
       "       [1., 1., 1., 1.]])"
      ]
     },
     "execution_count": 16,
     "metadata": {},
     "output_type": "execute_result"
    }
   ],
   "source": [
    "g = np.ones((4,4))\n",
    "print(g)\n",
    "g[1:3,1:3] = 0\n",
    "g"
   ]
  },
  {
   "cell_type": "markdown",
   "id": "ff894666-32ff-4351-9393-84c242d4c9da",
   "metadata": {},
   "source": [
    "- Multiply a 5x3 matrix by a 3x2 matrix (real matrix product)"
   ]
  },
  {
   "cell_type": "code",
   "execution_count": 17,
   "id": "35820d65-dda6-44b9-a3bd-307e00208d3e",
   "metadata": {},
   "outputs": [
    {
     "name": "stdout",
     "output_type": "stream",
     "text": [
      "[[ 8  8  3]\n",
      " [ 7 13  9]\n",
      " [ 5  4  0]\n",
      " [ 2 12  3]\n",
      " [ 5 19  3]]\n",
      "[[17  9]\n",
      " [ 1  9]\n",
      " [13  6]]\n"
     ]
    }
   ],
   "source": [
    "h = np.random.randint(20, size=(5, 3))\n",
    "i = np.random.randint(20, size=(3, 2))\n",
    "print(h)\n",
    "print(i)"
   ]
  },
  {
   "cell_type": "code",
   "execution_count": 18,
   "id": "31df319d-d5c1-45ba-a337-429e0c186fd5",
   "metadata": {},
   "outputs": [
    {
     "data": {
      "text/plain": [
       "array([[183, 162],\n",
       "       [249, 234],\n",
       "       [ 89,  81],\n",
       "       [ 85, 144],\n",
       "       [143, 234]])"
      ]
     },
     "execution_count": 18,
     "metadata": {},
     "output_type": "execute_result"
    }
   ],
   "source": [
    "z = np.matmul(h, i)\n",
    "z"
   ]
  },
  {
   "cell_type": "code",
   "execution_count": 19,
   "id": "80cd3c6c-c725-408c-80a0-5e327c5513a8",
   "metadata": {},
   "outputs": [
    {
     "data": {
      "text/plain": [
       "array([[183, 162],\n",
       "       [249, 234],\n",
       "       [ 89,  81],\n",
       "       [ 85, 144],\n",
       "       [143, 234]])"
      ]
     },
     "execution_count": 19,
     "metadata": {},
     "output_type": "execute_result"
    }
   ],
   "source": [
    "result = h@i\n",
    "result"
   ]
  },
  {
   "cell_type": "markdown",
   "id": "3e5adf96-ff66-46e2-9cd8-ef110f9b4630",
   "metadata": {},
   "source": [
    "- Extract the integer part of a random array"
   ]
  },
  {
   "cell_type": "code",
   "execution_count": 20,
   "id": "d70ae0e5-d8a4-4907-84f9-ea8579c3e6a7",
   "metadata": {},
   "outputs": [
    {
     "data": {
      "text/plain": [
       "array([[11, 18,  4, 10,  4],\n",
       "       [ 8,  2, 17, 15, 18],\n",
       "       [13,  3, 13, 19,  1]])"
      ]
     },
     "execution_count": 20,
     "metadata": {},
     "output_type": "execute_result"
    }
   ],
   "source": [
    "j = np.random.randint(1, 20, 15).reshape(3,5)\n",
    "j"
   ]
  },
  {
   "cell_type": "code",
   "execution_count": 21,
   "id": "c0978368-3749-4c1c-81b2-5b98b4023ceb",
   "metadata": {},
   "outputs": [
    {
     "data": {
      "text/plain": [
       "array([4, 4, 8])"
      ]
     },
     "execution_count": 21,
     "metadata": {},
     "output_type": "execute_result"
    }
   ],
   "source": [
    "condition = np.mod(j, 4)==0\n",
    "np.extract(condition, j)"
   ]
  },
  {
   "cell_type": "markdown",
   "id": "1b7aa0c3-61fa-4586-8f95-af192227c43b",
   "metadata": {},
   "source": [
    "- Create a 5x5 matrix with row values ranging from 0 to 4"
   ]
  },
  {
   "cell_type": "code",
   "execution_count": 22,
   "id": "cf0ef08d-c987-4b2d-85cc-f959b05cdde0",
   "metadata": {},
   "outputs": [
    {
     "data": {
      "text/plain": [
       "array([[2, 1, 2, 1, 0],\n",
       "       [1, 2, 0, 1, 1],\n",
       "       [0, 3, 2, 0, 0],\n",
       "       [1, 2, 2, 3, 1],\n",
       "       [2, 0, 3, 1, 2]])"
      ]
     },
     "execution_count": 22,
     "metadata": {},
     "output_type": "execute_result"
    }
   ],
   "source": [
    "np.random.randint(4, size=(5,5))"
   ]
  },
  {
   "cell_type": "markdown",
   "id": "adddae2a-2c38-462f-b900-e3ded2d74f9d",
   "metadata": {},
   "source": [
    "- Create a random vector of size 10 and sort it"
   ]
  },
  {
   "cell_type": "code",
   "execution_count": 23,
   "id": "61120a93-039b-48c9-91f1-1dec4ab9a7ba",
   "metadata": {},
   "outputs": [
    {
     "data": {
      "text/plain": [
       "array([ 0, 14,  3, 13,  7,  5,  4, 16,  0, 19])"
      ]
     },
     "execution_count": 23,
     "metadata": {},
     "output_type": "execute_result"
    }
   ],
   "source": [
    "k = np.random.randint(0,20,10)\n",
    "k"
   ]
  },
  {
   "cell_type": "code",
   "execution_count": 24,
   "id": "c3236a77-6dae-4fe4-b773-5f673208a548",
   "metadata": {},
   "outputs": [
    {
     "data": {
      "text/plain": [
       "array([ 0,  0,  3,  4,  5,  7, 13, 14, 16, 19])"
      ]
     },
     "execution_count": 24,
     "metadata": {},
     "output_type": "execute_result"
    }
   ],
   "source": [
    "np.sort(k)"
   ]
  },
  {
   "cell_type": "markdown",
   "id": "071fd713-4040-41c0-a5cf-6771b50afced",
   "metadata": {},
   "source": [
    "- Consider two random array A anb B, check if they are equal"
   ]
  },
  {
   "cell_type": "code",
   "execution_count": 25,
   "id": "b75d4295-e018-4152-9686-54d712bf8720",
   "metadata": {},
   "outputs": [
    {
     "name": "stdout",
     "output_type": "stream",
     "text": [
      "[ 4  8 18 16  8  7  2 16 12 15]\n",
      "[18 16  5  6  8  3 15  5  3 13]\n"
     ]
    },
    {
     "data": {
      "text/plain": [
       "False"
      ]
     },
     "execution_count": 25,
     "metadata": {},
     "output_type": "execute_result"
    }
   ],
   "source": [
    "l = np.random.randint(0,20,10)\n",
    "m = np.random.randint(0,20,10)\n",
    "print(l)\n",
    "print(m)\n",
    "np.array_equal(l,m)"
   ]
  },
  {
   "cell_type": "markdown",
   "id": "b04eeb11-b9d5-4cb1-8453-37e2844e8917",
   "metadata": {},
   "source": [
    "- How to tell if a given 2D array has null columns?"
   ]
  },
  {
   "cell_type": "code",
   "execution_count": 26,
   "id": "2593a26f-ec56-4648-aa34-ca5d6e07c667",
   "metadata": {},
   "outputs": [
    {
     "data": {
      "text/plain": [
       "array([[ 1.,  2.,  3.,  0.],\n",
       "       [10., nan,  0., 13.]])"
      ]
     },
     "execution_count": 26,
     "metadata": {},
     "output_type": "execute_result"
    }
   ],
   "source": [
    "n = np.array([[1,2,3,0],[10,np.NaN ,0 ,13]])\n",
    "n"
   ]
  },
  {
   "cell_type": "code",
   "execution_count": 27,
   "id": "425b9d8f-03c5-45b4-a139-7b1aed37dd95",
   "metadata": {},
   "outputs": [
    {
     "data": {
      "text/plain": [
       "array([[False, False, False, False],\n",
       "       [False,  True, False, False]])"
      ]
     },
     "execution_count": 27,
     "metadata": {},
     "output_type": "execute_result"
    }
   ],
   "source": [
    "np.isnan(n)"
   ]
  },
  {
   "cell_type": "markdown",
   "id": "324c8f44-c7bb-43cd-b48b-8ec93f591184",
   "metadata": {},
   "source": [
    "- Considering a four dimensions array, how to get sum over the last two axis at once?"
   ]
  },
  {
   "cell_type": "code",
   "execution_count": 28,
   "id": "c345dce6-80c2-4e96-9aff-e0009da33c09",
   "metadata": {},
   "outputs": [
    {
     "name": "stdout",
     "output_type": "stream",
     "text": [
      "[[[[ 0  1  2]\n",
      "   [ 3  4  5]]\n",
      "\n",
      "  [[ 6  7  8]\n",
      "   [ 9 10 11]]\n",
      "\n",
      "  [[12 13 14]\n",
      "   [15 16 17]]]\n",
      "\n",
      "\n",
      " [[[18 19 20]\n",
      "   [21 22 23]]\n",
      "\n",
      "  [[24 25 26]\n",
      "   [27 28 29]]\n",
      "\n",
      "  [[30 31 32]\n",
      "   [33 34 35]]]\n",
      "\n",
      "\n",
      " [[[36 37 38]\n",
      "   [39 40 41]]\n",
      "\n",
      "  [[42 43 44]\n",
      "   [45 46 47]]\n",
      "\n",
      "  [[48 49 50]\n",
      "   [51 52 53]]]\n",
      "\n",
      "\n",
      " [[[54 55 56]\n",
      "   [57 58 59]]\n",
      "\n",
      "  [[60 61 62]\n",
      "   [63 64 65]]\n",
      "\n",
      "  [[66 67 68]\n",
      "   [69 70 71]]]]\n"
     ]
    },
    {
     "data": {
      "text/plain": [
       "4"
      ]
     },
     "execution_count": 28,
     "metadata": {},
     "output_type": "execute_result"
    }
   ],
   "source": [
    "o = np.arange(72)\n",
    "o = np.reshape(o, (4,3,2,3))\n",
    "print(o)\n",
    "o.ndim"
   ]
  },
  {
   "cell_type": "code",
   "execution_count": 29,
   "id": "15955968-9080-4275-ab5d-7edaa0632b53",
   "metadata": {},
   "outputs": [
    {
     "name": "stdout",
     "output_type": "stream",
     "text": [
      "[[ 15  51  87]\n",
      " [123 159 195]\n",
      " [231 267 303]\n",
      " [339 375 411]]\n"
     ]
    }
   ],
   "source": [
    "print(o.sum(axis =(-2, -1)))"
   ]
  },
  {
   "cell_type": "markdown",
   "id": "c1076a40-fe23-49d4-8a02-e4ad00785782",
   "metadata": {},
   "source": [
    "- Consider an array of dimension (5,5,3), how to mulitply it by an array with dimensions (5,5)"
   ]
  },
  {
   "cell_type": "code",
   "execution_count": 30,
   "id": "fe017ff9-eec6-493a-86f0-f34e96b77fa0",
   "metadata": {},
   "outputs": [
    {
     "name": "stdout",
     "output_type": "stream",
     "text": [
      "[[[8 3 1]\n",
      "  [7 9 2]\n",
      "  [6 9 1]\n",
      "  [2 6 0]\n",
      "  [3 8 6]]\n",
      "\n",
      " [[7 9 7]\n",
      "  [7 5 9]\n",
      "  [4 5 5]\n",
      "  [4 5 6]\n",
      "  [4 1 2]]\n",
      "\n",
      " [[8 4 3]\n",
      "  [7 2 2]\n",
      "  [6 9 5]\n",
      "  [9 1 9]\n",
      "  [7 2 1]]\n",
      "\n",
      " [[8 0 8]\n",
      "  [5 9 2]\n",
      "  [1 9 1]\n",
      "  [6 5 3]\n",
      "  [0 2 1]]\n",
      "\n",
      " [[6 6 8]\n",
      "  [1 4 6]\n",
      "  [3 9 9]\n",
      "  [3 6 0]\n",
      "  [4 6 9]]]\n",
      "\n",
      "[[3 5 5 9 6]\n",
      " [0 7 2 0 8]\n",
      " [7 8 4 3 8]\n",
      " [3 4 2 9 8]\n",
      " [5 1 5 2 9]]\n"
     ]
    }
   ],
   "source": [
    "p = np.random.randint(10, size=(5, 5, 3))\n",
    "q = np.random.randint(10, size=(5,5))\n",
    "print(p)\n",
    "print()\n",
    "print(q)\n",
    "q = np.expand_dims(q,axis=2)\n",
    "pq = p*q"
   ]
  },
  {
   "cell_type": "code",
   "execution_count": 31,
   "id": "f5fc5fb8-ac68-4e00-bbfa-011831683619",
   "metadata": {},
   "outputs": [
    {
     "name": "stdout",
     "output_type": "stream",
     "text": [
      "[[[24  9  3]\n",
      "  [35 45 10]\n",
      "  [30 45  5]\n",
      "  [18 54  0]\n",
      "  [18 48 36]]\n",
      "\n",
      " [[ 0  0  0]\n",
      "  [49 35 63]\n",
      "  [ 8 10 10]\n",
      "  [ 0  0  0]\n",
      "  [32  8 16]]\n",
      "\n",
      " [[56 28 21]\n",
      "  [56 16 16]\n",
      "  [24 36 20]\n",
      "  [27  3 27]\n",
      "  [56 16  8]]\n",
      "\n",
      " [[24  0 24]\n",
      "  [20 36  8]\n",
      "  [ 2 18  2]\n",
      "  [54 45 27]\n",
      "  [ 0 16  8]]\n",
      "\n",
      " [[30 30 40]\n",
      "  [ 1  4  6]\n",
      "  [15 45 45]\n",
      "  [ 6 12  0]\n",
      "  [36 54 81]]]\n"
     ]
    }
   ],
   "source": [
    "print(pq)"
   ]
  },
  {
   "cell_type": "markdown",
   "id": "2b971810-8106-40d3-a19f-4beea99587ac",
   "metadata": {},
   "source": [
    "- Extract all the contiguous 3x3 blocks from a random 10x10 matrix"
   ]
  },
  {
   "cell_type": "code",
   "execution_count": 32,
   "id": "10046bc2-a2a7-4252-b404-de7e6ba64649",
   "metadata": {},
   "outputs": [
    {
     "name": "stdout",
     "output_type": "stream",
     "text": [
      "[[0.64037392 0.34809924 0.62419408 0.56152473 0.77866297 0.1557741\n",
      "  0.21319624 0.14305997 0.87674095 0.44423975]\n",
      " [0.55752728 0.54133905 0.58296735 0.89732562 0.8598428  0.01871798\n",
      "  0.7144529  0.88074384 0.04125118 0.04893518]\n",
      " [0.14069406 0.94267996 0.23844561 0.65797099 0.76490549 0.56564741\n",
      "  0.63749902 0.77247264 0.95269598 0.38827482]\n",
      " [0.03275856 0.66378261 0.2997561  0.51279032 0.3634843  0.00771088\n",
      "  0.26617607 0.20753137 0.2746319  0.40945487]\n",
      " [0.91452849 0.55122    0.23785374 0.77430231 0.23932325 0.28954255\n",
      "  0.27544128 0.93018916 0.91089962 0.79787546]\n",
      " [0.07998039 0.57709545 0.34245969 0.47728587 0.64187726 0.70338724\n",
      "  0.2555712  0.48569955 0.98393252 0.2605138 ]\n",
      " [0.54196967 0.75110441 0.84980515 0.29799784 0.00935393 0.74272757\n",
      "  0.61415559 0.08029075 0.66782181 0.78627337]\n",
      " [0.38771549 0.17568109 0.28494538 0.55508132 0.02638193 0.68568725\n",
      "  0.22112705 0.91325693 0.92624125 0.17419151]\n",
      " [0.37838124 0.81870452 0.70943884 0.44100606 0.4914059  0.8648461\n",
      "  0.6486581  0.21244193 0.5285906  0.82639806]\n",
      " [0.28986909 0.58445134 0.91136738 0.8444316  0.85153483 0.07423765\n",
      "  0.86678369 0.52197593 0.38779159 0.91494284]]\n",
      "(8, 8, 3, 3)\n"
     ]
    }
   ],
   "source": [
    "import numpy as np\n",
    "M = np.random.rand(10,10)\n",
    "print(M)\n",
    "shape = (8,8,3,3) # number of blocks along each axis and size of each block\n",
    "strides = M.itemsize * np.array([10,1,10,1]) # number of bytes to skip along each axis\n",
    "blocks = np.lib.stride_tricks.as_strided(M, shape=shape, strides=strides)\n",
    "print(blocks.shape)"
   ]
  },
  {
   "cell_type": "markdown",
   "id": "fbc49b3a-6ff3-4e52-bcd6-65e8b8a647b7",
   "metadata": {},
   "source": [
    "- Consider a 16x16 array, how to get the block-sum (block size is 4x4)?"
   ]
  },
  {
   "cell_type": "code",
   "execution_count": 33,
   "id": "5fb64154-f261-48e6-9a72-6b6dc218df19",
   "metadata": {},
   "outputs": [
    {
     "name": "stdout",
     "output_type": "stream",
     "text": [
      "[[ 9  3 10 17 14  0  4 18 14  7  7  7  4  0  9 13]\n",
      " [10  3  0 19 16 18 16 15 12  1 15  3 12  0  0 18]\n",
      " [ 4 10 17  4 19 17  1 17  0 14 10 18  8 16 17 11]\n",
      " [19 10 19 18  2  3  0 18  9  8  7 18  7 16 12 16]\n",
      " [14 14 14  8 19  2 11 12  6 15  3 19  7  0 12  5]\n",
      " [15  9 11 15 19  6 17 16 12 17 18  2 13 17  5 15]\n",
      " [ 9 13 16  5  5 14 15 12  6 10  5 18 12 14  6 17]\n",
      " [14  1  3 17  7  6  8  5  0 16 12  7 14 13  8  2]\n",
      " [ 3 11 18  2 13 14 15  7 17 19  8  8 14 15 12 11]\n",
      " [ 8  0 10  3 10  4  3  6  6 17 12 13  2 14  4  7]\n",
      " [ 5 11  8  0  4  2 15 13  1 12 12  8 14 15  3  9]\n",
      " [17 10 14  9  6  4 17 17  9 16  3 14 10 14  2 12]\n",
      " [ 1 13  4  6 18  2 12  2 15 18  7  0  2  6 12  6]\n",
      " [ 6  4  5  8  9 19 18 12 15  3  5  4  6  6  9  3]\n",
      " [16 18 19  3 10  9 10  8 14 13  2 17 12 18 17 15]\n",
      " [ 6 13  4 19  3 14  8 16 15 10 15  6 19  5 12  7]]\n",
      "\n",
      "(4, 4)\n"
     ]
    }
   ],
   "source": [
    "import numpy as np\n",
    "A = np.random.randint(20, size=(16,16))\n",
    "print(A)\n",
    "print()\n",
    "B = A.reshape(4 ,4 ,4 ,4 ).sum(axis=(2 ,3 ))\n",
    "print(B.shape)"
   ]
  },
  {
   "cell_type": "code",
   "execution_count": null,
   "id": "cc878b02-9f64-4a58-8022-af37f9c6aa1a",
   "metadata": {},
   "outputs": [],
   "source": []
  }
 ],
 "metadata": {
  "kernelspec": {
   "display_name": "Python 3 (ipykernel)",
   "language": "python",
   "name": "python3"
  },
  "language_info": {
   "codemirror_mode": {
    "name": "ipython",
    "version": 3
   },
   "file_extension": ".py",
   "mimetype": "text/x-python",
   "name": "python",
   "nbconvert_exporter": "python",
   "pygments_lexer": "ipython3",
   "version": "3.9.13"
  }
 },
 "nbformat": 4,
 "nbformat_minor": 5
}
