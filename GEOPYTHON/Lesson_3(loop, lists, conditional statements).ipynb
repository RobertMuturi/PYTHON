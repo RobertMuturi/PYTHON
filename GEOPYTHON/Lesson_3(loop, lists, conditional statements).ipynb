{
 "cells": [
  {
   "cell_type": "code",
   "execution_count": 1,
   "id": "67d0405d",
   "metadata": {},
   "outputs": [],
   "source": [
    "european_cities = [\"Helsinki\", \"Paris\", \"Barcelona\", \"Uppsala\"]"
   ]
  },
  {
   "cell_type": "code",
   "execution_count": 2,
   "id": "43129469",
   "metadata": {},
   "outputs": [
    {
     "data": {
      "text/plain": [
       "'Helsinki'"
      ]
     },
     "execution_count": 2,
     "metadata": {},
     "output_type": "execute_result"
    }
   ],
   "source": [
    "european_cities[0]"
   ]
  },
  {
   "cell_type": "code",
   "execution_count": 3,
   "id": "67363789",
   "metadata": {},
   "outputs": [],
   "source": [
    " european_cities = [\"Amsterdam\", \"Brussels\", \"Lisbon\", \"Reykjavik\"]"
   ]
  },
  {
   "cell_type": "code",
   "execution_count": 4,
   "id": "68502265",
   "metadata": {},
   "outputs": [
    {
     "name": "stdout",
     "output_type": "stream",
     "text": [
      "Amsterdam\n",
      "Brussels\n",
      "Lisbon\n",
      "Reykjavik\n"
     ]
    }
   ],
   "source": [
    "for city in european_cities:\n",
    "    print(city)"
   ]
  },
  {
   "cell_type": "code",
   "execution_count": 5,
   "id": "8f632e8d-d922-4dcd-9c54-1a11a93424db",
   "metadata": {},
   "outputs": [
    {
     "name": "stdout",
     "output_type": "stream",
     "text": [
      "A\n",
      "B\n",
      "L\n",
      "R\n"
     ]
    }
   ],
   "source": [
    "for city in european_cities:\n",
    "    print(city[0])"
   ]
  },
  {
   "cell_type": "code",
   "execution_count": 6,
   "id": "705e4b56",
   "metadata": {},
   "outputs": [],
   "source": [
    "weather_conditions = [\n",
    "    \"rain\",\n",
    "    \"sleet\",\n",
    "    \"snow\",\n",
    "    \"freezing fog\",\n",
    "    \"sunny\",\n",
    "    \"cloudy\",\n",
    "    \"ice pellets\",\n",
    "]"
   ]
  },
  {
   "cell_type": "code",
   "execution_count": 7,
   "id": "23471ee6",
   "metadata": {},
   "outputs": [
    {
     "name": "stdout",
     "output_type": "stream",
     "text": [
      "rain\n",
      "sleet\n",
      "snow\n",
      "freezing fog\n",
      "sunny\n",
      "cloudy\n",
      "ice pellets\n"
     ]
    }
   ],
   "source": [
    "for weather in weather_conditions:\n",
    "    print(weather)"
   ]
  },
  {
   "cell_type": "code",
   "execution_count": 8,
   "id": "79fd3ddb",
   "metadata": {},
   "outputs": [
    {
     "name": "stdout",
     "output_type": "stream",
     "text": [
      "After the loop, weather is ice pellets.\n"
     ]
    }
   ],
   "source": [
    "print(f\"After the loop, weather is {weather}.\")"
   ]
  },
  {
   "cell_type": "code",
   "execution_count": 9,
   "id": "b4542cb2",
   "metadata": {},
   "outputs": [
    {
     "name": "stdout",
     "output_type": "stream",
     "text": [
      "0\n",
      "1\n",
      "2\n",
      "3\n",
      "4\n"
     ]
    }
   ],
   "source": [
    "for value in range(5):\n",
    "    print(value)"
   ]
  },
  {
   "cell_type": "code",
   "execution_count": 10,
   "id": "061b78f3",
   "metadata": {},
   "outputs": [
    {
     "name": "stdout",
     "output_type": "stream",
     "text": [
      "2\n",
      "5\n",
      "8\n"
     ]
    }
   ],
   "source": [
    "for i in range(2, 9, 3):\n",
    "    print(i)"
   ]
  },
  {
   "cell_type": "code",
   "execution_count": 11,
   "id": "83d985df",
   "metadata": {},
   "outputs": [],
   "source": [
    "numbers = [5, 6, 7, 8]"
   ]
  },
  {
   "cell_type": "code",
   "execution_count": 12,
   "id": "8da099d4",
   "metadata": {},
   "outputs": [
    {
     "name": "stdout",
     "output_type": "stream",
     "text": [
      "The value of i: 0\n",
      "The value of numbers[i] before addition: 5\n",
      "The value of numbers[i] after addition: 5\n",
      "\n",
      "The value of i: 1\n",
      "The value of numbers[i] before addition: 6\n",
      "The value of numbers[i] after addition: 7\n",
      "\n",
      "The value of i: 2\n",
      "The value of numbers[i] before addition: 7\n",
      "The value of numbers[i] after addition: 9\n",
      "\n",
      "The value of i: 3\n",
      "The value of numbers[i] before addition: 8\n",
      "The value of numbers[i] after addition: 11\n",
      "\n"
     ]
    }
   ],
   "source": [
    "for i in range(len(numbers)):\n",
    "    print(f\"The value of i: {i}\")\n",
    "    print(f\"The value of numbers[i] before addition: {numbers[i]}\")\n",
    "    numbers[i] = numbers[i] + i\n",
    "    print(f\"The value of numbers[i] after addition: {numbers[i]}\")\n",
    "    print(\"\")"
   ]
  },
  {
   "cell_type": "code",
   "execution_count": 13,
   "id": "e113fc3d",
   "metadata": {},
   "outputs": [
    {
     "name": "stdout",
     "output_type": "stream",
     "text": [
      "[5, 7, 9, 11]\n"
     ]
    }
   ],
   "source": [
    "print(numbers)"
   ]
  },
  {
   "cell_type": "code",
   "execution_count": 14,
   "id": "fbd9c759",
   "metadata": {},
   "outputs": [],
   "source": [
    "cities = [\"Helsinki\", \"Stockholm\", \"Oslo\", \"Reykjavik\", \"Copenhagen\"]"
   ]
  },
  {
   "cell_type": "code",
   "execution_count": 15,
   "id": "4e2054c8",
   "metadata": {},
   "outputs": [],
   "source": [
    "countries = [\"Finland\", \"Sweden\", \"Norway\", \"Iceland\", \"Denmark\"]"
   ]
  },
  {
   "cell_type": "code",
   "execution_count": 16,
   "id": "2cbb78de",
   "metadata": {},
   "outputs": [
    {
     "name": "stdout",
     "output_type": "stream",
     "text": [
      "Helsinki is the capital of Finland.\n",
      "Stockholm is the capital of Sweden.\n",
      "Oslo is the capital of Norway.\n",
      "Reykjavik is the capital of Iceland.\n",
      "Copenhagen is the capital of Denmark.\n"
     ]
    }
   ],
   "source": [
    "for i in range(len(cities)):\n",
    "    print(f\"{cities[i]} is the capital of {countries[i]}.\")"
   ]
  },
  {
   "cell_type": "code",
   "execution_count": 17,
   "id": "71ea8cd9",
   "metadata": {},
   "outputs": [
    {
     "name": "stdout",
     "output_type": "stream",
     "text": [
      "11\n",
      "7\n",
      "11\n",
      "15\n",
      "11\n"
     ]
    }
   ],
   "source": [
    "odd_numbers = [1, 3, 5, 7, 9]\n",
    "even_numbers = [10, 4, 6, 8, 2]\n",
    "for i in range(len(odd_numbers)):\n",
    "    print(odd_numbers[i] + even_numbers[i])"
   ]
  },
  {
   "cell_type": "markdown",
   "id": "9ceba1c0-d3ca-46c8-8e08-4695ee5b8b5a",
   "metadata": {},
   "source": [
    "Conditonal Statements"
   ]
  },
  {
   "cell_type": "code",
   "execution_count": 18,
   "id": "fa1f03ca",
   "metadata": {},
   "outputs": [
    {
     "name": "stdout",
     "output_type": "stream",
     "text": [
      "25 is not hot!\n"
     ]
    }
   ],
   "source": [
    "temperature = 25\n",
    "\n",
    "if temperature > 25:\n",
    "    print(f\"{temperature} is hot!\")\n",
    "else:\n",
    "    print(f\"{temperature} is not hot!\")"
   ]
  },
  {
   "cell_type": "code",
   "execution_count": 19,
   "id": "dd442e06-770b-44b2-83ee-3f200fe621bb",
   "metadata": {},
   "outputs": [],
   "source": [
    "temperature = 25\n",
    "\n",
    "if temperature > 25:\n",
    "    print(f\"{temperature} is greater than 25\")"
   ]
  },
  {
   "cell_type": "code",
   "execution_count": 20,
   "id": "d7592174-e457-4c88-a11e-298f256628d7",
   "metadata": {},
   "outputs": [
    {
     "name": "stdout",
     "output_type": "stream",
     "text": [
      "No raincoat needed\n",
      "wear a raincoat.\n"
     ]
    }
   ],
   "source": [
    "weather = \"Rain\"\n",
    "\n",
    "if weather == \"rain\":\n",
    "    print(\"wear a raincoat.\")\n",
    "else:\n",
    "    print(\"No raincoat needed\")\n",
    "    \n",
    "#for considering lower case\n",
    "weather = \"Rain\"\n",
    "\n",
    "if weather.lower() == \"rain\":\n",
    "    print(\"wear a raincoat.\")\n",
    "else:\n",
    "    print(\"No raincoat needed\")"
   ]
  },
  {
   "cell_type": "code",
   "execution_count": 21,
   "id": "54d4248e-104c-4df7-87af-840374ee83f9",
   "metadata": {},
   "outputs": [
    {
     "name": "stdout",
     "output_type": "stream",
     "text": [
      "wear a raincoat.\n",
      "wear rain boots\n"
     ]
    }
   ],
   "source": [
    "weather = \"Rain\"\n",
    "\n",
    "if weather.lower() == \"rain\":\n",
    "    print(\"wear a raincoat.\")\n",
    "    print(\"wear rain boots\")\n",
    "else:\n",
    "    print(\"No raincoat needed\")\n",
    "    print(\"No rain boots needed\")"
   ]
  },
  {
   "cell_type": "code",
   "execution_count": 22,
   "id": "b24c3e93-2628-4693-9002-08c63fc8da73",
   "metadata": {},
   "outputs": [
    {
     "name": "stdout",
     "output_type": "stream",
     "text": [
      "-5 is below freezing\n"
     ]
    }
   ],
   "source": [
    "#if, elif & else statement\n",
    "temperature = -5\n",
    "\n",
    "if temperature > 0:\n",
    "    print(f\"{temperature} is above freezing\")\n",
    "elif temperature == 0:\n",
    "    print(f\"{temperature} is freezing\")\n",
    "else:\n",
    "    print(f\"{temperature} is below freezing\")"
   ]
  },
  {
   "cell_type": "code",
   "execution_count": 23,
   "id": "27b0a488-72b0-4d49-bf3c-5545c8aaa246",
   "metadata": {},
   "outputs": [
    {
     "name": "stdout",
     "output_type": "stream",
     "text": [
      "B\n"
     ]
    }
   ],
   "source": [
    " yesterday = 14\n",
    "today = 10\n",
    "tomorrow = 13\n",
    "\n",
    "if yesterday <= today:\n",
    "    print(\"A\")\n",
    "elif today != tomorrow:\n",
    "    print(\"B\")\n",
    "elif yesterday > tomorrow:\n",
    "    print(\"C\")\n",
    "elif today == today:\n",
    "    print(\"D\")\n",
    "    \n",
    "#first condition met is executed despite all the other being true."
   ]
  },
  {
   "cell_type": "code",
   "execution_count": 24,
   "id": "3fe66569-3e37-46e3-8a18-44be405819f9",
   "metadata": {},
   "outputs": [
    {
     "name": "stdout",
     "output_type": "stream",
     "text": [
      "At least on part is not true\n",
      "Both parts are true\n"
     ]
    }
   ],
   "source": [
    "if (1 > 0)  and (-1 > 0 ):\n",
    "    print(\"Both parts are true\")\n",
    "else:\n",
    "    print(\"At least on part is not true\")\n",
    "    \n",
    "if (1 > 0 ) and (2 > 0 ):\n",
    "    print(\"Both parts are true\")\n",
    "else:\n",
    "    print(\"At least on part is not true\")"
   ]
  },
  {
   "cell_type": "code",
   "execution_count": 25,
   "id": "9e7df9ca-cdf6-4389-867a-279d157f53c8",
   "metadata": {},
   "outputs": [],
   "source": [
    "if (-1 > 0 ) or (-1 > 0 ):\n",
    "    print(\"At least on part is not true\")"
   ]
  },
  {
   "cell_type": "code",
   "execution_count": 26,
   "id": "44d6f663-99c8-45c6-8b31-a601e7efc288",
   "metadata": {},
   "outputs": [],
   "source": [
    "if (-1 > 0 ) or (2 < 0 ):\n",
    "    print(\"At least on part is not true\")"
   ]
  },
  {
   "cell_type": "code",
   "execution_count": 27,
   "id": "3776be06-8ac3-48fb-91dd-811492c830c5",
   "metadata": {},
   "outputs": [
    {
     "name": "stdout",
     "output_type": "stream",
     "text": [
      "stay home\n"
     ]
    }
   ],
   "source": [
    "weather = \"Rain\"\n",
    "wind_speed = 9\n",
    "\n",
    "if weather.lower() == \"rain\" or wind_speed >= 9:\n",
    "    print(\"stay home\")\n",
    "else:\n",
    "    print(\"go out\")"
   ]
  },
  {
   "cell_type": "markdown",
   "id": "ee14d9ee-b8f4-4990-b126-1315d9a5636d",
   "metadata": {},
   "source": [
    "Combining conditional statements and for loops"
   ]
  },
  {
   "cell_type": "code",
   "execution_count": 28,
   "id": "753efdf1-4cf7-44cb-a6cb-459d2929dbed",
   "metadata": {},
   "outputs": [
    {
     "name": "stdout",
     "output_type": "stream",
     "text": [
      "0 is not hot\n",
      "28 is hot\n",
      "12 is not hot\n",
      "17 is not hot\n",
      "30 is hot\n"
     ]
    }
   ],
   "source": [
    "temperatures = [0, 28, 12, 17, 30]\n",
    "\n",
    "# For each temperature, if the temperature is greater than 25, print \"..is hot\"\n",
    "\n",
    "for temperature in temperatures:\n",
    "    if temperature >25:\n",
    "        print(f\"{temperature} is hot\")\n",
    "    else:\n",
    "        print(f\"{temperature} is not hot\")"
   ]
  },
  {
   "cell_type": "markdown",
   "id": "afd48e5e-e9d2-4651-acd8-fe5fdd4c0c1b",
   "metadata": {},
   "source": [
    "Problem 1"
   ]
  },
  {
   "cell_type": "code",
   "execution_count": 29,
   "id": "233d6e49-c44f-4830-90c0-ff778db55c17",
   "metadata": {},
   "outputs": [
    {
     "name": "stdout",
     "output_type": "stream",
     "text": [
      "Station\n"
     ]
    }
   ],
   "source": [
    "basename = \"Station\"\n",
    "print(basename)"
   ]
  },
  {
   "cell_type": "code",
   "execution_count": 30,
   "id": "c69afcb5-d22b-41c4-8a08-db3665965691",
   "metadata": {},
   "outputs": [
    {
     "name": "stdout",
     "output_type": "stream",
     "text": [
      "[]\n"
     ]
    }
   ],
   "source": [
    "filename=[]\n",
    "print(filename)"
   ]
  },
  {
   "cell_type": "code",
   "execution_count": 31,
   "id": "17a603c0-9eeb-4990-97fa-f7f09e46b1b7",
   "metadata": {},
   "outputs": [
    {
     "name": "stdout",
     "output_type": "stream",
     "text": [
      "['Station_0.txt', 'Station_1.txt', 'Station_2.txt', 'Station_3.txt', 'Station_4.txt', 'Station_5.txt', 'Station_6.txt', 'Station_7.txt', 'Station_8.txt', 'Station_9.txt', 'Station_10.txt', 'Station_11.txt', 'Station_12.txt', 'Station_13.txt', 'Station_14.txt', 'Station_15.txt', 'Station_16.txt', 'Station_17.txt', 'Station_18.txt', 'Station_19.txt', 'Station_20.txt']\n"
     ]
    }
   ],
   "source": [
    "filename = []\n",
    "\n",
    "for i in range(21):\n",
    "    Station = (\"Station\" + \"_\" + str(i) + \".txt\")\n",
    "    filename.append(Station)\n",
    "print(filename)"
   ]
  },
  {
   "cell_type": "code",
   "execution_count": 32,
   "id": "3c50f284-8536-480c-ae36-ab539ab69298",
   "metadata": {},
   "outputs": [
    {
     "data": {
      "text/plain": [
       "str"
      ]
     },
     "execution_count": 32,
     "metadata": {},
     "output_type": "execute_result"
    }
   ],
   "source": [
    "type(Station)"
   ]
  },
  {
   "cell_type": "code",
   "execution_count": 33,
   "id": "61002487-d5c0-4480-8daa-651e01f50b41",
   "metadata": {},
   "outputs": [
    {
     "name": "stdout",
     "output_type": "stream",
     "text": [
      "['Station_20.txt']\n"
     ]
    }
   ],
   "source": [
    "filename = []\n",
    "filename = [Station]\n",
    "print(filename)"
   ]
  },
  {
   "cell_type": "markdown",
   "id": "1a5c2113-b66e-44f6-80cd-f994948dffe2",
   "metadata": {},
   "source": [
    "Problem 2"
   ]
  },
  {
   "cell_type": "code",
   "execution_count": 34,
   "id": "78a4b8dd-c15c-4992-9926-b75f6aa1de8c",
   "metadata": {},
   "outputs": [
    {
     "name": "stdout",
     "output_type": "stream",
     "text": [
      "[-5.4, -4.8, -4.4, -2.2, -3.9, -2.5, -4.6, -2.4, -3.3, -4.8, -2.8, -4.7, -5.6, -2.7, -4.6] [1.0, -1.3, 0.1, 1.9, 1.0, -0.8, -0.1, -0.4, -0.9, 1.6, 1.8, 1.6, 1.5, 1.4, 1.6, -0.0] [3.9, 4.0, 4.4, 5.1, 2.1, 2.6, 3.4, 3.1, 2.4, 4.2, 3.5, 2.6, 3.1, 2.2, 3.3, 4.7, 4.0, 3.6, 4.9, 4.8, 5.3, 5.6, 4.1, 3.7, 7.6, 6.9, 5.1, 6.4, 3.8, 4.0, 8.6, 4.1, 8.9, 3.0, 8.5, 4.7, 6.6, 8.1, 4.5, 4.8, 11.3, 4.7, 5.2, 11.5, 6.2, 2.9, 4.3, 2.8, 2.8, 6.3, 2.6, 7.3, 3.4, 4.7, 9.3, 6.4, 5.4, 7.6, 5.2] []\n"
     ]
    }
   ],
   "source": [
    "temperatures = [-5.4, 1.0, -1.3, -4.8, 3.9, 0.1, -4.4, 4.0, -2.2, -3.9, 4.4,\n",
    "                -2.5, -4.6, 5.1, 2.1, -2.4, 1.9, -3.3, -4.8, 1.0, -0.8, -2.8,\n",
    "                -0.1, -4.7, -5.6, 2.6, -2.7, -4.6, 3.4, -0.4, -0.9, 3.1, 2.4,\n",
    "                1.6, 4.2, 3.5, 2.6, 3.1, 2.2, 1.8, 3.3, 1.6, 1.5, 4.7, 4.0,\n",
    "                3.6, 4.9, 4.8, 5.3, 5.6, 4.1, 3.7, 7.6, 6.9, 5.1, 6.4, 3.8,\n",
    "                4.0, 8.6, 4.1, 1.4, 8.9, 3.0, 1.6, 8.5, 4.7, 6.6, 8.1, 4.5,\n",
    "                4.8, 11.3, 4.7, 5.2, 11.5, 6.2, 2.9, 4.3, 2.8, 2.8, 6.3, 2.6,\n",
    "                -0.0, 7.3, 3.4, 4.7, 9.3, 6.4, 5.4, 7.6, 5.2]\n",
    "cold = []\n",
    "slippery = []\n",
    "comfortable = []\n",
    "warm = []\n",
    "\n",
    "for temp in temperatures:\n",
    "    if temp < -2:\n",
    "        cold.append(temp)\n",
    "    if temp >= -2 and temp < 2:\n",
    "        slippery.append(temp)\n",
    "    if temp >= 2 and temp < 15:\n",
    "        comfortable.append(temp)\n",
    "    if temp >= 15:\n",
    "        warm.append(temp)\n",
    "print(cold, slippery, comfortable, warm)"
   ]
  },
  {
   "cell_type": "code",
   "execution_count": 35,
   "id": "39dd9707-211e-4cd0-95a6-46b6598875f9",
   "metadata": {},
   "outputs": [
    {
     "name": "stdout",
     "output_type": "stream",
     "text": [
      "16\n"
     ]
    }
   ],
   "source": [
    "slippery_times = len(slippery)\n",
    "print(slippery_times)"
   ]
  },
  {
   "cell_type": "code",
   "execution_count": 36,
   "id": "39506469-cf32-46a2-a408-38fea1ffbeaf",
   "metadata": {},
   "outputs": [
    {
     "name": "stdout",
     "output_type": "stream",
     "text": [
      "In April 2013 it was slippery 16 times.\n"
     ]
    }
   ],
   "source": [
    "print(f\"In April 2013 it was slippery {slippery_times} times.\")"
   ]
  },
  {
   "cell_type": "markdown",
   "id": "98d2e7cd-af95-4b41-82bf-1f4857eb797f",
   "metadata": {},
   "source": [
    "Problem 3"
   ]
  },
  {
   "cell_type": "code",
   "execution_count": 41,
   "id": "c2403af6-5d35-4439-a98c-08e694b1c6e8",
   "metadata": {},
   "outputs": [
    {
     "name": "stdout",
     "output_type": "stream",
     "text": [
      "['Kemi Kemi-Tornio airport', 'Rovaniemi Apukka', 'Siikajoki Ruukki', 'Ylitornio Meltosjärvi']\n",
      "['Kuusamo airport', 'Utsjoki Nuorgam', 'Vaala Pelso']\n",
      "['Juuka Niemelä', 'Kotka Rankki', 'Kouvola Anjala', 'Kouvola Utti airport', 'Kuopio Maaninka', 'Lieksa Lampela', 'Savonlinna Punkaharju Laukansaari', 'Siilinjärvi Kuopio airport', 'Tohmajärvi Kemie', 'Vesanto Sonkari', 'Vieremä Kaarakkala']\n",
      "['Hanko Russarö', 'Heinola Asemantaus', 'Helsinki Kaisaniemi', 'Helsinki Malmi airfield', 'Hyvinkää Hyvinkäänkylä', 'Joutsa Savenaho', 'Jyväskylä airport', 'Kaarina Yltöinen', 'Kauhava airfield', 'Mustasaari Valassaaret', 'Parainen Utö', 'Pori airport', 'Salo Kärkkä', 'Seinäjoki Pelmaa', 'Vaasa airport', 'Vihti Maasoja']\n"
     ]
    }
   ],
   "source": [
    "# Station names\n",
    "stations = ['Hanko Russarö', 'Heinola Asemantaus', 'Helsinki Kaisaniemi', \n",
    "            'Helsinki Malmi airfield', 'Hyvinkää Hyvinkäänkylä', 'Joutsa Savenaho', \n",
    "            'Juuka Niemelä', 'Jyväskylä airport', 'Kaarina Yltöinen', 'Kauhava airfield', \n",
    "            'Kemi Kemi-Tornio airport', 'Kotka Rankki', 'Kouvola Anjala', \n",
    "            'Kouvola Utti airport', 'Kuopio Maaninka', 'Kuusamo airport', \n",
    "            'Lieksa Lampela', 'Mustasaari Valassaaret', 'Parainen Utö', 'Pori airport', \n",
    "            'Rovaniemi Apukka', 'Salo Kärkkä', 'Savonlinna Punkaharju Laukansaari', \n",
    "            'Seinäjoki Pelmaa', 'Siikajoki Ruukki', 'Siilinjärvi Kuopio airport', \n",
    "            'Tohmajärvi Kemie', 'Utsjoki Nuorgam', 'Vaala Pelso', 'Vaasa airport', \n",
    "            'Vesanto Sonkari', 'Vieremä Kaarakkala', 'Vihti Maasoja', 'Ylitornio Meltosjärvi']\n",
    "\n",
    "# Latitude coordinates of Weather stations  \n",
    "lats = [59.77, 61.2, 60.18, 60.25, 60.6, 61.88, 63.23, 62.4,\n",
    "       60.39, 63.12, 65.78, 60.38, 60.7, 60.9, 63.14, 65.99,\n",
    "       63.32, 63.44, 59.78, 61.47, 66.58, 60.37, 61.8, 62.94,\n",
    "       64.68, 63.01, 62.24, 70.08, 64.501, 63.06, 62.92, 63.84,\n",
    "       60.42, 66.53]\n",
    "\n",
    "# Longitude coordinates of Weather stations \n",
    "lons = [22.95, 26.05, 24.94, 25.05, 24.8, 26.09, 29.23, 25.67, \n",
    "       22.55, 23.04, 24.58, 26.96, 26.81, 26.95, 27.31, 29.23, \n",
    "       30.05, 21.07, 21.37, 21.79, 26.01, 23.11, 29.32, 22.49, \n",
    "       25.09, 27.8, 30.35, 27.9, 26.42, 21.75, 26.42, 27.22, \n",
    "       24.4, 24.65]\n",
    "\n",
    "# Cutoff values that correspond to the centroid of Finnish mainland\n",
    "# North - South\n",
    "north_south_cutoff = 64.5\n",
    "\n",
    "# East-West\n",
    "east_west_cutoff = 26.3\n",
    "\n",
    "north_west = []\n",
    "north_east = []\n",
    "south_west = []\n",
    "south_east = []\n",
    "\n",
    "#number of stations\n",
    "\n",
    "\n",
    "#station zone\n",
    "for x in range(len(lats)):\n",
    "    if lons[x] > east_west_cutoff and lats[x] > north_south_cutoff:\n",
    "        north_east.append(stations[x])\n",
    "    if lons[x] < east_west_cutoff and lats[x]> north_south_cutoff:\n",
    "        north_west.append(stations[x])\n",
    "    if lons[x] < east_west_cutoff and lats[x] < north_south_cutoff:\n",
    "        south_west.append(stations[x])\n",
    "    if lons[x] > east_west_cutoff and lats[x] < north_south_cutoff:\n",
    "        south_east.append(stations[x])\n",
    "        \n",
    "print(north_west)\n",
    "print(north_east)\n",
    "print(south_east)\n",
    "print(south_west)"
   ]
  },
  {
   "cell_type": "code",
   "execution_count": 39,
   "id": "238d79b4-77d4-46f9-b85a-e3649e20f169",
   "metadata": {},
   "outputs": [
    {
     "name": "stdout",
     "output_type": "stream",
     "text": [
      "Hanko Russarö is located at latitude 59.77 and longitude 22.95\n",
      "Heinola Asemantaus is located at latitude 61.2 and longitude 26.05\n",
      "Helsinki Kaisaniemi is located at latitude 60.18 and longitude 24.94\n",
      "Helsinki Malmi airfield is located at latitude 60.25 and longitude 25.05\n",
      "Hyvinkää Hyvinkäänkylä is located at latitude 60.6 and longitude 24.8\n",
      "Joutsa Savenaho is located at latitude 61.88 and longitude 26.09\n",
      "Juuka Niemelä is located at latitude 63.23 and longitude 29.23\n",
      "Jyväskylä airport is located at latitude 62.4 and longitude 25.67\n",
      "Kaarina Yltöinen is located at latitude 60.39 and longitude 22.55\n",
      "Kauhava airfield is located at latitude 63.12 and longitude 23.04\n",
      "Kemi Kemi-Tornio airport is located at latitude 65.78 and longitude 24.58\n",
      "Kotka Rankki is located at latitude 60.38 and longitude 26.96\n",
      "Kouvola Anjala is located at latitude 60.7 and longitude 26.81\n",
      "Kouvola Utti airport is located at latitude 60.9 and longitude 26.95\n",
      "Kuopio Maaninka is located at latitude 63.14 and longitude 27.31\n",
      "Kuusamo airport is located at latitude 65.99 and longitude 29.23\n",
      "Lieksa Lampela is located at latitude 63.32 and longitude 30.05\n",
      "Mustasaari Valassaaret is located at latitude 63.44 and longitude 21.07\n",
      "Parainen Utö is located at latitude 59.78 and longitude 21.37\n",
      "Pori airport is located at latitude 61.47 and longitude 21.79\n",
      "Rovaniemi Apukka is located at latitude 66.58 and longitude 26.01\n",
      "Salo Kärkkä is located at latitude 60.37 and longitude 23.11\n",
      "Savonlinna Punkaharju Laukansaari is located at latitude 61.8 and longitude 29.32\n",
      "Seinäjoki Pelmaa is located at latitude 62.94 and longitude 22.49\n",
      "Siikajoki Ruukki is located at latitude 64.68 and longitude 25.09\n",
      "Siilinjärvi Kuopio airport is located at latitude 63.01 and longitude 27.8\n",
      "Tohmajärvi Kemie is located at latitude 62.24 and longitude 30.35\n",
      "Utsjoki Nuorgam is located at latitude 70.08 and longitude 27.9\n",
      "Vaala Pelso is located at latitude 64.501 and longitude 26.42\n",
      "Vaasa airport is located at latitude 63.06 and longitude 21.75\n",
      "Vesanto Sonkari is located at latitude 62.92 and longitude 26.42\n",
      "Vieremä Kaarakkala is located at latitude 63.84 and longitude 27.22\n",
      "Vihti Maasoja is located at latitude 60.42 and longitude 24.4\n",
      "Ylitornio Meltosjärvi is located at latitude 66.53 and longitude 24.65\n"
     ]
    }
   ],
   "source": [
    "# station and coordinates.\n",
    "for n in range(len(stations)):\n",
    "    print(f\"{stations[n]} is located at latitude {lats[n]} and longitude {lons[n]}\")"
   ]
  },
  {
   "cell_type": "markdown",
   "id": "cdda8fcc-23cc-4799-acb7-212d9cd5d016",
   "metadata": {},
   "source": [
    "Problem 4 "
   ]
  },
  {
   "cell_type": "code",
   "execution_count": 40,
   "id": "f8ea32f2-499c-4471-9d69-1d7004bdd69a",
   "metadata": {},
   "outputs": [
    {
     "name": "stdout",
     "output_type": "stream",
     "text": [
      "*******\n",
      "*******\n",
      "*******\n",
      "\n"
     ]
    }
   ],
   "source": [
    "# 7 stars, 3 rows\n",
    "\n",
    "text = \"\"\n",
    "\n",
    "#handle the lines\n",
    "for i in range(3):\n",
    "    #Hnadle the stars\n",
    "    for j in range(7):\n",
    "        text = text + \"*\"\n",
    "    # \"\\m\" this is for putting in a new line   \n",
    "    text = text + \"\\n\"\n",
    "    \n",
    "print(text)\n",
    "        \n",
    "    "
   ]
  },
  {
   "cell_type": "code",
   "execution_count": 41,
   "id": "f6c0abc0-b34a-4ea7-a723-76f9892a953d",
   "metadata": {},
   "outputs": [
    {
     "name": "stdout",
     "output_type": "stream",
     "text": [
      "*******------------\n",
      "*******------------\n",
      "*******------------\n",
      "-------------------\n",
      "-------------------\n",
      "\n"
     ]
    }
   ],
   "source": [
    "# flag\n",
    "\n",
    "flag = \"\"\n",
    "\n",
    "#handle the lines\n",
    "for i in range(5):\n",
    "    #Hnadle the stars\n",
    "    for j in range(19):\n",
    "        #if on line 1-3 and character 1-7 put a star\n",
    "        if j < 7 and i < 3:\n",
    "            flag = flag + \"*\"\n",
    "        else:\n",
    "            flag = flag + \"-\"\n",
    "    # \"\\m\" this is for putting in a new line   \n",
    "    flag = flag + \"\\n\"\n",
    "\n",
    "print(flag)"
   ]
  },
  {
   "cell_type": "code",
   "execution_count": null,
   "id": "143b0d99-ec18-4abf-b548-de110cc0c382",
   "metadata": {},
   "outputs": [],
   "source": []
  }
 ],
 "metadata": {
  "kernelspec": {
   "display_name": "Python 3 (ipykernel)",
   "language": "python",
   "name": "python3"
  },
  "language_info": {
   "codemirror_mode": {
    "name": "ipython",
    "version": 3
   },
   "file_extension": ".py",
   "mimetype": "text/x-python",
   "name": "python",
   "nbconvert_exporter": "python",
   "pygments_lexer": "ipython3",
   "version": "3.9.13"
  }
 },
 "nbformat": 4,
 "nbformat_minor": 5
}
