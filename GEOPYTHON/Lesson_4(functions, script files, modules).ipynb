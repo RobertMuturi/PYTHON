{
 "cells": [
  {
   "cell_type": "markdown",
   "id": "44b3745d-d672-4ea8-8ee2-a71aaf76cce4",
   "metadata": {},
   "source": [
    "# FUNCTIONS"
   ]
  },
  {
   "cell_type": "code",
   "execution_count": 1,
   "id": "4fc54da2-6894-42d7-b61b-719e8de4df7f",
   "metadata": {},
   "outputs": [],
   "source": [
    "#function to convert temp\n",
    "\n",
    "def celsius_to_fahr(temp):\n",
    "    return 9 / 5 * temp + 32"
   ]
  },
  {
   "cell_type": "code",
   "execution_count": 2,
   "id": "b4141810-c8cd-4a91-9efc-d7b0e8290508",
   "metadata": {},
   "outputs": [
    {
     "name": "stdout",
     "output_type": "stream",
     "text": [
      "the freezing point of water in F is 32.0\n"
     ]
    }
   ],
   "source": [
    "#calling the function\n",
    "freezing_point = celsius_to_fahr(0.0)\n",
    "print(f\"the freezing point of water in F is {freezing_point}\")"
   ]
  },
  {
   "cell_type": "code",
   "execution_count": 3,
   "id": "551d2026-4d76-4ceb-8c71-d919a42e408a",
   "metadata": {},
   "outputs": [
    {
     "data": {
      "text/plain": [
       "68.0"
      ]
     },
     "execution_count": 3,
     "metadata": {},
     "output_type": "execute_result"
    }
   ],
   "source": [
    "#calling\n",
    "celsius_to_fahr(20)"
   ]
  },
  {
   "cell_type": "code",
   "execution_count": 4,
   "id": "b31ef5ca-d2c8-4dd4-a49c-14d80e55bb28",
   "metadata": {},
   "outputs": [
    {
     "name": "stdout",
     "output_type": "stream",
     "text": [
      "boiling point of water in F is 212.0\n"
     ]
    }
   ],
   "source": [
    "print(f\"boiling point of water in F is {celsius_to_fahr(100.0)}\")"
   ]
  },
  {
   "cell_type": "code",
   "execution_count": 5,
   "id": "ed82aaa7-31ae-4617-9541-06f3ac3d3d5d",
   "metadata": {},
   "outputs": [],
   "source": [
    "def kelvins_to_celsius(temp_kelvins):\n",
    "    return temp_kelvins - 273.15"
   ]
  },
  {
   "cell_type": "code",
   "execution_count": 6,
   "id": "98b9bd4e-7f8b-4536-bf7b-172f4019b457",
   "metadata": {},
   "outputs": [],
   "source": [
    "absolute_zero = kelvins_to_celsius(0)"
   ]
  },
  {
   "cell_type": "code",
   "execution_count": 7,
   "id": "771f55a6-4cdf-4f43-bcf4-51f7a2741f15",
   "metadata": {},
   "outputs": [
    {
     "name": "stdout",
     "output_type": "stream",
     "text": [
      "absolute zero in cels is -273.15\n"
     ]
    }
   ],
   "source": [
    "print(f\"absolute zero in cels is {absolute_zero}\")"
   ]
  },
  {
   "cell_type": "code",
   "execution_count": 8,
   "id": "ad64fe1b-518a-4147-903d-80e4fb56ba46",
   "metadata": {},
   "outputs": [],
   "source": [
    "def celsius_to_newton(temp_celsius):\n",
    "    return temp_celsius * 0.33"
   ]
  },
  {
   "cell_type": "code",
   "execution_count": 9,
   "id": "d6e6386d-3acf-4abd-97ea-559dffd56aca",
   "metadata": {},
   "outputs": [
    {
     "data": {
      "text/plain": [
       "33.0"
      ]
     },
     "execution_count": 9,
     "metadata": {},
     "output_type": "execute_result"
    }
   ],
   "source": [
    "celsius_to_newton(100)"
   ]
  },
  {
   "cell_type": "markdown",
   "id": "008fd321-854c-4df5-92e0-d95371a85469",
   "metadata": {
    "jp-MarkdownHeadingCollapsed": true,
    "tags": []
   },
   "source": [
    "## Functions within function"
   ]
  },
  {
   "cell_type": "code",
   "execution_count": 10,
   "id": "b4a8dd00-1c63-4165-8758-372b3e4fa2d8",
   "metadata": {},
   "outputs": [
    {
     "name": "stdout",
     "output_type": "stream",
     "text": [
      "Absolute zero in far is -459.66999999999996\n",
      "Absolute zero in far is -459.67\n"
     ]
    }
   ],
   "source": [
    "def kelvins_to_fahr(temp_kelvins):\n",
    "    temp_celsius = kelvins_to_celsius(temp_kelvins)\n",
    "    temp_fahr = celsius_to_fahr(temp_celsius)\n",
    "    return temp_fahr\n",
    "\n",
    "absolute_zero_in_fahr = kelvins_to_fahr(0)\n",
    "\n",
    "print(f\"Absolute zero in far is {absolute_zero_in_fahr}\")\n",
    "\n",
    "#to reduce number of decimal points (.2f)\n",
    "print(f\"Absolute zero in far is {absolute_zero_in_fahr:.2f}\")"
   ]
  },
  {
   "cell_type": "markdown",
   "id": "7672ce5e-e5fe-40a6-b462-924bd46a0757",
   "metadata": {
    "jp-MarkdownHeadingCollapsed": true,
    "tags": []
   },
   "source": [
    "## Temperature calculator (optional, advanced topic)"
   ]
  },
  {
   "cell_type": "markdown",
   "id": "741ce037-9a34-44c0-a847-b1f9f093a871",
   "metadata": {},
   "source": [
    "So far our functions have had only one parameter, but it is also possible to define a function with multiple parameters. Let’s now make a simple temp_calculator function that accepts temperatures in Kelvins and returns values in either degrees Celsius or degrees Fahrenheit. The new function will have two parameters:\n",
    "- temp_k = The parameter for passing temperature in Kelvins\n",
    "- convert_to = The parameter that determines whether to output should be in Celsius or in Fahrenheit (using the letters C or F accordingly)"
   ]
  },
  {
   "cell_type": "code",
   "execution_count": 11,
   "id": "58bdc9ba-8bde-4957-b5b0-261e980f1f00",
   "metadata": {},
   "outputs": [],
   "source": [
    "def temp_calculator(temp_k, convert_to):\n",
    "    \"\"\"\n",
    "    Function for converting temperature in Kelvins to Celsius or Fahrenheit.\n",
    "\n",
    "    Parameters\n",
    "    ----------\n",
    "    temp_k: <numerical>\n",
    "        Temperature in Kelvins\n",
    "    convert_to: <str>\n",
    "        Target temperature that can be either Celsius ('C') or Fahrenheit ('F'). Supported values: 'C' | 'F'\n",
    "\n",
    "    Returns\n",
    "    -------\n",
    "    <float>\n",
    "        Converted temperature.\n",
    "    \"\"\"\n",
    "\n",
    "    # Check if user wants the temperature in Celsius\n",
    "    if convert_to == \"C\":\n",
    "        # Convert the value to Celsius using the dedicated function for the task that we imported from another script\n",
    "        converted_temp = kelvins_to_celsius(temp_kelvins=temp_k)\n",
    "    elif convert_to == \"F\":\n",
    "        # Convert the value to Fahrenheit using the dedicated function for the task that we imported from another script\n",
    "        converted_temp = kelvins_to_fahr(temp_kelvins=temp_k)\n",
    "    # Return the result\n",
    "    return converted_temp"
   ]
  },
  {
   "cell_type": "code",
   "execution_count": 12,
   "id": "94a7e58e-50d0-4a6a-962a-a3637417eb42",
   "metadata": {},
   "outputs": [
    {
     "name": "stdout",
     "output_type": "stream",
     "text": [
      "Temperature 30 in Kelvins is -243.14999999999998 in Celsius\n"
     ]
    }
   ],
   "source": [
    "temp_kelvin = 30\n",
    "temperature_c = temp_calculator(temp_k=temp_kelvin, convert_to=\"C\")\n",
    "print(f\"Temperature {temp_kelvin} in Kelvins is {temperature_c} in Celsius\")"
   ]
  },
  {
   "cell_type": "markdown",
   "id": "3bb8e80b-fff4-4c49-822f-ab212818f144",
   "metadata": {
    "tags": []
   },
   "source": [
    "## SCRIPT FILES"
   ]
  },
  {
   "cell_type": "markdown",
   "id": "8445096b-7c88-42d1-827e-8e3e0f750e99",
   "metadata": {},
   "source": [
    "We've created a script file (.py) (temp_converter) and put in some def functions which we can call"
   ]
  },
  {
   "cell_type": "code",
   "execution_count": 13,
   "id": "b05d046f-0da8-42c3-868c-8034102266d6",
   "metadata": {},
   "outputs": [
    {
     "name": "stdout",
     "output_type": "stream",
     "text": [
      " Volume in drive C is Acer\n",
      " Volume Serial Number is 3431-6970\n",
      "\n",
      " Directory of C:\\Users\\Joe\\Documents\\GEOPYTHON\n",
      "\n",
      "22/03/2023  13:41    <DIR>          .\n",
      "20/03/2023  13:07    <DIR>          ..\n",
      "15/03/2023  11:00    <DIR>          .ipynb_checkpoints\n",
      "12/03/2023  13:43    <DIR>          __pycache__\n",
      "13/03/2023  12:33         2,300,646 1091402.txt\n",
      "12/03/2023  13:39         1,656,218 6153237444115dat.csv\n",
      "15/03/2023  10:58            20,932 bar-plot.png\n",
      "15/03/2023  10:59            13,616 bar-plot-hi-res.pdf\n",
      "12/03/2023  13:50    <DIR>          data\n",
      "12/03/2023  13:39        84,618,698 Finland-weather-data-full.tar.gz\n",
      "12/03/2023  13:39               710 Kumpula_temps_above_15_June_2016.csv\n",
      "12/03/2023  13:39             2,100 Kumpula_temps_June_2016.csv\n",
      "12/03/2023  13:39           106,117 Kumpula_temps_May_Aug_2017.csv\n",
      "12/03/2023  13:39             1,102 Kumpula-June-2016-w-metadata.txt\n",
      "12/03/2023  13:39            27,647 Lesson_3(loop, lists, conditional statements).ipynb\n",
      "22/03/2023  13:41            42,315 Lesson_4(functions, script files, modules).ipynb\n",
      "15/03/2023  19:11           174,804 Lesson_5(Pandas).ipynb\n",
      "21/03/2023  20:33           227,884 Lesson_6(Data_analysis_pandas).ipynb\n",
      "15/03/2023  12:53         8,859,364 Lesson_7(Basic Plotting).ipynb\n",
      "12/03/2023  13:39           313,772 Rovaniemi_temps_May_August_2017.csv\n",
      "12/03/2023  13:39               309 temp_converter.py\n",
      "              16 File(s)     98,366,234 bytes\n",
      "               5 Dir(s)  25,189,539,840 bytes free\n"
     ]
    }
   ],
   "source": [
    "#seeing the file in directory\n",
    "%ls"
   ]
  },
  {
   "cell_type": "code",
   "execution_count": 14,
   "id": "37cecd22-6404-4ef7-966f-0d9dbee5a297",
   "metadata": {},
   "outputs": [],
   "source": [
    "#import script function\n",
    "\n",
    "from temp_converter import celsius_to_fahr"
   ]
  },
  {
   "cell_type": "code",
   "execution_count": 15,
   "id": "0713a208-e506-4bf1-9695-514d2951aa48",
   "metadata": {},
   "outputs": [
    {
     "name": "stdout",
     "output_type": "stream",
     "text": [
      "The freezing point of water in Fahr is: 32.0\n"
     ]
    }
   ],
   "source": [
    "#Applying it\n",
    "print(f\"The freezing point of water in Fahr is: {celsius_to_fahr(0)}\")"
   ]
  },
  {
   "cell_type": "code",
   "execution_count": 16,
   "id": "c5ac24ef-f527-4a63-ba63-f5740d081e72",
   "metadata": {},
   "outputs": [],
   "source": [
    "#import as short hand\n",
    "import temp_converter as tc"
   ]
  },
  {
   "cell_type": "code",
   "execution_count": 17,
   "id": "40153ad9-689d-405f-ba01-98d53ed3d0a9",
   "metadata": {},
   "outputs": [
    {
     "name": "stdout",
     "output_type": "stream",
     "text": [
      "Absolute zero in celsius is: -273.15\n"
     ]
    }
   ],
   "source": [
    "print(f\"Absolute zero in celsius is: {tc.kelvins_to_celsius(0)}\")"
   ]
  },
  {
   "cell_type": "code",
   "execution_count": 18,
   "id": "1c595e76-e975-471e-a316-624a49ca6dd0",
   "metadata": {},
   "outputs": [],
   "source": [
    "#check website for more functions."
   ]
  },
  {
   "cell_type": "markdown",
   "id": "1464ce51-fe23-4027-8abb-49212eefea91",
   "metadata": {
    "jp-MarkdownHeadingCollapsed": true,
    "tags": []
   },
   "source": [
    "## MODULES"
   ]
  },
  {
   "cell_type": "raw",
   "id": "7c500529-1a61-451b-88f0-385ffa8c40e4",
   "metadata": {},
   "source": [
    "#group of functions for executing specific task (libraries)"
   ]
  },
  {
   "cell_type": "code",
   "execution_count": 19,
   "id": "dc5a0d0a-1b1c-4555-a963-181b44385215",
   "metadata": {},
   "outputs": [],
   "source": [
    "import math"
   ]
  },
  {
   "cell_type": "code",
   "execution_count": 20,
   "id": "f43482a9-bf76-457f-9fc0-af2dee757de5",
   "metadata": {},
   "outputs": [
    {
     "data": {
      "text/plain": [
       "11.0"
      ]
     },
     "execution_count": 20,
     "metadata": {},
     "output_type": "execute_result"
    }
   ],
   "source": [
    "math.sqrt(121)"
   ]
  },
  {
   "cell_type": "code",
   "execution_count": 21,
   "id": "af98af2c-8c8f-4ab1-b9e1-2d9aeaef3f06",
   "metadata": {},
   "outputs": [],
   "source": [
    "#renaming modules\n",
    "import math as m"
   ]
  },
  {
   "cell_type": "code",
   "execution_count": 22,
   "id": "85073282-b887-4cd8-89da-8b6b45f58510",
   "metadata": {},
   "outputs": [
    {
     "data": {
      "text/plain": [
       "13.0"
      ]
     },
     "execution_count": 22,
     "metadata": {},
     "output_type": "execute_result"
    }
   ],
   "source": [
    "m.sqrt(169)"
   ]
  },
  {
   "cell_type": "code",
   "execution_count": 23,
   "id": "883aca3a-081c-4036-af5a-d6e9bbd7e3d2",
   "metadata": {},
   "outputs": [
    {
     "data": {
      "text/plain": [
       "module"
      ]
     },
     "execution_count": 23,
     "metadata": {},
     "output_type": "execute_result"
    }
   ],
   "source": [
    "#check type\n",
    "type(m)"
   ]
  },
  {
   "cell_type": "code",
   "execution_count": 24,
   "id": "fae39ae4-9439-41bf-a449-f8c1755105b2",
   "metadata": {},
   "outputs": [],
   "source": [
    "from math import sqrt"
   ]
  },
  {
   "cell_type": "code",
   "execution_count": 25,
   "id": "f29e620f-edcb-4ba6-9e42-19bb2dc7f549",
   "metadata": {},
   "outputs": [
    {
     "data": {
      "text/plain": [
       "9.0"
      ]
     },
     "execution_count": 25,
     "metadata": {},
     "output_type": "execute_result"
    }
   ],
   "source": [
    "sqrt(81)"
   ]
  },
  {
   "cell_type": "code",
   "execution_count": 26,
   "id": "56847b96-2dce-4bf0-8d5e-7e1a62d6b8ee",
   "metadata": {},
   "outputs": [],
   "source": [
    "#import submodule\n",
    "import matplotlib.pyplot as plt"
   ]
  },
  {
   "cell_type": "code",
   "execution_count": 27,
   "id": "4e4d2384-8b0d-4382-9aa6-b3320df04e9e",
   "metadata": {},
   "outputs": [
    {
     "data": {
      "text/plain": [
       "[<matplotlib.lines.Line2D at 0x181e63dc130>]"
      ]
     },
     "execution_count": 27,
     "metadata": {},
     "output_type": "execute_result"
    },
    {
     "data": {
      "image/png": "[encoded data removed]",
      "text/plain": [
       "<Figure size 640x480 with 1 Axes>"
      ]
     },
     "metadata": {},
     "output_type": "display_data"
    }
   ],
   "source": [
    "# Plot a simple x y line graph with default settings\n",
    "plt.plot([1, 2, 3, 4, 5], [5, 4, 3, 2, 1])"
   ]
  },
  {
   "cell_type": "code",
   "execution_count": 28,
   "id": "4917915b-b4c8-4680-9387-8ba42cc95332",
   "metadata": {},
   "outputs": [
    {
     "name": "stdout",
     "output_type": "stream",
     "text": [
      "['__doc__', '__loader__', '__name__', '__package__', '__spec__', 'acos', 'acosh', 'asin', 'asinh', 'atan', 'atan2', 'atanh', 'ceil', 'comb', 'copysign', 'cos', 'cosh', 'degrees', 'dist', 'e', 'erf', 'erfc', 'exp', 'expm1', 'fabs', 'factorial', 'floor', 'fmod', 'frexp', 'fsum', 'gamma', 'gcd', 'hypot', 'inf', 'isclose', 'isfinite', 'isinf', 'isnan', 'isqrt', 'lcm', 'ldexp', 'lgamma', 'log', 'log10', 'log1p', 'log2', 'modf', 'nan', 'nextafter', 'perm', 'pi', 'pow', 'prod', 'radians', 'remainder', 'sin', 'sinh', 'sqrt', 'tan', 'tanh', 'tau', 'trunc', 'ulp']\n"
     ]
    }
   ],
   "source": [
    "#to know which functions are in a library theres a directory\n",
    "\n",
    "print(dir(math))"
   ]
  },
  {
   "cell_type": "code",
   "execution_count": 29,
   "id": "98879f89-1578-42cd-ba66-1b5c80453e50",
   "metadata": {},
   "outputs": [
    {
     "ename": "AttributeError",
     "evalue": "module 'math' has no attribute 's'",
     "output_type": "error",
     "traceback": [
      "\u001b[1;31m---------------------------------------------------------------------------\u001b[0m",
      "\u001b[1;31mAttributeError\u001b[0m                            Traceback (most recent call last)",
      "\u001b[1;32m~\\AppData\\Local\\Temp\\ipykernel_11364\\2576633869.py\u001b[0m in \u001b[0;36m<module>\u001b[1;34m\u001b[0m\n\u001b[0;32m      1\u001b[0m \u001b[1;31m#to know which function are in the module by hitting tab\u001b[0m\u001b[1;33m\u001b[0m\u001b[1;33m\u001b[0m\u001b[0m\n\u001b[0;32m      2\u001b[0m \u001b[1;33m\u001b[0m\u001b[0m\n\u001b[1;32m----> 3\u001b[1;33m \u001b[0mmath\u001b[0m\u001b[1;33m.\u001b[0m\u001b[0ms\u001b[0m\u001b[1;33m\u001b[0m\u001b[1;33m\u001b[0m\u001b[0m\n\u001b[0m",
      "\u001b[1;31mAttributeError\u001b[0m: module 'math' has no attribute 's'"
     ]
    }
   ],
   "source": [
    "#to know which function are in the module by hitting tab\n",
    "math.s"
   ]
  },
  {
   "cell_type": "code",
   "execution_count": null,
   "id": "cae4f889-7d84-4c7b-9c28-b7ef3d469d2c",
   "metadata": {},
   "outputs": [],
   "source": [
    "#for help\n",
    "help(math.sin)"
   ]
  },
  {
   "cell_type": "markdown",
   "id": "50e12f49-7318-4e63-9017-52391e121a09",
   "metadata": {
    "tags": []
   },
   "source": [
    "# Exercise 4"
   ]
  },
  {
   "cell_type": "markdown",
   "id": "78a29ca2-c628-4380-8331-37ac2c198959",
   "metadata": {
    "tags": []
   },
   "source": [
    "## Problem 1\n",
    "Simple temperature calculator"
   ]
  },
  {
   "cell_type": "code",
   "execution_count": 43,
   "id": "e882c335-8a0a-443b-b182-192bcb71c362",
   "metadata": {},
   "outputs": [],
   "source": [
    "def fahr_to_celsius(temp_fahrenheit):\n",
    "    return  (temp_fahrenheit - 32)/1.8"
   ]
  },
  {
   "cell_type": "code",
   "execution_count": 51,
   "id": "c519a71f-7755-4109-aa3c-da6529a8764b",
   "metadata": {},
   "outputs": [
    {
     "name": "stdout",
     "output_type": "stream",
     "text": [
      "48F is eqaul to 8.88888888888889 degrees celsius\n",
      "71F is eqaul to 21.666666666666668 degrees celsius\n"
     ]
    }
   ],
   "source": [
    "print(f'48F is eqaul to {fahr_to_celsius(48)} degrees celsius')\n",
    "print(f'71F is eqaul to {fahr_to_celsius(71)} degrees celsius')"
   ]
  },
  {
   "cell_type": "markdown",
   "id": "9b318fc4-eca3-423c-ae8b-f5e47c8095bd",
   "metadata": {
    "tags": []
   },
   "source": [
    "## Problem 2\n",
    "Temperature classifier"
   ]
  },
  {
   "cell_type": "code",
   "execution_count": 92,
   "id": "3f9a4d60-b39c-48c3-b8ef-9f75af1b7268",
   "metadata": {},
   "outputs": [],
   "source": [
    "#temp classifier function\n",
    "def temp_classifier(temp_celsius):\n",
    "    if temp_celsius < -2:\n",
    "        return 0\n",
    "    elif temp_celsius >= -2 and temp_celsius < 2:\n",
    "        return 1\n",
    "    elif temp_celsius >= 2 and temp_celsius < 15:\n",
    "        return 2\n",
    "    else:\n",
    "        return 3"
   ]
  },
  {
   "cell_type": "code",
   "execution_count": 93,
   "id": "cb058bc2-61f0-493a-a49d-97e38e9e4cc5",
   "metadata": {},
   "outputs": [
    {
     "name": "stdout",
     "output_type": "stream",
     "text": [
      "the class value for 16.5 degrees Celsius is 3\n",
      "the class value for 2 degrees Celsius is 2\n"
     ]
    }
   ],
   "source": [
    "#check function\n",
    "print(f'the class value for 16.5 degrees Celsius is {temp_classifier(16.5)}')\n",
    "print(f'the class value for 2 degrees Celsius is {temp_classifier(2)}')"
   ]
  },
  {
   "cell_type": "markdown",
   "id": "d56afb78-a154-4149-ad6f-7964835d4ced",
   "metadata": {
    "tags": []
   },
   "source": [
    "## Problem 3\n",
    "Applying the classifier"
   ]
  },
  {
   "cell_type": "code",
   "execution_count": 94,
   "id": "c9f220bd-42af-4f8f-a8c0-62b6777ce597",
   "metadata": {},
   "outputs": [],
   "source": [
    "# List of half-hourly temperature values (in degrees Fahrenheit) for one week\n",
    "temp_data =  [19, 21, 21, 21, 23, 23, 23, 21, 19, 21, 19, 21, 23, 27, 27, 28, 30, 30, 32, 32, 32, 32, \n",
    "              34, 34, 34, 36, 36, 36, 36, 36, 36, 34, 34, 34, 34, 34, 34, 32, 30, 30, 30, 28, 28, 27,\n",
    "              27, 27, 23, 23, 21, 21, 21, 19, 19, 19, 18, 18, 21, 27, 28, 30, 32, 34, 36, 37, 37, 37, \n",
    "              39, 39, 39, 39, 39, 39, 41, 41, 41, 41, 41, 39, 39, 37, 37, 36, 36, 34, 34, 32, 30, 30,\n",
    "              28, 27, 27, 25, 23, 23, 21, 21, 19, 19, 19, 18, 18, 18, 21, 25, 27, 28, 34, 34, 41, 37, \n",
    "              37, 39, 39, 39, 39, 41, 41, 39, 39, 39, 39, 39, 41, 39, 39, 39, 37, 36, 34, 32, 28, 28,\n",
    "              27, 25, 25, 25, 23, 23, 23, 23, 21, 21, 21, 21, 19, 21, 19, 21, 21, 19, 21, 27, 28, 32,\n",
    "              36, 36, 37, 39, 39, 39, 39, 39, 41, 41, 41, 41, 41, 41, 41, 41, 41, 39, 37, 36, 36, 34,\n",
    "              32, 30, 28, 28, 27, 27, 25, 25, 23, 23, 23, 21, 21, 21, 19, 19, 19, 19, 19, 19, 21, 23,\n",
    "              23, 23, 25, 27, 30, 36, 37, 37, 39, 39, 41, 41, 41, 39, 39, 41, 43, 43, 43, 43, 43, 43,\n",
    "              43, 43, 43, 39, 37, 37, 37, 36, 36, 36, 36, 34, 32, 32, 32, 32, 30, 30, 28, 28, 28, 27,\n",
    "              27, 27, 27, 25, 27, 27, 27, 28, 28, 28, 30, 32, 32, 32, 34, 34, 36, 36, 36, 37, 37, 37,\n",
    "              37, 37, 37, 37, 37, 37, 36, 34, 30, 30, 27, 27, 25, 25, 23, 21, 21, 21, 21, 19, 19, 19,\n",
    "              19, 19, 18, 18, 18, 18, 18, 19, 23, 27, 30, 32, 32, 32, 32, 32, 32, 34, 34, 34, 34, 34,\n",
    "              36, 36, 36, 36, 36, 32, 32, 32, 32, 32, 32, 32, 32, 30, 30, 30, 30, 30, 30, 30, 30, 30,\n",
    "              30, 30, 30, 30, 28, 28]"
   ]
  },
  {
   "cell_type": "code",
   "execution_count": 95,
   "id": "3eee64e2-d60a-4c07-a79f-3a8a5fa63588",
   "metadata": {},
   "outputs": [],
   "source": [
    "#import script function\n",
    "from temp_functions import fahr_to_celsius\n",
    "from temp_functions import temp_classifier\n",
    "\n",
    "#create empty list\n",
    "temp_classes = []\n",
    "\n",
    "for temp in temp_data:\n",
    "    temp_celsius = fahr_to_celsius(temp)\n",
    "    temp_class = temp_classifier(temp_celsius)\n",
    "    temp_classes.append(temp_class)"
   ]
  },
  {
   "cell_type": "code",
   "execution_count": 96,
   "id": "e5e531f4-ffe2-4ff1-8bf5-e15b01d3c3ad",
   "metadata": {},
   "outputs": [
    {
     "name": "stdout",
     "output_type": "stream",
     "text": [
      "[0, 0, 0, 0, 0, 0, 0, 0, 0, 0, 0, 0, 0, 0, 0, 0, 1, 1, 1, 1, 1, 1, 1, 1, 1, 2, 2, 2, 2, 2, 2, 1, 1, 1, 1, 1, 1, 1, 1, 1, 1, 0, 0, 0, 0, 0, 0, 0, 0, 0, 0, 0, 0, 0, 0, 0, 0, 0, 0, 1, 1, 1, 2, 2, 2, 2, 2, 2, 2, 2, 2, 2, 2, 2, 2, 2, 2, 2, 2, 2, 2, 2, 2, 1, 1, 1, 1, 1, 0, 0, 0, 0, 0, 0, 0, 0, 0, 0, 0, 0, 0, 0, 0, 0, 0, 0, 1, 1, 2, 2, 2, 2, 2, 2, 2, 2, 2, 2, 2, 2, 2, 2, 2, 2, 2, 2, 2, 2, 1, 1, 0, 0, 0, 0, 0, 0, 0, 0, 0, 0, 0, 0, 0, 0, 0, 0, 0, 0, 0, 0, 0, 0, 0, 1, 2, 2, 2, 2, 2, 2, 2, 2, 2, 2, 2, 2, 2, 2, 2, 2, 2, 2, 2, 2, 2, 1, 1, 1, 0, 0, 0, 0, 0, 0, 0, 0, 0, 0, 0, 0, 0, 0, 0, 0, 0, 0, 0, 0, 0, 0, 0, 0, 1, 2, 2, 2, 2, 2, 2, 2, 2, 2, 2, 2, 2, 2, 2, 2, 2, 2, 2, 2, 2, 2, 2, 2, 2, 2, 2, 2, 2, 1, 1, 1, 1, 1, 1, 1, 0, 0, 0, 0, 0, 0, 0, 0, 0, 0, 0, 0, 0, 0, 1, 1, 1, 1, 1, 1, 2, 2, 2, 2, 2, 2, 2, 2, 2, 2, 2, 2, 2, 1, 1, 1, 0, 0, 0, 0, 0, 0, 0, 0, 0, 0, 0, 0, 0, 0, 0, 0, 0, 0, 0, 0, 0, 0, 1, 1, 1, 1, 1, 1, 1, 1, 1, 1, 1, 1, 2, 2, 2, 2, 2, 1, 1, 1, 1, 1, 1, 1, 1, 1, 1, 1, 1, 1, 1, 1, 1, 1, 1, 1, 1, 1, 0, 0]\n"
     ]
    }
   ],
   "source": [
    "print(temp_classes)"
   ]
  },
  {
   "cell_type": "code",
   "execution_count": 97,
   "id": "07faaca2-dd1e-4f40-a9b8-7c4e30d4578c",
   "metadata": {},
   "outputs": [
    {
     "name": "stdout",
     "output_type": "stream",
     "text": [
      "The number of 0 clasees is 137\n",
      "The number of 1 clasees is 85\n",
      "The number of 2 clasees is 114\n",
      "The number of 3 clasees is 0\n"
     ]
    }
   ],
   "source": [
    "zeros = temp_classes.count(0)\n",
    "ones = temp_classes.count(1)\n",
    "twos = temp_classes.count(2)\n",
    "threes = temp_classes.count(3)\n",
    "\n",
    "# 1. How many 0 values exist in the temp_classes list?\n",
    "print(f'The number of 0 clasees is {zeros}')\n",
    "\n",
    "# 2. How many 1 values exist in the temp_classes list?\n",
    "print(f'The number of 1 clasees is {ones}')\n",
    "\n",
    "# 3. How many 2 values exist in the temp_classes list?\n",
    "print(f'The number of 2 clasees is {twos}')\n",
    "\n",
    "# 4. How many 3 values exist in the temp_classes list?\n",
    "print(f'The number of 3 clasees is {threes}')"
   ]
  },
  {
   "cell_type": "code",
   "execution_count": null,
   "id": "5d5ab347-0616-40a8-bf48-5524fc01c083",
   "metadata": {},
   "outputs": [],
   "source": []
  }
 ],
 "metadata": {
  "kernelspec": {
   "display_name": "Python 3 (ipykernel)",
   "language": "python",
   "name": "python3"
  },
  "language_info": {
   "codemirror_mode": {
    "name": "ipython",
    "version": 3
   },
   "file_extension": ".py",
   "mimetype": "text/x-python",
   "name": "python",
   "nbconvert_exporter": "python",
   "pygments_lexer": "ipython3",
   "version": "3.9.13"
  }
 },
 "nbformat": 4,
 "nbformat_minor": 5
}
