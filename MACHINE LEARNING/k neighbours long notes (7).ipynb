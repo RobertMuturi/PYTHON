{
 "cells": [
  {
   "cell_type": "markdown",
   "id": "77bc6d5f",
   "metadata": {},
   "source": [
    "   # K-Nearest Neighbors Algorithm"
   ]
  },
  {
   "cell_type": "markdown",
   "id": "1d7e7f0b",
   "metadata": {},
   "source": [
    "The K-nearest neighbors (KNN) algorithm is a type of supervised machine learning algorithms. KNN is extremely easy to implement in its most basic form, and yet performs quite complex classification tasks. It is a lazy learning algorithm since it doesn't have a specialized training phase. Rather, it uses all of the data for training while classifying a new data point or instance. KNN is a non-parametric learning algorithm, which means that it doesn't assume anything about the underlying data. This is an extremely useful feature since most of the real world data doesn't really follow any theoretical assumption e.g. linear-separability, uniform distribution, etc.\n",
    "\n",
    "In this article, we will see how KNN can be implemented with Python's Scikit-Learn library. But before that let's first explore the theory behind KNN and see what are some of the pros and cons of the algorithm."
   ]
  },
  {
   "cell_type": "markdown",
   "id": "f9d484e3",
   "metadata": {},
   "source": [
    " **Theory**\n",
    " https://stackabuse.com/k-nearest-neighbors-algorithm-in-python-and-scikit-learn/"
   ]
  },
  {
   "cell_type": "markdown",
   "id": "2e62b75b",
   "metadata": {},
   "source": [
    "in theory  it simply calculates the distance of a new datapoint to all other training data points where K can be an integer. finally it assigns the datapoints to the class to which majority of the K data points belong."
   ]
  },
  {
   "cell_type": "markdown",
   "id": "b8eb4ee9",
   "metadata": {},
   "source": [
    "Let's see this algorithm in action with the help of a simple example. Suppose you have a dataset with two variables, which when plotted, looks like the one in the following figure."
   ]
  },
  {
   "cell_type": "markdown",
   "id": "3fb28566",
   "metadata": {},
   "source": [
    "Your task is to classify a new data point with 'X' into \"Blue\" class or \"Red\" class. The coordinate values of the data point are x=45 and y=50. Suppose the value of K is 3. The KNN algorithm starts by calculating the distance of point X from all the points. It then finds the 3 nearest points with least distance to point X. This is shown in the figure below. The three nearest points have been encircled."
   ]
  },
  {
   "cell_type": "markdown",
   "id": "963b7294",
   "metadata": {},
   "source": [
    "The final step of the KNN algorithm is to assign new point to the class to which majority of the three nearest points belong. From the figure above we can see that the two of the three nearest points belong to the class \"Red\" while one belongs to the class \"Blue\". Therefore the new data point will be classified as \"Red\"."
   ]
  },
  {
   "cell_type": "markdown",
   "id": "d10d41cd",
   "metadata": {},
   "source": [
    "**Pros and Cons of KNN**"
   ]
  },
  {
   "cell_type": "markdown",
   "id": "5ce3c251",
   "metadata": {},
   "source": [
    "In this section we'll present some of the pros and cons of using the KNN algorithm."
   ]
  },
  {
   "cell_type": "markdown",
   "id": "07c283e5",
   "metadata": {},
   "source": [
    "**pros**"
   ]
  },
  {
   "cell_type": "markdown",
   "id": "73198776",
   "metadata": {},
   "source": [
    "1. It is extremely easy to implement\n",
    "2. As said earlier, it is lazy learning algorithm and therefore requires no training prior to making real time predictions. This makes the KNN algorithm much faster than other algorithms that require training e.g SVM, linear regression, etc.\n",
    "3. Since the algorithm requires no training before making predictions, new data can be added seamlessly.\n",
    "4. There are only two parameters required to implement KNN i.e. the value of K and the distance function (e.g. Euclidean or Manhattan etc.)"
   ]
  },
  {
   "cell_type": "markdown",
   "id": "40ca5cfd",
   "metadata": {},
   "source": [
    "**Cons**"
   ]
  },
  {
   "cell_type": "markdown",
   "id": "74388dc9",
   "metadata": {},
   "source": [
    "1. The KNN algorithm doesn't work well with high dimensional data because with large number of dimensions, it becomes difficult for the algorithm to calculate distance in each dimension.\n",
    "2. The KNN algorithm has a high prediction cost for large datasets. This is because in large datasets the cost of calculating distance between new point and each existing point becomes higher.\n",
    "3. Finally, the KNN algorithm doesn't work well with categorical features since it is difficult to find the distance between dimensions with categorical features."
   ]
  },
  {
   "cell_type": "markdown",
   "id": "7b515af7",
   "metadata": {},
   "source": [
    "**Implementing KNN Algorithm with Scikit-Learn**"
   ]
  },
  {
   "cell_type": "markdown",
   "id": "d24f8e46",
   "metadata": {},
   "source": [
    "Implementing KNN Algorithm with Scikit-Learn"
   ]
  },
  {
   "cell_type": "code",
   "execution_count": 1,
   "id": "698a54f0",
   "metadata": {},
   "outputs": [],
   "source": [
    "import numpy as np\n",
    "import matplotlib.pyplot as plt\n",
    "import pandas as pd"
   ]
  },
  {
   "cell_type": "code",
   "execution_count": 2,
   "id": "7a281182",
   "metadata": {},
   "outputs": [],
   "source": [
    "url = \"https://archive.ics.uci.edu/ml/machine-learning-databases/iris/iris.data\"\n",
    "\n",
    "# Assign colum names to the dataset\n",
    "names = ['sepal-length', 'sepal-width', 'petal-length', 'petal-width', 'Class']\n",
    "\n",
    "# Read dataset to pandas dataframe\n",
    "dataset = pd.read_csv(url, names=names)"
   ]
  },
  {
   "cell_type": "code",
   "execution_count": 3,
   "id": "1982e4a3",
   "metadata": {},
   "outputs": [
    {
     "data": {
      "text/html": [
       "<div>\n",
       "<style scoped>\n",
       "    .dataframe tbody tr th:only-of-type {\n",
       "        vertical-align: middle;\n",
       "    }\n",
       "\n",
       "    .dataframe tbody tr th {\n",
       "        vertical-align: top;\n",
       "    }\n",
       "\n",
       "    .dataframe thead th {\n",
       "        text-align: right;\n",
       "    }\n",
       "</style>\n",
       "<table border=\"1\" class=\"dataframe\">\n",
       "  <thead>\n",
       "    <tr style=\"text-align: right;\">\n",
       "      <th></th>\n",
       "      <th>sepal-length</th>\n",
       "      <th>sepal-width</th>\n",
       "      <th>petal-length</th>\n",
       "      <th>petal-width</th>\n",
       "      <th>Class</th>\n",
       "    </tr>\n",
       "  </thead>\n",
       "  <tbody>\n",
       "    <tr>\n",
       "      <th>0</th>\n",
       "      <td>5.1</td>\n",
       "      <td>3.5</td>\n",
       "      <td>1.4</td>\n",
       "      <td>0.2</td>\n",
       "      <td>Iris-setosa</td>\n",
       "    </tr>\n",
       "    <tr>\n",
       "      <th>1</th>\n",
       "      <td>4.9</td>\n",
       "      <td>3.0</td>\n",
       "      <td>1.4</td>\n",
       "      <td>0.2</td>\n",
       "      <td>Iris-setosa</td>\n",
       "    </tr>\n",
       "    <tr>\n",
       "      <th>2</th>\n",
       "      <td>4.7</td>\n",
       "      <td>3.2</td>\n",
       "      <td>1.3</td>\n",
       "      <td>0.2</td>\n",
       "      <td>Iris-setosa</td>\n",
       "    </tr>\n",
       "    <tr>\n",
       "      <th>3</th>\n",
       "      <td>4.6</td>\n",
       "      <td>3.1</td>\n",
       "      <td>1.5</td>\n",
       "      <td>0.2</td>\n",
       "      <td>Iris-setosa</td>\n",
       "    </tr>\n",
       "    <tr>\n",
       "      <th>4</th>\n",
       "      <td>5.0</td>\n",
       "      <td>3.6</td>\n",
       "      <td>1.4</td>\n",
       "      <td>0.2</td>\n",
       "      <td>Iris-setosa</td>\n",
       "    </tr>\n",
       "  </tbody>\n",
       "</table>\n",
       "</div>"
      ],
      "text/plain": [
       "   sepal-length  sepal-width  petal-length  petal-width        Class\n",
       "0           5.1          3.5           1.4          0.2  Iris-setosa\n",
       "1           4.9          3.0           1.4          0.2  Iris-setosa\n",
       "2           4.7          3.2           1.3          0.2  Iris-setosa\n",
       "3           4.6          3.1           1.5          0.2  Iris-setosa\n",
       "4           5.0          3.6           1.4          0.2  Iris-setosa"
      ]
     },
     "execution_count": 3,
     "metadata": {},
     "output_type": "execute_result"
    }
   ],
   "source": [
    "dataset.head()"
   ]
  },
  {
   "cell_type": "markdown",
   "id": "419c8991",
   "metadata": {},
   "source": [
    "**Preprocessing**"
   ]
  },
  {
   "cell_type": "markdown",
   "id": "4615cf79",
   "metadata": {},
   "source": [
    "The next step is to split our dataset into its attributes and labels."
   ]
  },
  {
   "cell_type": "code",
   "execution_count": 4,
   "id": "1a5a97b9",
   "metadata": {},
   "outputs": [],
   "source": [
    "X = dataset.iloc[:, :-1].values\n",
    "y = dataset.iloc[:, 4].values"
   ]
  },
  {
   "cell_type": "code",
   "execution_count": 5,
   "id": "771fbeee",
   "metadata": {},
   "outputs": [
    {
     "data": {
      "text/plain": [
       "array([[5.1, 3.5, 1.4, 0.2],\n",
       "       [4.9, 3. , 1.4, 0.2],\n",
       "       [4.7, 3.2, 1.3, 0.2],\n",
       "       [4.6, 3.1, 1.5, 0.2],\n",
       "       [5. , 3.6, 1.4, 0.2],\n",
       "       [5.4, 3.9, 1.7, 0.4],\n",
       "       [4.6, 3.4, 1.4, 0.3],\n",
       "       [5. , 3.4, 1.5, 0.2],\n",
       "       [4.4, 2.9, 1.4, 0.2],\n",
       "       [4.9, 3.1, 1.5, 0.1],\n",
       "       [5.4, 3.7, 1.5, 0.2],\n",
       "       [4.8, 3.4, 1.6, 0.2],\n",
       "       [4.8, 3. , 1.4, 0.1],\n",
       "       [4.3, 3. , 1.1, 0.1],\n",
       "       [5.8, 4. , 1.2, 0.2],\n",
       "       [5.7, 4.4, 1.5, 0.4],\n",
       "       [5.4, 3.9, 1.3, 0.4],\n",
       "       [5.1, 3.5, 1.4, 0.3],\n",
       "       [5.7, 3.8, 1.7, 0.3],\n",
       "       [5.1, 3.8, 1.5, 0.3],\n",
       "       [5.4, 3.4, 1.7, 0.2],\n",
       "       [5.1, 3.7, 1.5, 0.4],\n",
       "       [4.6, 3.6, 1. , 0.2],\n",
       "       [5.1, 3.3, 1.7, 0.5],\n",
       "       [4.8, 3.4, 1.9, 0.2],\n",
       "       [5. , 3. , 1.6, 0.2],\n",
       "       [5. , 3.4, 1.6, 0.4],\n",
       "       [5.2, 3.5, 1.5, 0.2],\n",
       "       [5.2, 3.4, 1.4, 0.2],\n",
       "       [4.7, 3.2, 1.6, 0.2],\n",
       "       [4.8, 3.1, 1.6, 0.2],\n",
       "       [5.4, 3.4, 1.5, 0.4],\n",
       "       [5.2, 4.1, 1.5, 0.1],\n",
       "       [5.5, 4.2, 1.4, 0.2],\n",
       "       [4.9, 3.1, 1.5, 0.1],\n",
       "       [5. , 3.2, 1.2, 0.2],\n",
       "       [5.5, 3.5, 1.3, 0.2],\n",
       "       [4.9, 3.1, 1.5, 0.1],\n",
       "       [4.4, 3. , 1.3, 0.2],\n",
       "       [5.1, 3.4, 1.5, 0.2],\n",
       "       [5. , 3.5, 1.3, 0.3],\n",
       "       [4.5, 2.3, 1.3, 0.3],\n",
       "       [4.4, 3.2, 1.3, 0.2],\n",
       "       [5. , 3.5, 1.6, 0.6],\n",
       "       [5.1, 3.8, 1.9, 0.4],\n",
       "       [4.8, 3. , 1.4, 0.3],\n",
       "       [5.1, 3.8, 1.6, 0.2],\n",
       "       [4.6, 3.2, 1.4, 0.2],\n",
       "       [5.3, 3.7, 1.5, 0.2],\n",
       "       [5. , 3.3, 1.4, 0.2],\n",
       "       [7. , 3.2, 4.7, 1.4],\n",
       "       [6.4, 3.2, 4.5, 1.5],\n",
       "       [6.9, 3.1, 4.9, 1.5],\n",
       "       [5.5, 2.3, 4. , 1.3],\n",
       "       [6.5, 2.8, 4.6, 1.5],\n",
       "       [5.7, 2.8, 4.5, 1.3],\n",
       "       [6.3, 3.3, 4.7, 1.6],\n",
       "       [4.9, 2.4, 3.3, 1. ],\n",
       "       [6.6, 2.9, 4.6, 1.3],\n",
       "       [5.2, 2.7, 3.9, 1.4],\n",
       "       [5. , 2. , 3.5, 1. ],\n",
       "       [5.9, 3. , 4.2, 1.5],\n",
       "       [6. , 2.2, 4. , 1. ],\n",
       "       [6.1, 2.9, 4.7, 1.4],\n",
       "       [5.6, 2.9, 3.6, 1.3],\n",
       "       [6.7, 3.1, 4.4, 1.4],\n",
       "       [5.6, 3. , 4.5, 1.5],\n",
       "       [5.8, 2.7, 4.1, 1. ],\n",
       "       [6.2, 2.2, 4.5, 1.5],\n",
       "       [5.6, 2.5, 3.9, 1.1],\n",
       "       [5.9, 3.2, 4.8, 1.8],\n",
       "       [6.1, 2.8, 4. , 1.3],\n",
       "       [6.3, 2.5, 4.9, 1.5],\n",
       "       [6.1, 2.8, 4.7, 1.2],\n",
       "       [6.4, 2.9, 4.3, 1.3],\n",
       "       [6.6, 3. , 4.4, 1.4],\n",
       "       [6.8, 2.8, 4.8, 1.4],\n",
       "       [6.7, 3. , 5. , 1.7],\n",
       "       [6. , 2.9, 4.5, 1.5],\n",
       "       [5.7, 2.6, 3.5, 1. ],\n",
       "       [5.5, 2.4, 3.8, 1.1],\n",
       "       [5.5, 2.4, 3.7, 1. ],\n",
       "       [5.8, 2.7, 3.9, 1.2],\n",
       "       [6. , 2.7, 5.1, 1.6],\n",
       "       [5.4, 3. , 4.5, 1.5],\n",
       "       [6. , 3.4, 4.5, 1.6],\n",
       "       [6.7, 3.1, 4.7, 1.5],\n",
       "       [6.3, 2.3, 4.4, 1.3],\n",
       "       [5.6, 3. , 4.1, 1.3],\n",
       "       [5.5, 2.5, 4. , 1.3],\n",
       "       [5.5, 2.6, 4.4, 1.2],\n",
       "       [6.1, 3. , 4.6, 1.4],\n",
       "       [5.8, 2.6, 4. , 1.2],\n",
       "       [5. , 2.3, 3.3, 1. ],\n",
       "       [5.6, 2.7, 4.2, 1.3],\n",
       "       [5.7, 3. , 4.2, 1.2],\n",
       "       [5.7, 2.9, 4.2, 1.3],\n",
       "       [6.2, 2.9, 4.3, 1.3],\n",
       "       [5.1, 2.5, 3. , 1.1],\n",
       "       [5.7, 2.8, 4.1, 1.3],\n",
       "       [6.3, 3.3, 6. , 2.5],\n",
       "       [5.8, 2.7, 5.1, 1.9],\n",
       "       [7.1, 3. , 5.9, 2.1],\n",
       "       [6.3, 2.9, 5.6, 1.8],\n",
       "       [6.5, 3. , 5.8, 2.2],\n",
       "       [7.6, 3. , 6.6, 2.1],\n",
       "       [4.9, 2.5, 4.5, 1.7],\n",
       "       [7.3, 2.9, 6.3, 1.8],\n",
       "       [6.7, 2.5, 5.8, 1.8],\n",
       "       [7.2, 3.6, 6.1, 2.5],\n",
       "       [6.5, 3.2, 5.1, 2. ],\n",
       "       [6.4, 2.7, 5.3, 1.9],\n",
       "       [6.8, 3. , 5.5, 2.1],\n",
       "       [5.7, 2.5, 5. , 2. ],\n",
       "       [5.8, 2.8, 5.1, 2.4],\n",
       "       [6.4, 3.2, 5.3, 2.3],\n",
       "       [6.5, 3. , 5.5, 1.8],\n",
       "       [7.7, 3.8, 6.7, 2.2],\n",
       "       [7.7, 2.6, 6.9, 2.3],\n",
       "       [6. , 2.2, 5. , 1.5],\n",
       "       [6.9, 3.2, 5.7, 2.3],\n",
       "       [5.6, 2.8, 4.9, 2. ],\n",
       "       [7.7, 2.8, 6.7, 2. ],\n",
       "       [6.3, 2.7, 4.9, 1.8],\n",
       "       [6.7, 3.3, 5.7, 2.1],\n",
       "       [7.2, 3.2, 6. , 1.8],\n",
       "       [6.2, 2.8, 4.8, 1.8],\n",
       "       [6.1, 3. , 4.9, 1.8],\n",
       "       [6.4, 2.8, 5.6, 2.1],\n",
       "       [7.2, 3. , 5.8, 1.6],\n",
       "       [7.4, 2.8, 6.1, 1.9],\n",
       "       [7.9, 3.8, 6.4, 2. ],\n",
       "       [6.4, 2.8, 5.6, 2.2],\n",
       "       [6.3, 2.8, 5.1, 1.5],\n",
       "       [6.1, 2.6, 5.6, 1.4],\n",
       "       [7.7, 3. , 6.1, 2.3],\n",
       "       [6.3, 3.4, 5.6, 2.4],\n",
       "       [6.4, 3.1, 5.5, 1.8],\n",
       "       [6. , 3. , 4.8, 1.8],\n",
       "       [6.9, 3.1, 5.4, 2.1],\n",
       "       [6.7, 3.1, 5.6, 2.4],\n",
       "       [6.9, 3.1, 5.1, 2.3],\n",
       "       [5.8, 2.7, 5.1, 1.9],\n",
       "       [6.8, 3.2, 5.9, 2.3],\n",
       "       [6.7, 3.3, 5.7, 2.5],\n",
       "       [6.7, 3. , 5.2, 2.3],\n",
       "       [6.3, 2.5, 5. , 1.9],\n",
       "       [6.5, 3. , 5.2, 2. ],\n",
       "       [6.2, 3.4, 5.4, 2.3],\n",
       "       [5.9, 3. , 5.1, 1.8]])"
      ]
     },
     "execution_count": 5,
     "metadata": {},
     "output_type": "execute_result"
    }
   ],
   "source": [
    "X"
   ]
  },
  {
   "cell_type": "markdown",
   "id": "b3e61026",
   "metadata": {},
   "source": [
    "The X variable contains the first four columns of the dataset (i.e. attributes) while y contains the labels."
   ]
  },
  {
   "cell_type": "markdown",
   "id": "5139b8f0",
   "metadata": {},
   "source": [
    "**Train Test Split**"
   ]
  },
  {
   "cell_type": "markdown",
   "id": "06eac488",
   "metadata": {},
   "source": [
    "To avoid over-fitting, we will divide our dataset into training and test splits, which gives us a better idea as to how our algorithm performed during the testing phase. This way our algorithm is tested on un-seen data, as it would be in a production application.\n",
    "\n",
    "To create training and test splits, execute the following script:"
   ]
  },
  {
   "cell_type": "code",
   "execution_count": 6,
   "id": "b9ffcf41",
   "metadata": {},
   "outputs": [],
   "source": [
    "from sklearn.model_selection import train_test_split\n",
    "X_train, X_test, y_train, y_test = train_test_split(X, y, test_size=0.20)"
   ]
  },
  {
   "cell_type": "markdown",
   "id": "47c14de1",
   "metadata": {},
   "source": [
    "The above script splits the dataset into 80% train data and 20% test data. This means that out of total 150 records, the training set will contain 120 records and the test set contains 30 of those records."
   ]
  },
  {
   "cell_type": "markdown",
   "id": "1c4b0be9",
   "metadata": {},
   "source": [
    "**Feature Scaling**\n",
    "\n",
    "https://machinelearningmastery.com/standardscaler-and-minmaxscaler-transforms-in-python/"
   ]
  },
  {
   "cell_type": "markdown",
   "id": "0f33e91e",
   "metadata": {},
   "source": [
    "Since the range of values of raw data varies widely, in some machine learning algorithms, objective functions will not work properly without normalization scales each input variable separately to the range 0-1, which is the range for floating-point values where we have the most precision. Standardization scales each input variable separately by subtracting the mean (called centering) and dividing by the standard deviation to shift the distribution to have a mean of zero and a standard deviation of one.. For example, the majority of classifiers calculate the distance between two points by the Euclidean distance. If one of the features has a broad range of values, the distance will be governed by this particular feature. Therefore, the range of all features should be normalized so that each feature contributes approximately proportionately to the final distance."
   ]
  },
  {
   "cell_type": "markdown",
   "id": "2b14f17e",
   "metadata": {},
   "source": [
    "The gradient descent algorithm (which is used in neural network training and other machine learning algorithms) also converges faster with normalized features.\n",
    "\n",
    "The following script performs feature scaling:"
   ]
  },
  {
   "cell_type": "code",
   "execution_count": 9,
   "id": "9436b7b7",
   "metadata": {},
   "outputs": [
    {
     "data": {
      "text/plain": [
       "array([[-0.03841783, -0.83628095,  0.21096671, -0.23626601],\n",
       "       [ 1.45676256,  0.31986783,  0.55154078,  0.29867589],\n",
       "       [-0.03841783, -0.83628095,  0.09744202,  0.03120494],\n",
       "       [ 1.3321642 ,  0.08863807,  0.94887719,  1.23482422],\n",
       "       [-0.53681129,  0.78232734, -1.15132956, -1.3061498 ],\n",
       "       [-0.28761456, -0.60505119,  0.66506547,  1.10108874],\n",
       "       [-0.41221293,  1.01355709, -1.37837894, -1.3061498 ],\n",
       "       [-1.03520476,  0.78232734, -1.2080919 , -1.03867885],\n",
       "       [ 0.45997563, -1.99242972,  0.43801609,  0.43241137],\n",
       "       [ 1.20756583, -0.60505119,  0.60830313,  0.29867589],\n",
       "       [-0.1630162 , -1.0675107 , -0.12960735, -0.23626601],\n",
       "       [-0.41221293, -1.29874045,  0.15420437,  0.16494042],\n",
       "       [-1.53359822,  1.24478684, -1.54866597, -1.3061498 ],\n",
       "       [ 2.32895113, -1.0675107 ,  1.80031236,  1.50229516],\n",
       "       [ 0.584574  , -1.29874045,  0.66506547,  0.43241137],\n",
       "       [ 1.20756583, -0.14259168,  1.00563954,  1.23482422],\n",
       "       [-0.53681129,  1.4760166 , -1.26485425, -1.3061498 ],\n",
       "       [-0.41221293, -1.52997021,  0.04067968, -0.10253053],\n",
       "       [ 2.32895113, -0.14259168,  1.34621361,  1.50229516],\n",
       "       [ 1.95515603, -0.60505119,  1.34621361,  0.96735327],\n",
       "       [ 0.33537727, -0.60505119,  0.15420437,  0.16494042],\n",
       "       [ 0.83377073, -0.14259168,  1.00563954,  0.83361779],\n",
       "       [ 0.83377073, -0.14259168,  0.83535251,  1.10108874],\n",
       "       [-1.28440149,  0.08863807, -1.2080919 , -1.3061498 ],\n",
       "       [ 1.08296746,  0.55109758,  1.11916423,  1.76976611],\n",
       "       [-0.53681129,  1.93847611, -1.37837894, -1.03867885],\n",
       "       [-1.03520476,  1.24478684, -1.32161659, -1.3061498 ],\n",
       "       [ 0.08618054,  0.31986783,  0.60830313,  0.83361779],\n",
       "       [ 1.3321642 ,  0.08863807,  0.66506547,  0.43241137],\n",
       "       [ 0.584574  , -0.37382144,  1.06240188,  0.83361779],\n",
       "       [ 0.83377073, -0.14259168,  1.17592657,  1.36855969],\n",
       "       [ 0.33537727, -0.37382144,  0.55154078,  0.29867589],\n",
       "       [-1.78279495, -0.37382144, -1.32161659, -1.3061498 ],\n",
       "       [ 1.58136093, -0.14259168,  1.23268892,  1.23482422],\n",
       "       [-0.91060639,  0.78232734, -1.26485425, -1.3061498 ],\n",
       "       [-0.28761456, -0.37382144, -0.07284501,  0.16494042],\n",
       "       [ 0.2107789 , -0.14259168,  0.60830313,  0.83361779],\n",
       "       [ 2.32895113,  1.70724635,  1.68678767,  1.36855969],\n",
       "       [-0.53681129,  0.78232734, -1.26485425, -1.03867885],\n",
       "       [-0.28761456, -0.14259168,  0.43801609,  0.43241137],\n",
       "       [-1.78279495,  0.31986783, -1.37837894, -1.3061498 ],\n",
       "       [-1.03520476,  0.31986783, -1.43514128, -1.3061498 ],\n",
       "       [-0.91060639,  1.70724635, -1.26485425, -1.17241433],\n",
       "       [-1.78279495, -0.14259168, -1.37837894, -1.3061498 ],\n",
       "       [ 0.2107789 , -1.99242972,  0.15420437, -0.23626601],\n",
       "       [-0.91060639,  1.70724635, -1.2080919 , -1.3061498 ],\n",
       "       [ 0.70917237,  0.31986783,  0.43801609,  0.43241137],\n",
       "       [-0.1630162 ,  3.09462488, -1.26485425, -1.03867885],\n",
       "       [ 1.70595929, -0.14259168,  1.17592657,  0.56614684],\n",
       "       [ 0.2107789 , -0.83628095,  0.77859016,  0.56614684],\n",
       "       [-0.91060639,  0.55109758, -1.15132956, -0.90494338],\n",
       "       [-0.03841783,  2.16970586, -1.43514128, -1.3061498 ],\n",
       "       [-1.53359822,  0.08863807, -1.26485425, -1.3061498 ],\n",
       "       [-0.41221293,  2.63216537, -1.32161659, -1.3061498 ],\n",
       "       [ 0.33537727, -0.14259168,  0.66506547,  0.83361779],\n",
       "       [ 2.32895113, -0.60505119,  1.68678767,  1.10108874],\n",
       "       [-0.03841783, -0.83628095,  0.77859016,  0.96735327],\n",
       "       [-1.53359822,  0.31986783, -1.32161659, -1.3061498 ],\n",
       "       [-0.91060639,  1.01355709, -1.32161659, -1.3061498 ],\n",
       "       [-0.1630162 , -0.14259168,  0.26772906,  0.03120494],\n",
       "       [ 1.08296746,  0.55109758,  1.11916423,  1.23482422],\n",
       "       [-1.15980312,  0.08863807, -1.26485425, -1.43988528],\n",
       "       [-1.15980312,  0.08863807, -1.26485425, -1.43988528],\n",
       "       [ 0.9583691 , -0.37382144,  0.49477844,  0.16494042],\n",
       "       [ 0.33537727, -1.0675107 ,  1.06240188,  0.29867589],\n",
       "       [-1.03520476,  0.55109758, -1.32161659, -1.3061498 ],\n",
       "       [ 1.08296746, -0.14259168,  0.83535251,  1.50229516],\n",
       "       [ 0.584574  ,  0.55109758,  0.55154078,  0.56614684],\n",
       "       [ 0.2107789 ,  0.78232734,  0.43801609,  0.56614684],\n",
       "       [-0.78600803,  2.40093562, -1.26485425, -1.43988528],\n",
       "       [-0.1630162 , -1.29874045,  0.72182782,  1.10108874],\n",
       "       [-1.15980312, -0.14259168, -1.32161659, -1.3061498 ],\n",
       "       [-0.53681129, -0.14259168,  0.43801609,  0.43241137],\n",
       "       [-1.15980312, -1.52997021, -0.24313204, -0.23626601],\n",
       "       [-0.1630162 , -0.37382144,  0.26772906,  0.16494042],\n",
       "       [-0.1630162 ,  1.70724635, -1.15132956, -1.17241433],\n",
       "       [-1.28440149, -0.14259168, -1.32161659, -1.43988528],\n",
       "       [ 1.70595929,  0.31986783,  1.28945126,  0.83361779],\n",
       "       [ 0.2107789 , -1.99242972,  0.72182782,  0.43241137],\n",
       "       [-0.78600803,  0.78232734, -1.32161659, -1.3061498 ],\n",
       "       [-0.03841783, -1.0675107 ,  0.15420437,  0.03120494],\n",
       "       [ 0.45997563,  0.78232734,  0.94887719,  1.50229516],\n",
       "       [-1.65819659, -1.76119996, -1.37837894, -1.17241433],\n",
       "       [-0.91060639, -1.29874045, -0.41341908, -0.10253053],\n",
       "       [-1.28440149,  0.78232734, -1.2080919 , -1.3061498 ],\n",
       "       [ 0.584574  , -1.76119996,  0.38125375,  0.16494042],\n",
       "       [ 0.70917237, -0.60505119,  1.06240188,  1.36855969],\n",
       "       [-0.78600803, -0.83628095,  0.09744202,  0.29867589],\n",
       "       [ 0.70917237, -0.83628095,  0.89211485,  0.96735327],\n",
       "       [ 1.08296746,  0.08863807,  1.06240188,  1.63603064],\n",
       "       [ 0.45997563, -0.37382144,  0.3244914 ,  0.16494042],\n",
       "       [ 1.08296746, -1.29874045,  1.17592657,  0.83361779],\n",
       "       [ 0.08618054, -0.14259168,  0.77859016,  0.83361779],\n",
       "       [ 0.70917237, -0.37382144,  0.3244914 ,  0.16494042],\n",
       "       [ 0.584574  ,  0.55109758,  1.28945126,  1.76976611],\n",
       "       [-1.53359822,  0.78232734, -1.32161659, -1.17241433],\n",
       "       [-1.03520476,  1.01355709, -1.37837894, -1.17241433],\n",
       "       [-1.28440149,  0.78232734, -1.03780487, -1.3061498 ],\n",
       "       [-0.1630162 , -0.60505119,  0.43801609,  0.16494042],\n",
       "       [-0.41221293, -1.76119996,  0.15420437,  0.16494042],\n",
       "       [ 0.83377073,  0.31986783,  0.77859016,  1.10108874],\n",
       "       [ 0.33537727, -0.14259168,  0.49477844,  0.29867589],\n",
       "       [-1.03520476,  1.01355709, -1.2080919 , -0.7712079 ],\n",
       "       [ 0.83377073, -0.60505119,  0.49477844,  0.43241137],\n",
       "       [ 0.70917237,  0.31986783,  0.89211485,  1.50229516],\n",
       "       [ 0.70917237,  0.08863807,  1.00563954,  0.83361779],\n",
       "       [-0.53681129,  1.93847611, -1.15132956, -1.03867885],\n",
       "       [ 1.08296746,  0.08863807,  0.55154078,  0.43241137],\n",
       "       [-1.15980312, -1.29874045,  0.43801609,  0.69988232],\n",
       "       [ 0.08618054, -0.14259168,  0.26772906,  0.43241137],\n",
       "       [-0.28761456, -0.83628095,  0.26772906,  0.16494042],\n",
       "       [ 0.33537727, -0.60505119,  0.55154078,  0.03120494],\n",
       "       [-0.41221293, -1.0675107 ,  0.38125375,  0.03120494],\n",
       "       [-0.1630162 , -0.60505119,  0.21096671,  0.16494042],\n",
       "       [-1.28440149, -0.14259168, -1.32161659, -1.17241433],\n",
       "       [-0.03841783, -0.83628095,  0.77859016,  0.96735327],\n",
       "       [-1.03520476,  0.78232734, -1.26485425, -1.3061498 ],\n",
       "       [ 1.3321642 ,  0.31986783,  1.11916423,  1.50229516],\n",
       "       [ 1.83055766, -0.37382144,  1.4597383 ,  0.83361779],\n",
       "       [-0.66140966,  1.4760166 , -1.26485425, -1.3061498 ]])"
      ]
     },
     "execution_count": 9,
     "metadata": {},
     "output_type": "execute_result"
    }
   ],
   "source": [
    "from sklearn.preprocessing import StandardScaler\n",
    "scaler = StandardScaler()\n",
    "scaler.fit(X_train)\n",
    "\n",
    "X_train = scaler.transform(X_train)\n",
    "X_test = scaler.transform(X_test)\n",
    "X_train"
   ]
  },
  {
   "cell_type": "markdown",
   "id": "f9938f3f",
   "metadata": {},
   "source": [
    "**Training and Predictions**\n",
    "\n",
    "It is extremely straight forward to train the KNN algorithm and make predictions with it, especially when using Scikit-Learn."
   ]
  },
  {
   "cell_type": "code",
   "execution_count": 16,
   "id": "90591599",
   "metadata": {},
   "outputs": [
    {
     "data": {
      "text/html": [
       "<style>#sk-container-id-2 {color: black;background-color: white;}#sk-container-id-2 pre{padding: 0;}#sk-container-id-2 div.sk-toggleable {background-color: white;}#sk-container-id-2 label.sk-toggleable__label {cursor: pointer;display: block;width: 100%;margin-bottom: 0;padding: 0.3em;box-sizing: border-box;text-align: center;}#sk-container-id-2 label.sk-toggleable__label-arrow:before {content: \"▸\";float: left;margin-right: 0.25em;color: #696969;}#sk-container-id-2 label.sk-toggleable__label-arrow:hover:before {color: black;}#sk-container-id-2 div.sk-estimator:hover label.sk-toggleable__label-arrow:before {color: black;}#sk-container-id-2 div.sk-toggleable__content {max-height: 0;max-width: 0;overflow: hidden;text-align: left;background-color: #f0f8ff;}#sk-container-id-2 div.sk-toggleable__content pre {margin: 0.2em;color: black;border-radius: 0.25em;background-color: #f0f8ff;}#sk-container-id-2 input.sk-toggleable__control:checked~div.sk-toggleable__content {max-height: 200px;max-width: 100%;overflow: auto;}#sk-container-id-2 input.sk-toggleable__control:checked~label.sk-toggleable__label-arrow:before {content: \"▾\";}#sk-container-id-2 div.sk-estimator input.sk-toggleable__control:checked~label.sk-toggleable__label {background-color: #d4ebff;}#sk-container-id-2 div.sk-label input.sk-toggleable__control:checked~label.sk-toggleable__label {background-color: #d4ebff;}#sk-container-id-2 input.sk-hidden--visually {border: 0;clip: rect(1px 1px 1px 1px);clip: rect(1px, 1px, 1px, 1px);height: 1px;margin: -1px;overflow: hidden;padding: 0;position: absolute;width: 1px;}#sk-container-id-2 div.sk-estimator {font-family: monospace;background-color: #f0f8ff;border: 1px dotted black;border-radius: 0.25em;box-sizing: border-box;margin-bottom: 0.5em;}#sk-container-id-2 div.sk-estimator:hover {background-color: #d4ebff;}#sk-container-id-2 div.sk-parallel-item::after {content: \"\";width: 100%;border-bottom: 1px solid gray;flex-grow: 1;}#sk-container-id-2 div.sk-label:hover label.sk-toggleable__label {background-color: #d4ebff;}#sk-container-id-2 div.sk-serial::before {content: \"\";position: absolute;border-left: 1px solid gray;box-sizing: border-box;top: 0;bottom: 0;left: 50%;z-index: 0;}#sk-container-id-2 div.sk-serial {display: flex;flex-direction: column;align-items: center;background-color: white;padding-right: 0.2em;padding-left: 0.2em;position: relative;}#sk-container-id-2 div.sk-item {position: relative;z-index: 1;}#sk-container-id-2 div.sk-parallel {display: flex;align-items: stretch;justify-content: center;background-color: white;position: relative;}#sk-container-id-2 div.sk-item::before, #sk-container-id-2 div.sk-parallel-item::before {content: \"\";position: absolute;border-left: 1px solid gray;box-sizing: border-box;top: 0;bottom: 0;left: 50%;z-index: -1;}#sk-container-id-2 div.sk-parallel-item {display: flex;flex-direction: column;z-index: 1;position: relative;background-color: white;}#sk-container-id-2 div.sk-parallel-item:first-child::after {align-self: flex-end;width: 50%;}#sk-container-id-2 div.sk-parallel-item:last-child::after {align-self: flex-start;width: 50%;}#sk-container-id-2 div.sk-parallel-item:only-child::after {width: 0;}#sk-container-id-2 div.sk-dashed-wrapped {border: 1px dashed gray;margin: 0 0.4em 0.5em 0.4em;box-sizing: border-box;padding-bottom: 0.4em;background-color: white;}#sk-container-id-2 div.sk-label label {font-family: monospace;font-weight: bold;display: inline-block;line-height: 1.2em;}#sk-container-id-2 div.sk-label-container {text-align: center;}#sk-container-id-2 div.sk-container {/* jupyter's `normalize.less` sets `[hidden] { display: none; }` but bootstrap.min.css set `[hidden] { display: none !important; }` so we also need the `!important` here to be able to override the default hidden behavior on the sphinx rendered scikit-learn.org. See: https://github.com/scikit-learn/scikit-learn/issues/21755 */display: inline-block !important;position: relative;}#sk-container-id-2 div.sk-text-repr-fallback {display: none;}</style><div id=\"sk-container-id-2\" class=\"sk-top-container\"><div class=\"sk-text-repr-fallback\"><pre>KNeighborsClassifier(n_neighbors=8)</pre><b>In a Jupyter environment, please rerun this cell to show the HTML representation or trust the notebook. <br />On GitHub, the HTML representation is unable to render, please try loading this page with nbviewer.org.</b></div><div class=\"sk-container\" hidden><div class=\"sk-item\"><div class=\"sk-estimator sk-toggleable\"><input class=\"sk-toggleable__control sk-hidden--visually\" id=\"sk-estimator-id-2\" type=\"checkbox\" checked><label for=\"sk-estimator-id-2\" class=\"sk-toggleable__label sk-toggleable__label-arrow\">KNeighborsClassifier</label><div class=\"sk-toggleable__content\"><pre>KNeighborsClassifier(n_neighbors=8)</pre></div></div></div></div></div>"
      ],
      "text/plain": [
       "KNeighborsClassifier(n_neighbors=8)"
      ]
     },
     "execution_count": 16,
     "metadata": {},
     "output_type": "execute_result"
    }
   ],
   "source": [
    "from sklearn.neighbors import KNeighborsClassifier\n",
    "classifier = KNeighborsClassifier(n_neighbors=8)\n",
    "classifier.fit(X_train, y_train)"
   ]
  },
  {
   "cell_type": "markdown",
   "id": "08959e1f",
   "metadata": {},
   "source": [
    "The first step is to import the KNeighborsClassifier class from the sklearn.neighbors library. In the second line, this class is initialized with one parameter, i.e. n_neigbours. This is basically the value for the K. There is no ideal value for K and it is selected after testing and evaluation, however to start out, 5 seems to be the most commonly used value for KNN algorithm.\n",
    "\n",
    "The final step is to make predictions on our test data. To do so, execute the following script:"
   ]
  },
  {
   "cell_type": "code",
   "execution_count": 17,
   "id": "ff221b16",
   "metadata": {},
   "outputs": [
    {
     "data": {
      "text/plain": [
       "array(['Iris-virginica', 'Iris-versicolor', 'Iris-versicolor',\n",
       "       'Iris-versicolor', 'Iris-setosa', 'Iris-setosa', 'Iris-setosa',\n",
       "       'Iris-versicolor', 'Iris-virginica', 'Iris-virginica',\n",
       "       'Iris-versicolor', 'Iris-virginica', 'Iris-setosa',\n",
       "       'Iris-virginica', 'Iris-versicolor', 'Iris-setosa',\n",
       "       'Iris-virginica', 'Iris-versicolor', 'Iris-virginica',\n",
       "       'Iris-versicolor', 'Iris-setosa', 'Iris-virginica', 'Iris-setosa',\n",
       "       'Iris-virginica', 'Iris-versicolor', 'Iris-virginica',\n",
       "       'Iris-setosa', 'Iris-virginica', 'Iris-setosa', 'Iris-versicolor'],\n",
       "      dtype=object)"
      ]
     },
     "execution_count": 17,
     "metadata": {},
     "output_type": "execute_result"
    }
   ],
   "source": [
    "y_pred = classifier.predict(X_test)\n",
    "y_pred"
   ]
  },
  {
   "cell_type": "markdown",
   "id": "8c31c3ea",
   "metadata": {},
   "source": [
    "The R2 can be calculated directly with the `score()` method:"
   ]
  },
  {
   "cell_type": "code",
   "execution_count": 18,
   "id": "46a15003",
   "metadata": {},
   "outputs": [
    {
     "data": {
      "text/plain": [
       "0.9666666666666667"
      ]
     },
     "execution_count": 18,
     "metadata": {},
     "output_type": "execute_result"
    }
   ],
   "source": [
    "classifier.score(X_test, y_test)"
   ]
  },
  {
   "cell_type": "markdown",
   "id": "40c6b471",
   "metadata": {},
   "source": [
    "**Evaluating the Algorithm**"
   ]
  },
  {
   "cell_type": "markdown",
   "id": "2b7b1d0b",
   "metadata": {},
   "source": [
    "For evaluating an algorithm, confusion matrix, precision, recall and f1 score are the most commonly used metrics. The confusion_matrix and classification_report methods of the sklearn.metrics can be used to calculate these metrics. Take a look at the following script:"
   ]
  },
  {
   "cell_type": "code",
   "execution_count": 19,
   "id": "68e8e617",
   "metadata": {},
   "outputs": [
    {
     "name": "stdout",
     "output_type": "stream",
     "text": [
      "[[ 9  0  0]\n",
      " [ 0  9  0]\n",
      " [ 0  1 11]]\n",
      "                 precision    recall  f1-score   support\n",
      "\n",
      "    Iris-setosa       1.00      1.00      1.00         9\n",
      "Iris-versicolor       0.90      1.00      0.95         9\n",
      " Iris-virginica       1.00      0.92      0.96        12\n",
      "\n",
      "       accuracy                           0.97        30\n",
      "      macro avg       0.97      0.97      0.97        30\n",
      "   weighted avg       0.97      0.97      0.97        30\n",
      "\n"
     ]
    }
   ],
   "source": [
    "from sklearn.metrics import classification_report, confusion_matrix\n",
    "print(confusion_matrix(y_test, y_pred))\n",
    "print(classification_report(y_test, y_pred))"
   ]
  },
  {
   "cell_type": "markdown",
   "id": "84849db3",
   "metadata": {},
   "source": [
    "The results show that our KNN algorithm was able to classify all the 30 records in the test set with 100% accuracy, which is excellent. Although the algorithm performed very well with this dataset, don't expect the same results with all applications. As noted earlier, KNN doesn't always perform as well with high-dimensionality or categorical features."
   ]
  },
  {
   "cell_type": "markdown",
   "id": "dd93f267",
   "metadata": {},
   "source": [
    "**Comparing Error Rate with the K Value**"
   ]
  },
  {
   "cell_type": "markdown",
   "id": "f413199b",
   "metadata": {},
   "source": [
    "In the training and prediction section we said that there is no way to know beforehand which value of K that yields the best results in the first go. We randomly chose 5 as the K value and it just happen to result in 100% accuracy.\n",
    "\n",
    "One way to help you find the best value of K is to plot the graph of K value and the corresponding error rate for the dataset.\n",
    "\n",
    "In this section, we will plot the mean error for the predicted values of test set for all the K values between 1 and 40.\n",
    "\n",
    "To do so, let's first calculate the mean of error for all the predicted values where K ranges from 1 and 40. Execute the following script:"
   ]
  },
  {
   "cell_type": "code",
   "execution_count": 20,
   "id": "e77b3afc",
   "metadata": {},
   "outputs": [],
   "source": [
    "error = []\n",
    "\n",
    "# Calculating error for K values between 1 and 40\n",
    "for i in range(1, 40):\n",
    "    knn = KNeighborsClassifier(n_neighbors=i)\n",
    "    knn.fit(X_train, y_train)\n",
    "    pred_i = knn.predict(X_test)\n",
    "    error.append(np.mean(pred_i != y_test))"
   ]
  },
  {
   "cell_type": "markdown",
   "id": "60a13141",
   "metadata": {},
   "source": [
    "The above script executes a loop from 1 to 40. In each iteration the mean error for predicted values of test set is calculated and the result is appended to the error list.\n",
    "\n",
    "The next step is to plot the error values against K values. Execute the following script to create the plot:"
   ]
  },
  {
   "cell_type": "code",
   "execution_count": 21,
   "id": "3f2121e7",
   "metadata": {},
   "outputs": [
    {
     "data": {
      "text/plain": [
       "Text(0, 0.5, 'Mean Error')"
      ]
     },
     "execution_count": 21,
     "metadata": {},
     "output_type": "execute_result"
    },
    {
     "data": {
      "image/png": "[encoded data removed]",
      "text/plain": [
       "<Figure size 1200x600 with 1 Axes>"
      ]
     },
     "metadata": {},
     "output_type": "display_data"
    }
   ],
   "source": [
    "plt.figure(figsize=(12, 6))\n",
    "plt.plot(range(1, 40), error, color='red', linestyle='dashed', marker='o',\n",
    "         markerfacecolor='blue', markersize=10)\n",
    "plt.title('Error Rate K Value')\n",
    "plt.xlabel('K Value')\n",
    "plt.ylabel('Mean Error')"
   ]
  },
  {
   "cell_type": "markdown",
   "id": "033c1685",
   "metadata": {},
   "source": [
    "From the output we can see that the mean error is zero when the value of the K is between 5 and 18. I would advise you to play around with the value of K to see how it impacts the accuracy of the predictions."
   ]
  },
  {
   "cell_type": "markdown",
   "id": "98d58bc4",
   "metadata": {},
   "source": [
    "# Conclusion"
   ]
  },
  {
   "cell_type": "markdown",
   "id": "a8df5890",
   "metadata": {},
   "source": [
    "KNN is a simple yet powerful classification algorithm. It requires no training for making predictions, which is typically one of the most difficult parts of a machine learning algorithm. The KNN algorithm have been widely used to find document similarity and pattern recognition. It has also been employed for developing recommender systems and for dimensionality reduction and pre-processing steps for computer vision, particularly face recognition tasks.\n",
    "\n",
    "From here, I would advise you to implement the KNN algorithm for a different classification dataset. Vary the test and training size along with the K value to see how your results differ and how can you improve the accuracy of your algorithm. A good collection of classification datasets is available here for you to play with."
   ]
  }
 ],
 "metadata": {
  "kernelspec": {
   "display_name": "Python 3 (ipykernel)",
   "language": "python",
   "name": "python3"
  },
  "language_info": {
   "codemirror_mode": {
    "name": "ipython",
    "version": 3
   },
   "file_extension": ".py",
   "mimetype": "text/x-python",
   "name": "python",
   "nbconvert_exporter": "python",
   "pygments_lexer": "ipython3",
   "version": "3.9.16"
  }
 },
 "nbformat": 4,
 "nbformat_minor": 5
}
